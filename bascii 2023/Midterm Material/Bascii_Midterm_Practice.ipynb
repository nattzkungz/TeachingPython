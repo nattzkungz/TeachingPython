{
 "cells": [
  {
   "cell_type": "markdown",
   "metadata": {},
   "source": [
    "## BASCii (Python Midterm Practice)\n",
    "### From Midterm Practice - Sems 2\n",
    "\n",
    " Academic year 2023, Semester 2\n",
    "\n",
    "##### Topics Covered (Arranged to match with the document):\n",
    "1. Math Operation\n",
    "2. String Manipulation - Changing from text to ASCII\n",
    "3. Function (with input)\n",
    "4. Function (with input and output) + If-Else\n",
    "5. Class (Basics)\n",
    "6. Math Operation (with library)"
   ]
  },
  {
   "cell_type": "markdown",
   "metadata": {},
   "source": [
    "#### Question 1: What is the value of x after these lines of code have been executed? 10 (points)\n",
    "\n",
    "```python\n",
    "x = 3\n",
    "x = x * 3.0 # Equivalent to x =* 3\n",
    "```"
   ]
  },
  {
   "cell_type": "code",
   "execution_count": null,
   "metadata": {},
   "outputs": [],
   "source": [
    "# Code Here"
   ]
  },
  {
   "cell_type": "markdown",
   "metadata": {},
   "source": [
    "#### Question 2: Write a few lines of code that reads a character and prints its ASCII value (20 points)\n",
    "\n",
    "Note: There are 2 ways to do this\n",
    "1. By using ord() function [EASY]\n",
    "2. Using list and loop [HARD] [Challenge]"
   ]
  },
  {
   "cell_type": "code",
   "execution_count": null,
   "metadata": {},
   "outputs": [],
   "source": [
    "# Code Here"
   ]
  },
  {
   "cell_type": "markdown",
   "metadata": {},
   "source": [
    "#### Question 3: Write a function called repeat_n_times().\n",
    "\n",
    "Required input: greeting, times\n",
    "Output: greeting * n times\n",
    "\n",
    "<br>\n",
    "Expected Output: <br>\n",
    "Theres two way that the output could come out:\n",
    "\n",
    "```python\n",
    "greeting\n",
    "greeting\n",
    "greeting\n",
    "greeting\n",
    "```\n",
    "<br>\n",
    "and<br>\n",
    "\n",
    "```python\n",
    "greetinggreetinggreeting\n",
    "```\n",
    "\n",
    "<br>\n",
    "Note: Greeting is a word (string) that you need to input into the function<br>\n",
    "Note2: I dont know whats your instructor wants as outcome, so I'll teach you both ways"
   ]
  },
  {
   "cell_type": "code",
   "execution_count": null,
   "metadata": {},
   "outputs": [],
   "source": [
    "# Code Here"
   ]
  },
  {
   "cell_type": "markdown",
   "metadata": {},
   "source": [
    "#### Question 4: What happens if you input 0 as the input in time parameter in the function in Q3?\n",
    "\n",
    "ANSWER HERE: "
   ]
  },
  {
   "cell_type": "markdown",
   "metadata": {},
   "source": [
    "#### Question 5: Write a function named has_uppercase\n",
    "\n",
    "Instructions: It checks if the string has an uppercase or not, if yes return True, otherwise return False <br>\n",
    "NOTE: The function does <b> not print anything </b>"
   ]
  },
  {
   "cell_type": "code",
   "execution_count": null,
   "metadata": {},
   "outputs": [],
   "source": [
    "# Code Here"
   ]
  },
  {
   "cell_type": "markdown",
   "metadata": {},
   "source": [
    "#### Question 6: Write a class called full_address\n",
    "\n",
    "Instruction: The init function must have these parameter:\n",
    "1. street_address\n",
    "2. city\n",
    "3. postal_code\n",
    "\n",
    "<br> \n",
    "Dont need to write other function\n"
   ]
  },
  {
   "cell_type": "code",
   "execution_count": null,
   "metadata": {},
   "outputs": [],
   "source": [
    "# Code Here"
   ]
  },
  {
   "cell_type": "markdown",
   "metadata": {},
   "source": [
    "#### Question 7: Write a code that receives integer input from user and use it to calculate its square root\n",
    "\n",
    "<br>\n",
    "Note: Dont forget to import the library that contains sqrt() functon"
   ]
  },
  {
   "cell_type": "code",
   "execution_count": null,
   "metadata": {},
   "outputs": [],
   "source": [
    "# Code Here"
   ]
  }
 ],
 "metadata": {
  "language_info": {
   "name": "python"
  }
 },
 "nbformat": 4,
 "nbformat_minor": 2
}
