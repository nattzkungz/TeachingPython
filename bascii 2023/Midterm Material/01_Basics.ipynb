{
 "cells": [
  {
   "cell_type": "markdown",
   "metadata": {},
   "source": [
    "## 01 Python Basics\n",
    "\n",
    "### Topics Covered:\n",
    "1. Data Types\n",
    "2. Print Function\n",
    "3. Python Index\n",
    "4. Creating Variable\n",
    "5. Receiving Inputs\n",
    "6. Math Operation (without library)\n",
    "7. Math Operation (with library)<br>\n",
    "\n",
    "-----------------------------------------------\n",
    "#### Data Types\n",
    "1. String\n",
    "2. Integer\n",
    "3. Float\n",
    "4. Boolean\n"
   ]
  },
  {
   "cell_type": "code",
   "execution_count": 5,
   "metadata": {},
   "outputs": [],
   "source": [
    "stringVar = \"Hello, World!\" # This is a string\n",
    "integerVar = 123 # This is an integer\n",
    "floatVar = 3.14 # This is a float\n",
    "boolVar = True # This is a boolean"
   ]
  },
  {
   "cell_type": "markdown",
   "metadata": {},
   "source": [
    "If you want to find out what is the type of certain variable, you can use function type\n",
    "```python\n",
    "variable = something\n",
    "type(variable)\n",
    "```"
   ]
  },
  {
   "cell_type": "code",
   "execution_count": 1,
   "metadata": {},
   "outputs": [
    {
     "data": {
      "text/plain": [
       "str"
      ]
     },
     "execution_count": 1,
     "metadata": {},
     "output_type": "execute_result"
    }
   ],
   "source": [
    "# Example:\n",
    "example_for_variable_type = \"Hello 123456.7 True False\"\n",
    "type(example_for_variable_type)"
   ]
  },
  {
   "cell_type": "markdown",
   "metadata": {},
   "source": [
    "#### Print function\n",
    "I recommend using print(f\"\") because it removes the headache of converting data from one type to another"
   ]
  },
  {
   "cell_type": "code",
   "execution_count": 2,
   "metadata": {},
   "outputs": [
    {
     "name": "stdout",
     "output_type": "stream",
     "text": [
      "abcdef\n",
      "123456\n"
     ]
    }
   ],
   "source": [
    "## String\n",
    "alphabetString = \"abcdef\"\n",
    "print(alphabetString)\n",
    "\n",
    "print(\"123\"+\"456\")"
   ]
  },
  {
   "cell_type": "code",
   "execution_count": 4,
   "metadata": {},
   "outputs": [
    {
     "name": "stdout",
     "output_type": "stream",
     "text": [
      "579\n",
      "1234567\n"
     ]
    }
   ],
   "source": [
    "## Integer\n",
    "print(123+456)\n",
    "\n",
    "## We might got headache will large numbers, so we might avoid it using\n",
    "print(1_234_567) # and python will recognize this as normal integer"
   ]
  },
  {
   "cell_type": "code",
   "execution_count": 5,
   "metadata": {},
   "outputs": [
    {
     "name": "stdout",
     "output_type": "stream",
     "text": [
      "1234.567\n"
     ]
    }
   ],
   "source": [
    "## Float\n",
    "### This is number with decimals\n",
    "print(1234.567)"
   ]
  },
  {
   "cell_type": "code",
   "execution_count": 7,
   "metadata": {},
   "outputs": [
    {
     "name": "stdout",
     "output_type": "stream",
     "text": [
      "True\n"
     ]
    }
   ],
   "source": [
    "## Boolean\n",
    "### True or False\n",
    "online = True\n",
    "print(online)"
   ]
  },
  {
   "cell_type": "code",
   "execution_count": 5,
   "metadata": {},
   "outputs": [],
   "source": [
    "## Print f function\n",
    "### Im too lazy to convert variable types so I use this function\n",
    "sentence = \"My SAT score is\"\n",
    "score = 800"
   ]
  },
  {
   "cell_type": "code",
   "execution_count": 10,
   "metadata": {},
   "outputs": [
    {
     "ename": "TypeError",
     "evalue": "can only concatenate str (not \"int\") to str",
     "output_type": "error",
     "traceback": [
      "\u001b[0;31m---------------------------------------------------------------------------\u001b[0m",
      "\u001b[0;31mTypeError\u001b[0m                                 Traceback (most recent call last)",
      "\u001b[0;32m/var/folders/nm/44xwk32d6hzg0l_whgsp56kw0000gn/T/ipykernel_24219/618948172.py\u001b[0m in \u001b[0;36m<module>\u001b[0;34m\u001b[0m\n\u001b[1;32m      1\u001b[0m \u001b[0;31m## Adding these two together will get errors\u001b[0m\u001b[0;34m\u001b[0m\u001b[0;34m\u001b[0m\u001b[0m\n\u001b[0;32m----> 2\u001b[0;31m \u001b[0mprint\u001b[0m\u001b[0;34m(\u001b[0m\u001b[0msentence\u001b[0m \u001b[0;34m+\u001b[0m \u001b[0mscore\u001b[0m\u001b[0;34m)\u001b[0m\u001b[0;34m\u001b[0m\u001b[0;34m\u001b[0m\u001b[0m\n\u001b[0m",
      "\u001b[0;31mTypeError\u001b[0m: can only concatenate str (not \"int\") to str"
     ]
    }
   ],
   "source": [
    "## Adding these two together will get errors\n",
    "print(sentence + score)"
   ]
  },
  {
   "cell_type": "code",
   "execution_count": 6,
   "metadata": {},
   "outputs": [
    {
     "name": "stdout",
     "output_type": "stream",
     "text": [
      "My SAT score is800\n"
     ]
    }
   ],
   "source": [
    "## So we need to change the type first\n",
    "print(sentence + str(score))"
   ]
  },
  {
   "cell_type": "markdown",
   "metadata": {},
   "source": [
    "##### print(f\"\") functions\n",
    "\n",
    "When you want to print from various types of variable, using f-function will reduce the headache of\n",
    "requiring to change the variable types first before printing.\n",
    "\n",
    "```python\n",
    "print(f\"String {variable} String String String\")\n",
    "```\n"
   ]
  },
  {
   "cell_type": "code",
   "execution_count": 7,
   "metadata": {},
   "outputs": [
    {
     "name": "stdout",
     "output_type": "stream",
     "text": [
      "My SAT score is 800\n"
     ]
    }
   ],
   "source": [
    "## Example: print f function\n",
    "print(f\"{sentence} {score}\")"
   ]
  },
  {
   "cell_type": "markdown",
   "metadata": {},
   "source": [
    "### Index\n",
    "Index is the location of object in Python string and list\n",
    "\n",
    "It starts from 0\n",
    "\n",
    "To access an object in string and list we use\n",
    "```variablesName[index_of_items]```"
   ]
  },
  {
   "cell_type": "code",
   "execution_count": 4,
   "metadata": {},
   "outputs": [
    {
     "name": "stdout",
     "output_type": "stream",
     "text": [
      "5\n"
     ]
    }
   ],
   "source": [
    "## For example, there is a list of number and we want to print 5 from the list\n",
    "numberList = [1,2,3,4,5,6,7,8,9,10]\n",
    "number5 = numberList[4]\n",
    "print(number5)"
   ]
  },
  {
   "cell_type": "code",
   "execution_count": 9,
   "metadata": {},
   "outputs": [
    {
     "name": "stdout",
     "output_type": "stream",
     "text": [
      "Char location is 6\n",
      "W\n"
     ]
    }
   ],
   "source": [
    "## Printing W from the string\n",
    "\n",
    "sentenceString = \"Hello World\"\n",
    "characterLocation = sentenceString.index(\"W\") # .index() function can be use in both string and list\n",
    "print(f\"Char location is {characterLocation}\")\n",
    "characterW = sentenceString[characterLocation]\n",
    "print(characterW)"
   ]
  },
  {
   "cell_type": "markdown",
   "metadata": {},
   "source": [
    "#### Creating Variable\n",
    "To create a variable, type the variable name in and add a = sign to the back of it\n",
    "<br><br>\n",
    "Note:\n",
    "1. Python Variable names are case-sensitive\n",
    "2. Do not use the name that is similar to integrated function (ex. list, for, while, etc.)\n",
    "3. Cannot start with number, but can end with number (ex. pi3_14 is ok / 3_14pi is not ok)"
   ]
  },
  {
   "cell_type": "code",
   "execution_count": 1,
   "metadata": {},
   "outputs": [],
   "source": [
    "variableA = 10 # Integer\n",
    "variable_B = \"Hello\" # String\n",
    "C = 123.456 # Float\n",
    "var_D = True # Boolean"
   ]
  },
  {
   "cell_type": "markdown",
   "metadata": {},
   "source": [
    "Variable can be used to store any data in Python"
   ]
  },
  {
   "cell_type": "code",
   "execution_count": null,
   "metadata": {},
   "outputs": [],
   "source": [
    "varF = [] # List\n",
    "G = list() # List\n",
    "e = dict() # Dictionary\n",
    "h = {} # Dictionary"
   ]
  },
  {
   "cell_type": "markdown",
   "metadata": {},
   "source": [
    "#### Receiving input\n",
    "Python is able to receives input from the user with a dialog box"
   ]
  },
  {
   "cell_type": "code",
   "execution_count": null,
   "metadata": {},
   "outputs": [],
   "source": [
    "# To receives the input, first we need to create a variable to store the input\n",
    "\n",
    "inputA = input(\"Enter Something : \") # This will store the input as string\n",
    "numB = int(input(\"Enter a number : \")) # This will store the input as integer\n",
    "numC = float(input(\"Enter a number : \")) # This will store the input as float\n",
    "booD = bool(input(\"Enter a boolean : \")) # This will store the input as boolean"
   ]
  },
  {
   "cell_type": "markdown",
   "metadata": {},
   "source": [
    "After receiving input, the data inside the variable become what you input in the dialog box"
   ]
  },
  {
   "cell_type": "code",
   "execution_count": 6,
   "metadata": {},
   "outputs": [
    {
     "name": "stdout",
     "output_type": "stream",
     "text": [
      "The sum of both 2 numbers is:  3\n",
      "The sum of 1 + 2 = 3\n"
     ]
    }
   ],
   "source": [
    "# Example\n",
    "\n",
    "num1 = int(input(\"Enter a number : \"))\n",
    "num2 = int(input(\"Enter another number : \"))\n",
    "\n",
    "print(\"The sum of both 2 numbers is: \", num1 + num2)\n",
    "print(f\"The sum of {num1} + {num2} = {num1 + num2}\") # This is the same as the above line, but using f function"
   ]
  },
  {
   "cell_type": "markdown",
   "metadata": {},
   "source": [
    "#### Math Operations (without library)\n",
    "\n",
    "There are 7 mathematical operations can be done in Python without using math library\n",
    "1. [ + ] (Plus)\n",
    "2. [ - ] (Minus)\n",
    "3. [ * ] (Multiply)\n",
    "4. [ / ] (Divide) - Normal Division\n",
    "5. [ % ] (Modulus) - Find Remainder from division \n",
    "6. [ ** ] (Power)\n",
    "7. [ // ] (Floor Division) - Rounded down division <br> \n",
    "\n",
    "Note: Number 7 is rarely used"
   ]
  },
  {
   "cell_type": "code",
   "execution_count": 8,
   "metadata": {},
   "outputs": [
    {
     "name": "stdout",
     "output_type": "stream",
     "text": [
      "Plus : 10 + 8 = 18\n",
      "Minus : 10 - 8 = 2\n",
      "Times : 10 * 8 = 80\n",
      "Divide : 10 / 8 = 1.25\n",
      "Modulus : 10 % 8 = 2\n",
      "Power : 10 ** 8 = 100000000\n",
      "Floor Division : 10 // 8 = 1\n"
     ]
    }
   ],
   "source": [
    "# Example\n",
    "number_1 = 10\n",
    "number_2 = 8\n",
    "\n",
    "print(f\"Plus : {number_1} + {number_2} = {number_1 + number_2}\")\n",
    "print(f\"Minus : {number_1} - {number_2} = {number_1 - number_2}\")\n",
    "print(f\"Times : {number_1} * {number_2} = {number_1 * number_2}\")\n",
    "print(f\"Divide : {number_1} / {number_2} = {number_1 / number_2}\")\n",
    "print(f\"Modulus : {number_1} % {number_2} = {number_1 % number_2}\")\n",
    "print(f\"Power : {number_1} ** {number_2} = {number_1 ** number_2}\")\n",
    "print(f\"Floor Division : {number_1} // {number_2} = {number_1 // number_2}\")"
   ]
  },
  {
   "cell_type": "markdown",
   "metadata": {},
   "source": [
    "Python can round a number using round function\n",
    "```python\n",
    "round(number, decimal_place)\n",
    "```"
   ]
  },
  {
   "cell_type": "code",
   "execution_count": 18,
   "metadata": {},
   "outputs": [
    {
     "name": "stdout",
     "output_type": "stream",
     "text": [
      "123\n",
      "123.5\n",
      "123.46\n"
     ]
    }
   ],
   "source": [
    "# Example\n",
    "roundNum = 123.456\n",
    "print(f\"{round(roundNum)}\") # This will round the number to the nearest integer\n",
    "print(f\"{round(roundNum, 1)}\") # This will round the number to the nearest 1 decimal\n",
    "print(f\"{round(roundNum, 2)}\") # This will round the number to the nearest 2 decimal"
   ]
  },
  {
   "cell_type": "markdown",
   "metadata": {},
   "source": [
    "#### Math Operation (with library)\n",
    "\n",
    "Using math library in Python will provide you with a lot more function than the integrated function. <br>\n",
    "<br>\n",
    "To find out more about the library, you could go to this website: https://docs.python.org/3/library/math.html <br>\n",
    "<br>"
   ]
  },
  {
   "cell_type": "code",
   "execution_count": 1,
   "metadata": {},
   "outputs": [],
   "source": [
    "# To use the library, we simply do\n",
    "import math"
   ]
  },
  {
   "cell_type": "markdown",
   "metadata": {},
   "source": [
    "Using constants (e, pi, ...) in Python"
   ]
  },
  {
   "cell_type": "code",
   "execution_count": 13,
   "metadata": {},
   "outputs": [
    {
     "name": "stdout",
     "output_type": "stream",
     "text": [
      "The value of pi is 3.141592653589793 \n",
      " The value of e is 2.718281828459045 \n",
      " The value of tau is 6.283185307179586\n"
     ]
    }
   ],
   "source": [
    "pi = math.pi\n",
    "e = math.e\n",
    "tau = math.tau\n",
    "\n",
    "print(f\"The value of pi is {pi} \\n The value of e is {e} \\n The value of tau is {tau}\")\n"
   ]
  },
  {
   "cell_type": "code",
   "execution_count": 3,
   "metadata": {},
   "outputs": [
    {
     "name": "stdout",
     "output_type": "stream",
     "text": [
      "4.0\n"
     ]
    }
   ],
   "source": [
    "# After that we can use the function from the library\n",
    "print(math.sqrt(16)) # This will print the square root of 16"
   ]
  },
  {
   "cell_type": "code",
   "execution_count": 5,
   "metadata": {},
   "outputs": [
    {
     "data": {
      "text/plain": [
       "5.710593137499643"
      ]
     },
     "execution_count": 5,
     "metadata": {},
     "output_type": "execute_result"
    }
   ],
   "source": [
    "# Example: Converting arctan(0.1) from radian to degree\n",
    "atan01_radian = math.atan(0.1) # This will return the arctan of 0.1 in radian\n",
    "atan01_degree = math.degrees(atan01_radian) # This will convert the radian to degree"
   ]
  },
  {
   "cell_type": "code",
   "execution_count": 7,
   "metadata": {},
   "outputs": [
    {
     "name": "stdout",
     "output_type": "stream",
     "text": [
      "1.5707963267948966\n"
     ]
    }
   ],
   "source": [
    "# Example: Converting 90 degree to radian\n",
    "degree90 = 90\n",
    "radian90 = math.radians(degree90) # This will convert the degree to radian\n",
    "print(radian90)"
   ]
  },
  {
   "cell_type": "markdown",
   "metadata": {},
   "source": [
    "Rounding number using math library offers much more function than python version, it allows the control for a number to be round up or down regardless of the value.\n",
    "\n",
    "```python\n",
    "math.ceil(number) # Round to upper bound\n",
    "math.floor(number) # Round to lower bound\n",
    "```"
   ]
  },
  {
   "cell_type": "code",
   "execution_count": 23,
   "metadata": {},
   "outputs": [
    {
     "name": "stdout",
     "output_type": "stream",
     "text": [
      "156\n",
      "155\n"
     ]
    }
   ],
   "source": [
    "# Example: Rounding number\n",
    "math_lib_round = 155.789\n",
    "print(math.ceil(math_lib_round)) # This will round the number up\n",
    "print(math.floor(math_lib_round)) # This will round the number down"
   ]
  },
  {
   "cell_type": "code",
   "execution_count": 19,
   "metadata": {},
   "outputs": [
    {
     "name": "stdout",
     "output_type": "stream",
     "text": [
      "The area of a circle with radius 10 is 314.1592653589793\n"
     ]
    }
   ],
   "source": [
    "# Example: Using the math library to calculate the area of a circle\n",
    "radius = 10\n",
    "area = math.pi * radius ** 2\n",
    "print(f\"The area of a circle with radius {radius} is {area}\")\n"
   ]
  }
 ],
 "metadata": {
  "interpreter": {
   "hash": "b0fa6594d8f4cbf19f97940f81e996739fb7646882a419484c72d19e05852a7e"
  },
  "kernelspec": {
   "display_name": "Python 3.9.9 64-bit",
   "language": "python",
   "name": "python3"
  },
  "language_info": {
   "codemirror_mode": {
    "name": "ipython",
    "version": 3
   },
   "file_extension": ".py",
   "mimetype": "text/x-python",
   "name": "python",
   "nbconvert_exporter": "python",
   "pygments_lexer": "ipython3",
   "version": "3.11.2"
  },
  "orig_nbformat": 4
 },
 "nbformat": 4,
 "nbformat_minor": 2
}
