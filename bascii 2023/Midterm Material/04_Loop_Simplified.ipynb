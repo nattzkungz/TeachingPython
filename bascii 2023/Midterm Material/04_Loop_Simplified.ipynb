{
 "cells": [
  {
   "cell_type": "markdown",
   "metadata": {},
   "source": [
    "## Loop\n",
    "### There are 2 types of loop\n",
    "1. for loop\n",
    "2. while loop\n",
    "\n",
    "Both function similarly but there are some small differences\n",
    "\n",
    "__for loop__\n",
    "- usually used for going through string, list, dictionary, and more\n",
    "\n",
    "__while loop__\n",
    "- used for running codes indefinitely such as game\n",
    "- if something defined happened, the loop would stop\n",
    "\n",
    "#### NOTE: This command can be used to stop the loop\n",
    "```python\n",
    " break # Works with both for and while\n",
    "```"
   ]
  },
  {
   "cell_type": "markdown",
   "metadata": {},
   "source": [
    "#### FOR - LOOP\n",
    "\n",
    "For loop is <b> finite </b> loop. It will runs specified number of times then stop.\n",
    "\n",
    "<br>\n",
    "\n",
    "There are 2 types of for-loop:\n",
    "<br>\n",
    "\n",
    "```python\n",
    "for i in range(): # Code will run as the number of times specified in the parenthesis\n",
    "    code # Use to run the code for a number of times\n",
    "```\n",
    "and<br>\n",
    "\n",
    "```python\n",
    "for i in something: # Code will run as long as the item inside something (string, list, etc)\n",
    "    code # Use for going through string, list, etc.\n",
    "```"
   ]
  },
  {
   "cell_type": "code",
   "execution_count": 7,
   "metadata": {},
   "outputs": [
    {
     "name": "stdout",
     "output_type": "stream",
     "text": [
      "This is iteration 0\n",
      "Hi\n",
      "This is iteration 1\n",
      "Hi\n",
      "This is iteration 2\n",
      "Hi\n",
      "This is iteration 3\n",
      "Hi\n",
      "This is iteration 4\n",
      "Hi\n"
     ]
    }
   ],
   "source": [
    "# Example: for i in range\n",
    "for i in range(5):\n",
    "    print(f\"This is iteration {i}\")\n",
    "    print(\"Hi\")"
   ]
  },
  {
   "cell_type": "code",
   "execution_count": 6,
   "metadata": {},
   "outputs": [
    {
     "name": "stdout",
     "output_type": "stream",
     "text": [
      "The 0 iteration of the loop, x equals 1\n",
      "\n",
      "The 1 iteration of the loop, x equals 2\n",
      "\n",
      "The 2 iteration of the loop, x equals 3\n",
      "\n",
      "The 3 iteration of the loop, x equals 4\n",
      "\n",
      "The 4 iteration of the loop, x equals 5\n",
      "\n",
      "x equals 5 after the loop.\n"
     ]
    }
   ],
   "source": [
    "# Example: for i in range\n",
    "x = 0\n",
    "for i in range(5):\n",
    "    x += 1\n",
    "    print(f\"The {i} iteration of the loop, x equals {x}\\n\")\n",
    "print(f\"x equals {x} after the loop.\")"
   ]
  },
  {
   "cell_type": "code",
   "execution_count": 8,
   "metadata": {},
   "outputs": [
    {
     "name": "stdout",
     "output_type": "stream",
     "text": [
      "1\n",
      "2\n",
      "3\n",
      "4\n",
      "5\n"
     ]
    }
   ],
   "source": [
    "# Example: for i in \n",
    "numbers = [1, 2, 3, 4, 5]\n",
    "for i in numbers:\n",
    "    print(i)"
   ]
  },
  {
   "cell_type": "code",
   "execution_count": 9,
   "metadata": {},
   "outputs": [
    {
     "name": "stdout",
     "output_type": "stream",
     "text": [
      "T\n",
      "h\n",
      "i\n",
      "s\n",
      " \n",
      "i\n",
      "s\n",
      " \n",
      "a\n",
      " \n",
      "s\n",
      "e\n",
      "n\n",
      "t\n",
      "e\n",
      "n\n",
      "c\n",
      "e\n",
      ".\n"
     ]
    }
   ],
   "source": [
    "# Example: for i in\n",
    "sentence = \"This is a sentence.\"\n",
    "for i in sentence:\n",
    "    print(i)"
   ]
  },
  {
   "cell_type": "markdown",
   "metadata": {},
   "source": [
    "#### WHILE - LOOP\n",
    "This is <b>indefinite</b> loop, it will runs forever unless a <b>condition is met</b> or we receives user input to break the loop\n",
    "\n",
    "<br>There are 2 ways that you can construct this loop</b>\n",
    "\n",
    "```python\n",
    "while condition:\n",
    "    code\n",
    "```\n",
    "\n",
    "or <br>\n",
    "\n",
    "```python\n",
    "while True:\n",
    "    code\n",
    "    if condition:\n",
    "        break # This command stops the loop\n",
    "```"
   ]
  },
  {
   "cell_type": "code",
   "execution_count": 13,
   "metadata": {},
   "outputs": [
    {
     "name": "stdout",
     "output_type": "stream",
     "text": [
      "This is an infinite loop.\n",
      "This is an infinite loop.\n",
      "This is an infinite loop.\n",
      "This is an infinite loop.\n",
      "This is an infinite loop.\n",
      "This is an infinite loop.\n",
      "This is an infinite loop.\n",
      "The loop has been exited.\n",
      "The loop ran 7 times.\n"
     ]
    }
   ],
   "source": [
    "# Example: while True\n",
    "run_count = 0\n",
    "while True:\n",
    "    print(\"This is an infinite loop.\")\n",
    "    run_count += 1\n",
    "    if input(\"Do you want to exit? (y/n): \") == \"y\":\n",
    "        print(f\"The loop has been exited.\")\n",
    "        print(f\"The loop ran {run_count} times.\")\n",
    "        break"
   ]
  },
  {
   "cell_type": "code",
   "execution_count": 16,
   "metadata": {},
   "outputs": [
    {
     "name": "stdout",
     "output_type": "stream",
     "text": [
      "This is iteration 0\n",
      "This is iteration 1\n",
      "This is iteration 2\n",
      "This is iteration 3\n",
      "This is iteration 4\n"
     ]
    }
   ],
   "source": [
    "# Example: while condition\n",
    "run_count = 0\n",
    "while run_count < 5:\n",
    "    print(f\"This is iteration {run_count}\")\n",
    "    run_count += 1  # Increment the counter"
   ]
  },
  {
   "cell_type": "markdown",
   "metadata": {},
   "source": [
    "##### Question 1: Find mean value from input\n",
    "Instruction: Add all the number together and stop after putting q into the input"
   ]
  },
  {
   "cell_type": "code",
   "execution_count": null,
   "metadata": {},
   "outputs": [],
   "source": [
    "# Code Here"
   ]
  },
  {
   "cell_type": "markdown",
   "metadata": {},
   "source": [
    "#### Question 2: Use loop to goes through this string and receives user input of a character to find the location of the input character inside this string\n",
    "\n",
    "```python\n",
    "Input: A\n",
    "Output: Location of A is at index 25\n",
    "```"
   ]
  },
  {
   "cell_type": "code",
   "execution_count": 22,
   "metadata": {},
   "outputs": [
    {
     "name": "stdout",
     "output_type": "stream",
     "text": [
      "The location of o is 12\n",
      "The location of o is 17\n",
      "The location of o is 26\n",
      "The location of o is 41\n"
     ]
    }
   ],
   "source": [
    "sentence_allChar = \"The quick brown fox jumps over the lazy dog. A QUICK BROWN FOX JUMPS OVER THE LAZY DOG\"\n"
   ]
  },
  {
   "cell_type": "markdown",
   "metadata": {},
   "source": [
    "#### Question 3: Iterate through list and prints the corressponding value from the other list\n",
    "\n",
    "Instruction: Create 2 list and use loop to find its corresponding counterparts\n",
    "\n",
    "| Input | Output |\n",
    "| --- | --- |\n",
    "| a | F |\n",
    "| b | E |\n",
    "| c | D |\n",
    "| d | C |\n",
    "| e | B |\n",
    "| f | A |"
   ]
  },
  {
   "cell_type": "code",
   "execution_count": 1,
   "metadata": {},
   "outputs": [],
   "source": [
    "# Code Here"
   ]
  }
 ],
 "metadata": {
  "kernelspec": {
   "display_name": "Python 3",
   "language": "python",
   "name": "python3"
  },
  "language_info": {
   "codemirror_mode": {
    "name": "ipython",
    "version": 3
   },
   "file_extension": ".py",
   "mimetype": "text/x-python",
   "name": "python",
   "nbconvert_exporter": "python",
   "pygments_lexer": "ipython3",
   "version": "3.12.0"
  }
 },
 "nbformat": 4,
 "nbformat_minor": 2
}
