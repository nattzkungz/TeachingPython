{
 "cells": [
  {
   "cell_type": "code",
   "execution_count": 4,
   "metadata": {},
   "outputs": [
    {
     "name": "stdout",
     "output_type": "stream",
     "text": [
      "Multiple Choice\n",
      "Multiple Choice\n",
      "{'Teacher': {'Name': 'M', 'Weight': 888, 'Height': 999, 'Age': 134}, 'GPAX': 3.5, 'Rating': 5, 'Exam': {'Type': 'Multiple Choice', 'Cheatsheet': True}}\n"
     ]
    }
   ],
   "source": [
    "## Construction Zone\n",
    "subject = {\n",
    "    \"Com_Prog\" : {\n",
    "        \"Teacher\" : {\n",
    "            \"Name\" : \"A\",\n",
    "            \"Weight\" : 999,\n",
    "            \"Height\" : 134,\n",
    "            \"Age\" : 888\n",
    "        },\n",
    "        \"GPAX\" : 3.5,\n",
    "        \"Rating\" : 5,\n",
    "        \"Exam\" : {\n",
    "            \"Type\" : \"Multiple Choice\",\n",
    "            \"Cheatsheet\" : True\n",
    "        }\n",
    "    }\n",
    "}\n",
    "\n",
    "def add_Subject(subject_name, teacher_name, teacher_weight, teacher_height, teacher_age, gpax, rating, exam_type, cheatsheet):\n",
    "    newSubjectDict = {\n",
    "        \"Teacher\" : {\n",
    "            \"Name\" : teacher_name,\n",
    "            \"Weight\" : teacher_weight,\n",
    "            \"Height\" : teacher_height,\n",
    "            \"Age\" : teacher_age\n",
    "        },\n",
    "        \"GPAX\" : gpax,\n",
    "        \"Rating\" : rating,\n",
    "        \"Exam\" : {\n",
    "            \"Type\" : exam_type,\n",
    "            \"Cheatsheet\" : cheatsheet\n",
    "        }\n",
    "    }\n",
    "    subject[subject_name] = newSubjectDict\n",
    "\n",
    "\n",
    "def find_Subject(subj): #Find subject\n",
    "    return subject[subj]\n",
    "\n",
    "def find_ExamType(name): #Find exam type of a subject\n",
    "    return subject[name][\"Exam\"][\"Type\"]\n",
    "\n",
    "def find_Teacher(name): #Find teacher of a subject\n",
    "    return subject[name][\"Teacher\"][\"Name\"]\n",
    "\n",
    "## Usage Zone\n",
    "add_Subject(\"Math\", \"B\", 888, 999, 134, 3.5, 5, \"Multiple Choice\", True)\n",
    "add_Subject(\"Music\", \"M\", 888, 999, 134, 3.5, 5, \"Multiple Choice\", True)\n",
    "\n",
    "print(subject[\"Math\"][\"Exam\"][\"Type\"])\n",
    "print(find_ExamType(\"Math\"))\n",
    "print(find_Subject(\"Music\"))"
   ]
  },
  {
   "cell_type": "code",
   "execution_count": null,
   "metadata": {},
   "outputs": [],
   "source": []
  }
 ],
 "metadata": {
  "kernelspec": {
   "display_name": "fuckpip",
   "language": "python",
   "name": "python3"
  },
  "language_info": {
   "codemirror_mode": {
    "name": "ipython",
    "version": 3
   },
   "file_extension": ".py",
   "mimetype": "text/x-python",
   "name": "python",
   "nbconvert_exporter": "python",
   "pygments_lexer": "ipython3",
   "version": "3.12.0"
  }
 },
 "nbformat": 4,
 "nbformat_minor": 2
}
