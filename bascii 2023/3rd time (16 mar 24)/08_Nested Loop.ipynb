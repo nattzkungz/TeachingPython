{
 "cells": [
  {
   "cell_type": "markdown",
   "metadata": {},
   "source": [
    "## Nested Loop\n",
    "It is loop inside a loop, commonly used for going through nested list\n",
    "\n",
    "While and for loop can be used, but usually we use for more frequent"
   ]
  },
  {
   "cell_type": "code",
   "execution_count": 4,
   "metadata": {},
   "outputs": [
    {
     "name": "stdout",
     "output_type": "stream",
     "text": [
      "Person 1: \n",
      "Aom 19 100 10 \n",
      "Person 2: \n",
      "Pinpin 1 50 20 \n"
     ]
    }
   ],
   "source": [
    "## For example, we use this to print items inside nested list\n",
    "\n",
    "nameAgeWeightHeight = [[\"Aom\", 19, 100, 10], [\"Pinpin\", 1, 50, 20]]\n",
    "count = 0\n",
    "for person in nameAgeWeightHeight:\n",
    "    count += 1\n",
    "    print(f\"Person {count}: \")\n",
    "    for detail in person:\n",
    "        print(detail, end=\" \")\n",
    "    print()"
   ]
  },
  {
   "cell_type": "markdown",
   "metadata": {},
   "source": [
    "### The logic is that outer loop run once, the inner loop run defined times then outer loop will run again"
   ]
  },
  {
   "cell_type": "code",
   "execution_count": 14,
   "metadata": {},
   "outputs": [
    {
     "name": "stdout",
     "output_type": "stream",
     "text": [
      "Outer loop run 1\n",
      "Letter: A | Inner loop count : 1\n",
      "Letter: A | Inner loop count : 2\n",
      "Outer loop run 2\n",
      "Letter: B | Inner loop count : 1\n",
      "Letter: B | Inner loop count : 2\n",
      "Outer loop run 3\n",
      "Letter: C | Inner loop count : 1\n",
      "Letter: C | Inner loop count : 2\n",
      "Outer loop run 4\n",
      "Letter: D | Inner loop count : 1\n",
      "Letter: D | Inner loop count : 2\n"
     ]
    }
   ],
   "source": [
    "## To show the logic\n",
    "\n",
    "alphabetList = [\"A\", \"B\", \"C\", \"D\"]\n",
    "countOuter = 1\n",
    "for alphabet in alphabetList:\n",
    "    print(f\"Outer loop run {countOuter}\")\n",
    "    for i in range(1,3):\n",
    "        print(f\"Letter: {alphabet} | Inner loop count : {i}\")\n",
    "    countOuter += 1\n",
    "    "
   ]
  },
  {
   "cell_type": "markdown",
   "metadata": {},
   "source": [
    "#### The common practice for this is to use to find item in a nested list\n",
    "\n",
    "Here we are trying to find Macbook location in a nested list"
   ]
  },
  {
   "cell_type": "code",
   "execution_count": 16,
   "metadata": {},
   "outputs": [
    {
     "name": "stdout",
     "output_type": "stream",
     "text": [
      "The location of this finding is in pileOfElectronics[0][3] \n"
     ]
    }
   ],
   "source": [
    "pileOfElectronics = [[\"Dell\", \"HP\", \"Huawei\", \"Macbook\"], [\"iPhones\", \"iPad\", \"Samsung Galaxy\", \"Galaxy Flip\"]]\n",
    "\n",
    "finding = \"Macbook\"\n",
    "for category in pileOfElectronics:\n",
    "    for item in category:\n",
    "        if item == finding:\n",
    "            print(f\"The location of this finding is in pileOfElectronics[{pileOfElectronics.index(category)}][{category.index(item)}] \")"
   ]
  },
  {
   "cell_type": "markdown",
   "metadata": {},
   "source": [
    "#### Another use is for finding one of the pair values\n",
    "\n",
    "| Name | Nick |\n",
    "| --- | --- |\n",
    "| Manassanan | Aom |\n",
    "| Kawinna | Pinpin |\n"
   ]
  },
  {
   "cell_type": "code",
   "execution_count": 18,
   "metadata": {},
   "outputs": [
    {
     "name": "stdout",
     "output_type": "stream",
     "text": [
      "Fullname: Manassanan | Nickname : Aom\n"
     ]
    }
   ],
   "source": [
    "nameNick = [[\"Manassanan\", \"Aom\"], [\"Kawinna\", \"Pinpin\"]]\n",
    "\n",
    "search = \"Aom\"\n",
    "\n",
    "for person in nameNick:\n",
    "    for name in person:\n",
    "        if name == search:\n",
    "            print(f\"Fullname: {person[0]} | Nickname : {person[1]}\")"
   ]
  },
  {
   "cell_type": "markdown",
   "metadata": {},
   "source": [
    "## Exercise:\n",
    "\n"
   ]
  },
  {
   "cell_type": "markdown",
   "metadata": {},
   "source": [
    "#### Question 1:\n"
   ]
  }
 ],
 "metadata": {
  "interpreter": {
   "hash": "b0fa6594d8f4cbf19f97940f81e996739fb7646882a419484c72d19e05852a7e"
  },
  "kernelspec": {
   "display_name": "Python 3.9.9 64-bit",
   "language": "python",
   "name": "python3"
  },
  "language_info": {
   "codemirror_mode": {
    "name": "ipython",
    "version": 3
   },
   "file_extension": ".py",
   "mimetype": "text/x-python",
   "name": "python",
   "nbconvert_exporter": "python",
   "pygments_lexer": "ipython3",
   "version": "3.9.12"
  },
  "orig_nbformat": 4
 },
 "nbformat": 4,
 "nbformat_minor": 2
}
