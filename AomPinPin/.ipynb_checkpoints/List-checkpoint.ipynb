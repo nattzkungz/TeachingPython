{
 "cells": [
  {
   "cell_type": "markdown",
   "metadata": {},
   "source": [
    "## List"
   ]
  },
  {
   "cell_type": "code",
   "execution_count": 12,
   "metadata": {},
   "outputs": [],
   "source": [
    "## There are two ways to create a list\n",
    "## Creating empty list\n",
    "listName_1 = list()\n",
    "listName_2 = []\n",
    "\n",
    "## Creating list with stuffs in it\n",
    "x_value = [1,4,6,8,9,10,12]\n",
    "y_value = [2,5,7,9,13,67,13]"
   ]
  },
  {
   "cell_type": "code",
   "execution_count": 10,
   "metadata": {},
   "outputs": [
    {
     "name": "stdout",
     "output_type": "stream",
     "text": [
      "X maximum: 12\n",
      "Y minimum: 2\n"
     ]
    }
   ],
   "source": [
    "## Finding maximum or minimum value in a list\n",
    "x_max = max(x_value)\n",
    "print(f\"X maximum: {x_max}\")\n",
    "\n",
    "y_min = min(y_value)\n",
    "print(f\"Y minimum: {y_min}\")"
   ]
  },
  {
   "cell_type": "code",
   "execution_count": 11,
   "metadata": {},
   "outputs": [
    {
     "name": "stdout",
     "output_type": "stream",
     "text": [
      "Sum of x: 50\n",
      "Sum of y: 116\n"
     ]
    }
   ],
   "source": [
    "## Adding all values in the list\n",
    "x_total = sum(x_value)\n",
    "print(f\"Sum of x: {x_total}\")\n",
    "\n",
    "y_total = sum(y_value)\n",
    "print(f\"Sum of y: {y_total}\")"
   ]
  },
  {
   "cell_type": "code",
   "execution_count": 3,
   "metadata": {},
   "outputs": [
    {
     "name": "stdout",
     "output_type": "stream",
     "text": [
      "This is number 5 position in the list: 4\n"
     ]
    }
   ],
   "source": [
    "## Finding position of item in the list\n",
    "numberList = [1,2,3,4,5,6,7,8,9,10]\n",
    "## We want to find the position of number 5\n",
    "number5Position = numberList.index(5)\n",
    "print(f\"This is number 5 position in the list: {number5Position}\")"
   ]
  },
  {
   "cell_type": "code",
   "execution_count": 2,
   "metadata": {},
   "outputs": [
    {
     "name": "stdout",
     "output_type": "stream",
     "text": [
      "The list with out a: ['b', 'c', 'd', 'e']\n",
      "The list with out d: ['b', 'c', 'e']\n"
     ]
    }
   ],
   "source": [
    "# Delete item from a list\n",
    "alphabetList = [\"a\",\"b\",\"c\",\"d\",\"e\"]\n",
    "# There are two ways to delete\n",
    "## The first one is listName.remove(item)\n",
    "alphabetList.remove(\"a\")\n",
    "print(f\"The list with out a: {alphabetList}\")\n",
    "\n",
    "## The second way is to remove the item using its index\n",
    "alphabetList.pop(2)\n",
    "print(f\"The list with out d: {alphabetList}\")"
   ]
  },
  {
   "cell_type": "code",
   "execution_count": 13,
   "metadata": {},
   "outputs": [
    {
     "name": "stdout",
     "output_type": "stream",
     "text": [
      "['Jack']\n"
     ]
    }
   ],
   "source": [
    "## Adding stuffs into a list\n",
    "nameList = []\n",
    "nameList.append(\"Jack\")\n",
    "print(nameList)"
   ]
  },
  {
   "cell_type": "code",
   "execution_count": 3,
   "metadata": {},
   "outputs": [
    {
     "name": "stdout",
     "output_type": "stream",
     "text": [
      "Location of b in the list is 1\n"
     ]
    }
   ],
   "source": [
    "alphabetList = [\"a\",\"b\",\"c\",\"d\",\"e\"]\n",
    "locationOfB = alphabetList.index(\"b\")\n",
    "print(f\"Location of b in the list is :{locationOfB}\")"
   ]
  },
  {
   "cell_type": "code",
   "execution_count": 4,
   "metadata": {},
   "outputs": [
    {
     "name": "stdout",
     "output_type": "stream",
     "text": [
      "[['Steve', 25], ['James', 30], ['Aom', 100], ['Pinpin', 9999]]\n"
     ]
    }
   ],
   "source": [
    "nameAndAge = [[\"Steve\", 25],[\"James\", 30], [\"Aom\",100], [\"Pinpin\", 9999]]\n",
    "print(nameAndAge)"
   ]
  },
  {
   "cell_type": "markdown",
   "metadata": {},
   "source": [
    "##### Question 1: Try to print Aom and her age from the list above"
   ]
  },
  {
   "cell_type": "code",
   "execution_count": null,
   "metadata": {},
   "outputs": [],
   "source": [
    "## Code here\n"
   ]
  },
  {
   "cell_type": "markdown",
   "metadata": {},
   "source": [
    "##### Question 2: Add your name and age to the list"
   ]
  },
  {
   "cell_type": "code",
   "execution_count": null,
   "metadata": {},
   "outputs": [],
   "source": [
    "## Code here"
   ]
  },
  {
   "cell_type": "markdown",
   "metadata": {},
   "source": [
    "##### Question 3: Print added name and age"
   ]
  },
  {
   "cell_type": "code",
   "execution_count": 14,
   "metadata": {},
   "outputs": [],
   "source": [
    "## Code here"
   ]
  },
  {
   "cell_type": "markdown",
   "metadata": {},
   "source": [
    "##### Question 4: Find missing digits (0-9) from string input [From ISE]\n",
    "__Example 1:__\n",
    "\n",
    "Input: 01234567\n",
    "\n",
    "Output: 8, 9\n",
    "\n",
    "__Example 2:__\n",
    "\n",
    "Input: 0000001111112222233333\n",
    "\n",
    "Output: 4, 5, 6, 7, 8, 9"
   ]
  },
  {
   "cell_type": "code",
   "execution_count": null,
   "metadata": {},
   "outputs": [],
   "source": [
    "## Code Here"
   ]
  },
  {
   "cell_type": "markdown",
   "metadata": {},
   "source": [
    "##### Question 5: Print correspond value in the table from input\n",
    "__AVOID USING IF-ELSE__\n",
    "\n",
    "__If input is not in the table print <font color=red>None</font>__\n",
    "| Input | Output |\n",
    "| --- | --- |\n",
    "| a | A |\n",
    "| b | B |\n",
    "| c | C |\n",
    "| d | D |\n",
    "| e | E |\n",
    "| f | F |"
   ]
  },
  {
   "cell_type": "code",
   "execution_count": 15,
   "metadata": {},
   "outputs": [],
   "source": [
    "## Code Here"
   ]
  }
 ],
 "metadata": {
  "interpreter": {
   "hash": "b0fa6594d8f4cbf19f97940f81e996739fb7646882a419484c72d19e05852a7e"
  },
  "kernelspec": {
   "display_name": "Python 3 (ipykernel)",
   "language": "python",
   "name": "python3"
  },
  "language_info": {
   "codemirror_mode": {
    "name": "ipython",
    "version": 3
   },
   "file_extension": ".py",
   "mimetype": "text/x-python",
   "name": "python",
   "nbconvert_exporter": "python",
   "pygments_lexer": "ipython3",
   "version": "3.9.7"
  }
 },
 "nbformat": 4,
 "nbformat_minor": 2
}
