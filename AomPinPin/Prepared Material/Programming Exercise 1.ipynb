{
 "cells": [
  {
   "cell_type": "markdown",
   "metadata": {},
   "source": [
    "## Programming Exercise\n",
    "\n",
    "This file will be the reviewer for all the material we have done so far\n",
    "\n",
    "Some might not be in the lesson, BUT it is a reviewer for things that I expected you to be able to do it without taking a long time"
   ]
  },
  {
   "cell_type": "markdown",
   "metadata": {},
   "source": [
    "### If - else\n",
    "\n",
    "#### Question 1:\n",
    "\n",
    "Write a program that will find out whether the inputted number is odd or even\n",
    "\n",
    "If the number is Odd\n",
    "\n",
    "print: The number is odd\n",
    "\n",
    "and the same goes for even number"
   ]
  },
  {
   "cell_type": "code",
   "execution_count": 1,
   "metadata": {},
   "outputs": [],
   "source": [
    "## Code Here"
   ]
  },
  {
   "cell_type": "markdown",
   "metadata": {},
   "source": [
    "#### Question 2:\n",
    "\n",
    "Write a program that interprets the Body Mass Index (BMI) based on a user's weight and height.\n",
    "\n",
    "It should tell them the interpretation of their BMI based on the BMI value.\n",
    "\n",
    "Under 18.5 they are underweight\n",
    "\n",
    "Over 18.5 but below 25 they have a normal weight\n",
    "\n",
    "Over 25 but below 30 they are slightly overweight\n",
    "\n",
    "Over 30 but below 35 they are obese\n",
    "\n",
    "Above 35 they are clinically obese.\n",
    "\n",
    "__The program will needs to receive input from user__\n",
    "\n",
    "Equation for finding BMI\n",
    "$$\n",
    "BMI = \\frac{weight}{height^2}\\\\\n",
    "$$\n",
    "\n",
    "NOTE: All units are metric"
   ]
  },
  {
   "cell_type": "code",
   "execution_count": null,
   "metadata": {},
   "outputs": [],
   "source": [
    "## Code Here"
   ]
  },
  {
   "cell_type": "markdown",
   "metadata": {},
   "source": [
    "### List\n",
    "\n",
    "Question 1: (List and random module)\n",
    "\n",
    "Random which person is going to pay the bill\n",
    "\n",
    "Input: Name separated by spaces\n",
    "Output: The lucky person that is going to pay\n",
    "\n",
    "HINT: use split\n",
    "\n",
    "HINT2: Google random module function\n"
   ]
  },
  {
   "cell_type": "code",
   "execution_count": null,
   "metadata": {},
   "outputs": [],
   "source": [
    "## Code Here"
   ]
  },
  {
   "cell_type": "markdown",
   "metadata": {},
   "source": [
    "#### Question : 2\n",
    "\n",
    "Remove all the duplicated numbers from this list, and rearrage the order to be descending order\n",
    "\n",
    "HINT: use sort function"
   ]
  },
  {
   "cell_type": "code",
   "execution_count": 2,
   "metadata": {},
   "outputs": [],
   "source": [
    "## Code Here\n",
    "original_list = [1,9,2,3,4,5,5,3,2,4,6,9,9,3]"
   ]
  },
  {
   "cell_type": "markdown",
   "metadata": {},
   "source": [
    "## Loop\n",
    "\n",
    "Here comes the fun part\n",
    "\n",
    "#### Question 1:\n",
    "\n",
    "Write a program that add the current number and previous number together"
   ]
  },
  {
   "cell_type": "code",
   "execution_count": 3,
   "metadata": {},
   "outputs": [
    {
     "name": "stdout",
     "output_type": "stream",
     "text": [
      "Printing current and previous numbers and their sum in a range of 9\n",
      "Current Number 1 Previous Number 0 Sum: 1\n",
      "Current Number 2 Previous Number 1 Sum: 3\n",
      "Current Number 3 Previous Number 2 Sum: 5\n",
      "Current Number 4 Previous Number 3 Sum: 7\n",
      "Current Number 5 Previous Number 4 Sum: 9\n",
      "Current Number 6 Previous Number 5 Sum: 11\n",
      "Current Number 7 Previous Number 6 Sum: 13\n",
      "Current Number 8 Previous Number 7 Sum: 15\n",
      "Current Number 9 Previous Number 8 Sum: 17\n"
     ]
    }
   ],
   "source": [
    "## Place Holder (DONT CODE HERE)\n",
    "## DONT PRESS RUN"
   ]
  },
  {
   "cell_type": "code",
   "execution_count": null,
   "metadata": {},
   "outputs": [],
   "source": [
    "## Code Here"
   ]
  },
  {
   "cell_type": "markdown",
   "metadata": {},
   "source": [
    "#### Question 2: (Sems 1 ISE Final Exam)\n",
    "\n",
    "Write a program in which you need to print ASCII characters according to the pattern shown in the image below. The user’s input number (e.g., 10) will decide how many lines you should print in your output. In this program, it should be noted that the output should start with  character A (65 in ASCII), and it is incremental (e.g., B=66, C=67). (Hint: to change from an ASCII code to a character, you may need to use chr(num) in your code). Also, you should note that when you display more than one character in the output, there should have a space between two characters (e.g., B(space)B).\n",
    "\n",
    "![q4.png](data:image/png;base64,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)"
   ]
  },
  {
   "cell_type": "code",
   "execution_count": null,
   "metadata": {},
   "outputs": [],
   "source": [
    "## Code Here"
   ]
  }
 ],
 "metadata": {
  "interpreter": {
   "hash": "09db5b70ae7a3ebb7f02e858f5c543ca7693215f9e7e01592432537c32d294a3"
  },
  "kernelspec": {
   "display_name": "Python 3.9.6 64-bit",
   "language": "python",
   "name": "python3"
  },
  "language_info": {
   "codemirror_mode": {
    "name": "ipython",
    "version": 3
   },
   "file_extension": ".py",
   "mimetype": "text/x-python",
   "name": "python",
   "nbconvert_exporter": "python",
   "pygments_lexer": "ipython3",
   "version": "3.9.6"
  },
  "orig_nbformat": 4
 },
 "nbformat": 4,
 "nbformat_minor": 2
}
