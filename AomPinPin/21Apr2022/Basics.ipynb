{
 "cells": [
  {
   "cell_type": "markdown",
   "metadata": {},
   "source": [
    "## Python Basics\n",
    "\n",
    "#### Data Types\n",
    "1. String\n",
    "2. Integer\n",
    "3. Float\n",
    "4. Boolean\n",
    "\n",
    "#### Print function\n",
    "I recommend using print(f\"\") because it removes the headache of converting data from one type to another"
   ]
  },
  {
   "cell_type": "code",
   "execution_count": 2,
   "metadata": {},
   "outputs": [
    {
     "name": "stdout",
     "output_type": "stream",
     "text": [
      "abcdef\n",
      "123456\n"
     ]
    }
   ],
   "source": [
    "## String\n",
    "alphabetString = \"abcdef\"\n",
    "print(alphabetString)\n",
    "\n",
    "print(\"123\"+\"456\")"
   ]
  },
  {
   "cell_type": "code",
   "execution_count": 4,
   "metadata": {},
   "outputs": [
    {
     "name": "stdout",
     "output_type": "stream",
     "text": [
      "579\n",
      "1234567\n"
     ]
    }
   ],
   "source": [
    "## Integer\n",
    "print(123+456)\n",
    "\n",
    "## We might got headache will large numbers, so we might avoid it using\n",
    "print(1_234_567) # and python will recognize this as normal integer"
   ]
  },
  {
   "cell_type": "code",
   "execution_count": 5,
   "metadata": {},
   "outputs": [
    {
     "name": "stdout",
     "output_type": "stream",
     "text": [
      "1234.567\n"
     ]
    }
   ],
   "source": [
    "## Float\n",
    "### This is number with decimals\n",
    "print(1234.567)"
   ]
  },
  {
   "cell_type": "code",
   "execution_count": 7,
   "metadata": {},
   "outputs": [
    {
     "name": "stdout",
     "output_type": "stream",
     "text": [
      "True\n"
     ]
    }
   ],
   "source": [
    "## Boolean\n",
    "### True or False\n",
    "online = True\n",
    "print(online)"
   ]
  },
  {
   "cell_type": "code",
   "execution_count": 5,
   "metadata": {},
   "outputs": [],
   "source": [
    "## Print f function\n",
    "### Im too lazy to convert variable types so I use this function\n",
    "sentence = \"My SAT score is\"\n",
    "score = 800"
   ]
  },
  {
   "cell_type": "code",
   "execution_count": 10,
   "metadata": {},
   "outputs": [
    {
     "ename": "TypeError",
     "evalue": "can only concatenate str (not \"int\") to str",
     "output_type": "error",
     "traceback": [
      "\u001b[0;31m---------------------------------------------------------------------------\u001b[0m",
      "\u001b[0;31mTypeError\u001b[0m                                 Traceback (most recent call last)",
      "\u001b[0;32m/var/folders/nm/44xwk32d6hzg0l_whgsp56kw0000gn/T/ipykernel_24219/618948172.py\u001b[0m in \u001b[0;36m<module>\u001b[0;34m\u001b[0m\n\u001b[1;32m      1\u001b[0m \u001b[0;31m## Adding these two together will get errors\u001b[0m\u001b[0;34m\u001b[0m\u001b[0;34m\u001b[0m\u001b[0m\n\u001b[0;32m----> 2\u001b[0;31m \u001b[0mprint\u001b[0m\u001b[0;34m(\u001b[0m\u001b[0msentence\u001b[0m \u001b[0;34m+\u001b[0m \u001b[0mscore\u001b[0m\u001b[0;34m)\u001b[0m\u001b[0;34m\u001b[0m\u001b[0;34m\u001b[0m\u001b[0m\n\u001b[0m",
      "\u001b[0;31mTypeError\u001b[0m: can only concatenate str (not \"int\") to str"
     ]
    }
   ],
   "source": [
    "## Adding these two together will get errors\n",
    "print(sentence + score)"
   ]
  },
  {
   "cell_type": "code",
   "execution_count": 6,
   "metadata": {},
   "outputs": [
    {
     "name": "stdout",
     "output_type": "stream",
     "text": [
      "My SAT score is800\n"
     ]
    }
   ],
   "source": [
    "## So we need to change the type first\n",
    "print(sentence + str(score))"
   ]
  },
  {
   "cell_type": "code",
   "execution_count": 7,
   "metadata": {},
   "outputs": [
    {
     "name": "stdout",
     "output_type": "stream",
     "text": [
      "My SAT score is 800\n"
     ]
    }
   ],
   "source": [
    "## Im lazy so I will use\n",
    "print(f\"{sentence} {score}\")"
   ]
  },
  {
   "cell_type": "markdown",
   "metadata": {},
   "source": [
    "### Index\n",
    "Index is the location of object in Python string and list\n",
    "\n",
    "It starts from 0\n",
    "\n",
    "To access an object in string and list we use\n",
    "```variablesName[index_of_items]```"
   ]
  },
  {
   "cell_type": "code",
   "execution_count": 4,
   "metadata": {},
   "outputs": [
    {
     "name": "stdout",
     "output_type": "stream",
     "text": [
      "5\n"
     ]
    }
   ],
   "source": [
    "## For example, there is a list of number and we want to print 5 from the list\n",
    "numberList = [1,2,3,4,5,6,7,8,9,10]\n",
    "number5 = numberList[4]\n",
    "print(number5)"
   ]
  },
  {
   "cell_type": "code",
   "execution_count": 9,
   "metadata": {},
   "outputs": [
    {
     "name": "stdout",
     "output_type": "stream",
     "text": [
      "Char location is 6\n",
      "W\n"
     ]
    }
   ],
   "source": [
    "## Printing W from the string\n",
    "\n",
    "sentenceString = \"Hello World\"\n",
    "characterLocation = sentenceString.index(\"W\") # .index() function can be use in both string and list\n",
    "print(f\"Char location is {characterLocation}\")\n",
    "characterW = sentenceString[characterLocation]\n",
    "print(characterW)"
   ]
  }
 ],
 "metadata": {
  "interpreter": {
   "hash": "b0fa6594d8f4cbf19f97940f81e996739fb7646882a419484c72d19e05852a7e"
  },
  "kernelspec": {
   "display_name": "Python 3.9.9 64-bit",
   "language": "python",
   "name": "python3"
  },
  "language_info": {
   "codemirror_mode": {
    "name": "ipython",
    "version": 3
   },
   "file_extension": ".py",
   "mimetype": "text/x-python",
   "name": "python",
   "nbconvert_exporter": "python",
   "pygments_lexer": "ipython3",
   "version": "3.9.6"
  },
  "orig_nbformat": 4
 },
 "nbformat": 4,
 "nbformat_minor": 2
}
