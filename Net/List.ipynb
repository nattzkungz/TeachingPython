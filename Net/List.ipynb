{
 "cells": [
  {
   "cell_type": "markdown",
   "metadata": {},
   "source": [
    "## List"
   ]
  },
  {
   "cell_type": "code",
   "execution_count": 1,
   "metadata": {},
   "outputs": [],
   "source": [
    "## There are two ways to create a list\n",
    "## Creating empty list\n",
    "listName_1 = list()\n",
    "listName_2 = [    ]\n",
    "\n",
    "## Creating list with stuffs in it\n",
    "x_value = [1,4,6,8,9,10,12]\n",
    "y_value = [2,5,7,9,13,67,13]\n"
   ]
  },
  {
   "cell_type": "code",
   "execution_count": 2,
   "metadata": {},
   "outputs": [
    {
     "name": "stdout",
     "output_type": "stream",
     "text": [
      "X maximum: 12\n",
      "Y minimum: 2\n"
     ]
    }
   ],
   "source": [
    "## Finding maximum or minimum value in a list\n",
    "x_max = max(x_value)\n",
    "print(f\"X maximum: {x_max}\")\n",
    "\n",
    "y_min = min(y_value)\n",
    "print(f\"Y minimum: {y_min}\")"
   ]
  },
  {
   "cell_type": "code",
   "execution_count": 11,
   "metadata": {},
   "outputs": [
    {
     "name": "stdout",
     "output_type": "stream",
     "text": [
      "Sum of x: 50\n",
      "Sum of y: 116\n"
     ]
    }
   ],
   "source": [
    "## Adding all values in the list (Incase the data is all integers)\n",
    "x_total = sum(x_value)\n",
    "print(f\"Sum of x: {x_total}\")\n",
    "\n",
    "y_total = sum(y_value)\n",
    "print(f\"Sum of y: {y_total}\")"
   ]
  },
  {
   "cell_type": "code",
   "execution_count": 4,
   "metadata": {},
   "outputs": [
    {
     "name": "stdout",
     "output_type": "stream",
     "text": [
      "This is number 5 position in the list: 4\n"
     ]
    }
   ],
   "source": [
    "## Finding position of item in the list\n",
    "numberList = [1,2,3,4,5,6,7,8,9,10]\n",
    "## We want to find the position of number 5\n",
    "number5Position = numberList.index(5)\n",
    "print(f\"This is number 5 position in the list: {number5Position}\")"
   ]
  },
  {
   "cell_type": "code",
   "execution_count": 2,
   "metadata": {},
   "outputs": [
    {
     "name": "stdout",
     "output_type": "stream",
     "text": [
      "The list with out a: ['b', 'c', 'd', 'e']\n",
      "The list with out d: ['b', 'c', 'e']\n"
     ]
    }
   ],
   "source": [
    "# Delete item from a list\n",
    "alphabetList = [\"a\",\"b\",\"c\",\"d\",\"e\"]\n",
    "\n",
    "# There are two ways to delete\n",
    "## The first one is listName.remove(item)\n",
    "alphabetList.remove(\"a\")\n",
    "print(f\"The list with out a: {alphabetList}\")\n",
    "\n",
    "## The second way is to remove the item using its index (its position)\n",
    "alphabetList.pop(2)\n",
    "print(f\"The list with out d: {alphabetList}\")"
   ]
  },
  {
   "cell_type": "code",
   "execution_count": 5,
   "metadata": {},
   "outputs": [
    {
     "name": "stdout",
     "output_type": "stream",
     "text": [
      "['Jack']\n"
     ]
    }
   ],
   "source": [
    "## Adding stuffs into a list\n",
    "nameList = []\n",
    "nameList.append(\"Jack\")\n",
    "print(nameList)"
   ]
  },
  {
   "cell_type": "code",
   "execution_count": 6,
   "metadata": {},
   "outputs": [
    {
     "name": "stdout",
     "output_type": "stream",
     "text": [
      "Location of b in the list is : 1\n"
     ]
    }
   ],
   "source": [
    "alphabetList = [\"a\",\"b\",\"c\",\"d\",\"e\"]\n",
    "locationOfB = alphabetList.index(\"b\")\n",
    "print(f\"Location of b in the list is : {locationOfB}\")"
   ]
  },
  {
   "cell_type": "code",
   "execution_count": 20,
   "metadata": {},
   "outputs": [],
   "source": [
    "nameAndAge = [[\"Steve\", 25],[\"James\", 30],[\"Aom\",100] ,[\"Pinpin\", 9999]]\n"
   ]
  },
  {
   "cell_type": "markdown",
   "metadata": {},
   "source": [
    "##### Question 1: Try to print Aom and her age from the list above"
   ]
  },
  {
   "cell_type": "code",
   "execution_count": 22,
   "metadata": {},
   "outputs": [
    {
     "name": "stdout",
     "output_type": "stream",
     "text": [
      "Aom is 100 years old\n",
      "Aom is 100 years old\n"
     ]
    }
   ],
   "source": [
    "## Code here\n",
    "name = nameAndAge[2][0]\n",
    "age = nameAndAge[2][1]\n",
    "\n",
    "print(nameAndAge[2][0] + \" is \" + str(nameAndAge[2][1]) + \" years old\")\n",
    "print(f\"{name} is {age} years old\")\n",
    "## Aom is 100 years old"
   ]
  },
  {
   "cell_type": "markdown",
   "metadata": {},
   "source": [
    "##### Question 2: Add your name and age to the list"
   ]
  },
  {
   "cell_type": "code",
   "execution_count": 23,
   "metadata": {},
   "outputs": [
    {
     "name": "stdout",
     "output_type": "stream",
     "text": [
      "[['Steve', 25], ['James', 30], ['Aom', 100], ['Pinpin', 9999], ['Natt', 21]]\n"
     ]
    }
   ],
   "source": [
    "## Code here\n",
    "a = str(input(\"Enter your name: \"))\n",
    "b = int(input(\"Enter your age: \"))\n",
    "c = [a,b]\n",
    "nameAndAge.append(c)\n",
    "\n",
    "print(nameAndAge)\n"
   ]
  },
  {
   "cell_type": "markdown",
   "metadata": {},
   "source": [
    "##### Question 3: Print added name and age"
   ]
  },
  {
   "cell_type": "code",
   "execution_count": 27,
   "metadata": {},
   "outputs": [
    {
     "name": "stdout",
     "output_type": "stream",
     "text": [
      "Natt is 21 years old\n"
     ]
    }
   ],
   "source": [
    "## Code here\n",
    "\n",
    "print(nameAndAge[-1][0] + \" is \" + str(nameAndAge[-1][1]) + \" years old\")"
   ]
  }
 ],
 "metadata": {
  "interpreter": {
   "hash": "b0fa6594d8f4cbf19f97940f81e996739fb7646882a419484c72d19e05852a7e"
  },
  "kernelspec": {
   "display_name": "Python 3.9.9 64-bit",
   "language": "python",
   "name": "python3"
  },
  "language_info": {
   "codemirror_mode": {
    "name": "ipython",
    "version": 3
   },
   "file_extension": ".py",
   "mimetype": "text/x-python",
   "name": "python",
   "nbconvert_exporter": "python",
   "pygments_lexer": "ipython3",
   "version": "3.11.2"
  },
  "orig_nbformat": 4
 },
 "nbformat": 4,
 "nbformat_minor": 2
}
