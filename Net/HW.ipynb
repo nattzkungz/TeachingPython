{
 "cells": [
  {
   "cell_type": "code",
   "execution_count": 2,
   "metadata": {},
   "outputs": [
    {
     "name": "stdout",
     "output_type": "stream",
     "text": [
      "Price is too low\n",
      "Price is okay\n",
      "Price is okay\n",
      "Quality is bad\n",
      "Quality is bad\n",
      "Quality is good\n",
      "409.0\n"
     ]
    }
   ],
   "source": [
    "# Create a storage for data\n",
    "itemBag = []\n",
    "priceTag = []\n",
    "quality = []\n",
    "\n",
    "# Create a loop to store input data inside the list\n",
    "for i in range(0, 3):\n",
    "    item = input(\"Enter item name: \") ## 1 method\n",
    "    itemBag.append(item) ## 1st method\n",
    "\n",
    "    # itemBag.append(input(\"Enter item name: \")) ## 2nd method\n",
    "    # 1 and 2 are equivalent to each other\n",
    "    priceTag.append(float(input(\"Enter price: \")))\n",
    "    quality.append(int(input(\"Enter quality: \")))\n",
    "\n",
    "# Check price\n",
    "for priceData in priceTag:\n",
    "    if priceData > 500:\n",
    "        print(\"Price is too high\")\n",
    "    elif priceData < 100:\n",
    "        print(\"Price is too low\")\n",
    "    else:\n",
    "        print(\"Price is okay\")\n",
    "\n",
    "# Check quality\n",
    "for qual in quality:\n",
    "    if qual > 50:\n",
    "        print(\"Quality is good\")\n",
    "    else:\n",
    "        print(\"Quality is bad\")\n"
   ]
  },
  {
   "cell_type": "code",
   "execution_count": 3,
   "metadata": {},
   "outputs": [
    {
     "name": "stdout",
     "output_type": "stream",
     "text": [
      "Hello nwt\n",
      "Hello jan\n",
      "Hello g\n"
     ]
    }
   ],
   "source": [
    "namesList = []\n",
    "\n",
    "for i in range(3):\n",
    "    name = input(\"Enter name: \")\n",
    "    namesList.append(name)\n",
    "\n",
    "for name in namesList:\n",
    "    print(\"Hello \" + name)"
   ]
  },
  {
   "cell_type": "code",
   "execution_count": null,
   "metadata": {},
   "outputs": [],
   "source": []
  }
 ],
 "metadata": {
  "kernelspec": {
   "display_name": "Python 3",
   "language": "python",
   "name": "python3"
  },
  "language_info": {
   "codemirror_mode": {
    "name": "ipython",
    "version": 3
   },
   "file_extension": ".py",
   "mimetype": "text/x-python",
   "name": "python",
   "nbconvert_exporter": "python",
   "pygments_lexer": "ipython3",
   "version": "3.11.2"
  }
 },
 "nbformat": 4,
 "nbformat_minor": 2
}
