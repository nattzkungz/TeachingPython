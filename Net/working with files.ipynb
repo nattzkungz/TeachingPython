{
 "cells": [
  {
   "cell_type": "code",
   "execution_count": 10,
   "metadata": {},
   "outputs": [
    {
     "name": "stdout",
     "output_type": "stream",
     "text": [
      "['Lion', 'Tiger', 'Elephant', 'Giraffe', 'Zebra', 'Gorilla', 'Bear', 'Wolf', 'Fox', 'Deer', 'Rabbit', 'Kangaroo', 'Hippopotamus', 'Rhino', 'Cheetah', 'Leopard', 'Jaguar', 'Panther', 'Cougar', 'Lynx', 'Hyena', 'Monkey', 'Chimpanzee', 'Orangutan', 'Baboon', 'Sloth', 'Koala', 'Panda', 'Red panda', 'Polar bear', 'Grizzly bear', 'Black bear', 'Panda bear', 'Dolphin', 'Whale', 'Shark', 'Octopus', 'Squid', 'Jellyfish', 'Starfish', 'Seahorse', 'Crab', 'Lobster', 'Shrimp', 'Turtle', 'Frog', 'Toad', 'Salamander', 'Newt', 'Snake']\n",
      "Cat not found\n"
     ]
    }
   ],
   "source": [
    "animalFile = open(\"animals.txt\", \"r\") # r is for read, w is for write, a is for append\n",
    "\n",
    "animalFile_contents = []\n",
    "\n",
    "for animal in animalFile.readlines():\n",
    "    animalFile_contents.append(animal.strip(\"\\n\"))\n",
    "\n",
    "animalFile.close()\n",
    "print(animalFile_contents)\n",
    "\n",
    "find = input(\"Enter an animal to find: \")\n",
    "if find in animalFile_contents:\n",
    "    print(\"Found\", find)\n",
    "else:\n",
    "    print(find, \"not found\")\n"
   ]
  },
  {
   "cell_type": "code",
   "execution_count": 21,
   "metadata": {},
   "outputs": [
    {
     "name": "stdout",
     "output_type": "stream",
     "text": [
      "Social Studies not found\n",
      "Social Studies not found\n",
      "Social Studies not found\n",
      "Social Studies not found\n",
      "Social Studies not found\n",
      "Social Studies not found\n",
      "Social Studies not found\n",
      "Social Studies not found\n",
      "Social Studies not found\n",
      "Social Studies not found\n"
     ]
    }
   ],
   "source": [
    "# Working with files with many object in 1 lines\n",
    "\n",
    "subjFile = open(\"schoolSubject.txt\", \"r\")\n",
    "subjContent = [subj.strip(\"\\n\").split(\" - \") for subj in subjFile.readlines()]\n",
    "find = input(\"Enter a teacher to find: \")\n",
    "found = False\n",
    "for subject in subjContent:\n",
    "    if find in subject:\n",
    "        # print(\"Found\", find)\n",
    "        print(subject[0], \"-\", subject[1])\n",
    "        found = True\n",
    "        break\n",
    "if not found:\n",
    "    print(find, \"not found\")\n",
    "\n",
    "# Expected Output: Found Mr. K - Math\n",
    "\n"
   ]
  }
 ],
 "metadata": {
  "kernelspec": {
   "display_name": "fuckpip",
   "language": "python",
   "name": "python3"
  },
  "language_info": {
   "codemirror_mode": {
    "name": "ipython",
    "version": 3
   },
   "file_extension": ".py",
   "mimetype": "text/x-python",
   "name": "python",
   "nbconvert_exporter": "python",
   "pygments_lexer": "ipython3",
   "version": "3.12.0"
  }
 },
 "nbformat": 4,
 "nbformat_minor": 2
}
