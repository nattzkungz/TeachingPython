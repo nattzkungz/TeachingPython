{
 "cells": [
  {
   "cell_type": "markdown",
   "metadata": {},
   "source": [
    "## Functions\n",
    "Function is a way to reduce line of codes\n",
    "\n",
    "Imagine we need to write similar code for a number of times because there are some small differences\n",
    "\n",
    "Function will becoming handy to reduce confusion and headache, it also help lazy people trying to finish their work"
   ]
  },
  {
   "cell_type": "markdown",
   "metadata": {},
   "source": [
    "#### Function structure\n",
    "```python\n",
    "def functionName(input):\n",
    "    lines of code\n",
    "    return output\n",
    "```"
   ]
  },
  {
   "cell_type": "markdown",
   "metadata": {},
   "source": [
    "__To call a function__\n",
    "\n",
    "\n",
    "```functionName(given_input)```"
   ]
  },
  {
   "cell_type": "markdown",
   "metadata": {},
   "source": [
    "__Function can be created with or without input__\n",
    "\n",
    "__The same goes for output__"
   ]
  },
  {
   "cell_type": "markdown",
   "metadata": {},
   "source": [
    "#### Functions limitations\n",
    "- Variables inside function cannot be called outside of function\n",
    "- Function needs be to above the calling line\n"
   ]
  },
  {
   "cell_type": "code",
   "execution_count": 1,
   "metadata": {},
   "outputs": [],
   "source": [
    "## Creating a function without input and output\n",
    "\n",
    "def printDashLine():\n",
    "    print(\"-\"*30)"
   ]
  },
  {
   "cell_type": "code",
   "execution_count": 2,
   "metadata": {},
   "outputs": [
    {
     "name": "stdout",
     "output_type": "stream",
     "text": [
      "------------------------------\n"
     ]
    }
   ],
   "source": [
    "## Calling the created function\n",
    "\n",
    "printDashLine()\n",
    "\n",
    "## Calling function does not required to have input because the function does not need it at all"
   ]
  },
  {
   "cell_type": "code",
   "execution_count": 3,
   "metadata": {},
   "outputs": [
    {
     "name": "stdout",
     "output_type": "stream",
     "text": [
      "LLLLLLLLLLLLLLLLLLLLLLL\n"
     ]
    }
   ],
   "source": [
    "## Function with input but no output\n",
    "\n",
    "def printCharTimes(char, times):\n",
    "    print(str(char)*times)\n",
    "\n",
    "printCharTimes(\"L\", 23)"
   ]
  },
  {
   "cell_type": "code",
   "execution_count": 4,
   "metadata": {},
   "outputs": [
    {
     "name": "stdout",
     "output_type": "stream",
     "text": [
      "[['Ace', 'Clubs'], ['Ace', 'Spades'], ['Ace', 'Heart'], ['Ace', 'Diamonds'], ['2', 'Clubs'], ['2', 'Spades'], ['2', 'Heart'], ['2', 'Diamonds'], ['3', 'Clubs'], ['3', 'Spades'], ['3', 'Heart'], ['3', 'Diamonds'], ['4', 'Clubs'], ['4', 'Spades'], ['4', 'Heart'], ['4', 'Diamonds'], ['5', 'Clubs'], ['5', 'Spades'], ['5', 'Heart'], ['5', 'Diamonds'], ['6', 'Clubs'], ['6', 'Spades'], ['6', 'Heart'], ['6', 'Diamonds'], ['7', 'Clubs'], ['7', 'Spades'], ['7', 'Heart'], ['7', 'Diamonds'], ['8', 'Clubs'], ['8', 'Spades'], ['8', 'Heart'], ['8', 'Diamonds'], ['9', 'Clubs'], ['9', 'Spades'], ['9', 'Heart'], ['9', 'Diamonds'], ['10', 'Clubs'], ['10', 'Spades'], ['10', 'Heart'], ['10', 'Diamonds'], ['Jack', 'Clubs'], ['Jack', 'Spades'], ['Jack', 'Heart'], ['Jack', 'Diamonds'], ['Queen', 'Clubs'], ['Queen', 'Spades'], ['Queen', 'Heart'], ['Queen', 'Diamonds'], ['King', 'Clubs'], ['King', 'Spades'], ['King', 'Heart'], ['King', 'Diamonds']]\n"
     ]
    }
   ],
   "source": [
    "## Function without input but have output\n",
    "## This one is from Lab05\n",
    "def dealCards():\n",
    "    cardTypes = [\"Clubs\", \"Spades\", \"Heart\", \"Diamonds\"]\n",
    "    cardNumbers = [\"Ace\", \"2\", \"3\", \"4\", \"5\", \"6\", \"7\", \"8\", \"9\", \"10\", \"Jack\", \"Queen\", \"King\"]\n",
    "    deck = []\n",
    "    for num in cardNumbers:\n",
    "        for type in cardTypes:\n",
    "            deck.append([num, type])\n",
    "\n",
    "    return deck\n",
    "\n",
    "print(dealCards())"
   ]
  },
  {
   "cell_type": "code",
   "execution_count": 7,
   "metadata": {},
   "outputs": [
    {
     "name": "stdout",
     "output_type": "stream",
     "text": [
      "6\n"
     ]
    }
   ],
   "source": [
    "## Function with both input and output\n",
    "\n",
    "def calculator(number1, operator, number2):\n",
    "    number1, number2 = int(number1), int(number2)\n",
    "    if operator == \"+\":\n",
    "        return number1 + number2\n",
    "    elif operator == \"-\":\n",
    "        return number1 - number2\n",
    "    elif operator == \"*\":\n",
    "        return number1 * number2\n",
    "    elif operator == \"/\":\n",
    "        return number1 / number2\n",
    "    else:\n",
    "        return \"The given operator does not exist, please try again\"\n",
    "\n",
    "print(calculator(9, \"-\", 3))"
   ]
  },
  {
   "cell_type": "markdown",
   "metadata": {},
   "source": [
    "#### The idea of creating function is to spot similar codes and its differences \n",
    "__When there is a lot of stuffs to code and you are lazy, use function!!!__\n",
    "\n",
    "To make you understand more about function, go to this website: [Click Here](https://reeborg.ca/reeborg.html?lang=en&mode=python&menu=worlds%2Fmenus%2Freeborg_intro_en.json&name=Hurdle%201&url=worlds%2Ftutorial_en%2Fhurdle1.json)\n",
    "\n",
    "and complete Hurdles 1 - 4 using for-loop and function"
   ]
  },
  {
   "cell_type": "markdown",
   "metadata": {},
   "source": [
    "## Advanced Function\n",
    "- Global Variable\n",
    "- Function inside function\n",
    "- Calling function inside another function"
   ]
  },
  {
   "cell_type": "code",
   "execution_count": 29,
   "metadata": {},
   "outputs": [
    {
     "name": "stdout",
     "output_type": "stream",
     "text": [
      "10\n"
     ]
    }
   ],
   "source": [
    "## Using global variable accessing variable inside a function from outside\n",
    "def countToTen():\n",
    "    global c\n",
    "    c = 0\n",
    "    for i in range(10):\n",
    "        c += 1\n",
    "    \n",
    "countToTen()\n",
    "print(c)"
   ]
  },
  {
   "cell_type": "code",
   "execution_count": 30,
   "metadata": {},
   "outputs": [
    {
     "name": "stdout",
     "output_type": "stream",
     "text": [
      "Player 2 Wins\n"
     ]
    }
   ],
   "source": [
    "## Function inside function\n",
    "\n",
    "def game(p1, p2):\n",
    "    \n",
    "    def checkResult(player1, player2):\n",
    "        if player1 > player2:\n",
    "            return True\n",
    "        elif player2 > player1:\n",
    "            return False\n",
    "        else: return None\n",
    "\n",
    "    result = checkResult(p1, p2)\n",
    "    if result:\n",
    "        print(\"Player 1 Wins\")\n",
    "    elif result is False:\n",
    "        print(\"Player 2 Wins\")\n",
    "    else: print(\"DRAW\")\n",
    "\n",
    "game(p1=500, p2=700)"
   ]
  },
  {
   "cell_type": "markdown",
   "metadata": {},
   "source": [
    "##### Calling another function inside a function\n",
    "__The function that is being called need to be above the calling function__"
   ]
  },
  {
   "cell_type": "code",
   "execution_count": 32,
   "metadata": {},
   "outputs": [
    {
     "name": "stdout",
     "output_type": "stream",
     "text": [
      "Player 1 Wins\n"
     ]
    }
   ],
   "source": [
    "def checkResult(player1, player2):\n",
    "        if player1 > player2:\n",
    "            return True\n",
    "        elif player2 > player1:\n",
    "            return False\n",
    "        else: return None\n",
    "\n",
    "def game(p1, p2):\n",
    "\n",
    "    result = checkResult(p1, p2)\n",
    "    if result:\n",
    "        print(\"Player 1 Wins\")\n",
    "    elif result is False:\n",
    "        print(\"Player 2 Wins\")\n",
    "    else: print(\"DRAW\")\n",
    "\n",
    "game(p1=900, p2=700)"
   ]
  },
  {
   "cell_type": "markdown",
   "metadata": {},
   "source": [
    "## Exercise:\n",
    "\n",
    "#### Question 1: Write a function that receives 4 number input and add them together"
   ]
  },
  {
   "cell_type": "code",
   "execution_count": null,
   "metadata": {},
   "outputs": [],
   "source": []
  },
  {
   "cell_type": "markdown",
   "metadata": {},
   "source": [
    "#### Question 2: Write a function that check if input number is a prime number or not\n",
    "\n",
    "Finding Prime Number Logic:\n",
    "- if that number cannot be divided by itself and 1 = prime\n",
    "\n",
    "```isPrime(number)```"
   ]
  },
  {
   "cell_type": "code",
   "execution_count": null,
   "metadata": {},
   "outputs": [],
   "source": []
  },
  {
   "cell_type": "markdown",
   "metadata": {},
   "source": [
    "#### Question 3: Reverse String\n",
    "Input: A string\n",
    "Output: the same string with inverted order\n",
    "\n",
    "```functionName(string)```\n",
    "\n",
    "Hint: Use for-loop"
   ]
  },
  {
   "cell_type": "code",
   "execution_count": null,
   "metadata": {},
   "outputs": [],
   "source": []
  },
  {
   "cell_type": "markdown",
   "metadata": {},
   "source": [
    "#### Question 4: Find maximum value in a list\n",
    "```functionName(list)```\n",
    "Hint: use for loop"
   ]
  },
  {
   "cell_type": "code",
   "execution_count": null,
   "metadata": {},
   "outputs": [],
   "source": []
  },
  {
   "cell_type": "markdown",
   "metadata": {},
   "source": [
    "#### Question 5: Count character in a string\n",
    "```functionName(string, character)```"
   ]
  },
  {
   "cell_type": "code",
   "execution_count": null,
   "metadata": {},
   "outputs": [],
   "source": []
  }
 ],
 "metadata": {
  "interpreter": {
   "hash": "b0fa6594d8f4cbf19f97940f81e996739fb7646882a419484c72d19e05852a7e"
  },
  "kernelspec": {
   "display_name": "Python 3.9.9 64-bit",
   "language": "python",
   "name": "python3"
  },
  "language_info": {
   "codemirror_mode": {
    "name": "ipython",
    "version": 3
   },
   "file_extension": ".py",
   "mimetype": "text/x-python",
   "name": "python",
   "nbconvert_exporter": "python",
   "pygments_lexer": "ipython3",
   "version": "3.9.9"
  },
  "orig_nbformat": 4
 },
 "nbformat": 4,
 "nbformat_minor": 2
}
