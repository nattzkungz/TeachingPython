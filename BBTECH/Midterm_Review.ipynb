{
 "cells": [
  {
   "cell_type": "markdown",
   "metadata": {},
   "source": [
    "# Review for Midterm Exam\n"
   ]
  },
  {
   "cell_type": "markdown",
   "metadata": {},
   "source": [
    "### 1. Variable Types and Index\n",
    "\n",
    "#### 1.1 Variable Types\n",
    "\n",
    "Python has 4 variable types\n",
    "1. String\n",
    "2. Integer \n",
    "3. Float (number with decimal points)\n",
    "4. Boolean (True & False)\n",
    "\n",
    "##### Caution: \n",
    "\n",
    "String and Integer/Float cannot directly add together, the number need to be converted to string first!!!\n",
    "\n",
    "#### 1.2 Index\n",
    "\n",
    "In Python, Index will always start by.\n",
    "\n",
    "0 : from the front\n",
    "-1 : from the back\n",
    "\n",
    "So dont be subson na"
   ]
  },
  {
   "cell_type": "code",
   "execution_count": 12,
   "metadata": {},
   "outputs": [],
   "source": [
    "# Exercise\n",
    "\n",
    "# Find mean SAT score\n",
    "## Hint: use loop\n",
    "\n",
    "SATscore = [800, 680, 500, \"800\", \"700\"]"
   ]
  },
  {
   "cell_type": "markdown",
   "metadata": {},
   "source": [
    "### 2. String Slicing\n",
    "\n",
    "String Slicing is used for getting some part of string\n",
    "\n",
    "Usage :\n",
    "```python\n",
    "string[start:stop:step]\n",
    "```\n",
    "\n",
    "Define Start\n",
    "```python\n",
    "string[start:]\n",
    "```\n",
    "NOTE: It could start from the back by defining start index at [-(index)]\n",
    "\n",
    "Define Stop\n",
    "```python\n",
    "string[:stop]\n",
    "```\n",
    "Define Step\n",
    "```python\n",
    "string[::step]\n",
    "```"
   ]
  },
  {
   "cell_type": "code",
   "execution_count": 1,
   "metadata": {},
   "outputs": [],
   "source": [
    "# Exercise\n",
    "stringA = \"Hello World\"\n",
    "stringB = \"yako mI enif mI ,yadot uoy era woh rehcaet gninrom dooG\"\n",
    "stringC = \"Please dont you go, I'll be alone\""
   ]
  },
  {
   "cell_type": "code",
   "execution_count": 3,
   "metadata": {},
   "outputs": [],
   "source": [
    "# Q1 : Make stringB readable (Hint: It is currently inversed)\n"
   ]
  },
  {
   "cell_type": "code",
   "execution_count": 4,
   "metadata": {},
   "outputs": [],
   "source": [
    "# Q2 : Print stringC every 2 character"
   ]
  },
  {
   "cell_type": "code",
   "execution_count": 5,
   "metadata": {},
   "outputs": [],
   "source": [
    "# Q3 : Print only \"World\" on stringA"
   ]
  },
  {
   "cell_type": "code",
   "execution_count": 6,
   "metadata": {},
   "outputs": [],
   "source": [
    "# Q4 : Print I'll be alone from stringC"
   ]
  }
 ],
 "metadata": {
  "kernelspec": {
   "display_name": "Python 3.9.12 64-bit",
   "language": "python",
   "name": "python3"
  },
  "language_info": {
   "codemirror_mode": {
    "name": "ipython",
    "version": 3
   },
   "file_extension": ".py",
   "mimetype": "text/x-python",
   "name": "python",
   "nbconvert_exporter": "python",
   "pygments_lexer": "ipython3",
   "version": "3.9.12"
  },
  "orig_nbformat": 4,
  "vscode": {
   "interpreter": {
    "hash": "b0fa6594d8f4cbf19f97940f81e996739fb7646882a419484c72d19e05852a7e"
   }
  }
 },
 "nbformat": 4,
 "nbformat_minor": 2
}
