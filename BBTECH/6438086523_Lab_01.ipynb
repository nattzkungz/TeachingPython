{
  "cells": [
    {
      "cell_type": "markdown",
      "id": "30b5058a",
      "metadata": {
        "id": "30b5058a"
      },
      "source": [
        "Write your codes after `# Your code here` line inside each answer function.\\\n",
        "Name your file with your student ID and lab number, e.g. `6431234523-lab-01.ipynb`\n",
        "\n",
        "**DO NOT CHANGE THE FUNCTION NAME!!!**"
      ]
    },
    {
      "cell_type": "markdown",
      "id": "44b9466a",
      "metadata": {
        "id": "44b9466a"
      },
      "source": [
        "# Q1 (2 pts.)"
      ]
    },
    {
      "cell_type": "markdown",
      "id": "3cfd3b4b",
      "metadata": {
        "id": "3cfd3b4b"
      },
      "source": [
        "Write a program that **reads**\n",
        "- goods price\n",
        "- shipping cost\n",
        "\n",
        "from the user using the `input` function. Then, calculate and **print** the total price to the screen with the `print` function."
      ]
    },
    {
      "cell_type": "markdown",
      "id": "5d0f0aba",
      "metadata": {
        "id": "5d0f0aba"
      },
      "source": [
        "## Example run\n",
        "\n",
        "- texts in **bold** are printed from the program\n",
        "- texts in *italic* are input from the user\n",
        "- `⏎` indicates the cariage return symbol\n",
        "\n",
        "**Goods:** *1000⏎*\\\n",
        "**Shipping:** *50⏎*\\\n",
        "**Total:** *1050.0⏎*\n",
        "`"
      ]
    },
    {
      "cell_type": "code",
      "execution_count": 16,
      "id": "223754ad",
      "metadata": {
        "id": "223754ad"
      },
      "outputs": [],
      "source": [
        "def answer_q1():\n",
        "    # YOUR CODE HERE\n",
        "    goods = float(input('Good'))\n",
        "    shipping = float(input('Shipping'))\n",
        "    print('Total:', goods+shipping)\n"
      ]
    },
    {
      "cell_type": "code",
      "execution_count": 17,
      "id": "eb053e27",
      "metadata": {
        "colab": {
          "base_uri": "https://localhost:8080/"
        },
        "id": "eb053e27",
        "outputId": "ca880cf4-0a7b-439b-fbd7-2a9f9039876b"
      },
      "outputs": [
        {
          "output_type": "stream",
          "name": "stdout",
          "text": [
            "Good1000.0\n",
            "Shipping50.5\n",
            "Total: 1050.5\n"
          ]
        }
      ],
      "source": [
        "# You may debug your code by running this cell\n",
        "answer_q1()"
      ]
    },
    {
      "cell_type": "markdown",
      "id": "7a8852b6",
      "metadata": {
        "id": "7a8852b6"
      },
      "source": [
        "##### Test cases\n",
        "\n",
        "The unit test consists of\n",
        "- the `test` function\n",
        "- the test cases\n",
        "\n",
        "To run the unit test\n",
        "- run the definition of the `test` function\n",
        "- call the `test` function with example inputs/outputs\n",
        "\n",
        "If there is no `AssertionError`, the code is correct. Otherwise, you fail that test case. If you want to try more cases, you may add your own cases and try.\n",
        "\n",
        "We have more hidden test cases that will be run later to grade your answer function."
      ]
    },
    {
      "cell_type": "code",
      "execution_count": 8,
      "id": "2b905988",
      "metadata": {
        "id": "2b905988"
      },
      "outputs": [],
      "source": [
        "from unittest.mock import patch\n",
        "from io import StringIO"
      ]
    },
    {
      "cell_type": "code",
      "execution_count": 7,
      "id": "e5abf5d4",
      "metadata": {
        "id": "e5abf5d4"
      },
      "outputs": [],
      "source": [
        "def test_q1(inputs, outputs): \n",
        "    with patch('builtins.input', side_effect=inputs), patch('sys.stdout', new_callable=StringIO) as mock_stdout:\n",
        "        answer_q1()\n",
        "    \n",
        "    assert mock_stdout.getvalue() == outputs, 'incorrect value: {}'.format(mock_stdout.getvalue())"
      ]
    },
    {
      "cell_type": "code",
      "execution_count": 18,
      "id": "9489a875",
      "metadata": {
        "scrolled": true,
        "colab": {
          "base_uri": "https://localhost:8080/"
        },
        "id": "9489a875",
        "outputId": "163f17be-cf44-45dd-917b-def7736fa9fd"
      },
      "outputs": [
        {
          "output_type": "execute_result",
          "data": {
            "text/plain": [
              "<function __main__.test_q1(inputs, outputs)>"
            ]
          },
          "metadata": {},
          "execution_count": 18
        }
      ],
      "source": [
        "test_q1(['235.50','30'], 'Total: 265.5\\n')\n",
        "test_q1(['1000','45.5'], 'Total: 1045.5\\n')\n",
        "test_q1"
      ]
    },
    {
      "cell_type": "markdown",
      "id": "bd806100",
      "metadata": {
        "id": "bd806100"
      },
      "source": [
        "# Q2 (2 pts.)"
      ]
    },
    {
      "cell_type": "markdown",
      "id": "a885a387",
      "metadata": {
        "id": "a885a387"
      },
      "source": [
        "Write a program that reads `name` and `surname` from the keyboard in a single input (separated by a space). Values are separated by a single space. Then, create two new strings from the following format\n",
        "1. `name` `surname`\n",
        "2. `surname`, `name`\n",
        "\n",
        "and print both of them to the screen"
      ]
    },
    {
      "cell_type": "markdown",
      "id": "2e15723c",
      "metadata": {
        "id": "2e15723c"
      },
      "source": [
        "## Example run\n",
        "\n",
        "**Firstname Lastname:** *Somsak Saksri⏎*\\\n",
        "Hello! Somsak Saksri\\\n",
        "Saksri, Somsak\n",
        "\n",
        "**Firstname Lastname:** *Jackson Wang⏎*\\\n",
        "Hello! Jackson Wang\\\n",
        "Wang, Jackson"
      ]
    },
    {
      "cell_type": "code",
      "execution_count": null,
      "id": "6fa501dd",
      "metadata": {
        "id": "6fa501dd"
      },
      "outputs": [],
      "source": [
        "def answer_q2():\n",
        "    # YOUR CODE HERE\n",
        "    text =input('Name Surname') \n",
        "    name, surname = text.split()\n",
        "    print('Hello,',text)\n",
        "    print(name,surname)"
      ]
    },
    {
      "cell_type": "code",
      "execution_count": null,
      "id": "aa3e13be",
      "metadata": {
        "id": "aa3e13be",
        "outputId": "dba79623-6992-43ae-a8d3-c8eb79c93e98"
      },
      "outputs": [
        {
          "name": "stdout",
          "output_type": "stream",
          "text": [
            "Name SurnameSupravee Srisathaporn\n",
            "Hello, Supravee Srisathaporn\n",
            "Supravee Srisathaporn\n"
          ]
        }
      ],
      "source": [
        "# You may debug your code by running this cell\n",
        "answer_q2()"
      ]
    },
    {
      "cell_type": "code",
      "execution_count": null,
      "id": "b04b63ee",
      "metadata": {
        "id": "b04b63ee"
      },
      "outputs": [],
      "source": [
        "def test_q2(inputs, outputs): \n",
        "    with patch('builtins.input', side_effect=inputs), patch('sys.stdout', new_callable=StringIO) as mock_stdout:\n",
        "        answer_q2()\n",
        "    \n",
        "    assert mock_stdout.getvalue() == outputs, 'incorrect value: {}'.format(mock_stdout.getvalue())"
      ]
    },
    {
      "cell_type": "code",
      "execution_count": null,
      "id": "6f9458b9",
      "metadata": {
        "id": "6f9458b9"
      },
      "outputs": [],
      "source": [
        "test_q2(['Somsak Saksri'], 'Hello! Samsak Saksri\\nSaksri, Somsak\\n')\n",
        "test_q2(['Jackson Wang'], 'Hello! Jackson Wang\\nWang, Jackson\\n')\n",
        "test_q2(['Good Student'], 'Hello! Good Student\\nStudent, Good\\n')"
      ]
    },
    {
      "cell_type": "markdown",
      "id": "ebe9b51c",
      "metadata": {
        "id": "ebe9b51c"
      },
      "source": [
        "# Q3 (2 pts.)"
      ]
    },
    {
      "cell_type": "markdown",
      "id": "5b11530e",
      "metadata": {
        "id": "5b11530e"
      },
      "source": [
        "Write a program that reads the name and age from the keyboard in single input (separated by a space). Then, calculate and print out the birth year in B.E. (This year is 2565 B.E.)"
      ]
    },
    {
      "cell_type": "markdown",
      "id": "6c4bbab9",
      "metadata": {
        "id": "6c4bbab9"
      },
      "source": [
        "## Example run\n",
        "\n",
        "**Name, age:** *Somsak 19⏎*\\\n",
        "Somsak's year of birth is 2546.\n",
        "\n",
        "**Name, age:** *Bella 2⏎*\\\n",
        "Bella's year of birth is 2563."
      ]
    },
    {
      "cell_type": "code",
      "execution_count": null,
      "id": "23d51fcf",
      "metadata": {
        "id": "23d51fcf"
      },
      "outputs": [],
      "source": [
        "def answer_q3():\n",
        "    # YOUR CODE HERE\n",
        "    text = (input(\"Name, Age:\"))\n",
        "    Name, Age = text.split()\n",
        "    Age = int(Age)\n",
        "    print(Name+\"'s year of birth is\", 2565-Age)"
      ]
    },
    {
      "cell_type": "code",
      "execution_count": null,
      "id": "72241f35",
      "metadata": {
        "id": "72241f35",
        "outputId": "116162d1-b22e-4c3a-d784-9416dd107045"
      },
      "outputs": [
        {
          "name": "stdout",
          "output_type": "stream",
          "text": [
            "Name, Age:Ivy 19\n",
            "Ivy's year of birth is 2546\n"
          ]
        }
      ],
      "source": [
        "# You may debug your code by running this cell\n",
        "answer_q3()"
      ]
    },
    {
      "cell_type": "code",
      "execution_count": null,
      "id": "dcc90a61",
      "metadata": {
        "id": "dcc90a61"
      },
      "outputs": [],
      "source": [
        "def test_q3(inputs, outputs): \n",
        "    with patch('builtins.input', side_effect=inputs), patch('sys.stdout', new_callable=StringIO) as mock_stdout:\n",
        "        answer_q3()\n",
        "    \n",
        "    assert mock_stdout.getvalue() == outputs, 'incorrect value: {}'.format(mock_stdout.getvalue())"
      ]
    },
    {
      "cell_type": "code",
      "execution_count": null,
      "id": "d519276c",
      "metadata": {
        "id": "d519276c"
      },
      "outputs": [],
      "source": [
        "test_q3(['Somsak 19'], \"Somsak's year of birth is 2546\\n\")\n",
        "test_q3(['Bella 2'], \"Bella's year of birth is 2563\\n\")\n",
        "test_q3(['Somsak 69'], \"Somsak's year of birth is 2496\\n\")"
      ]
    },
    {
      "cell_type": "markdown",
      "id": "35096c89",
      "metadata": {
        "id": "35096c89"
      },
      "source": [
        "# Q4 (4 pts.)"
      ]
    },
    {
      "cell_type": "markdown",
      "id": "e162745f",
      "metadata": {
        "id": "e162745f"
      },
      "source": [
        "Write a program that reads `name` and `age` from the inputs. Then, construct an e-mail address from the name and year of birth."
      ]
    },
    {
      "cell_type": "markdown",
      "id": "b9708b35",
      "metadata": {
        "id": "b9708b35"
      },
      "source": [
        "## Example run\n",
        "\n",
        "**Name:** *Somsak⏎*\\\n",
        "**Age:** *19⏎*\\\n",
        "Somsak46@chula.ac.th\n",
        "\n",
        "**Name:** *Jaidee⏎*\\\n",
        "**Age:** *64⏎*\\\n",
        "Jaidee01@chula.ac.th\n",
        "\n",
        "**Name:** *Yaya⏎*\\\n",
        "**Age:** *70⏎*\\\n",
        "Yaya95@chula.ac.th"
      ]
    },
    {
      "cell_type": "code",
      "execution_count": 3,
      "id": "3fc17d77",
      "metadata": {
        "id": "3fc17d77"
      },
      "outputs": [],
      "source": [
        "def answer_q4():\n",
        "    # YOUR CODE HERE\n",
        "    name = input('Name:')\n",
        "    age = int(input('Age:'))\n",
        "    year1 = str((2565-age)//10)\n",
        "    year2 = str((int(year1))%10)\n",
        "    year3 = str((2565-age)%10)\n",
        "    print(name+year2+year3+'@chula.ac.th')"
      ]
    },
    {
      "cell_type": "code",
      "execution_count": 4,
      "id": "f47a4114",
      "metadata": {
        "colab": {
          "base_uri": "https://localhost:8080/"
        },
        "id": "f47a4114",
        "outputId": "a593b806-10d3-4c7e-d545-520341bd0d0e"
      },
      "outputs": [
        {
          "output_type": "stream",
          "name": "stdout",
          "text": [
            "Name:Ivy\n",
            "Age:19\n",
            "Ivy46@chula.ac.th\n"
          ]
        }
      ],
      "source": [
        "# You may debug your code by running this cell\n",
        "answer_q4()"
      ]
    },
    {
      "cell_type": "code",
      "execution_count": 5,
      "id": "1a0253f8",
      "metadata": {
        "id": "1a0253f8"
      },
      "outputs": [],
      "source": [
        "def test_q4(inputs, outputs): \n",
        "    with patch('builtins.input', side_effect=inputs), patch('sys.stdout', new_callable=StringIO) as mock_stdout:\n",
        "        answer_q4()\n",
        "    \n",
        "    assert mock_stdout.getvalue() == outputs, 'incorrect value: {}'.format(mock_stdout.getvalue())"
      ]
    },
    {
      "cell_type": "code",
      "execution_count": 11,
      "id": "ca4f0bc6",
      "metadata": {
        "id": "ca4f0bc6"
      },
      "outputs": [],
      "source": [
        "test_q4(['Somsak', '19'], 'Somsak46@chula.ac.th\\n')\n",
        "test_q4(['Jaidee', '64'], 'Jaidee01@chula.ac.th\\n')\n",
        "test_q4(['Yaya', '70'], 'Yaya95@chula.ac.th\\n')"
      ]
    },
    {
      "cell_type": "code",
      "execution_count": null,
      "id": "fc57be37",
      "metadata": {
        "id": "fc57be37"
      },
      "outputs": [],
      "source": [
        ""
      ]
    }
  ],
  "metadata": {
    "kernelspec": {
      "display_name": "Python 3 (ipykernel)",
      "language": "python",
      "name": "python3"
    },
    "language_info": {
      "codemirror_mode": {
        "name": "ipython",
        "version": 3
      },
      "file_extension": ".py",
      "mimetype": "text/x-python",
      "name": "python",
      "nbconvert_exporter": "python",
      "pygments_lexer": "ipython3",
      "version": "3.9.7"
    },
    "colab": {
      "name": "Lab-01 (1).ipynb",
      "provenance": []
    }
  },
  "nbformat": 4,
  "nbformat_minor": 5
}