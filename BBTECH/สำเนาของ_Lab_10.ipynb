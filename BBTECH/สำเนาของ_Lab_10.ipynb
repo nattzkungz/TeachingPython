{
  "cells": [
    {
      "cell_type": "markdown",
      "metadata": {
        "id": "5hzDwBnnJBqS"
      },
      "source": [
        "Write your codes after `# YOUR CODE HERE` line inside each answer function.\\\n",
        "Delete the `raise NotImplementedError` line in each answer function. \\\n",
        "Name your file with your student ID and lab number, e.g. `6431234523-lab-10.ipynb`\n",
        "\n",
        "You may write new functions that can help you in the answer. However,\n",
        "\n",
        "**DO NOT CHANGE THE ANSWER FUNCTION NAME!!!**"
      ]
    },
    {
      "cell_type": "markdown",
      "metadata": {
        "id": "uk03TVQzJBqd"
      },
      "source": [
        "# Q1 (5 pts.)"
      ]
    },
    {
      "cell_type": "markdown",
      "metadata": {
        "id": "Xtjt56fnJBqe"
      },
      "source": [
        "Write a program that let a user choose among these 6 functions\n",
        "1. Appending the course ID to the end of the list\n",
        "2. Change course ID in the list\n",
        "3. Insert a new course ID to a specific position in the list\n",
        "4. Delete course ID from the list\n",
        "5. Show course IDs in the list\n",
        "6. Exit from the program\n",
        "\n",
        "Then, repeatedly read the choice and execute the command.\n",
        "\n",
        "Write 5 functions for command 1-5 based on the following detail.\n",
        "\n",
        "1. Appending the course ID to the end of the list\n",
        "> `def add_course(item_list)`\n",
        "- Read the new course ID\n",
        "- Check **if** the input ID is **NOT** in the list, append the new course ID to the list, and print `New course is added`\n",
        "- Otherwise, (the course is already in the list), **do not** append the list but print `Course is already in the list`\n",
        "\n",
        "2. Change course ID in the list\n",
        "> `def change_course(item_list)`\n",
        "- Read the old course ID\n",
        "- Check if the course is in the list, then read the new course ID and print `Course is updated`\n",
        "- Otherwise (course is not in the list), print `Course is not in the list`\n",
        "\n",
        "\n",
        "3. Insert a new course ID to a specific position in the list\n",
        "> `def insert_course(item_list)`\n",
        "- Read the course ID\n",
        "- Read the position (positive integer). The first position in the list is 1. If the positiion is greater than the current size (length) of the list, the inserted position should be the end of the list.\n",
        "- Check **if** the input ID is **NOT** in the list, insert the new course ID to the target position in the list, and print `New course is inserted`\n",
        "- Otherwise, (the course is already in the list), **do not** insert the item but print `Course is already in the list`\n",
        "\n",
        "4. Delete course ID from the list\n",
        "> `def delete_course(item_list)`\n",
        "- Read the course ID\n",
        "- Check if the course is in the list, remove the course and print `Course is deleted`\n",
        "- Otherwise (course is not in the list), print `Course is not in the list`\n",
        "\n",
        "5. Show course IDs in the list\n",
        "> `def show_courses(item_list)`\n",
        "- Print the course IDs in the list\n",
        "- If there is no course in the list, print `The list is currently empty`"
      ]
    },
    {
      "cell_type": "markdown",
      "metadata": {
        "id": "MliQQTGLJBqk"
      },
      "source": [
        "## Example run #1\n",
        "\n",
        "    Choose command\n",
        "    1. Appending the course ID\n",
        "    2. Change course ID\n",
        "    3. Insert a new course ID\n",
        "    4. Delete course ID\n",
        "    5. Show course IDs\n",
        "    6. Exit from the program\n",
        "    Enter command : 1⏎\n",
        "    Enter the course ID : 2301172⏎\n",
        "    New course is added\n",
        "    Enter command : 5⏎\n",
        "    2301172\n",
        "    Enter command : 6⏎"
      ]
    },
    {
      "cell_type": "markdown",
      "metadata": {
        "id": "zgiqg1JFJBqm"
      },
      "source": [
        "## Example run #2\n",
        "\n",
        "    Choose command\n",
        "    1. Appending the course ID\n",
        "    2. Change course ID\n",
        "    3. Insert a new course ID\n",
        "    4. Delete course ID\n",
        "    5. Show course IDs\n",
        "    6. Exit from the program\n",
        "    Enter command : 1⏎\n",
        "    Enter the course ID : 2301172⏎\n",
        "    New course is added\n",
        "    Enter command : 1⏎\n",
        "    Enter the course ID : 2301170⏎\n",
        "    New course is added\n",
        "    Enter command : 5⏎\n",
        "    2301172\n",
        "    2301170\n",
        "    Enter command : 6⏎"
      ]
    },
    {
      "cell_type": "markdown",
      "metadata": {
        "id": "sc7SEBhNJBqo"
      },
      "source": [
        "## Example run #3\n",
        "\n",
        "    Choose command\n",
        "    1. Appending the course ID\n",
        "    2. Change course ID\n",
        "    3. Insert a new course ID\n",
        "    4. Delete course ID\n",
        "    5. Show course IDs\n",
        "    6. Exit from the program\n",
        "    Enter command : 1⏎\n",
        "    Enter the course ID : 2301172⏎\n",
        "    New course is added\n",
        "    Enter command : 1⏎\n",
        "    Enter the course ID : 2301170⏎\n",
        "    New course is added\n",
        "    Enter command : 3⏎\n",
        "    Enter the course ID : 2301117⏎\n",
        "    Enter position : 2⏎\n",
        "    New course is inserted\n",
        "    Enter command : 5⏎\n",
        "    2301172\n",
        "    2301117\n",
        "    2301170\n",
        "    Enter command : 6⏎"
      ]
    },
    {
      "cell_type": "markdown",
      "metadata": {
        "id": "oIIhXDZZJBqo"
      },
      "source": [
        "## Example run #4\n",
        "\n",
        "    Choose command\n",
        "    1. Appending the course ID\n",
        "    2. Change course ID\n",
        "    3. Insert a new course ID\n",
        "    4. Delete course ID\n",
        "    5. Show course IDs\n",
        "    6. Exit from the program\n",
        "    Enter command : 1⏎\n",
        "    Enter the course ID : 2301172⏎\n",
        "    New course is added\n",
        "    Enter command : 1⏎\n",
        "    Enter the course ID : 2301170⏎\n",
        "    New course is added\n",
        "    Enter command : 3⏎\n",
        "    Enter the course ID : 2301117⏎\n",
        "    Enter position : 2⏎\n",
        "    New course is inserted\n",
        "    Enter command : 4⏎\n",
        "    Enter the course ID : 2301118⏎\n",
        "    Course is not in the list\n",
        "    Enter command : 5⏎\n",
        "    2301172\n",
        "    2301117\n",
        "    2301170\n",
        "    Enter command : 6⏎"
      ]
    },
    {
      "cell_type": "markdown",
      "metadata": {
        "id": "-1Na5B2vJBqp"
      },
      "source": [
        "## Example run #5\n",
        "\n",
        "    Choose command\n",
        "    1. Appending the course ID\n",
        "    2. Change course ID\n",
        "    3. Insert a new course ID\n",
        "    4. Delete course ID\n",
        "    5. Show course IDs\n",
        "    6. Exit from the program\n",
        "    Enter command : 1⏎\n",
        "    Enter the course ID : 2301172⏎\n",
        "    New course is added\n",
        "    Enter command : 1⏎\n",
        "    Enter the course ID : 2301172⏎\n",
        "    Course is already in the list\n",
        "    Enter command : 1⏎\n",
        "    Enter the course ID : 2301170⏎\n",
        "    New course is added\n",
        "    Enter command : 2⏎\n",
        "    Enter the current course ID : 2301172⏎\n",
        "    Enter new course ID: 2301286\n",
        "    Course is updated\n",
        "    Enter command : 2⏎\n",
        "    Enter the current course ID : 2301172⏎\n",
        "    Course is not in the list\n",
        "    Enter command : 3⏎\n",
        "    Enter the course ID : 2301117⏎\n",
        "    Enter position : 2⏎\n",
        "    New course is inserted\n",
        "    Enter command : 4⏎\n",
        "    Enter the course ID : 2301118⏎\n",
        "    Course is not in the list\n",
        "    Enter command : 4⏎\n",
        "    Enter the course ID : 2301286⏎\n",
        "    Course is deleted\n",
        "    Enter command : 5⏎\n",
        "    2301170\n",
        "    Enter command : 4⏎\n",
        "    Enter the course ID : 2301170⏎\n",
        "    Course is deleted\n",
        "    Enter command : 5⏎\n",
        "    The list is currently empty\n",
        "    Enter command : 6⏎"
      ]
    },
    {
      "cell_type": "code",
      "execution_count": 49,
      "metadata": {
        "id": "WqtXozqoJBqr"
      },
      "outputs": [],
      "source": [
        "def add_course(item_list):\n",
        "    # YOUR CODE HERE\n",
        "    newID = input(\"Enter the course ID : \")\n",
        "    if newID in item_list:\n",
        "        print(\"Course is already in the list\")\n",
        "    else:\n",
        "        print(\"New course is added\")\n",
        "        return item_list.append(newID)\n",
        "\n",
        "def change_course(item_list):\n",
        "    # YOUR CODE HERE\n",
        "    oldID = input(\"Enter the current course ID : \")\n",
        "    if oldID in item_list:\n",
        "        newID = input(\"Enter the new course ID : \")\n",
        "        print(\"Course is updated\")\n",
        "        item_list[item_list.index(oldID)] = newID\n",
        "        return item_list\n",
        "    else:\n",
        "        print(\"Course is not in the list\")\n",
        "\n",
        "def insert_course(item_list):\n",
        "    # YOUR CODE HERE\n",
        "    newID = input(\"Enter the new course ID : \")\n",
        "    if newID in item_list:\n",
        "        print(\"Course is already in the list\")\n",
        "    else:\n",
        "        pos = int(input(\"Enter position : \"))\n",
        "        if pos > len(item_list):\n",
        "            print(\"New course is inserted\")\n",
        "            return item_list.append(newID)\n",
        "        else:\n",
        "            print(\"New course is inserted\")\n",
        "            return item_list.insert(pos-1, newID)\n",
        "\n",
        "def delete_course(item_list):\n",
        "    # YOUR CODE HERE\n",
        "    delID = input(\"Enter the ID : \")\n",
        "    if delID not in item_list:\n",
        "        print(\"Course is not in the list\")\n",
        "    else:\n",
        "        print(\"Course is deleted\")\n",
        "        return item_list.remove(delID)\n",
        "\n",
        "def show_course(item_list):\n",
        "    # YOUR CODE HERE\n",
        "    if len(item_list) == 0:\n",
        "        print(\"The list is currently empty\")\n",
        "    else:\n",
        "        for i in item_list:\n",
        "            print(i)\n",
        "\n",
        "def answer_q1():\n",
        "    # YOUR CODE HERE\n",
        "    print(\"Choose command\")\n",
        "    print(\"1. Appending the course ID\")\n",
        "    print(\"2. Change course ID\")\n",
        "    print(\"3. Insert a new course ID\")\n",
        "    print(\"4. Delete course ID\")\n",
        "    print(\"5. Show course IDs\")\n",
        "    print(\"6. Exit from the program\")\n",
        "    IDLIST = []\n",
        "    while True:\n",
        "        cmd = int(input(\"Enter command : \"))\n",
        "        if cmd == 1:\n",
        "            add_course(IDLIST)\n",
        "        elif cmd == 2:\n",
        "            change_course(IDLIST)\n",
        "        elif cmd == 3:\n",
        "            insert_course(IDLIST)\n",
        "        elif cmd == 4:\n",
        "            delete_course(IDLIST)\n",
        "        elif cmd == 5:\n",
        "            show_course(IDLIST)\n",
        "        elif cmd == 6:\n",
        "            break"
      ]
    },
    {
      "cell_type": "code",
      "execution_count": 48,
      "metadata": {
        "id": "xiCCE94SJBqw"
      },
      "outputs": [
        {
          "name": "stdout",
          "output_type": "stream",
          "text": [
            "Choose command\n",
            "1. Appending the course ID\n",
            "2. Change course ID\n",
            "3. Insert a new course ID\n",
            "4. Delete course ID\n",
            "5. Show course IDs\n",
            "6. Exit from the program\n",
            "New course is added\n",
            "Course is already in the list\n",
            "New course is added\n",
            "Course is updated\n",
            "Course is updated\n",
            "Invalid Command\n",
            "Course is not in the list\n",
            "Invalid Command\n",
            "Course is deleted\n",
            "3\n",
            "Course is not in the list\n",
            "3\n"
          ]
        }
      ],
      "source": [
        "answer_q1()"
      ]
    },
    {
      "cell_type": "code",
      "execution_count": 7,
      "metadata": {
        "id": "JWGpNNYHJBqx"
      },
      "outputs": [],
      "source": [
        "from unittest.mock import patch\n",
        "from io import StringIO\n",
        "\n",
        "def test_append(inputs, outputs):\n",
        "    test_list, courses = inputs\n",
        "    with patch('builtins.input', side_effect=courses), patch('sys.stdout', new_callable=StringIO) as mock_stdout:\n",
        "        for i in range(len(courses)):\n",
        "            add_course(test_list)\n",
        "    assert test_list == outputs, 'Your list:{}, Expected list: {}'.format(test_list, outputs)"
      ]
    },
    {
      "cell_type": "code",
      "execution_count": 8,
      "metadata": {
        "id": "8xhbfR5YJBqy"
      },
      "outputs": [
        {
          "name": "stdout",
          "output_type": "stream",
          "text": [
            "Congrats!. You have passed simple test cases.\n"
          ]
        }
      ],
      "source": [
        "test_append([[], ['2301170']], ['2301170'])\n",
        "test_append([[], ['2301170','2301170']], ['2301170'])\n",
        "\n",
        "print('Congrats!. You have passed simple test cases.')"
      ]
    },
    {
      "cell_type": "code",
      "execution_count": 9,
      "metadata": {
        "id": "qRgAyeHNJBqz"
      },
      "outputs": [],
      "source": [
        "from unittest.mock import patch\n",
        "from io import StringIO\n",
        "\n",
        "def test_change(inputs, outputs):\n",
        "    test_list, courses = inputs\n",
        "    with patch('builtins.input', side_effect=courses), patch('sys.stdout', new_callable=StringIO) as mock_stdout:\n",
        "        for i in range(len(courses)//2):\n",
        "            change_course(test_list)\n",
        "    assert test_list == outputs, 'Your list:{}, Expected list: {}'.format(test_list, outputs)"
      ]
    },
    {
      "cell_type": "code",
      "execution_count": 10,
      "metadata": {
        "id": "DARa6yxGJBqz"
      },
      "outputs": [
        {
          "name": "stdout",
          "output_type": "stream",
          "text": [
            "Congrats!. You have passed simple test cases.\n"
          ]
        }
      ],
      "source": [
        "test_change([[], ['2301170']], [])\n",
        "test_change([['2301170', '2301172'], ['2301170','2301286']], ['2301286', '2301172'])\n",
        "\n",
        "print('Congrats!. You have passed simple test cases.')"
      ]
    },
    {
      "cell_type": "code",
      "execution_count": 11,
      "metadata": {
        "id": "7vHXsrxkJBq0"
      },
      "outputs": [],
      "source": [
        "from unittest.mock import patch\n",
        "from io import StringIO\n",
        "\n",
        "def test_insert(inputs, outputs):\n",
        "    test_list, courses = inputs\n",
        "    with patch('builtins.input', side_effect=courses), patch('sys.stdout', new_callable=StringIO) as mock_stdout:\n",
        "        for i in range(len(courses)//2):\n",
        "            insert_course(test_list)\n",
        "    assert test_list == outputs, 'Your list:{}, Expected list: {}'.format(test_list, outputs)"
      ]
    },
    {
      "cell_type": "code",
      "execution_count": 14,
      "metadata": {
        "id": "CXbCspyDJBq0"
      },
      "outputs": [
        {
          "name": "stdout",
          "output_type": "stream",
          "text": [
            "Congrats!. You have passed simple test cases.\n"
          ]
        }
      ],
      "source": [
        "test_insert([['2301170','2301172'], ['2301286','1']], ['2301286','2301170','2301172'])\n",
        "test_insert([['2301170', '2301172'], ['2301170']], ['2301170', '2301172'])\n",
        "\n",
        "print('Congrats!. You have passed simple test cases.')"
      ]
    },
    {
      "cell_type": "code",
      "execution_count": 15,
      "metadata": {
        "id": "sAjPavqfJBq1"
      },
      "outputs": [],
      "source": [
        "from unittest.mock import patch\n",
        "from io import StringIO\n",
        "\n",
        "def test_delete(inputs, outputs):\n",
        "    test_list, courses = inputs\n",
        "    with patch('builtins.input', side_effect=courses), patch('sys.stdout', new_callable=StringIO) as mock_stdout:\n",
        "        for i in range(len(courses)):\n",
        "            delete_course(test_list)\n",
        "    assert test_list == outputs, 'Your list:{}, Expected list: {}'.format(test_list, outputs)"
      ]
    },
    {
      "cell_type": "code",
      "execution_count": 16,
      "metadata": {
        "id": "QH4fZ-9xJBq2"
      },
      "outputs": [
        {
          "name": "stdout",
          "output_type": "stream",
          "text": [
            "Congrats!. You have passed simple test cases.\n"
          ]
        }
      ],
      "source": [
        "test_delete([['2301170','2301172'], ['2301286']], ['2301170','2301172'])\n",
        "test_delete([['2301170', '2301172'], ['2301170']], ['2301172'])\n",
        "\n",
        "print('Congrats!. You have passed simple test cases.')"
      ]
    },
    {
      "cell_type": "code",
      "execution_count": 17,
      "metadata": {
        "id": "by9zzqoSJBq3"
      },
      "outputs": [],
      "source": [
        "from unittest.mock import patch\n",
        "from io import StringIO\n",
        "\n",
        "def test_show(inputs, outputs):\n",
        "    test_list = inputs\n",
        "    with patch('sys.stdout', new_callable=StringIO) as mock_stdout:\n",
        "        show_course(test_list)\n",
        "    assert mock_stdout.getvalue() == outputs, 'Your printed list: {}'.format(test_list)"
      ]
    },
    {
      "cell_type": "code",
      "execution_count": 18,
      "metadata": {
        "id": "mT_JKMuxJBq3"
      },
      "outputs": [
        {
          "name": "stdout",
          "output_type": "stream",
          "text": [
            "Congrats!. You have passed simple test cases.\n"
          ]
        }
      ],
      "source": [
        "test_show(['2301170','2301172'], '2301170\\n2301172\\n')\n",
        "test_show([], 'The list is currently empty\\n')\n",
        "\n",
        "print('Congrats!. You have passed simple test cases.')"
      ]
    },
    {
      "cell_type": "code",
      "execution_count": 41,
      "metadata": {
        "id": "sbEsV350JBq4"
      },
      "outputs": [],
      "source": [
        "from unittest.mock import patch\n",
        "from io import StringIO\n",
        "\n",
        "def test_q1(inputs, outputs):\n",
        "    test_list = []\n",
        "    with patch('builtins.input', side_effect=inputs), patch('sys.stdout', new_callable=StringIO) as mock_stdout:\n",
        "        answer_q1()\n",
        "    printed_output = mock_stdout.getvalue()\n",
        "    assert printed_output == outputs, 'Your printed output: {}'.format(printed_output)"
      ]
    },
    {
      "cell_type": "code",
      "execution_count": 50,
      "metadata": {
        "id": "DNJ5QmsJJBq4"
      },
      "outputs": [
        {
          "name": "stdout",
          "output_type": "stream",
          "text": [
            "Congrats!. You have passed simple test cases.\n"
          ]
        }
      ],
      "source": [
        "test_q1(['1','2301172','5','6'], 'Choose command\\n1. Appending the course ID\\n2. Change course ID\\n3. Insert a new course ID\\n4. Delete course ID\\n5. Show course IDs\\n6. Exit from the program\\nNew course is added\\n2301172\\n')\n",
        "test_q1(['1','2301172','1','2301170','5','6'], 'Choose command\\n1. Appending the course ID\\n2. Change course ID\\n3. Insert a new course ID\\n4. Delete course ID\\n5. Show course IDs\\n6. Exit from the program\\nNew course is added\\nNew course is added\\n2301172\\n2301170\\n')\n",
        "test_q1(['1','2301172','1','2301170','3','2301117','2','5','6'], 'Choose command\\n1. Appending the course ID\\n2. Change course ID\\n3. Insert a new course ID\\n4. Delete course ID\\n5. Show course IDs\\n6. Exit from the program\\nNew course is added\\nNew course is added\\nNew course is inserted\\n2301172\\n2301117\\n2301170\\n')\n",
        "test_q1(['1','2301172','1','2301170','3','2301117','2','4','2301118','5','6'], 'Choose command\\n1. Appending the course ID\\n2. Change course ID\\n3. Insert a new course ID\\n4. Delete course ID\\n5. Show course IDs\\n6. Exit from the program\\nNew course is added\\nNew course is added\\nNew course is inserted\\nCourse is not in the list\\n2301172\\n2301117\\n2301170\\n')\n",
        "test_q1(['1','2301172','1','2301172','1','2301170','2','2301170','2301286','2','2301172','3','2301117','2','4','2301118','4','2301286','5','4','2301170','5','6'],'Choose command\\n1. Appending the course ID\\n2. Change course ID\\n3. Insert a new course ID\\n4. Delete course ID\\n5. Show course IDs\\n6. Exit from the program\\nNew course is added\\nCourse is already in the list\\nNew course is added\\nCourse is updated\\nCourse is updated\\nCourse is not in the list\\nCourse is deleted\\n3\\nCourse is not in the list\\n3\\n')\n",
        "\n",
        "print('Congrats!. You have passed simple test cases.')"
      ]
    },
    {
      "cell_type": "markdown",
      "metadata": {
        "id": "Qy2tmo2ZJBq5"
      },
      "source": [
        "# Q2 (2 pts.)"
      ]
    },
    {
      "cell_type": "markdown",
      "metadata": {
        "id": "f0IXFg03JBq7"
      },
      "source": [
        "Write a function and reads an input string and **return** the sum all digits in the string."
      ]
    },
    {
      "cell_type": "markdown",
      "metadata": {
        "id": "FUkmEjY3vobk"
      },
      "source": []
    },
    {
      "cell_type": "markdown",
      "metadata": {
        "id": "1SQT36WGJBq7"
      },
      "source": [
        "## Example run #1\n",
        "\n",
        "    Enter your string : 5432d⏎\n",
        "    14"
      ]
    },
    {
      "cell_type": "markdown",
      "metadata": {
        "id": "MoobMfOxJBq8"
      },
      "source": [
        "## Example run #2\n",
        "\n",
        "    Enter your string : Hello⏎\n",
        "    0"
      ]
    },
    {
      "cell_type": "code",
      "execution_count": 27,
      "metadata": {
        "id": "s73eTZ-SJBq8"
      },
      "outputs": [],
      "source": [
        "from re import A\n",
        "def sum_digit(text):\n",
        "    # YOUR CODE HERE\n",
        "    start = 0 \n",
        "    for i in text:\n",
        "      if i.isnumeric():\n",
        "        start += int(i)\n",
        "    return start\n",
        "def answer_q2():\n",
        "    # YOUR CODE HERE\n",
        "    a = input(\"Enter your string : \")\n",
        "    print(sum_digit(a))\n"
      ]
    },
    {
      "cell_type": "code",
      "execution_count": 33,
      "metadata": {
        "colab": {
          "base_uri": "https://localhost:8080/"
        },
        "id": "xEDXCIWQJBq-",
        "outputId": "f8259a19-8344-4cb8-db96-39dd81339209"
      },
      "outputs": [
        {
          "name": "stdout",
          "output_type": "stream",
          "text": [
            "Enter your string : Hello\n",
            "0\n"
          ]
        }
      ],
      "source": [
        "answer_q2()"
      ]
    },
    {
      "cell_type": "code",
      "execution_count": 29,
      "metadata": {
        "id": "pW_mm3FiJBrI"
      },
      "outputs": [],
      "source": [
        "from unittest.mock import patch\n",
        "from io import StringIO\n",
        "\n",
        "def test_sum(inputs, outputs):\n",
        "    ans = sum_digit(inputs)\n",
        "    assert ans == outputs, 'Your sum: {}, Expected sum: {}'.format(ans, outputs)"
      ]
    },
    {
      "cell_type": "code",
      "execution_count": 30,
      "metadata": {
        "colab": {
          "base_uri": "https://localhost:8080/"
        },
        "id": "gnkKIjahJBrM",
        "outputId": "fe9bbad8-0562-4ae8-b2b6-fe36dd571a5e"
      },
      "outputs": [
        {
          "name": "stdout",
          "output_type": "stream",
          "text": [
            "Congrats!. You have passed simple test cases.\n"
          ]
        }
      ],
      "source": [
        "test_sum('5432d', 14)\n",
        "test_sum('Hello',0)\n",
        "\n",
        "print('Congrats!. You have passed simple test cases.')"
      ]
    },
    {
      "cell_type": "code",
      "execution_count": 31,
      "metadata": {
        "id": "APbZGqiIJBrM"
      },
      "outputs": [],
      "source": [
        "from unittest.mock import patch\n",
        "from io import StringIO\n",
        "\n",
        "def test_q2(inputs, outputs):\n",
        "    with patch('builtins.input', side_effect=inputs), patch('sys.stdout', new_callable=StringIO) as mock_stdout:\n",
        "        answer_q2()\n",
        "    printed_output = mock_stdout.getvalue()\n",
        "    assert printed_output == outputs, 'Your printed output: {}'.format(printed_output)"
      ]
    },
    {
      "cell_type": "code",
      "execution_count": 32,
      "metadata": {
        "colab": {
          "base_uri": "https://localhost:8080/"
        },
        "id": "gWNmjnEtJBrN",
        "outputId": "3ef77a09-d2b5-4a40-8529-a5dcfaeb2553"
      },
      "outputs": [
        {
          "name": "stdout",
          "output_type": "stream",
          "text": [
            "Congrats!. You have passed simple test cases.\n"
          ]
        }
      ],
      "source": [
        "test_q2(['5432d'], '14\\n')\n",
        "test_q2(['Hello'],'0\\n')\n",
        "\n",
        "print('Congrats!. You have passed simple test cases.')"
      ]
    },
    {
      "cell_type": "markdown",
      "metadata": {
        "id": "cQQn4rwdJBrO"
      },
      "source": [
        "# Q3 (3 pts.)"
      ]
    },
    {
      "cell_type": "markdown",
      "metadata": {
        "id": "iGeHFZp6JBrP"
      },
      "source": [
        "Reads the digit between 0-9 (inclusive). Then, write a list comprehension to show all numbers between 1-100 (inclusive) that contains the input digit."
      ]
    },
    {
      "cell_type": "markdown",
      "metadata": {
        "id": "360vVDvKJBrQ"
      },
      "source": [
        "## Example run #1\n",
        "\n",
        "    Enter digit between 1-9 : 0⏎\n",
        "    [10, 20, 30, 40, 50, 60, 70, 80, 90, 100]"
      ]
    },
    {
      "cell_type": "markdown",
      "metadata": {
        "id": "4Q5VDEzjJBrV"
      },
      "source": [
        "## Example run #2\n",
        "\n",
        "    Enter digit between 1-9 : 3⏎\n",
        "    [3, 13, 23, 30, 31, 32, 33, 34, 35, 36, 37, 38, 39, 43, 53, 63, 73, 83, 93]"
      ]
    },
    {
      "cell_type": "markdown",
      "metadata": {
        "id": "vI3hwvpPJBrX"
      },
      "source": [
        "## Example run #3\n",
        "\n",
        "    Enter digit between 1-9 : 4⏎\n",
        "    [4, 14, 24, 34, 40, 41, 42, 43, 44, 45, 46, 47, 48, 49, 54, 64, 74, 84, 94]"
      ]
    },
    {
      "cell_type": "code",
      "execution_count": 19,
      "metadata": {
        "id": "GwJfQW8bJBrY"
      },
      "outputs": [],
      "source": [
        "def answer_q3():\n",
        "    # YOUR CODE HERE\n",
        "    digit = input(\"Enter digit between1-9 : \")\n",
        "    print([i for i in range(1,101) if digit in str(i)])"
      ]
    },
    {
      "cell_type": "code",
      "execution_count": 21,
      "metadata": {
        "colab": {
          "base_uri": "https://localhost:8080/"
        },
        "id": "CPm9tUkkJBrZ",
        "outputId": "dcd5a435-d901-4e44-b102-c78a80c4811d"
      },
      "outputs": [
        {
          "name": "stdout",
          "output_type": "stream",
          "text": [
            "Enter digit between1-9 : 0\n",
            "[10, 20, 30, 40, 50, 60, 70, 80, 90, 100]\n"
          ]
        }
      ],
      "source": [
        "answer_q3()"
      ]
    },
    {
      "cell_type": "code",
      "execution_count": 22,
      "metadata": {
        "id": "Ys2brDA6JBrZ"
      },
      "outputs": [],
      "source": [
        "from unittest.mock import patch\n",
        "from io import StringIO\n",
        "\n",
        "def test_q3(inputs, outputs):\n",
        "    with patch('builtins.input', side_effect=inputs), patch('sys.stdout', new_callable=StringIO) as mock_stdout:\n",
        "        answer_q3()\n",
        "    printed_output = mock_stdout.getvalue()\n",
        "    assert printed_output == outputs, 'Your printed output: {}'.format(printed_output)"
      ]
    },
    {
      "cell_type": "code",
      "execution_count": 20,
      "metadata": {
        "colab": {
          "base_uri": "https://localhost:8080/"
        },
        "id": "SbmfrqEXJBra",
        "outputId": "c4b092ad-1199-4f4b-bca1-0139896c05ed"
      },
      "outputs": [
        {
          "name": "stdout",
          "output_type": "stream",
          "text": [
            "Congrats!. You have passed simple test cases.\n"
          ]
        }
      ],
      "source": [
        "test_q3(['0'], '[10, 20, 30, 40, 50, 60, 70, 80, 90, 100]\\n')\n",
        "test_q3(['3'],'[3, 13, 23, 30, 31, 32, 33, 34, 35, 36, 37, 38, 39, 43, 53, 63, 73, 83, 93]\\n')\n",
        "test_q3(['4'],'[4, 14, 24, 34, 40, 41, 42, 43, 44, 45, 46, 47, 48, 49, 54, 64, 74, 84, 94]\\n')\n",
        "\n",
        "print('Congrats!. You have passed simple test cases.')"
      ]
    },
    {
      "cell_type": "code",
      "execution_count": null,
      "metadata": {
        "id": "zaK-3tyvJBra"
      },
      "outputs": [],
      "source": []
    }
  ],
  "metadata": {
    "colab": {
      "provenance": []
    },
    "kernelspec": {
      "display_name": "Python 3.9.12 64-bit",
      "language": "python",
      "name": "python3"
    },
    "language_info": {
      "codemirror_mode": {
        "name": "ipython",
        "version": 3
      },
      "file_extension": ".py",
      "mimetype": "text/x-python",
      "name": "python",
      "nbconvert_exporter": "python",
      "pygments_lexer": "ipython3",
      "version": "3.9.12"
    },
    "orig_nbformat": 4,
    "vscode": {
      "interpreter": {
        "hash": "b0fa6594d8f4cbf19f97940f81e996739fb7646882a419484c72d19e05852a7e"
      }
    }
  },
  "nbformat": 4,
  "nbformat_minor": 0
}
