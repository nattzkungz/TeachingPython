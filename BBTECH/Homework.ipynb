{
 "cells": [
  {
   "cell_type": "code",
   "execution_count": 2,
   "metadata": {},
   "outputs": [
    {
     "name": "stdout",
     "output_type": "stream",
     "text": [
      "3\n"
     ]
    }
   ],
   "source": [
    "# 04_Loop_03\n",
    "answer = input(\"Answer:\")\n",
    "stdAns = input(\"Student Answer:\")\n",
    "\n",
    "if len(answer) != len(stdAns):\n",
    "    print(\"Incomplete answer\")\n",
    "else:\n",
    "    score = 0\n",
    "    for position in range(len(answer)):\n",
    "        if answer[position] == stdAns[position]:\n",
    "            score += 1\n",
    "\n",
    "print(score)"
   ]
  },
  {
   "cell_type": "code",
   "execution_count": 9,
   "metadata": {},
   "outputs": [
    {
     "name": "stdout",
     "output_type": "stream",
     "text": [
      "[]()hello world\n"
     ]
    }
   ],
   "source": [
    "# 04_Loop_04\n",
    "\n",
    "stringInput = \"()[]hello world\"\n",
    "output = \"\"\n",
    "\n",
    "for char in stringInput:\n",
    "    if char == \"(\":\n",
    "        output += \"[\"\n",
    "    elif char == \"[\":\n",
    "        output += \"(\"\n",
    "    elif char == \")\":\n",
    "        output += \"]\"\n",
    "    elif char == \"]\":\n",
    "        output += \")\"\n",
    "    else:\n",
    "        output += char\n",
    "\n",
    "print(output)"
   ]
  },
  {
   "cell_type": "code",
   "execution_count": null,
   "metadata": {},
   "outputs": [],
   "source": [
    "# From lab 4 Q2\n",
    "identificationNumber = input(\"Enter ID: \")\n",
    "idLength = len(identificationNumber)\n",
    "enrollYear = identificationNumber[:2]\n",
    "status_Level = identificationNumber[2]\n",
    "checkSum = identificationNumber[7]\n",
    "\n",
    "possibleEnrollYear = [62,63,64,65]\n",
    "statusAndLevel = [0,1,3,4,7,8]\n",
    "## Check Invalid Student ID\n",
    "if idLength !=10 or int(enrollYear) not in possibleEnrollYear or int(status_Level) not in statusAndLevel:\n",
    "    print(\"Invalid ID\")\n",
    "else:\n",
    "    multiply = [3,1,7,2,1,3,7,0,7,3]\n",
    "    sumValue = 0\n",
    "    for pos in range(idLength):\n",
    "        value = int(identificationNumber[pos])*multiply[pos]\n",
    "        sumValue += value\n",
    "    reminder = str(sumValue % 11)\n",
    "\n",
    "    if reminder[-1] != identificationNumber[7]:\n",
    "        print(\"Invalid ID\")\n",
    "    else:\n",
    "        facultyCode = identificationNumber[-2:]\n",
    "        group_1 = [21,23,25,28,30,31,32,33,35,36,37,38,39]\n",
    "        group_2 = [22,24,26,27,29,34,40]\n",
    "        if int(facultyCode) in group_1:\n",
    "            group = True\n",
    "        elif int(facultyCode) in group_2:\n",
    "            group = False\n",
    "\n",
    "        possibleSemester = [\"1\",\"2\",\"summer\"]\n",
    "        semester = input(\"Semester: \")\n",
    "        if semester not in possibleSemester:\n",
    "            print(\"Invalid semester\")\n",
    "        else:\n",
    "\n",
    "            if status_Level == \"0\":\n",
    "                if group == True:\n",
    "                    if semester == \"summer\":\n",
    "                        print(\"2675\")\n",
    "                    else:\n",
    "                        print(\"10500\")\n",
    "                elif group == False:\n",
    "                    if semester == \"summer\":\n",
    "                        print(\"2625\")\n",
    "                    else:\n",
    "                        print(\"8500\")\n",
    "            elif status_Level == \"1\":\n",
    "                if group == True:\n",
    "                    if semester == \"summer\":\n",
    "                        print(\"3875\")\n",
    "                    else:\n",
    "                        print(\"15500\")\n",
    "                elif group == False:\n",
    "                    if semester == \"summer\":\n",
    "                        print(\"3875\")\n",
    "                    else:\n",
    "                        print(\"11500\")\n",
    "            elif status_Level == \"3\" or status_Level == \"4\":\n",
    "                if group == True:\n",
    "                    if semester == \"summer\":\n",
    "                        print(\"5250\")\n",
    "                    else:\n",
    "                        print(\"21000\")\n",
    "                elif group == False:\n",
    "                    if semester == \"summer\":\n",
    "                        print(\"5250\")\n",
    "                    else:\n",
    "                        print(\"17000\")\n",
    "            elif status_Level == \"7\" or status_Level == \"8\":\n",
    "                if group == True:\n",
    "                    if semester == \"summer\":\n",
    "                        print(\"7750\")\n",
    "                    else:\n",
    "                        print(\"31000\")\n",
    "                elif group == False:\n",
    "                    if semester == \"summer\":\n",
    "                        print(\"7750\")\n",
    "                    else:\n",
    "                        print(\"23000\")\n",
    "                    \n"
   ]
  },
  {
   "cell_type": "code",
   "execution_count": 10,
   "metadata": {},
   "outputs": [
    {
     "data": {
      "text/plain": [
       "'ab'"
      ]
     },
     "execution_count": 10,
     "metadata": {},
     "output_type": "execute_result"
    }
   ],
   "source": [
    "a = \"abc\"\n",
    "a[:2]"
   ]
  }
 ],
 "metadata": {
  "kernelspec": {
   "display_name": "Python 3.9.12 64-bit",
   "language": "python",
   "name": "python3"
  },
  "language_info": {
   "codemirror_mode": {
    "name": "ipython",
    "version": 3
   },
   "file_extension": ".py",
   "mimetype": "text/x-python",
   "name": "python",
   "nbconvert_exporter": "python",
   "pygments_lexer": "ipython3",
   "version": "3.9.12"
  },
  "orig_nbformat": 4,
  "vscode": {
   "interpreter": {
    "hash": "b0fa6594d8f4cbf19f97940f81e996739fb7646882a419484c72d19e05852a7e"
   }
  }
 },
 "nbformat": 4,
 "nbformat_minor": 2
}
