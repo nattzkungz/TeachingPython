{
  "cells": [
    {
      "cell_type": "markdown",
      "id": "ddf7cc83",
      "metadata": {
        "id": "ddf7cc83"
      },
      "source": [
        "Write your codes after `# Your code here` line inside each answer function.\\\n",
        "Delete the `raise NotImplementedError` line in each answer function. \\\n",
        "Name your file with your student ID and lab number, e.g. `6431234523-lab-05.ipynb`\n",
        "\n",
        "**DO NOT CHANGE THE FUNCTION NAME!!!**"
      ]
    },
    {
      "cell_type": "markdown",
      "id": "3a9d1d6c",
      "metadata": {
        "id": "3a9d1d6c"
      },
      "source": [
        "## Q1 (2 points)"
      ]
    },
    {
      "cell_type": "markdown",
      "id": "7bfe48ab",
      "metadata": {
        "id": "7bfe48ab"
      },
      "source": [
        "Write a program that **reads** a number of student. Then, continuously reads scores of students and find the average score of all students.\n",
        "\n",
        "**Print** the average score.\n",
        "\n",
        "Assume that the number of student is *always* positive."
      ]
    },
    {
      "cell_type": "markdown",
      "id": "8c45e687",
      "metadata": {
        "id": "8c45e687"
      },
      "source": [
        "### Example run #1\n",
        "\n",
        "- texts in **bold** are input from the keyboard\n",
        "- **⏎** indicates the cariage return symbol\n",
        "\n",
        "Number of students : **3**\\\n",
        "Student 1 : **10** \\\n",
        "Student 2 : **6.5** \\\n",
        "Student 3 : **0** \\\n",
        "5.5"
      ]
    },
    {
      "cell_type": "markdown",
      "id": "c70e62d1",
      "metadata": {
        "id": "c70e62d1"
      },
      "source": [
        "### Example run #2\n",
        "\n",
        "Number of students : **5** \\\n",
        "Student 1 : **10** \\\n",
        "Student 2 : **6.5** \\\n",
        "Student 3 : **0** \\\n",
        "Student 4 : **9** \\\n",
        "Student 5 : **8.25** \\\n",
        "6.75"
      ]
    },
    {
      "cell_type": "markdown",
      "id": "72898fb0",
      "metadata": {
        "id": "72898fb0"
      },
      "source": [
        "### Example run #3\n",
        "\n",
        "Number of students : **7** \\\n",
        "Student 1 : **10** \\\n",
        "Student 2 : **6.5** \\\n",
        "Student 3 : **0** \\\n",
        "Student 4 : **9** \\\n",
        "Student 5 : **8.25** \\\n",
        "Student 6 : **9.50** \\\n",
        "Student 7 : **7.25** \\\n",
        "7.214285714285714"
      ]
    },
    {
      "cell_type": "code",
      "execution_count": 42,
      "id": "bc939b14",
      "metadata": {
        "id": "bc939b14"
      },
      "outputs": [],
      "source": [
        "def answer_q1():\n",
        "    # YOUR CODE HERE\n",
        "     total=0 \n",
        "     NumberOfStudents = int(input(\"Number of students:\"))\n",
        "     for i in range (1,NumberOfStudents+1):\n",
        "      score = float(input(\"Student\"+str(i)+\":\"))\n",
        "      total = total+score\n",
        "     avg = (total/NumberOfStudents)\n",
        "     print(avg)\n",
        "     "
      ]
    },
    {
      "cell_type": "code",
      "execution_count": 44,
      "id": "4b19779b",
      "metadata": {
        "id": "4b19779b",
        "colab": {
          "base_uri": "https://localhost:8080/"
        },
        "outputId": "37cb45d1-5378-4e20-be33-b78c3aab38d1"
      },
      "outputs": [
        {
          "output_type": "stream",
          "name": "stdout",
          "text": [
            "Number of students:3\n",
            "Student1:10\n",
            "Student2:6.5\n",
            "Student3:0\n",
            "5.5\n"
          ]
        }
      ],
      "source": [
        "# You may debug your code by running this cell\n",
        "answer_q1()"
      ]
    },
    {
      "cell_type": "code",
      "execution_count": 45,
      "id": "08db9eda",
      "metadata": {
        "id": "08db9eda"
      },
      "outputs": [],
      "source": [
        "from unittest.mock import patch\n",
        "from io import StringIO\n",
        "\n",
        "def test_q1(inputs, outputs): \n",
        "    with patch('builtins.input', side_effect=inputs), patch('sys.stdout', new_callable=StringIO) as mock_stdout:\n",
        "        answer_q1()\n",
        "    \n",
        "    assert mock_stdout.getvalue() == outputs, 'incorrect value: {}'.format(mock_stdout.getvalue())"
      ]
    },
    {
      "cell_type": "code",
      "execution_count": 46,
      "id": "928d8cf5",
      "metadata": {
        "id": "928d8cf5",
        "colab": {
          "base_uri": "https://localhost:8080/"
        },
        "outputId": "1e645373-29c8-4c9b-e3b8-b0086d3a203f"
      },
      "outputs": [
        {
          "output_type": "stream",
          "name": "stdout",
          "text": [
            "Congrats!. You have passed all of the test cases.\n"
          ]
        }
      ],
      "source": [
        "test_q1(['3', '10', '6.5', '0'],'5.5\\n')\n",
        "test_q1(['5', '10', '6.5', '0', '9', '8.25'],'6.75\\n')\n",
        "test_q1(['7', '10', '6.5', '0', '9', '8.25', '9.50', '7.25'],'7.214285714285714\\n')\n",
        "\n",
        "print('Congrats!. You have passed all of the test cases.')"
      ]
    },
    {
      "cell_type": "markdown",
      "id": "fc6b54d2",
      "metadata": {
        "id": "fc6b54d2"
      },
      "source": [
        "# Q2 (2 pts.)"
      ]
    },
    {
      "cell_type": "markdown",
      "id": "bf614512",
      "metadata": {
        "id": "bf614512"
      },
      "source": [
        "Write a program that **reads** a number of student. **Check** that the number is positive. Otherwise, re-read the input **until** it is positive. Then, continuously reads scores of students and find the average score of all students.\n",
        "\n",
        "**Print** the average score."
      ]
    },
    {
      "cell_type": "markdown",
      "metadata": {
        "id": "3J0lUPEVlr6y"
      },
      "source": [
        "### Example run #1\n",
        "\n",
        "Number of students : **3**\\\n",
        "Student 1 : **10** \\\n",
        "Student 2 : **6.5** \\\n",
        "Student 3 : **0** \\\n",
        "5.5"
      ],
      "id": "3J0lUPEVlr6y"
    },
    {
      "cell_type": "markdown",
      "metadata": {
        "id": "IYO0TlW5lr6y"
      },
      "source": [
        "### Example run #2\n",
        "\n",
        "Number of students : **5** \\\n",
        "Student 1 : **10** \\\n",
        "Student 2 : **6.5** \\\n",
        "Student 3 : **0** \\\n",
        "Student 4 : **9** \\\n",
        "Student 5 : **8.25** \\\n",
        "6.75"
      ],
      "id": "IYO0TlW5lr6y"
    },
    {
      "cell_type": "markdown",
      "metadata": {
        "id": "jNZk0mIglr6z"
      },
      "source": [
        "### Example run #3\n",
        "\n",
        "Number of students : **7** \\\n",
        "Student 1 : **10** \\\n",
        "Student 2 : **6.5** \\\n",
        "Student 3 : **0** \\\n",
        "Student 4 : **9** \\\n",
        "Student 5 : **8.25** \\\n",
        "Student 6 : **9.50** \\\n",
        "Student 7 : **7.25** \\\n",
        "7.214285714285714"
      ],
      "id": "jNZk0mIglr6z"
    },
    {
      "cell_type": "markdown",
      "metadata": {
        "id": "YB5LYT5vlr6z"
      },
      "source": [
        "### Example run #4\n",
        "\n",
        "Number of students : **-1** \\\n",
        "Number should be positive \\\n",
        "Number of students : **7** \\\n",
        "Student 1 : **10** \\\n",
        "Student 2 : **6.5** \\\n",
        "Student 3 : **0** \\\n",
        "Student 4 : **9** \\\n",
        "Student 5 : **8.25** \\\n",
        "Student 6 : **9.50** \\\n",
        "Student 7 : **7.25** \\\n",
        "7.214285714285714"
      ],
      "id": "YB5LYT5vlr6z"
    },
    {
      "cell_type": "markdown",
      "metadata": {
        "id": "hZ3FD5Pilr6z"
      },
      "source": [
        "### Example run #5\n",
        "\n",
        "Number of students : **0** \\\n",
        "Number should be positive \\\n",
        "Number of students : **3**\\\n",
        "Student 1 : **10** \\\n",
        "Student 2 : **6.5** \\\n",
        "Student 3 : **0** \\\n",
        "5.5"
      ],
      "id": "hZ3FD5Pilr6z"
    },
    {
      "cell_type": "code",
      "execution_count": 65,
      "id": "93234834",
      "metadata": {
        "id": "93234834"
      },
      "outputs": [],
      "source": [
        "def answer_q2():\n",
        "    # YOUR CODE HERE\n",
        "    total=0 \n",
        "    NumberOfStudents = int(input(\"Number of students:\"))\n",
        "    if NumberOfStudents>0:\n",
        "      for i in range (1,NumberOfStudents+1):\n",
        "          score = float(input(\"Student\"+str(i)+\":\"))\n",
        "          total = total+score\n",
        "      avg = (total/NumberOfStudents)\n",
        "      print(avg)\n",
        "    else:\n",
        "        print(\"Number should be positive\")\n",
        "        NumberOfStudents = int(input(\"Number of students:\"))\n",
        "        for i in range (1,NumberOfStudents+1):\n",
        "          score = float(input(\"Student\"+str(i)+\":\"))\n",
        "          total = total+score\n",
        "        avg = (total/NumberOfStudents)\n",
        "        print(avg)"
      ]
    },
    {
      "cell_type": "code",
      "execution_count": 66,
      "id": "fe53754b",
      "metadata": {
        "id": "fe53754b",
        "colab": {
          "base_uri": "https://localhost:8080/"
        },
        "outputId": "8ce6c58b-3e33-4bd0-cc33-2324b0bf3d79"
      },
      "outputs": [
        {
          "output_type": "stream",
          "name": "stdout",
          "text": [
            "Number of students:0\n",
            "Number should be positive\n",
            "Number of students:3\n",
            "Student1:10\n",
            "Student2:6.5\n",
            "Student3:0\n",
            "5.5\n"
          ]
        }
      ],
      "source": [
        "# You may debug your code by running this cell\n",
        "answer_q2()"
      ]
    },
    {
      "cell_type": "code",
      "execution_count": 67,
      "id": "edee900a",
      "metadata": {
        "id": "edee900a"
      },
      "outputs": [],
      "source": [
        "from unittest.mock import patch\n",
        "from io import StringIO\n",
        "\n",
        "def test_q2(inputs, outputs): \n",
        "    with patch('builtins.input', side_effect=inputs), patch('sys.stdout', new_callable=StringIO) as mock_stdout:\n",
        "        answer_q2()\n",
        "    \n",
        "    assert mock_stdout.getvalue() == outputs, 'incorrect value: {}'.format(mock_stdout.getvalue())"
      ]
    },
    {
      "cell_type": "code",
      "execution_count": 68,
      "metadata": {
        "id": "NrDwotk_lr60",
        "colab": {
          "base_uri": "https://localhost:8080/"
        },
        "outputId": "3ddf06f4-88ab-4446-bc37-a293db205fa5"
      },
      "outputs": [
        {
          "output_type": "stream",
          "name": "stdout",
          "text": [
            "Congrats!. You have passed all of the test cases.\n"
          ]
        }
      ],
      "source": [
        "test_q2(['3', '10', '6.5', '0'],'5.5\\n')\n",
        "test_q2(['5', '10', '6.5', '0', '9', '8.25'],'6.75\\n')\n",
        "test_q2(['7', '10', '6.5', '0', '9', '8.25', '9.50', '7.25'],'7.214285714285714\\n')\n",
        "test_q2(['-1', '7', '10', '6.5', '0', '9', '8.25', '9.50', '7.25'],'Number should be positive\\n7.214285714285714\\n')\n",
        "test_q2(['0', '3', '10', '6.5', '0'],'Number should be positive\\n5.5\\n')\n",
        "\n",
        "print('Congrats!. You have passed all of the test cases.')"
      ],
      "id": "NrDwotk_lr60"
    },
    {
      "cell_type": "markdown",
      "id": "6a6adec3",
      "metadata": {
        "id": "6a6adec3"
      },
      "source": [
        "# Q3 (3 pts.)"
      ]
    },
    {
      "cell_type": "markdown",
      "metadata": {
        "id": "ymWvN4gglr61"
      },
      "source": [
        "Write a program that **reads** a number of student. **Check** that the number is positive. Otherwise, re-read the input **until** it is positive. Then, continuously reads scores of students and\n",
        "- find the average score of all students\n",
        "- find the average of passing students (whose score is at least 5)\n",
        "- find the average of fail students\n",
        "- the highest score\n",
        "\n",
        "Print the average, average passing, average fail, and the highest scores."
      ],
      "id": "ymWvN4gglr61"
    },
    {
      "cell_type": "markdown",
      "metadata": {
        "id": "4UpvjlZXlr61"
      },
      "source": [
        "### Example run #1\n",
        "\n",
        "Number of students : **3**\\\n",
        "Student 1 : **10** \\\n",
        "Student 2 : **6.5** \\\n",
        "Student 3 : **0** \\\n",
        "Average score : 5.5 \\\n",
        "Average passing score : 8.25 \\\n",
        "Average failing score : 0.0 \\\n",
        "Highest score : 10.0"
      ],
      "id": "4UpvjlZXlr61"
    },
    {
      "cell_type": "markdown",
      "metadata": {
        "id": "54PsGsvQlr61"
      },
      "source": [
        "### Example run #2\n",
        "\n",
        "Number of students : **5** \\\n",
        "Student 1 : **10** \\\n",
        "Student 2 : **6.5** \\\n",
        "Student 3 : **0** \\\n",
        "Student 4 : **9** \\\n",
        "Student 5 : **8.25** \\\n",
        "Average score : 6.75 \\\n",
        "Average passing score : 8.4375 \\\n",
        "Average failing score : 0.0 \\\n",
        "Highest score : 10.0"
      ],
      "id": "54PsGsvQlr61"
    },
    {
      "cell_type": "markdown",
      "metadata": {
        "id": "4iqhgDeblr61"
      },
      "source": [
        "### Example run #3\n",
        "\n",
        "Number of students : **7** \\\n",
        "Student 1 : **10** \\\n",
        "Student 2 : **6.5** \\\n",
        "Student 3 : **0** \\\n",
        "Student 4 : **9** \\\n",
        "Student 5 : **8.25** \\\n",
        "Student 6 : **9.50** \\\n",
        "Student 7 : **7.25** \\\n",
        "Average score : 7.214285714285714 \\\n",
        "Average passing score : 8.416666666666666 \\\n",
        "Average failing score : 0.0 \\\n",
        "Highest score : 10.0"
      ],
      "id": "4iqhgDeblr61"
    },
    {
      "cell_type": "markdown",
      "metadata": {
        "id": "lrMZ08WRlr61"
      },
      "source": [
        "### Example run #4\n",
        "\n",
        "Number of students : **-1** \\\n",
        "Number should be positive \\\n",
        "Number of students : **7** \\\n",
        "Student 1 : **10** \\\n",
        "Student 2 : **6.5** \\\n",
        "Student 3 : **0** \\\n",
        "Student 4 : **9** \\\n",
        "Student 5 : **8.25** \\\n",
        "Student 6 : **9.50** \\\n",
        "Student 7 : **7.25** \\\n",
        "Average score : 7.214285714285714 \\\n",
        "Average passing score : 8.416666666666666 \\\n",
        "Average failing score : 0.0 \\\n",
        "Highest score : 10.0"
      ],
      "id": "lrMZ08WRlr61"
    },
    {
      "cell_type": "markdown",
      "metadata": {
        "id": "6DoCGC9_lr62"
      },
      "source": [
        "### Example run #5\n",
        "\n",
        "Number of students : **0** \\\n",
        "Number should be positive \\\n",
        "Number of students : **3**\\\n",
        "Student 1 : **10** \\\n",
        "Student 2 : **6.5** \\\n",
        "Student 3 : **0** \\\n",
        "Average score : 5.5 \\\n",
        "Average passing score : 8.25 \\\n",
        "Average failing score : 0.0 \\\n",
        "Highest score : 10.0"
      ],
      "id": "6DoCGC9_lr62"
    },
    {
      "cell_type": "code",
      "execution_count": 18,
      "metadata": {
        "id": "rbXycqEilr62"
      },
      "outputs": [],
      "source": [
        "def answer_q3():\n",
        "    # YOUR CODE HERE\n",
        "    total=0 \n",
        "    avgPass= 0.0\n",
        "    avgFail= 0.0\n",
        "    countPass = 0\n",
        "    countFail = 0\n",
        "    maxScore= 0\n",
        "    while True:\n",
        "      NumberOfStudents = int(input(\"Number of students:\"))\n",
        "      if NumberOfStudents>0:\n",
        "        for i in range (1,NumberOfStudents+1):\n",
        "          score = float(input(\"Student\"+str(i)+\":\"))\n",
        "          if score < 5:\n",
        "            avgFail = avgFail+score\n",
        "            countFail= countFail+1\n",
        "          if score > 5:\n",
        "            avgPass = avgPass+score\n",
        "            countPass=countPass+1\n",
        "          if score > maxScore:\n",
        "            maxScore = score\n",
        "          total = total+score\n",
        "        average = (total/NumberOfStudents)\n",
        "        avgPass=avgPass/countPass\n",
        "        avgFail=avgFail/countFail\n",
        "        print(\"Average score :\",average)\n",
        "        print(\"Average passing score :\",avgPass)\n",
        "        print(\"Average failing score :\",avgFail)\n",
        "        print(\"Highest score :\",maxScore)\n",
        "        break             \n",
        "      else:\n",
        "          print(\"Number should be positive\")\n",
        "        "
      ],
      "id": "rbXycqEilr62"
    },
    {
      "cell_type": "code",
      "execution_count": 21,
      "metadata": {
        "id": "j7GtTQtLlr62",
        "colab": {
          "base_uri": "https://localhost:8080/"
        },
        "outputId": "3d15bb5e-2fd0-426a-954e-254c3378e7f3"
      },
      "outputs": [
        {
          "output_type": "stream",
          "name": "stdout",
          "text": [
            "Number of students:0\n",
            "Number should be positive\n",
            "Number of students:3\n",
            "Student1:10\n",
            "Student2:6.5\n",
            "Student3:0\n",
            "Average score : 5.5\n",
            "Average passing score : 8.25\n",
            "Average failing score : 0.0\n",
            "Highest score : 10.0\n"
          ]
        }
      ],
      "source": [
        "6# You may debug your code by running this cell\n",
        "answer_q3()"
      ],
      "id": "j7GtTQtLlr62"
    },
    {
      "cell_type": "code",
      "execution_count": 11,
      "metadata": {
        "id": "HeG0-_7blr62"
      },
      "outputs": [],
      "source": [
        "from unittest.mock import patch\n",
        "from io import StringIO\n",
        "\n",
        "def test_q3(inputs, outputs): \n",
        "    with patch('builtins.input', side_effect=inputs), patch('sys.stdout', new_callable=StringIO) as mock_stdout:\n",
        "        answer_q3()\n",
        "    \n",
        "    assert mock_stdout.getvalue() == outputs, 'incorrect value: {}'.format(mock_stdout.getvalue())"
      ],
      "id": "HeG0-_7blr62"
    },
    {
      "cell_type": "code",
      "execution_count": 22,
      "metadata": {
        "id": "h6udxb4Ilr62",
        "colab": {
          "base_uri": "https://localhost:8080/"
        },
        "outputId": "5afcd923-9d7f-47c2-9454-2cfa9a6d2229"
      },
      "outputs": [
        {
          "output_type": "stream",
          "name": "stdout",
          "text": [
            "Congrats!. You have passed all of the test cases.\n"
          ]
        }
      ],
      "source": [
        "test_q3(['3', '10', '6.5', '0'], 'Average score : 5.5\\nAverage passing score : 8.25\\nAverage failing score : 0.0\\nHighest score : 10.0\\n') \n",
        "test_q3(['5', '10', '6.5', '0', '9', '8.25'], 'Average score : 6.75\\nAverage passing score : 8.4375\\nAverage failing score : 0.0\\nHighest score : 10.0\\n')\n",
        "test_q3(['7', '10', '6.5', '0', '9', '8.25', '9.50', '7.25'], 'Average score : 7.214285714285714\\nAverage passing score : 8.416666666666666\\nAverage failing score : 0.0\\nHighest score : 10.0\\n')\n",
        "\n",
        "test_q3(['-1', '7', '10', '6.5', '0', '9', '8.25', '9.50', '7.25'],'Number should be positive\\nAverage score : 7.214285714285714\\nAverage passing score : 8.416666666666666\\nAverage failing score : 0.0\\nHighest score : 10.0\\n')\n",
        "test_q3(['0', '3', '10', '6.5', '0'],'Number should be positive\\nAverage score : 5.5\\nAverage passing score : 8.25\\nAverage failing score : 0.0\\nHighest score : 10.0\\n')\n",
        "\n",
        "print('Congrats!. You have passed all of the test cases.')"
      ],
      "id": "h6udxb4Ilr62"
    },
    {
      "cell_type": "markdown",
      "id": "a07d78f7",
      "metadata": {
        "id": "a07d78f7"
      },
      "source": [
        "# Q4 (3 pts.)"
      ]
    },
    {
      "cell_type": "markdown",
      "metadata": {
        "id": "roNtGDt9lr63"
      },
      "source": [
        "Write a program that **reads** guess numbers between 1-10. Re-read until the guess number mathces the hidden number.\n"
      ],
      "id": "roNtGDt9lr63"
    },
    {
      "cell_type": "markdown",
      "metadata": {
        "id": "9L7e2jXClr63"
      },
      "source": [
        "### Example run #1\n",
        "\n",
        "Guess 1 : **4**\\\n",
        "Correct!"
      ],
      "id": "9L7e2jXClr63"
    },
    {
      "cell_type": "markdown",
      "metadata": {
        "id": "Jw50H3_Alr63"
      },
      "source": [
        "### Example run #2\n",
        "\n",
        "Guess 1 : **10**\\\n",
        "Incorrect! \\\n",
        "Guess 2 : **9**\\\n",
        "Incorrect! \\\n",
        "Guess 3 : **3**\\\n",
        "Incorrect! \\\n",
        "Guess 4 : **4**\\\n",
        "Correct!"
      ],
      "id": "Jw50H3_Alr63"
    },
    {
      "cell_type": "code",
      "execution_count": 23,
      "metadata": {
        "id": "AVwRCOWblr63"
      },
      "outputs": [],
      "source": [
        "import random\n",
        "random.seed(3)\n",
        "hidden = random.randint(1, 10)\n",
        "\n",
        "def answer_q4():\n",
        "    # YOUR CODE HERE\n",
        "    round = 1\n",
        "    while True:\n",
        "      guess = int(input(\"Guess\"+ str(round)+\":\"))\n",
        "      if guess == hidden:\n",
        "        print(\"Correct!\")\n",
        "        break\n",
        "      else:\n",
        "        print(\"Incorrect!\")\n",
        "      round = round+1\n"
      ],
      "id": "AVwRCOWblr63"
    },
    {
      "cell_type": "code",
      "execution_count": 25,
      "metadata": {
        "id": "L-qcQEHJlr63",
        "colab": {
          "base_uri": "https://localhost:8080/"
        },
        "outputId": "434a4876-7167-458c-de66-8802b550a936"
      },
      "outputs": [
        {
          "output_type": "stream",
          "name": "stdout",
          "text": [
            "Guess1:10\n",
            "Incorrect!\n",
            "Guess2:9\n",
            "Incorrect!\n",
            "Guess3:3\n",
            "Incorrect!\n",
            "Guess4:4\n",
            "Correct!\n"
          ]
        }
      ],
      "source": [
        "# You may debug your code by running this cell\n",
        "answer_q4()"
      ],
      "id": "L-qcQEHJlr63"
    },
    {
      "cell_type": "code",
      "execution_count": 26,
      "metadata": {
        "id": "uqv7VsPslr63"
      },
      "outputs": [],
      "source": [
        "from unittest.mock import patch\n",
        "from io import StringIO\n",
        "import random\n",
        "\n",
        "def test_q4(inputs, outputs): \n",
        "    random.seed(3)\n",
        "    hidden = random.randint(1, 10)\n",
        "    with patch('builtins.input', side_effect=inputs), patch('sys.stdout', new_callable=StringIO) as mock_stdout:\n",
        "        answer_q4()\n",
        "    \n",
        "    assert mock_stdout.getvalue() == outputs, 'incorrect value: {}'.format(mock_stdout.getvalue())"
      ],
      "id": "uqv7VsPslr63"
    },
    {
      "cell_type": "code",
      "execution_count": 27,
      "id": "dd9e7827",
      "metadata": {
        "id": "dd9e7827",
        "colab": {
          "base_uri": "https://localhost:8080/"
        },
        "outputId": "e349e203-fc85-4d8d-ecdd-566cf90c53af"
      },
      "outputs": [
        {
          "output_type": "stream",
          "name": "stdout",
          "text": [
            "Congrats!. You have passed all of the test cases.\n"
          ]
        }
      ],
      "source": [
        "test_q4(['4'], 'Correct!\\n')\n",
        "test_q4(['10', '9', '3', '4'], 'Incorrect!\\nIncorrect!\\nIncorrect!\\nCorrect!\\n')\n",
        "\n",
        "print('Congrats!. You have passed all of the test cases.')"
      ]
    }
  ],
  "metadata": {
    "kernelspec": {
      "display_name": "Python 3.8.8 ('base')",
      "language": "python",
      "name": "python3"
    },
    "language_info": {
      "codemirror_mode": {
        "name": "ipython",
        "version": 3
      },
      "file_extension": ".py",
      "mimetype": "text/x-python",
      "name": "python",
      "nbconvert_exporter": "python",
      "pygments_lexer": "ipython3",
      "version": "3.8.8"
    },
    "vscode": {
      "interpreter": {
        "hash": "03adaee776292f2263426464639388749bf78930e8b883d5f988c57ae7094739"
      }
    },
    "colab": {
      "provenance": []
    }
  },
  "nbformat": 4,
  "nbformat_minor": 5
}