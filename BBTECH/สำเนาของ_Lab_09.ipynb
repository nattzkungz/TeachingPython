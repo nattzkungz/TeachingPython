{
  "cells": [
    {
      "cell_type": "markdown",
      "metadata": {
        "id": "hy4M1g7Bx1BZ"
      },
      "source": [
        "Write your codes after `# YOUR CODE HERE` line inside each answer function.\\\n",
        "Delete the `raise NotImplementedError` line in each answer function. \\\n",
        "Name your file with your student ID and lab number, e.g. `6431234523-lab-09.ipynb`\n",
        "\n",
        "You may write new functions that can help you in the answer. However,\n",
        "\n",
        "**DO NOT CHANGE THE ANSWER FUNCTION NAME!!!**"
      ]
    },
    {
      "cell_type": "markdown",
      "metadata": {
        "id": "iCueh1wTx1Bc"
      },
      "source": [
        "# Q1 (3 pts)"
      ]
    },
    {
      "cell_type": "markdown",
      "metadata": {
        "id": "Pch_2tPwx1Bd"
      },
      "source": [
        "Write a program that reads two vectors from a file, then\n",
        "- Print both vectors\n",
        "- Check if both vectors have the same dimension\n",
        "- Find the inner product of two vectors\n",
        "\n",
        "Each line in the vector file contains the values in each dimension, separated by a space."
      ]
    },
    {
      "cell_type": "markdown",
      "metadata": {
        "id": "lX6eHzfqx1Be"
      },
      "source": [
        "## Example run #1\n",
        "Content of vector1.txt \\\n",
        "6 4 9 6 -4 7 \\\n",
        "3 7 -3 9 -5 1\n",
        "\n",
        "Enter your vector files: **vector1.txt⏎** \\\n",
        "v1 = [6.0, 4.0, 9.0, 6.0, -4.0, 7.0] \\\n",
        "v2 = [3.0, 7.0, -3.0, 9.0, -5.0, 1.0] \\\n",
        "v1*v2 = 100.0"
      ]
    },
    {
      "cell_type": "markdown",
      "metadata": {
        "id": "IbJXwz9Fx1Bt"
      },
      "source": [
        "## Example run #2\n",
        "Content of vector2.txt \\\n",
        "6 4 9 -4 9 \\\n",
        "3 7 -3\n",
        "\n",
        "Enter your vector files: **vector2.txt⏎** \\\n",
        "v1 = [6.0, 4.0, 9.0, -4.0, 9.0] \\\n",
        "v2 = [3.0, 7.0, -3.0] \\\n",
        "Incompatible size"
      ]
    },
    {
      "cell_type": "markdown",
      "metadata": {
        "id": "jWeqMw68x1Bt"
      },
      "source": [
        "# Example run #3\n",
        "Content of vector3.txt \\\n",
        "5.5 4.5 9.5 6 -4 7 \\\n",
        "3 7.1 -3.5 5 6 9\n",
        "\n",
        "Enter your vector files: **vector3.txt⏎** \\\n",
        "v1 = [5.5, 4.5, 9.5, 6.0, -4.0, 7.0] \\\n",
        "v2 = [3.0, 7.1, -3.5, 5.0, 6.0, 9.0] \\\n",
        "v1*v2 = 84.2"
      ]
    },
    {
      "cell_type": "markdown",
      "metadata": {
        "id": "mal_DAz-x1Bu"
      },
      "source": [
        "# Example run #4\n",
        "Content of vector4.txt \\\n",
        "5.5 4 -9 6 -4 \\\n",
        "3 -7.1 0\n",
        "\n",
        "Enter your vector files: **vector3.txt⏎** \\\n",
        "v1 = [5.5, 4.0, -9.0, 6.0, -4.0] \\\n",
        "v2 = [3.0, -7.1, 0.0] \\\n",
        "Incompatible size"
      ]
    },
    {
      "cell_type": "code",
      "execution_count": null,
      "metadata": {
        "id": "RqhdqOo2x1Bu"
      },
      "outputs": [],
      "source": [
        "def answer_q1():\n",
        "    # YOUR CODE HERE\n",
        "    frame = \"score1.csv\"\n",
        "lines = f.read(.split(\"\\n\"))\n",
        "for index in range(1,len(lines)):\n",
        "  print(lines[index].split(\",\"))\n",
        "f.close()"
      ]
    },
    {
      "cell_type": "code",
      "execution_count": null,
      "metadata": {
        "id": "P5Kb_QMlx1Bw"
      },
      "outputs": [],
      "source": [
        "from unittest.mock import patch\n",
        "from io import StringIO\n",
        "\n",
        "def test_q1(inputs, outputs): \n",
        "    with patch('builtins.input', side_effect=inputs), patch('sys.stdout', new_callable=StringIO) as mock_stdout:\n",
        "        answer_q1()\n",
        "    \n",
        "    assert mock_stdout.getvalue() == outputs, 'incorrect value: {}'.format(mock_stdout.getvalue())"
      ]
    },
    {
      "cell_type": "code",
      "execution_count": null,
      "metadata": {
        "id": "jlzs9ZKax1Bw"
      },
      "outputs": [],
      "source": [
        "test_q1(['vector1.txt'],'v1 = [6.0, 4.0, 9.0, 6.0, -4.0, 7.0]\\nv2 = [3.0, 7.0, -3.0, 9.0, -5.0, 1.0]\\nv1*v2 = 100.0\\n')\n",
        "test_q1(['vector2.txt'],'v1 = [6.0, 4.0, 9.0, -4.0, 9.0]\\nv2 = [3.0, 7.0, -3.0]\\nIncompatible size\\n')\n",
        "test_q1(['vector3.txt'],'v1 = [5.5, 4.5, 9.5, 6.0, -4.0, 7.0]\\nv2 = [3.0, 7.1, -3.5, 5.0, 6.0, 9.0]\\nv1*v2 = 84.2\\n')\n",
        "test_q1(['vector4.txt'],'v1 = [5.5, 4.0, -9.0, 6.0, -4.0]\\nv2 = [3.0, -7.1, 0.0]\\nIncompatible size\\n')\n",
        "\n",
        "print('Congrats!. You have passed all of the test cases.')"
      ]
    },
    {
      "cell_type": "markdown",
      "metadata": {
        "id": "T8CkBWUsx1Bx"
      },
      "source": [
        "# Q2 (7 pts.)"
      ]
    },
    {
      "cell_type": "markdown",
      "metadata": {
        "id": "yaeaemv9x1Bx"
      },
      "source": [
        "Read a score file and find the average score of each question. Let the first row in the file be the header of the table. Columns in each file are student names and scores for each question.\n",
        "Round the average to two decimal places.\n",
        "\n",
        "A csv file is a comma-separated value text file. Each line represents a row in a spreadsheed, while each column in a row is separated by a **comma**.\n",
        "\n",
        "For example, the following table\n",
        "\n",
        "|Student Name       | Q1  | Q2 |\n",
        "|:------------------|:---:|:--:|\n",
        "|Peter Parker       | 30  | 20 |\n",
        "|Tyrion Lannister   | 20  | 20 |\n",
        "\n",
        "can be represented as the following csv content\n",
        "\n",
        "Student Name,Q1,Q2 \\\n",
        "Peter Parker,30,20 \\\n",
        "Tyrion Lannister,20,20\n",
        "\n"
      ]
    },
    {
      "cell_type": "markdown",
      "metadata": {
        "id": "ZNFJ5aS0x1By"
      },
      "source": [
        "## Example run #1\n",
        "\n",
        "Content of score1.csv\n",
        "\n",
        "Student Name,Q1,Q2 \\\n",
        "Peter Parker,30,20 \\\n",
        "Tyrion Lannister,20,20\n",
        "\n",
        "Enter score file: **score.csv⏎**\\\n",
        "Average Q1 = 25.0 \\\n",
        "Average Q2 = 20.0\n"
      ]
    },
    {
      "cell_type": "markdown",
      "metadata": {
        "id": "-xghCyT3x1By"
      },
      "source": [
        "## Example run #2\n",
        "\n",
        "Content of score2.csv\n",
        "\n",
        "Student Name,Q1,Q2,Q3 \\\n",
        "John Snow,1,1.5,2.5 \\\n",
        "Peppa Pig,3,10,5 \\\n",
        "Thomas,10,10,10 \\\n",
        "Poli,5.5,8,7\n",
        "\n",
        "Enter score file: **score.csv⏎**\\\n",
        "Average Q1 = 4.88 \\\n",
        "Average Q2 = 7.38 \\\n",
        "Average Q3 = 6.12\n"
      ]
    },
    {
      "cell_type": "code",
      "execution_count": null,
      "metadata": {
        "id": "RGYLabFXx1Bz"
      },
      "outputs": [],
      "source": [
        "def answer_q2():\n",
        "    # YOUR CODE HERE\n",
        "    raise NotImplementedError"
      ]
    },
    {
      "cell_type": "code",
      "execution_count": null,
      "metadata": {
        "id": "xyjd5G5Wx1Bz"
      },
      "outputs": [],
      "source": [
        "from unittest.mock import patch\n",
        "from io import StringIO\n",
        "\n",
        "def test_q2(inputs, outputs): \n",
        "    with patch('builtins.input', side_effect=inputs), patch('sys.stdout', new_callable=StringIO) as mock_stdout:\n",
        "        answer_q2()\n",
        "    \n",
        "    assert mock_stdout.getvalue() == outputs, 'incorrect value: {}'.format(mock_stdout.getvalue())"
      ]
    },
    {
      "cell_type": "code",
      "execution_count": null,
      "metadata": {
        "id": "WL_7eUTpx1Bz"
      },
      "outputs": [],
      "source": [
        "test_q2(['score1.csv'],'Average Q1 = 25.0\\nAverage Q2 = 20.0\\n')\n",
        "test_q2(['score2.csv'],'Average Q1 = 4.88\\nAverage Q2 = 7.38\\nAverage Q3 = 6.12\\n')\n",
        "\n",
        "print('Congrats!. You have passed all of the test cases.')"
      ]
    }
  ],
  "metadata": {
    "kernelspec": {
      "display_name": "Python 3.10.4 ('compprog')",
      "language": "python",
      "name": "python3"
    },
    "language_info": {
      "name": "python",
      "version": "3.10.4"
    },
    "orig_nbformat": 4,
    "vscode": {
      "interpreter": {
        "hash": "2237c226f13bb83c7a8e8fb332a785d54cc3cc3adaf4a8b1a6982f28f305e0c8"
      }
    },
    "colab": {
      "provenance": [],
      "collapsed_sections": []
    }
  },
  "nbformat": 4,
  "nbformat_minor": 0
}