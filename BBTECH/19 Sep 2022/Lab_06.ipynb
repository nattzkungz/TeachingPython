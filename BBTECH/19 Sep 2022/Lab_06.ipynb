{
  "cells": [
    {
      "cell_type": "markdown",
      "id": "ddf7cc83",
      "metadata": {
        "id": "ddf7cc83"
      },
      "source": [
        "Write your codes after `# Your code here` line inside each answer function.\\\n",
        "Delete the `raise NotImplementedError` line in each answer function. \\\n",
        "Name your file with your student ID and lab number, e.g. `6431234523-lab-06.ipynb`\n",
        "\n",
        "**DO NOT CHANGE THE FUNCTION NAME!!!**"
      ]
    },
    {
      "cell_type": "markdown",
      "id": "3a9d1d6c",
      "metadata": {
        "id": "3a9d1d6c"
      },
      "source": [
        "## Q1 (2 points)"
      ]
    },
    {
      "cell_type": "markdown",
      "id": "7bfe48ab",
      "metadata": {
        "id": "7bfe48ab"
      },
      "source": [
        "Write a program that **reads** a positive number $n$. Then, find all positive factors of $n$."
      ]
    },
    {
      "cell_type": "markdown",
      "id": "8c45e687",
      "metadata": {
        "id": "8c45e687"
      },
      "source": [
        "### Example run #1\n",
        "\n",
        "- texts in **bold** are input from the keyboard\n",
        "- **⏎** indicates the cariage return symbol\n",
        "\n",
        "Enter n : **10**\\\n",
        "1 \\\n",
        "2 \\\n",
        "5 \\\n",
        "10"
      ]
    },
    {
      "cell_type": "markdown",
      "id": "c70e62d1",
      "metadata": {
        "id": "c70e62d1"
      },
      "source": [
        "### Example run #2\n",
        "\n",
        "Enter n : **5** \\\n",
        "1 \\\n",
        "5"
      ]
    },
    {
      "cell_type": "markdown",
      "metadata": {
        "id": "y2xs26Iw50lb"
      },
      "source": [
        "### Example run #3\n",
        "\n",
        "Enter n : **1** \\\n",
        "1"
      ],
      "id": "y2xs26Iw50lb"
    },
    {
      "cell_type": "code",
      "execution_count": 12,
      "id": "bc939b14",
      "metadata": {
        "id": "bc939b14"
      },
      "outputs": [],
      "source": [
        "def answer_q1():\n",
        "    # YOUR CODE HERE\n",
        "    n = int(input(\"Enter n:\"))\n",
        "    for i in range(1,n+1):\n",
        "      if n%i==0:\n",
        "         print(i)\n"
      ]
    },
    {
      "cell_type": "code",
      "execution_count": 13,
      "id": "4b19779b",
      "metadata": {
        "id": "4b19779b",
        "colab": {
          "base_uri": "https://localhost:8080/"
        },
        "outputId": "d39a18ce-9b18-42a8-a4b4-001cf906c0f0"
      },
      "outputs": [
        {
          "output_type": "stream",
          "name": "stdout",
          "text": [
            "Enter n:10\n",
            "1\n",
            "2\n",
            "5\n",
            "10\n"
          ]
        }
      ],
      "source": [
        "# You may debug your code by running this cell\n",
        "answer_q1()"
      ]
    },
    {
      "cell_type": "code",
      "execution_count": 14,
      "id": "08db9eda",
      "metadata": {
        "id": "08db9eda"
      },
      "outputs": [],
      "source": [
        "from unittest.mock import patch\n",
        "from io import StringIO\n",
        "\n",
        "def test_q1(inputs, outputs): \n",
        "    with patch('builtins.input', side_effect=inputs), patch('sys.stdout', new_callable=StringIO) as mock_stdout:\n",
        "        answer_q1()\n",
        "    \n",
        "    assert mock_stdout.getvalue() == outputs, 'incorrect value: {}'.format(mock_stdout.getvalue())"
      ]
    },
    {
      "cell_type": "code",
      "execution_count": 15,
      "id": "928d8cf5",
      "metadata": {
        "id": "928d8cf5",
        "colab": {
          "base_uri": "https://localhost:8080/"
        },
        "outputId": "14b68e43-f4ec-4431-d922-67e0aaed4be6"
      },
      "outputs": [
        {
          "output_type": "stream",
          "name": "stdout",
          "text": [
            "Congrats!. You have passed all of the test cases.\n"
          ]
        }
      ],
      "source": [
        "test_q1(['10'],'1\\n2\\n5\\n10\\n')\n",
        "test_q1(['5'],'1\\n5\\n')\n",
        "test_q1(['1'],'1\\n')\n",
        "\n",
        "print('Congrats!. You have passed all of the test cases.')"
      ]
    },
    {
      "cell_type": "markdown",
      "id": "fc6b54d2",
      "metadata": {
        "id": "fc6b54d2"
      },
      "source": [
        "# Q2 (2 pts.)"
      ]
    },
    {
      "cell_type": "markdown",
      "id": "bf614512",
      "metadata": {
        "id": "bf614512"
      },
      "source": [
        "Write a program that **reads** a positive number $n$. **Check** if $n$ is a prime number."
      ]
    },
    {
      "cell_type": "markdown",
      "metadata": {
        "id": "ZM24AWIw50lh"
      },
      "source": [
        "### Example run #1\n",
        "\n",
        "Enter n : **3**\\\n",
        "Yes"
      ],
      "id": "ZM24AWIw50lh"
    },
    {
      "cell_type": "markdown",
      "metadata": {
        "id": "iW4GhXTY50lh"
      },
      "source": [
        "### Example run #2\n",
        "\n",
        "Enter n : **1** \\\n",
        "No"
      ],
      "id": "iW4GhXTY50lh"
    },
    {
      "cell_type": "markdown",
      "id": "72898fb0",
      "metadata": {
        "id": "72898fb0"
      },
      "source": [
        "### Example run #3\n",
        "\n",
        "Enter n : **97** \\\n",
        "Yes"
      ]
    },
    {
      "cell_type": "markdown",
      "metadata": {
        "id": "n0GltxuC50lk"
      },
      "source": [
        "### Example run #4\n",
        "\n",
        "Enter n : **100** \\\n",
        "No"
      ],
      "id": "n0GltxuC50lk"
    },
    {
      "cell_type": "code",
      "execution_count": 43,
      "id": "93234834",
      "metadata": {
        "id": "93234834"
      },
      "outputs": [],
      "source": [
        "def answer_q2():\n",
        "    # YOUR CODE HERE\n",
        "    n = int(input(\"Enter n:\"))\n",
        "    i=0\n",
        "    if n>1:\n",
        "      for i in range(2,int(n+1)):\n",
        "        if n%i==0:\n",
        "          print(\"No\")\n",
        "          break\n",
        "        else:\n",
        "         print(\"Yes\")\n",
        "         break\n",
        "    else:\n",
        "      print(\"No\")\n",
        "      "
      ]
    },
    {
      "cell_type": "code",
      "execution_count": 44,
      "id": "fe53754b",
      "metadata": {
        "id": "fe53754b",
        "colab": {
          "base_uri": "https://localhost:8080/"
        },
        "outputId": "73d6987e-d093-40a8-b8fa-de59e1e2be8a"
      },
      "outputs": [
        {
          "output_type": "stream",
          "name": "stdout",
          "text": [
            "Enter n:3\n",
            "Yes\n"
          ]
        }
      ],
      "source": [
        "# You may debug your code by running this cell\n",
        "answer_q2()"
      ]
    },
    {
      "cell_type": "code",
      "execution_count": 32,
      "id": "edee900a",
      "metadata": {
        "id": "edee900a"
      },
      "outputs": [],
      "source": [
        "from unittest.mock import patch\n",
        "from io import StringIO\n",
        "\n",
        "def test_q2(inputs, outputs): \n",
        "    with patch('builtins.input', side_effect=inputs), patch('sys.stdout', new_callable=StringIO) as mock_stdout:\n",
        "        answer_q2()\n",
        "    \n",
        "    assert mock_stdout.getvalue() == outputs, 'incorrect value: {}'.format(mock_stdout.getvalue())"
      ]
    },
    {
      "cell_type": "code",
      "execution_count": 45,
      "metadata": {
        "id": "j5sMB3qP50lm",
        "colab": {
          "base_uri": "https://localhost:8080/"
        },
        "outputId": "1f5d32af-e60b-4073-abc9-b22c39896c32"
      },
      "outputs": [
        {
          "output_type": "stream",
          "name": "stdout",
          "text": [
            "Congrats!. You have passed all of the test cases.\n"
          ]
        }
      ],
      "source": [
        "test_q2(['3'],'Yes\\n')\n",
        "test_q2(['1'],'No\\n')\n",
        "test_q2(['97'],'Yes\\n')\n",
        "test_q2(['100'],'No\\n')\n",
        "\n",
        "print('Congrats!. You have passed all of the test cases.')"
      ],
      "id": "j5sMB3qP50lm"
    },
    {
      "cell_type": "markdown",
      "id": "6a6adec3",
      "metadata": {
        "id": "6a6adec3"
      },
      "source": [
        "# Q3 (3 pts.)"
      ]
    },
    {
      "cell_type": "markdown",
      "metadata": {
        "id": "NHFNfBWq50lm"
      },
      "source": [
        "Write a program that **reads** a positive number $n$. **Print** all *prime* factors of $n$."
      ],
      "id": "NHFNfBWq50lm"
    },
    {
      "cell_type": "markdown",
      "metadata": {
        "id": "tDL1l-6550lm"
      },
      "source": [
        "### Example run #1\n",
        "\n",
        "Enter n : **3**\\\n",
        "3"
      ],
      "id": "tDL1l-6550lm"
    },
    {
      "cell_type": "markdown",
      "metadata": {
        "id": "YcaS3DVm50lm"
      },
      "source": [
        "### Example run #2\n",
        "\n",
        "Enter n : **10** \\\n",
        "2 \\\n",
        "5"
      ],
      "id": "YcaS3DVm50lm"
    },
    {
      "cell_type": "markdown",
      "metadata": {
        "id": "zRDbpnj150ln"
      },
      "source": [
        "### Example run #3\n",
        "\n",
        "Enter n : **30** \\\n",
        "2 \\\n",
        "3 \\\n",
        "5"
      ],
      "id": "zRDbpnj150ln"
    },
    {
      "cell_type": "markdown",
      "metadata": {
        "id": "1wPbDJtZ50ln"
      },
      "source": [
        "### Example run #4\n",
        "\n",
        "Enter n : **399** \\\n",
        "3 \\\n",
        "7 \\\n",
        "19"
      ],
      "id": "1wPbDJtZ50ln"
    },
    {
      "cell_type": "code",
      "execution_count": 71,
      "metadata": {
        "id": "fmlpL-tb50ln"
      },
      "outputs": [],
      "source": [
        "def answer_q3():\n",
        "    # YOUR CODE HERE\n",
        "    n = int(input(\"Enter n :\"))\n",
        "    for i in range(1,n+1):\n",
        "      if n%i==0:\n",
        "         n>1\n",
        "      for i in range(2,int(n+1)):\n",
        "          if n%i==0:\n",
        "            print(i)\n",
        "          break"
      ],
      "id": "fmlpL-tb50ln"
    },
    {
      "cell_type": "code",
      "execution_count": 72,
      "metadata": {
        "id": "Wc9_tVRT50ln",
        "colab": {
          "base_uri": "https://localhost:8080/"
        },
        "outputId": "1268f320-ef36-4f4e-aeaa-70891a86a264"
      },
      "outputs": [
        {
          "name": "stdout",
          "output_type": "stream",
          "text": [
            "Enter n :399\n"
          ]
        }
      ],
      "source": [
        "# You may debug your code by running this cell\n",
        "answer_q3()"
      ],
      "id": "Wc9_tVRT50ln"
    },
    {
      "cell_type": "code",
      "execution_count": null,
      "metadata": {
        "id": "mkZuY69t50lo"
      },
      "outputs": [],
      "source": [
        "from unittest.mock import patch\n",
        "from io import StringIO\n",
        "\n",
        "def test_q3(inputs, outputs): \n",
        "    with patch('builtins.input', side_effect=inputs), patch('sys.stdout', new_callable=StringIO) as mock_stdout:\n",
        "        answer_q3()\n",
        "    \n",
        "    assert mock_stdout.getvalue() == outputs, 'incorrect value: {}'.format(mock_stdout.getvalue())"
      ],
      "id": "mkZuY69t50lo"
    },
    {
      "cell_type": "code",
      "execution_count": null,
      "metadata": {
        "id": "3dd8p2_h50lo"
      },
      "outputs": [],
      "source": [
        "test_q3(['3'],'3\\n')\n",
        "test_q3(['10'],'2\\n5\\n')\n",
        "test_q3(['30'],'2\\n3\\n5\\n')\n",
        "test_q3(['399'],'3\\n7\\n19\\n')\n",
        "\n",
        "print('Congrats!. You have passed all of the test cases.')"
      ],
      "id": "3dd8p2_h50lo"
    },
    {
      "cell_type": "markdown",
      "id": "a07d78f7",
      "metadata": {
        "id": "a07d78f7"
      },
      "source": [
        "# Q4 (3 pts.)"
      ]
    },
    {
      "cell_type": "markdown",
      "metadata": {
        "id": "htkBuhJX50lo"
      },
      "source": [
        "Implement a simple ATM machine. Let we have the \\$50000 as the initial deposit in the account.\n",
        "\n",
        "Read the series of commands from the user\n",
        "- **D n** : deposit \\$n \n",
        "- **W n** : withdrawal \\$n. If the current balance is insufficient for the withdrawal, print the error meessager.\n",
        "- **E** : end of commands. Print the current balance.\n",
        "- other commands are invalid. Print the error message.\n",
        "\n"
      ],
      "id": "htkBuhJX50lo"
    },
    {
      "cell_type": "markdown",
      "metadata": {
        "id": "XHvYeYp550lp"
      },
      "source": [
        "### Example run #1\n",
        "\n",
        "Enter command and amount : **D 100**\\\n",
        "Enter command and amount : **W 500**\\\n",
        "Enter command and amount : **W 10000**\\\n",
        "Enter command and amount : **W 100000**\\\n",
        "Insufficient balance \\\n",
        "Enter command and amount : **D 100000**\\\n",
        "Enter command and amount : **E** \\\n",
        "139600.0"
      ],
      "id": "XHvYeYp550lp"
    },
    {
      "cell_type": "markdown",
      "metadata": {
        "id": "R1z2o3Z050lp"
      },
      "source": [
        "### Example run #2\n",
        "\n",
        "Enter command and amount : **E** \\\n",
        "50000.0"
      ],
      "id": "R1z2o3Z050lp"
    },
    {
      "cell_type": "markdown",
      "metadata": {
        "id": "MBiBSbcf50lp"
      },
      "source": [
        "### Example run #3\n",
        "\n",
        "Enter command and amount : **C 47668.21**\\\n",
        "Invalid command \\\n",
        "Enter command and amount : **D 43118**\\\n",
        "Enter command and amount : **E** \\\n",
        "93118.0"
      ],
      "id": "MBiBSbcf50lp"
    },
    {
      "cell_type": "markdown",
      "metadata": {
        "id": "ckE8TFVL50lp"
      },
      "source": [
        "### Example run #4\n",
        "\n",
        "Enter command and amount : **W 12913.24**\\\n",
        "Enter command and amount : **A 8947.18**\\\n",
        "Invalid command \\\n",
        "Enter command and amount : **W 10462**\\\n",
        "Enter command and amount : **D 6503.69**\\\n",
        "Enter command and amount : **W 100000**\\\n",
        "Insufficient balance \\\n",
        "Enter command and amount : **E** \\\n",
        "33128.450000000004"
      ],
      "id": "ckE8TFVL50lp"
    },
    {
      "cell_type": "markdown",
      "metadata": {
        "id": "X4_9RpVG50lq"
      },
      "source": [
        "### Example run #5\n",
        "\n",
        "Enter command and amount : **W 0**\\\n",
        "Enter command and amount : **D 0**\\\n",
        "Enter command and amount : **E** \\\n",
        "50000.0"
      ],
      "id": "X4_9RpVG50lq"
    },
    {
      "cell_type": "markdown",
      "metadata": {
        "id": "bm7fkiHV50lq"
      },
      "source": [
        "### Example run #6\n",
        "\n",
        "Enter command and amount : **W 100000**\\\n",
        "Insufficient balance \\\n",
        "Enter command and amount : **E** \\\n",
        "50000.0"
      ],
      "id": "bm7fkiHV50lq"
    },
    {
      "cell_type": "code",
      "execution_count": null,
      "metadata": {
        "id": "2FuzimCl50lq"
      },
      "outputs": [],
      "source": [
        "def answer_q4():\n",
        "    # YOUR CODE HERE\n",
        "    e = float(input(\"Enter command and amount\"))\n",
        "    e = split()\n",
        "    for i in rang"
      ],
      "id": "2FuzimCl50lq"
    },
    {
      "cell_type": "code",
      "execution_count": null,
      "metadata": {
        "id": "nQcvCc1p50lq"
      },
      "outputs": [],
      "source": [
        "# You may debug your code by running this cell\n",
        "answer_q4()"
      ],
      "id": "nQcvCc1p50lq"
    },
    {
      "cell_type": "code",
      "execution_count": null,
      "metadata": {
        "id": "EpFErwW450lq"
      },
      "outputs": [],
      "source": [
        "from unittest.mock import patch\n",
        "from io import StringIO\n",
        "import random\n",
        "\n",
        "def test_q4(inputs, outputs): \n",
        "    with patch('builtins.input', side_effect=inputs), patch('sys.stdout', new_callable=StringIO) as mock_stdout:\n",
        "        answer_q4()\n",
        "    \n",
        "    assert mock_stdout.getvalue() == outputs, 'incorrect value: {}'.format(mock_stdout.getvalue())"
      ],
      "id": "EpFErwW450lq"
    },
    {
      "cell_type": "code",
      "execution_count": null,
      "id": "dd9e7827",
      "metadata": {
        "id": "dd9e7827"
      },
      "outputs": [],
      "source": [
        "test_q4(['D 100', 'W 500', 'W 10000', 'W 100000', 'D 100000', 'E'],'Insufficient balance\\n139600.0\\n')\n",
        "test_q4(['E'],'50000.0\\n')\n",
        "test_q4(['C 47668.21', 'D 43118', 'E'],'Invalid command\\n93118.0\\n')\n",
        "test_q4(['W 12913.24', 'A 8947.18', 'W 10462', 'D 6503.69', 'W 100000', 'E'],'Invalid command\\nInsufficient balance\\n33128.450000000004\\n')\n",
        "test_q4(['W 0', 'D 0', 'E'],'50000.0\\n')\n",
        "test_q4(['W 100000', 'E'],'Insufficient balance\\n50000.0\\n')\n",
        "\n",
        "print('Congrats!. You have passed all of the test cases.')"
      ]
    }
  ],
  "metadata": {
    "kernelspec": {
      "display_name": "Python 3.8.8 ('base')",
      "language": "python",
      "name": "python3"
    },
    "language_info": {
      "codemirror_mode": {
        "name": "ipython",
        "version": 3
      },
      "file_extension": ".py",
      "mimetype": "text/x-python",
      "name": "python",
      "nbconvert_exporter": "python",
      "pygments_lexer": "ipython3",
      "version": "3.8.8"
    },
    "vscode": {
      "interpreter": {
        "hash": "03adaee776292f2263426464639388749bf78930e8b883d5f988c57ae7094739"
      }
    },
    "colab": {
      "provenance": [],
      "collapsed_sections": []
    }
  },
  "nbformat": 4,
  "nbformat_minor": 5
}