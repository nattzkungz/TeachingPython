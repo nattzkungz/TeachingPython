{
 "cells": [
  {
   "cell_type": "markdown",
   "metadata": {
    "id": "e2IPZN-3XPyn",
    "slideshow": {
     "slide_type": "slide"
    }
   },
   "source": [
    "# Tuple\n",
    "\n"
   ]
  },
  {
   "cell_type": "markdown",
   "metadata": {
    "id": "HZRW61P9myx8",
    "slideshow": {
     "slide_type": "fragment"
    }
   },
   "source": [
    "* Like List, Tuple is an object that can store a sequece of items.\n",
    "* A tuple is defined using a pair of brackets `()` with elements inside, separated by commas. \n",
    "* A tuple can hold different types of items.\n",
    "* <font color='red'>Tuples are immutable, which means that items in the tuple cannot be changed after it is created.</font>\n",
    "\n",
    "```python\n",
    "(<item1>, <item2>, <item3>, ..., <itemN>)\n",
    "```\n",
    "\n"
   ]
  },
  {
   "cell_type": "code",
   "execution_count": 1,
   "metadata": {
    "colab": {
     "base_uri": "https://localhost:8080/"
    },
    "executionInfo": {
     "elapsed": 13,
     "status": "ok",
     "timestamp": 1642949503896,
     "user": {
      "displayName": "Naruemon Pratanwanich",
      "photoUrl": "https://lh3.googleusercontent.com/a-/AOh14Ght-XDHOoqeuU7xDve5mJaCH2c0CFLbb7XtETlg=s64",
      "userId": "04240363400547583642"
     },
     "user_tz": -420
    },
    "id": "FbrPKhsPNVvK",
    "outputId": "6734b60b-e776-4cad-89a7-9f21c598b423",
    "slideshow": {
     "slide_type": "slide"
    }
   },
   "outputs": [
    {
     "name": "stdout",
     "output_type": "stream",
     "text": [
      "a: <class 'tuple'>\n",
      "b: <class 'tuple'>\n",
      "c: <class 'tuple'>\n",
      "d: <class 'tuple'>\n",
      "e: <class 'tuple'>\n"
     ]
    }
   ],
   "source": [
    "# Ex.\n",
    "a = (1,2,3,4,5)\n",
    "b = (2301170,'Python',True)\n",
    "c = 2301170,'Python',True # Not necessarily within ().\n",
    "d = 2301170, # But a comma is needed to define a tuple.\n",
    "e = () # Empty tuple  \n",
    "\n",
    "print('a:', type(a))\n",
    "print('b:', type(b))\n",
    "print('c:', type(c))\n",
    "print('d:', type(d))\n",
    "print('e:', type(e))"
   ]
  },
  {
   "cell_type": "code",
   "execution_count": 3,
   "metadata": {
    "colab": {
     "base_uri": "https://localhost:8080/"
    },
    "executionInfo": {
     "elapsed": 449,
     "status": "ok",
     "timestamp": 1641885398220,
     "user": {
      "displayName": "Naruemon Pratanwanich",
      "photoUrl": "https://lh3.googleusercontent.com/a-/AOh14Ght-XDHOoqeuU7xDve5mJaCH2c0CFLbb7XtETlg=s64",
      "userId": "04240363400547583642"
     },
     "user_tz": -420
    },
    "id": "F79cdPaGTN1_",
    "outputId": "5c0ebbf3-61c3-4067-c058-07e05726d7dc",
    "slideshow": {
     "slide_type": "slide"
    }
   },
   "outputs": [
    {
     "data": {
      "text/plain": [
       "tuple"
      ]
     },
     "execution_count": 3,
     "metadata": {},
     "output_type": "execute_result"
    }
   ],
   "source": [
    "type(())"
   ]
  },
  {
   "cell_type": "code",
   "execution_count": 5,
   "metadata": {
    "colab": {
     "base_uri": "https://localhost:8080/",
     "height": 188
    },
    "executionInfo": {
     "elapsed": 12,
     "status": "error",
     "timestamp": 1641885370333,
     "user": {
      "displayName": "Naruemon Pratanwanich",
      "photoUrl": "https://lh3.googleusercontent.com/a-/AOh14Ght-XDHOoqeuU7xDve5mJaCH2c0CFLbb7XtETlg=s64",
      "userId": "04240363400547583642"
     },
     "user_tz": -420
    },
    "id": "5Py4j22Gx3M1",
    "outputId": "77fd87f0-38bb-4f8b-f7f2-73f601e67c6a",
    "slideshow": {
     "slide_type": "fragment"
    }
   },
   "outputs": [
    {
     "ename": "TypeError",
     "evalue": "type() takes 1 or 3 arguments",
     "output_type": "error",
     "traceback": [
      "\u001b[0;31m---------------------------------------------------------------------------\u001b[0m",
      "\u001b[0;31mTypeError\u001b[0m                                 Traceback (most recent call last)",
      "Input \u001b[0;32mIn [5]\u001b[0m, in \u001b[0;36m<cell line: 1>\u001b[0;34m()\u001b[0m\n\u001b[0;32m----> 1\u001b[0m \u001b[38;5;28;43mtype\u001b[39;49m\u001b[43m(\u001b[49m\u001b[38;5;241;43m1\u001b[39;49m\u001b[43m,\u001b[49m\u001b[38;5;241;43m2\u001b[39;49m\u001b[43m)\u001b[49m\n",
      "\u001b[0;31mTypeError\u001b[0m: type() takes 1 or 3 arguments"
     ]
    }
   ],
   "source": [
    "type(1,2) # This means two parameters are passed, but the function type expect only 1 or 3 parameters."
   ]
  },
  {
   "cell_type": "code",
   "execution_count": null,
   "metadata": {
    "colab": {
     "base_uri": "https://localhost:8080/"
    },
    "executionInfo": {
     "elapsed": 418,
     "status": "ok",
     "timestamp": 1641885412874,
     "user": {
      "displayName": "Naruemon Pratanwanich",
      "photoUrl": "https://lh3.googleusercontent.com/a-/AOh14Ght-XDHOoqeuU7xDve5mJaCH2c0CFLbb7XtETlg=s64",
      "userId": "04240363400547583642"
     },
     "user_tz": -420
    },
    "id": "yZXjP8f8vFGA",
    "outputId": "e71dd6f1-cb9a-4e4f-d028-3c70437347fa",
    "slideshow": {
     "slide_type": "fragment"
    }
   },
   "outputs": [],
   "source": [
    "type((1,2))"
   ]
  },
  {
   "cell_type": "code",
   "execution_count": null,
   "metadata": {
    "colab": {
     "base_uri": "https://localhost:8080/"
    },
    "executionInfo": {
     "elapsed": 4,
     "status": "ok",
     "timestamp": 1641885414233,
     "user": {
      "displayName": "Naruemon Pratanwanich",
      "photoUrl": "https://lh3.googleusercontent.com/a-/AOh14Ght-XDHOoqeuU7xDve5mJaCH2c0CFLbb7XtETlg=s64",
      "userId": "04240363400547583642"
     },
     "user_tz": -420
    },
    "id": "dcPUdxeGxl5x",
    "outputId": "018ceb2d-2417-492b-a40a-a7ca9fc02891",
    "slideshow": {
     "slide_type": "fragment"
    }
   },
   "outputs": [],
   "source": [
    "x = ('2')\n",
    "type(x) # Because the comma is missin, the program consider it a string."
   ]
  },
  {
   "cell_type": "code",
   "execution_count": null,
   "metadata": {
    "colab": {
     "base_uri": "https://localhost:8080/"
    },
    "executionInfo": {
     "elapsed": 4,
     "status": "ok",
     "timestamp": 1641885415709,
     "user": {
      "displayName": "Naruemon Pratanwanich",
      "photoUrl": "https://lh3.googleusercontent.com/a-/AOh14Ght-XDHOoqeuU7xDve5mJaCH2c0CFLbb7XtETlg=s64",
      "userId": "04240363400547583642"
     },
     "user_tz": -420
    },
    "id": "x0kVLuVQxqvq",
    "outputId": "8e7ccb70-2bb1-449d-dd99-0ed920c4a0f0",
    "slideshow": {
     "slide_type": "fragment"
    }
   },
   "outputs": [],
   "source": [
    "x = (2) # Because the comma is missin, the program consider it an integer.\n",
    "type(x)"
   ]
  },
  {
   "cell_type": "code",
   "execution_count": null,
   "metadata": {
    "colab": {
     "base_uri": "https://localhost:8080/"
    },
    "executionInfo": {
     "elapsed": 5,
     "status": "ok",
     "timestamp": 1641885417112,
     "user": {
      "displayName": "Naruemon Pratanwanich",
      "photoUrl": "https://lh3.googleusercontent.com/a-/AOh14Ght-XDHOoqeuU7xDve5mJaCH2c0CFLbb7XtETlg=s64",
      "userId": "04240363400547583642"
     },
     "user_tz": -420
    },
    "id": "eFbQtagSvKLK",
    "outputId": "a5029d2c-5c1b-43b2-dd66-71ee5ea8d3f5",
    "slideshow": {
     "slide_type": "fragment"
    }
   },
   "outputs": [],
   "source": [
    "x = (2,)\n",
    "type(x)"
   ]
  },
  {
   "cell_type": "code",
   "execution_count": null,
   "metadata": {
    "colab": {
     "base_uri": "https://localhost:8080/"
    },
    "executionInfo": {
     "elapsed": 4,
     "status": "ok",
     "timestamp": 1641885418706,
     "user": {
      "displayName": "Naruemon Pratanwanich",
      "photoUrl": "https://lh3.googleusercontent.com/a-/AOh14Ght-XDHOoqeuU7xDve5mJaCH2c0CFLbb7XtETlg=s64",
      "userId": "04240363400547583642"
     },
     "user_tz": -420
    },
    "id": "m0jstBuovNpf",
    "outputId": "7c042856-4ca1-469c-db9c-f49a53b41a64",
    "slideshow": {
     "slide_type": "fragment"
    }
   },
   "outputs": [],
   "source": [
    "a = 2,\n",
    "type(a)"
   ]
  },
  {
   "cell_type": "markdown",
   "metadata": {
    "id": "JXviSOXx2cFc",
    "slideshow": {
     "slide_type": "slide"
    }
   },
   "source": [
    "## Tuple size"
   ]
  },
  {
   "cell_type": "markdown",
   "metadata": {
    "id": "8XJtDyMwaIU1",
    "slideshow": {
     "slide_type": "fragment"
    }
   },
   "source": [
    "* The size of a tuple is the number of items in the tuple.\n",
    "* If you remember `len(<aTuple>)`, it is a built-in function in Python that returns the length of a sequence. \n",
    "We can use it to find size of a tuple. \n",
    "* Since tuples are immutable, their sizes cannot be changed either."
   ]
  },
  {
   "cell_type": "code",
   "execution_count": null,
   "metadata": {
    "colab": {
     "base_uri": "https://localhost:8080/"
    },
    "executionInfo": {
     "elapsed": 923,
     "status": "ok",
     "timestamp": 1641885421340,
     "user": {
      "displayName": "Naruemon Pratanwanich",
      "photoUrl": "https://lh3.googleusercontent.com/a-/AOh14Ght-XDHOoqeuU7xDve5mJaCH2c0CFLbb7XtETlg=s64",
      "userId": "04240363400547583642"
     },
     "user_tz": -420
    },
    "id": "zo4dTDIwRkJl",
    "outputId": "47b564fc-8dde-4389-d0d9-fdcefef353c5",
    "slideshow": {
     "slide_type": "slide"
    }
   },
   "outputs": [],
   "source": [
    "len((1,2,3,4,5))"
   ]
  },
  {
   "cell_type": "code",
   "execution_count": null,
   "metadata": {
    "colab": {
     "base_uri": "https://localhost:8080/"
    },
    "executionInfo": {
     "elapsed": 4,
     "status": "ok",
     "timestamp": 1641885422323,
     "user": {
      "displayName": "Naruemon Pratanwanich",
      "photoUrl": "https://lh3.googleusercontent.com/a-/AOh14Ght-XDHOoqeuU7xDve5mJaCH2c0CFLbb7XtETlg=s64",
      "userId": "04240363400547583642"
     },
     "user_tz": -420
    },
    "id": "mVvhv3lHjnCg",
    "outputId": "cda3934a-639f-4052-abf0-bd7c3713be4d",
    "slideshow": {
     "slide_type": "fragment"
    }
   },
   "outputs": [],
   "source": [
    "x = (2301170,'Python',True)\n",
    "len(x)"
   ]
  },
  {
   "cell_type": "code",
   "execution_count": null,
   "metadata": {
    "colab": {
     "base_uri": "https://localhost:8080/"
    },
    "executionInfo": {
     "elapsed": 5,
     "status": "ok",
     "timestamp": 1641885423176,
     "user": {
      "displayName": "Naruemon Pratanwanich",
      "photoUrl": "https://lh3.googleusercontent.com/a-/AOh14Ght-XDHOoqeuU7xDve5mJaCH2c0CFLbb7XtETlg=s64",
      "userId": "04240363400547583642"
     },
     "user_tz": -420
    },
    "id": "bhAyQp2Bpabs",
    "outputId": "9648afd8-89f2-4874-b608-966ad95700f5",
    "slideshow": {
     "slide_type": "fragment"
    }
   },
   "outputs": [],
   "source": [
    "empty_tuple = ()\n",
    "len(empty_tuple)"
   ]
  },
  {
   "cell_type": "code",
   "execution_count": null,
   "metadata": {
    "colab": {
     "base_uri": "https://localhost:8080/"
    },
    "executionInfo": {
     "elapsed": 6,
     "status": "ok",
     "timestamp": 1641885424412,
     "user": {
      "displayName": "Naruemon Pratanwanich",
      "photoUrl": "https://lh3.googleusercontent.com/a-/AOh14Ght-XDHOoqeuU7xDve5mJaCH2c0CFLbb7XtETlg=s64",
      "userId": "04240363400547583642"
     },
     "user_tz": -420
    },
    "id": "FMNcGunjpdqX",
    "outputId": "8730b909-ae05-43a8-a715-43c72ba93fdb",
    "slideshow": {
     "slide_type": "fragment"
    }
   },
   "outputs": [],
   "source": [
    "len(())"
   ]
  },
  {
   "cell_type": "code",
   "execution_count": null,
   "metadata": {
    "colab": {
     "base_uri": "https://localhost:8080/",
     "height": 188
    },
    "executionInfo": {
     "elapsed": 5,
     "status": "error",
     "timestamp": 1641885426146,
     "user": {
      "displayName": "Naruemon Pratanwanich",
      "photoUrl": "https://lh3.googleusercontent.com/a-/AOh14Ght-XDHOoqeuU7xDve5mJaCH2c0CFLbb7XtETlg=s64",
      "userId": "04240363400547583642"
     },
     "user_tz": -420
    },
    "id": "rTJn6vWwx7i0",
    "outputId": "93b022f4-aed1-4792-dfda-f7e84f830b12",
    "slideshow": {
     "slide_type": "fragment"
    }
   },
   "outputs": [],
   "source": [
    "len((2)) # Error occurs because (2) is an integer not a tuple."
   ]
  },
  {
   "cell_type": "code",
   "execution_count": null,
   "metadata": {
    "colab": {
     "base_uri": "https://localhost:8080/"
    },
    "executionInfo": {
     "elapsed": 6,
     "status": "ok",
     "timestamp": 1641885427820,
     "user": {
      "displayName": "Naruemon Pratanwanich",
      "photoUrl": "https://lh3.googleusercontent.com/a-/AOh14Ght-XDHOoqeuU7xDve5mJaCH2c0CFLbb7XtETlg=s64",
      "userId": "04240363400547583642"
     },
     "user_tz": -420
    },
    "id": "uOPVCL-HRZBJ",
    "outputId": "f7e5cd02-243e-4c10-dbc4-20711ff2d232",
    "slideshow": {
     "slide_type": "fragment"
    }
   },
   "outputs": [],
   "source": [
    "y = (2301170,'Python',True,('N','D','M','J'),3.0)\n",
    "len(y)"
   ]
  },
  {
   "cell_type": "markdown",
   "metadata": {
    "id": "-2kHZKFG7kaB",
    "slideshow": {
     "slide_type": "slide"
    }
   },
   "source": [
    "## Indexing\n",
    "\n",
    "* We can access to each element in the tuple individually by specifying an index inside the brackets.\n",
    "* The indexes are 0 (the first item), 1, ..., n-1 (the last item).\n",
    "* We can use negative indexes, which starts from -1 (the last item), -2, -3, ..., -n (the first item).\n",
    "* No matter positive or negative indexes you use, it cannot be out of those ranges. See examples below "
   ]
  },
  {
   "cell_type": "code",
   "execution_count": null,
   "metadata": {
    "executionInfo": {
     "elapsed": 388,
     "status": "ok",
     "timestamp": 1642949511251,
     "user": {
      "displayName": "Naruemon Pratanwanich",
      "photoUrl": "https://lh3.googleusercontent.com/a-/AOh14Ght-XDHOoqeuU7xDve5mJaCH2c0CFLbb7XtETlg=s64",
      "userId": "04240363400547583642"
     },
     "user_tz": -420
    },
    "id": "P3Z-51LDqm-a",
    "slideshow": {
     "slide_type": "slide"
    }
   },
   "outputs": [],
   "source": [
    "a = 3.0\n",
    "b = ('N','092-5166xxx')\n",
    "c = ['S','M','J']\n",
    "data = (2301170,'Python',True,a,b,c)"
   ]
  },
  {
   "cell_type": "code",
   "execution_count": null,
   "metadata": {
    "colab": {
     "base_uri": "https://localhost:8080/"
    },
    "executionInfo": {
     "elapsed": 5,
     "status": "ok",
     "timestamp": 1642949512280,
     "user": {
      "displayName": "Naruemon Pratanwanich",
      "photoUrl": "https://lh3.googleusercontent.com/a-/AOh14Ght-XDHOoqeuU7xDve5mJaCH2c0CFLbb7XtETlg=s64",
      "userId": "04240363400547583642"
     },
     "user_tz": -420
    },
    "id": "7nWWwRvnnJLz",
    "outputId": "8673f564-f9c6-4a6f-fbf5-92e45187f5b6",
    "slideshow": {
     "slide_type": "fragment"
    }
   },
   "outputs": [],
   "source": [
    "print(data[0])\n",
    "print(data[-6])\n",
    "print(data[-len(data)])"
   ]
  },
  {
   "cell_type": "code",
   "execution_count": null,
   "metadata": {
    "colab": {
     "base_uri": "https://localhost:8080/"
    },
    "executionInfo": {
     "elapsed": 575,
     "status": "ok",
     "timestamp": 1642949514534,
     "user": {
      "displayName": "Naruemon Pratanwanich",
      "photoUrl": "https://lh3.googleusercontent.com/a-/AOh14Ght-XDHOoqeuU7xDve5mJaCH2c0CFLbb7XtETlg=s64",
      "userId": "04240363400547583642"
     },
     "user_tz": -420
    },
    "id": "FjmhOpXknNEC",
    "outputId": "f1bb0bf5-ff8d-4920-933b-d5f82d0a8e45",
    "slideshow": {
     "slide_type": "fragment"
    }
   },
   "outputs": [],
   "source": [
    "print(data[1])\n",
    "print(data[-5])"
   ]
  },
  {
   "cell_type": "code",
   "execution_count": null,
   "metadata": {
    "colab": {
     "base_uri": "https://localhost:8080/"
    },
    "executionInfo": {
     "elapsed": 4,
     "status": "ok",
     "timestamp": 1642949515005,
     "user": {
      "displayName": "Naruemon Pratanwanich",
      "photoUrl": "https://lh3.googleusercontent.com/a-/AOh14Ght-XDHOoqeuU7xDve5mJaCH2c0CFLbb7XtETlg=s64",
      "userId": "04240363400547583642"
     },
     "user_tz": -420
    },
    "id": "pZfnF-WHnNX-",
    "outputId": "570f8f73-589e-4f21-f2cb-8751cf724dbf",
    "slideshow": {
     "slide_type": "fragment"
    }
   },
   "outputs": [],
   "source": [
    "print(data[2])\n",
    "print(data[-4])"
   ]
  },
  {
   "cell_type": "code",
   "execution_count": null,
   "metadata": {
    "colab": {
     "base_uri": "https://localhost:8080/"
    },
    "executionInfo": {
     "elapsed": 6,
     "status": "ok",
     "timestamp": 1641885434347,
     "user": {
      "displayName": "Naruemon Pratanwanich",
      "photoUrl": "https://lh3.googleusercontent.com/a-/AOh14Ght-XDHOoqeuU7xDve5mJaCH2c0CFLbb7XtETlg=s64",
      "userId": "04240363400547583642"
     },
     "user_tz": -420
    },
    "id": "bh7gcrIanNWN",
    "outputId": "fc41306c-26f4-468d-96f2-53557cfab399",
    "slideshow": {
     "slide_type": "fragment"
    }
   },
   "outputs": [],
   "source": [
    "print(data[3])\n",
    "print(data[-3])"
   ]
  },
  {
   "cell_type": "code",
   "execution_count": null,
   "metadata": {
    "colab": {
     "base_uri": "https://localhost:8080/"
    },
    "executionInfo": {
     "elapsed": 423,
     "status": "ok",
     "timestamp": 1641885438763,
     "user": {
      "displayName": "Naruemon Pratanwanich",
      "photoUrl": "https://lh3.googleusercontent.com/a-/AOh14Ght-XDHOoqeuU7xDve5mJaCH2c0CFLbb7XtETlg=s64",
      "userId": "04240363400547583642"
     },
     "user_tz": -420
    },
    "id": "U5mzLHFUnNPs",
    "outputId": "4b40a229-54f2-4c22-9497-13c7f2f9a5f7",
    "slideshow": {
     "slide_type": "fragment"
    }
   },
   "outputs": [],
   "source": [
    "print(data[4])\n",
    "print(data[-2])"
   ]
  },
  {
   "cell_type": "code",
   "execution_count": null,
   "metadata": {
    "colab": {
     "base_uri": "https://localhost:8080/"
    },
    "executionInfo": {
     "elapsed": 5,
     "status": "ok",
     "timestamp": 1641885440353,
     "user": {
      "displayName": "Naruemon Pratanwanich",
      "photoUrl": "https://lh3.googleusercontent.com/a-/AOh14Ght-XDHOoqeuU7xDve5mJaCH2c0CFLbb7XtETlg=s64",
      "userId": "04240363400547583642"
     },
     "user_tz": -420
    },
    "id": "DaIu3t_BnNNf",
    "outputId": "21583d1a-832e-42f8-c8f2-1a3c71da8b46",
    "slideshow": {
     "slide_type": "fragment"
    }
   },
   "outputs": [],
   "source": [
    "print(data[5])\n",
    "print(data[-1])\n",
    "print(data[len(data)-1])"
   ]
  },
  {
   "cell_type": "markdown",
   "metadata": {
    "id": "eHFaZB-Qk1sZ",
    "slideshow": {
     "slide_type": "slide"
    }
   },
   "source": [
    "### Iterating over a list using `for` \n",
    "\n",
    "Like what we do on a list, we have two ways to do this."
   ]
  },
  {
   "cell_type": "code",
   "execution_count": null,
   "metadata": {
    "colab": {
     "base_uri": "https://localhost:8080/"
    },
    "executionInfo": {
     "elapsed": 648,
     "status": "ok",
     "timestamp": 1641885443293,
     "user": {
      "displayName": "Naruemon Pratanwanich",
      "photoUrl": "https://lh3.googleusercontent.com/a-/AOh14Ght-XDHOoqeuU7xDve5mJaCH2c0CFLbb7XtETlg=s64",
      "userId": "04240363400547583642"
     },
     "user_tz": -420
    },
    "id": "p1guVfpKqlXr",
    "outputId": "11a2f0e2-1ecf-4ae3-b3af-468519cc0d91",
    "slideshow": {
     "slide_type": "slide"
    }
   },
   "outputs": [],
   "source": [
    "for element in data:\n",
    "  print(element)"
   ]
  },
  {
   "cell_type": "code",
   "execution_count": null,
   "metadata": {
    "colab": {
     "base_uri": "https://localhost:8080/"
    },
    "executionInfo": {
     "elapsed": 6,
     "status": "ok",
     "timestamp": 1641885444635,
     "user": {
      "displayName": "Naruemon Pratanwanich",
      "photoUrl": "https://lh3.googleusercontent.com/a-/AOh14Ght-XDHOoqeuU7xDve5mJaCH2c0CFLbb7XtETlg=s64",
      "userId": "04240363400547583642"
     },
     "user_tz": -420
    },
    "id": "tiWAxj6CS-1p",
    "outputId": "550137ab-8dd6-45df-f898-76ae73d5ee39",
    "slideshow": {
     "slide_type": "fragment"
    }
   },
   "outputs": [],
   "source": [
    "for i in range(len(data)):\n",
    "  print('index',i,':',data[i])"
   ]
  },
  {
   "cell_type": "code",
   "execution_count": null,
   "metadata": {
    "colab": {
     "base_uri": "https://localhost:8080/",
     "height": 188
    },
    "executionInfo": {
     "elapsed": 10,
     "status": "error",
     "timestamp": 1641885446429,
     "user": {
      "displayName": "Naruemon Pratanwanich",
      "photoUrl": "https://lh3.googleusercontent.com/a-/AOh14Ght-XDHOoqeuU7xDve5mJaCH2c0CFLbb7XtETlg=s64",
      "userId": "04240363400547583642"
     },
     "user_tz": -420
    },
    "id": "85I_nnAu1Nm3",
    "outputId": "816beffc-9f1d-47b2-9782-a0195384e7e2",
    "slideshow": {
     "slide_type": "fragment"
    }
   },
   "outputs": [],
   "source": [
    "data[6] "
   ]
  },
  {
   "cell_type": "markdown",
   "metadata": {
    "id": "WM6fKHSu2J6u",
    "slideshow": {
     "slide_type": "slide"
    }
   },
   "source": [
    "## How data are stored in a tuple"
   ]
  },
  {
   "cell_type": "markdown",
   "metadata": {
    "id": "SBOatoeD_JUN",
    "slideshow": {
     "slide_type": "slide"
    }
   },
   "source": [
    "Here is an example of how items in `data` are stored.\n",
    "\n"
   ]
  },
  {
   "cell_type": "code",
   "execution_count": null,
   "metadata": {
    "id": "iMTzSzdO_Giw",
    "slideshow": {
     "slide_type": "fragment"
    }
   },
   "outputs": [],
   "source": [
    "a = 3.0\n",
    "b = ('N','092-5166xxx')\n",
    "c = ['S','M','J']\n",
    "data = (2301170,'Python',True,a,b,c)"
   ]
  },
  {
   "cell_type": "markdown",
   "metadata": {
    "id": "A1ASgf0jaoE9",
    "slideshow": {
     "slide_type": "fragment"
    }
   },
   "source": [
    "<img src=\"https://github.com/ploy-np/python/blob/master/images/tuple/Slide1.jpg?raw=1\" width=\"700\" alt=\"tuple\"/>"
   ]
  },
  {
   "cell_type": "code",
   "execution_count": null,
   "metadata": {
    "colab": {
     "base_uri": "https://localhost:8080/",
     "height": 205
    },
    "executionInfo": {
     "elapsed": 9,
     "status": "error",
     "timestamp": 1641885454916,
     "user": {
      "displayName": "Naruemon Pratanwanich",
      "photoUrl": "https://lh3.googleusercontent.com/a-/AOh14Ght-XDHOoqeuU7xDve5mJaCH2c0CFLbb7XtETlg=s64",
      "userId": "04240363400547583642"
     },
     "user_tz": -420
    },
    "id": "IRRtCoR9UdOt",
    "outputId": "b448565f-d524-4b39-d123-84ffe6a0792d",
    "slideshow": {
     "slide_type": "fragment"
    }
   },
   "outputs": [],
   "source": [
    "for i in range(len(data)):\n",
    "  data[i] = '2301170'"
   ]
  },
  {
   "cell_type": "code",
   "execution_count": null,
   "metadata": {
    "colab": {
     "base_uri": "https://localhost:8080/"
    },
    "executionInfo": {
     "elapsed": 535,
     "status": "ok",
     "timestamp": 1641885461278,
     "user": {
      "displayName": "Naruemon Pratanwanich",
      "photoUrl": "https://lh3.googleusercontent.com/a-/AOh14Ght-XDHOoqeuU7xDve5mJaCH2c0CFLbb7XtETlg=s64",
      "userId": "04240363400547583642"
     },
     "user_tz": -420
    },
    "id": "fpGCI1yVlNN-",
    "outputId": "5d569718-2626-4fa9-ba8f-2dec49f3b3fc",
    "slideshow": {
     "slide_type": "slide"
    }
   },
   "outputs": [],
   "source": [
    "\"\"\"\n",
    "a = 3.0\n",
    "b = ('N','092-5166xxx')\n",
    "c = ['S','M','J']\n",
    "data = (2301170,'Python',True,a,b,c)\n",
    "\"\"\"\n",
    "a = 5.0 \n",
    "for element in data:\n",
    "  print(element)\n",
    "print('a:',a)"
   ]
  },
  {
   "cell_type": "markdown",
   "metadata": {
    "id": "g1QTlYTC9RQF",
    "slideshow": {
     "slide_type": "fragment"
    }
   },
   "source": [
    "<img src=\"https://github.com/ploy-np/python/blob/master/images/tuple/Slide2.jpg?raw=1\" width=\"700\" alt=\"tuple\"/>"
   ]
  },
  {
   "cell_type": "code",
   "execution_count": null,
   "metadata": {
    "colab": {
     "base_uri": "https://localhost:8080/",
     "height": 223
    },
    "executionInfo": {
     "elapsed": 612,
     "status": "error",
     "timestamp": 1641885464316,
     "user": {
      "displayName": "Naruemon Pratanwanich",
      "photoUrl": "https://lh3.googleusercontent.com/a-/AOh14Ght-XDHOoqeuU7xDve5mJaCH2c0CFLbb7XtETlg=s64",
      "userId": "04240363400547583642"
     },
     "user_tz": -420
    },
    "id": "dsnN-iq6maCw",
    "outputId": "94de5d60-cf4c-497f-8076-38cfa4728e25",
    "slideshow": {
     "slide_type": "fragment"
    }
   },
   "outputs": [],
   "source": [
    "b[0] = 'P' # Since b is a tuple, the items of b cannot be modified.\n",
    "for element in data:\n",
    "  print(element)"
   ]
  },
  {
   "cell_type": "code",
   "execution_count": null,
   "metadata": {
    "colab": {
     "base_uri": "https://localhost:8080/"
    },
    "executionInfo": {
     "elapsed": 396,
     "status": "ok",
     "timestamp": 1641885466454,
     "user": {
      "displayName": "Naruemon Pratanwanich",
      "photoUrl": "https://lh3.googleusercontent.com/a-/AOh14Ght-XDHOoqeuU7xDve5mJaCH2c0CFLbb7XtETlg=s64",
      "userId": "04240363400547583642"
     },
     "user_tz": -420
    },
    "id": "BFnfUccZmguQ",
    "outputId": "99712575-1d6b-47b0-933e-ed25c829091c",
    "slideshow": {
     "slide_type": "fragment"
    }
   },
   "outputs": [],
   "source": [
    "b = ('P','092-5166xxx') # To modify b partially, we have to reassign it with the entire tuple. \n",
    "for element in data:\n",
    "  print(element)\n",
    "print('b:',b)"
   ]
  },
  {
   "cell_type": "markdown",
   "metadata": {
    "id": "xoH1L0si9S0T",
    "slideshow": {
     "slide_type": "fragment"
    }
   },
   "source": [
    "<img src=\"https://github.com/ploy-np/python/blob/master/images/tuple/Slide3.jpg?raw=1\" width=\"700\" alt=\"tuple\"/>"
   ]
  },
  {
   "cell_type": "code",
   "execution_count": null,
   "metadata": {
    "colab": {
     "base_uri": "https://localhost:8080/"
    },
    "executionInfo": {
     "elapsed": 411,
     "status": "ok",
     "timestamp": 1641885471238,
     "user": {
      "displayName": "Naruemon Pratanwanich",
      "photoUrl": "https://lh3.googleusercontent.com/a-/AOh14Ght-XDHOoqeuU7xDve5mJaCH2c0CFLbb7XtETlg=s64",
      "userId": "04240363400547583642"
     },
     "user_tz": -420
    },
    "id": "ks348h8alftu",
    "outputId": "072180e5-f495-4799-92b8-c16f6659e45c",
    "slideshow": {
     "slide_type": "fragment"
    }
   },
   "outputs": [],
   "source": [
    "c[0] = '-' # Since c is a list, the items of c can be modified.\n",
    "\"\"\" \n",
    "Since data[-1] points the list that c also points at, \n",
    "the value of data[-1] is also changed.\n",
    "Although data is a tuple, in this case it is considered no modification \n",
    "because data[-1] still points at the same list.\n",
    "\"\"\"\n",
    "for element in data:\n",
    "  print(element)\n",
    "print('c:',c)"
   ]
  },
  {
   "cell_type": "markdown",
   "metadata": {
    "id": "tiWj5QUF9T8O",
    "slideshow": {
     "slide_type": "fragment"
    }
   },
   "source": [
    "<img src=\"https://github.com/ploy-np/python/blob/master/images/tuple/Slide4.jpg?raw=1\" width=\"700\" alt=\"tuple\"/>"
   ]
  },
  {
   "cell_type": "code",
   "execution_count": null,
   "metadata": {
    "colab": {
     "base_uri": "https://localhost:8080/"
    },
    "executionInfo": {
     "elapsed": 425,
     "status": "ok",
     "timestamp": 1641885484593,
     "user": {
      "displayName": "Naruemon Pratanwanich",
      "photoUrl": "https://lh3.googleusercontent.com/a-/AOh14Ght-XDHOoqeuU7xDve5mJaCH2c0CFLbb7XtETlg=s64",
      "userId": "04240363400547583642"
     },
     "user_tz": -420
    },
    "id": "_AQFgOZ7moRN",
    "outputId": "30761fe4-22c8-4d15-f4ff-3358c4d08e7b",
    "slideshow": {
     "slide_type": "fragment"
    }
   },
   "outputs": [],
   "source": [
    "c = ['M','J'] # This line makes c to points at a new list, but there is nothing to do with data item. \n",
    "# So, the last item of data still points at the same list, which means no modification occurs.\n",
    "for element in data:\n",
    "  print(element)\n",
    "print('c:',c)"
   ]
  },
  {
   "cell_type": "markdown",
   "metadata": {
    "id": "3FoxDECj9NSg",
    "slideshow": {
     "slide_type": "fragment"
    }
   },
   "source": [
    "<img src=\"https://github.com/ploy-np/python/blob/master/images/tuple/Slide5.jpg?raw=1\" width=\"700\" alt=\"tuple\"/>"
   ]
  }
 ],
 "metadata": {
  "celltoolbar": "Slideshow",
  "colab": {
   "authorship_tag": "ABX9TyPfDyNTNg3m7TWCcJvUgLs/",
   "collapsed_sections": [],
   "name": "Ch7 Tuple.ipynb",
   "provenance": []
  },
  "kernelspec": {
   "display_name": "Python 3 (ipykernel)",
   "language": "python",
   "name": "python3"
  },
  "language_info": {
   "codemirror_mode": {
    "name": "ipython",
    "version": 3
   },
   "file_extension": ".py",
   "mimetype": "text/x-python",
   "name": "python",
   "nbconvert_exporter": "python",
   "pygments_lexer": "ipython3",
   "version": "3.8.3"
  },
  "rise": {
   "scroll": true
  }
 },
 "nbformat": 4,
 "nbformat_minor": 1
}
