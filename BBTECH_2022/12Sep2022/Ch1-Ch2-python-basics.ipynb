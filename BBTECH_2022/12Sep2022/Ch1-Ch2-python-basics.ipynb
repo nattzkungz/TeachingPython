{
 "cells": [
  {
   "cell_type": "markdown",
   "metadata": {
    "id": "ctjaXfGhFxbP",
    "slideshow": {
     "slide_type": "slide"
    }
   },
   "source": [
    "# Python basics"
   ]
  },
  {
   "cell_type": "markdown",
   "metadata": {
    "id": "cAAEkh5IxLW-",
    "slideshow": {
     "slide_type": "slide"
    }
   },
   "source": [
    "**Python is just an English language**\n",
    "\n",
    "Read the code below, I believe that you understand it, don't you? :)\n",
    "\n",
    "```python\n",
    "song = input('What is your favourit song: ')\n",
    "if song in your_favourite_song_list:\n",
    "  play()\n",
    "else:\n",
    "  your_favourite_song_list.add(this_song)\n",
    "  play()\n",
    "```"
   ]
  },
  {
   "cell_type": "markdown",
   "metadata": {
    "id": "fAOEEKREGcQG",
    "slideshow": {
     "slide_type": "slide"
    }
   },
   "source": [
    "Read the code below again and guess what shape the program will draw. Then you can check your answer to see what the output is.\n"
   ]
  },
  {
   "cell_type": "code",
   "execution_count": null,
   "metadata": {
    "id": "usGl2FF51iAT",
    "slideshow": {
     "slide_type": "fragment"
    }
   },
   "outputs": [],
   "source": [
    "# Guess what picture the code below is drawing.\n",
    "!pip3 install ColabTurtle\n",
    "from ColabTurtle.Turtle import *\n",
    "initializeTurtle()\n",
    "forward(100)\n",
    "right(90)\n",
    "forward(100)\n",
    "right(90)\n",
    "forward(100)\n",
    "right(90)\n",
    "forward(100)"
   ]
  },
  {
   "cell_type": "markdown",
   "metadata": {
    "id": "JMKG71R3xanH",
    "slideshow": {
     "slide_type": "slide"
    }
   },
   "source": [
    "**Python as a calculator**"
   ]
  },
  {
   "cell_type": "code",
   "execution_count": null,
   "metadata": {
    "id": "WVmzv80sw9Ss",
    "slideshow": {
     "slide_type": "fragment"
    }
   },
   "outputs": [],
   "source": [
    "2+3"
   ]
  },
  {
   "cell_type": "code",
   "execution_count": null,
   "metadata": {
    "id": "rgFhQkVB5wwA",
    "slideshow": {
     "slide_type": "fragment"
    }
   },
   "outputs": [],
   "source": [
    "6/2*(1+2)"
   ]
  },
  {
   "cell_type": "markdown",
   "metadata": {
    "id": "SeDUOl6n8Xjs",
    "slideshow": {
     "slide_type": "slide"
    }
   },
   "source": [
    "## Basic data types, expressions, and variables"
   ]
  },
  {
   "cell_type": "markdown",
   "metadata": {
    "id": "Obmw1fa-8j5k",
    "slideshow": {
     "slide_type": "fragment"
    }
   },
   "source": [
    "Run the code cells below. Are the outputs the same?"
   ]
  },
  {
   "cell_type": "code",
   "execution_count": null,
   "metadata": {
    "id": "visMJrHw8bN1",
    "slideshow": {
     "slide_type": "fragment"
    }
   },
   "outputs": [],
   "source": [
    "1+1"
   ]
  },
  {
   "cell_type": "code",
   "execution_count": null,
   "metadata": {
    "id": "K9CTJ37D8fGZ",
    "slideshow": {
     "slide_type": "fragment"
    }
   },
   "outputs": [],
   "source": [
    "'1'+'1'"
   ]
  },
  {
   "cell_type": "markdown",
   "metadata": {
    "id": "l-ks7OHv9bau",
    "slideshow": {
     "slide_type": "fragment"
    }
   },
   "source": [
    "We can see that 1+1 is not always equal to 2. \n",
    "The reason to explain this phenomenon is that 1 of both codes cells are different ***data types***\n",
    "Therefore, we need to know the data types in Python in order to use them properly."
   ]
  },
  {
   "cell_type": "markdown",
   "metadata": {
    "id": "4kqs1GyWIqZa",
    "slideshow": {
     "slide_type": "slide"
    }
   },
   "source": [
    "### In Python, there are 4 basic data types\n",
    "\n",
    "1. Integers \n",
    "\n",
    "Ex.\n",
    "\n",
    "* `-1678`\n",
    "* `0`\n",
    "* `34567890`\n",
    "\n",
    "2. Real / Floating-point numbers\n",
    "\n",
    "Ex.\n",
    "\n",
    "* `45678.3578`\n",
    "* `-87.0`\n",
    "* `4/3`\n",
    "* `1.3e-5`\n",
    "* `4E0`\n",
    "\n",
    "  <font color='orange'>Note</font>: The power number used in Python has to be an integer only.\n",
    "\n",
    "3. Booleans\n",
    "* `True`\n",
    "* `False`\n",
    "\n",
    "4. Strings `'<string>'` or `\"<string>\"`\n",
    "\n",
    "Ex.\n",
    "\n",
    "* `'Hello'`\n",
    "* `\"สวัสดี\"`\n",
    "* `'1+1'`\n"
   ]
  },
  {
   "cell_type": "markdown",
   "metadata": {
    "id": "oeZv0bUy_1ss",
    "slideshow": {
     "slide_type": "slide"
    }
   },
   "source": [
    "**Q**: Run the code below. Guess if any error will be occurred and explain why."
   ]
  },
  {
   "cell_type": "code",
   "execution_count": null,
   "metadata": {
    "id": "AMtPyVjOAezy",
    "slideshow": {
     "slide_type": "fragment"
    }
   },
   "outputs": [],
   "source": [
    "False"
   ]
  },
  {
   "cell_type": "code",
   "execution_count": null,
   "metadata": {
    "id": "e-yO6NsnAfT9",
    "slideshow": {
     "slide_type": "fragment"
    }
   },
   "outputs": [],
   "source": [
    "true"
   ]
  },
  {
   "cell_type": "code",
   "execution_count": null,
   "metadata": {
    "id": "8CWHDSkcAfwg",
    "slideshow": {
     "slide_type": "fragment"
    }
   },
   "outputs": [],
   "source": [
    "True"
   ]
  },
  {
   "cell_type": "code",
   "execution_count": null,
   "metadata": {
    "id": "fIw5i0GC_vzr",
    "slideshow": {
     "slide_type": "fragment"
    }
   },
   "outputs": [],
   "source": [
    "-2e3"
   ]
  },
  {
   "cell_type": "code",
   "execution_count": null,
   "metadata": {
    "id": "rvv8FzEXWhVI",
    "slideshow": {
     "slide_type": "fragment"
    }
   },
   "outputs": [],
   "source": [
    "-2*1000"
   ]
  },
  {
   "cell_type": "code",
   "execution_count": null,
   "metadata": {
    "id": "BSH0EUnlWww1",
    "slideshow": {
     "slide_type": "fragment"
    }
   },
   "outputs": [],
   "source": [
    "-2.5*100000"
   ]
  },
  {
   "cell_type": "code",
   "execution_count": null,
   "metadata": {
    "id": "aRez4guLAdym",
    "slideshow": {
     "slide_type": "fragment"
    }
   },
   "outputs": [],
   "source": [
    "-2.5E0.5 "
   ]
  },
  {
   "cell_type": "code",
   "execution_count": null,
   "metadata": {
    "id": "Y1uK9qJTLTAe",
    "slideshow": {
     "slide_type": "fragment"
    }
   },
   "outputs": [],
   "source": [
    "2 e 3"
   ]
  },
  {
   "cell_type": "code",
   "execution_count": null,
   "metadata": {
    "id": "GMdUjst86cwJ",
    "slideshow": {
     "slide_type": "fragment"
    }
   },
   "outputs": [],
   "source": [
    "'I have so much fun.'"
   ]
  },
  {
   "cell_type": "code",
   "execution_count": null,
   "metadata": {
    "id": "g5JOotWxBBkG",
    "slideshow": {
     "slide_type": "fragment"
    }
   },
   "outputs": [],
   "source": [
    "'I've so much fun.'"
   ]
  },
  {
   "cell_type": "markdown",
   "metadata": {
    "id": "lDu3SJzz4mIb",
    "slideshow": {
     "slide_type": "fragment"
    }
   },
   "source": [
    "The example above has an error because the `'` is not balanced.\n",
    "The program considers `I` to be a valid string because it is covered by a `' '`. However, `ve so much fun.'` lacks a `'` on the left."
   ]
  },
  {
   "cell_type": "code",
   "execution_count": null,
   "metadata": {
    "id": "QC02UawjBOei",
    "slideshow": {
     "slide_type": "fragment"
    }
   },
   "outputs": [],
   "source": [
    "\"I've so much fun.\""
   ]
  },
  {
   "cell_type": "code",
   "execution_count": null,
   "metadata": {
    "id": "mzB3nHA_DkIZ",
    "slideshow": {
     "slide_type": "fragment"
    }
   },
   "outputs": [],
   "source": [
    "'\"I've so much fun.\"' "
   ]
  },
  {
   "cell_type": "code",
   "execution_count": null,
   "metadata": {
    "id": "3qKXgdO3DpLa",
    "slideshow": {
     "slide_type": "fragment"
    }
   },
   "outputs": [],
   "source": [
    "\"\"I've so much fun.\"\""
   ]
  },
  {
   "cell_type": "code",
   "execution_count": null,
   "metadata": {
    "id": "5bAomQ-EDsW_",
    "slideshow": {
     "slide_type": "fragment"
    }
   },
   "outputs": [],
   "source": [
    "\"\"\"I've so much fun.\"\"\"\n",
    "'''I've so much fun.'''"
   ]
  },
  {
   "cell_type": "code",
   "execution_count": null,
   "metadata": {
    "id": "5fzS2Mz_YVM6",
    "slideshow": {
     "slide_type": "slide"
    }
   },
   "outputs": [],
   "source": [
    "print(\"\"\"I've so much fun.\"\"\")\n",
    "print('''I've so much fun.''')"
   ]
  },
  {
   "cell_type": "code",
   "execution_count": null,
   "metadata": {
    "id": "fuaRGyRrY2vS",
    "slideshow": {
     "slide_type": "fragment"
    }
   },
   "outputs": [],
   "source": [
    "print(1345)"
   ]
  },
  {
   "cell_type": "code",
   "execution_count": null,
   "metadata": {
    "id": "Ffd71ZhaY46n",
    "slideshow": {
     "slide_type": "fragment"
    }
   },
   "outputs": [],
   "source": [
    "print(2+3)"
   ]
  },
  {
   "cell_type": "code",
   "execution_count": null,
   "metadata": {
    "id": "ak00_jFzZIIR",
    "slideshow": {
     "slide_type": "fragment"
    }
   },
   "outputs": [],
   "source": [
    "print(\"My age is\",    20+100    , \"years old.\")"
   ]
  },
  {
   "cell_type": "code",
   "execution_count": null,
   "metadata": {
    "id": "5V4V_3NBZfUS",
    "slideshow": {
     "slide_type": "fragment"
    }
   },
   "outputs": [],
   "source": [
    "print(\"My age is 20+100 years old.\")"
   ]
  },
  {
   "cell_type": "markdown",
   "metadata": {
    "id": "6RvZlxSU5wPF",
    "slideshow": {
     "slide_type": "fragment"
    }
   },
   "source": [
    "<font color=orange>Note:</font> When `print` is not used for display in Colab, only the last line will be shown if available.\n",
    "\n",
    "**Q**: Why the code above doesn't produce any error (Hint: comment)"
   ]
  },
  {
   "cell_type": "code",
   "execution_count": null,
   "metadata": {
    "id": "QW6Omc01Dwli",
    "slideshow": {
     "slide_type": "fragment"
    }
   },
   "outputs": [],
   "source": [
    "\"\"\"I've so much fun.\"\"\""
   ]
  },
  {
   "cell_type": "markdown",
   "metadata": {
    "id": "QRjQcYb2--v7",
    "slideshow": {
     "slide_type": "slide"
    }
   },
   "source": [
    "We can use the built-in function `type()` to find the data type. See the examples below."
   ]
  },
  {
   "cell_type": "code",
   "execution_count": null,
   "metadata": {
    "id": "v0iMoCG9AXV6",
    "slideshow": {
     "slide_type": "fragment"
    }
   },
   "outputs": [],
   "source": [
    "type(1)"
   ]
  },
  {
   "cell_type": "code",
   "execution_count": null,
   "metadata": {
    "id": "kuaJYFqwAasi",
    "slideshow": {
     "slide_type": "fragment"
    }
   },
   "outputs": [],
   "source": [
    "type('1')"
   ]
  },
  {
   "cell_type": "code",
   "execution_count": null,
   "metadata": {
    "id": "VQEVL3-DAaxS",
    "slideshow": {
     "slide_type": "fragment"
    }
   },
   "outputs": [],
   "source": [
    "type(1+1)"
   ]
  },
  {
   "cell_type": "code",
   "execution_count": null,
   "metadata": {
    "id": "kzsRgTzCAa0i",
    "slideshow": {
     "slide_type": "fragment"
    }
   },
   "outputs": [],
   "source": [
    "type('1'+'1')"
   ]
  },
  {
   "cell_type": "code",
   "execution_count": null,
   "metadata": {
    "id": "DatQccqZAa3v",
    "slideshow": {
     "slide_type": "fragment"
    }
   },
   "outputs": [],
   "source": [
    "type(True)"
   ]
  },
  {
   "cell_type": "code",
   "execution_count": null,
   "metadata": {
    "id": "n9wSP1LMDUjX",
    "slideshow": {
     "slide_type": "fragment"
    }
   },
   "outputs": [],
   "source": [
    "type(\"True\")"
   ]
  },
  {
   "cell_type": "code",
   "execution_count": null,
   "metadata": {
    "id": "62Bf_fyVAa6U",
    "slideshow": {
     "slide_type": "fragment"
    }
   },
   "outputs": [],
   "source": [
    "type(true)"
   ]
  },
  {
   "cell_type": "code",
   "execution_count": null,
   "metadata": {
    "id": "b154XDqJvRxL",
    "slideshow": {
     "slide_type": "fragment"
    }
   },
   "outputs": [],
   "source": [
    "type(3e4)"
   ]
  },
  {
   "cell_type": "code",
   "execution_count": null,
   "metadata": {
    "id": "CF3ILLIJbO-0",
    "slideshow": {
     "slide_type": "fragment"
    }
   },
   "outputs": [],
   "source": [
    "print(3e4)"
   ]
  },
  {
   "cell_type": "code",
   "execution_count": null,
   "metadata": {
    "id": "miXAkFmn-hii",
    "slideshow": {
     "slide_type": "fragment"
    }
   },
   "outputs": [],
   "source": [
    "type(3e-4)"
   ]
  },
  {
   "cell_type": "code",
   "execution_count": null,
   "metadata": {
    "id": "YCyDAz-eW9mc",
    "slideshow": {
     "slide_type": "fragment"
    }
   },
   "outputs": [],
   "source": [
    "type(\"\"\"I've so much fun.\"\"\")"
   ]
  },
  {
   "cell_type": "markdown",
   "metadata": {
    "id": "dsx-HeFc123A",
    "slideshow": {
     "slide_type": "slide"
    }
   },
   "source": [
    "### Comments\n",
    "\n",
    "Previously, we may have seen green texts after `#`. \n",
    "When being run, the program usually ignores those green texts because they are in-line comments.\n",
    "They are just a note for readers, not for the program to execute.\n",
    "\n",
    "Alternatively, we can use triple quotes i.e. `\"\"\" ... \"\"\"` or `''' ... '''`, especially for multi-line comments. See the examples below."
   ]
  },
  {
   "cell_type": "code",
   "execution_count": null,
   "metadata": {
    "id": "6jQHT_11KjXD",
    "slideshow": {
     "slide_type": "fragment"
    }
   },
   "outputs": [],
   "source": [
    "# A single-line comment"
   ]
  },
  {
   "cell_type": "code",
   "execution_count": null,
   "metadata": {
    "id": "ka3i9ZphzBfK",
    "slideshow": {
     "slide_type": "fragment"
    }
   },
   "outputs": [],
   "source": [
    "\"\"\" \n",
    "Comment is not a program,\n",
    "but it acts as a description / note of the program. \n",
    "\"\"\"\n",
    "\n",
    "'''\n",
    "For example,\n",
    "This program converts a given temperature value in celsius into Fahrenheit.\n",
    "'''"
   ]
  },
  {
   "cell_type": "markdown",
   "metadata": {
    "id": "ISTXeAkqzsIi",
    "slideshow": {
     "slide_type": "slide"
    }
   },
   "source": [
    "### Operators"
   ]
  },
  {
   "cell_type": "markdown",
   "metadata": {
    "id": "SKuAfflPHCdy",
    "slideshow": {
     "slide_type": "fragment"
    }
   },
   "source": [
    "####1. Arithmetic operators\n",
    "\n",
    "* `()` \n",
    "* `**` Exponent\n",
    "* `-` Negate (unary)\n",
    "* `*` Multiplication, `/` Division, `//` Division but the result as a whole number `%` Modulo\n",
    "* `+` Addition, `-` Subtraction (binary)\n",
    "\n",
    "<font color='orange'>Operator precedence</font> The precedence of the arithmetic operators are shown above, from highest to lowest.\n",
    "If there are multiple operators with the same precedence, the program will execute from left to right, except the exponent `**` which will be excuted from right to left.\n",
    "\n",
    "Note that the precedence in Python is the same as that used in the standard mathematics.\n"
   ]
  },
  {
   "cell_type": "code",
   "execution_count": null,
   "metadata": {
    "id": "CONTVmLTWPJn",
    "slideshow": {
     "slide_type": "fragment"
    }
   },
   "outputs": [],
   "source": [
    "x = 9\n",
    "y = 2.5"
   ]
  },
  {
   "cell_type": "code",
   "execution_count": null,
   "metadata": {
    "id": "OnWlHvYCcmDf",
    "slideshow": {
     "slide_type": "fragment"
    }
   },
   "outputs": [],
   "source": [
    "print(x)"
   ]
  },
  {
   "cell_type": "code",
   "execution_count": null,
   "metadata": {
    "colab": {
     "base_uri": "https://localhost:8080/"
    },
    "executionInfo": {
     "elapsed": 342,
     "status": "ok",
     "timestamp": 1660029196433,
     "user": {
      "displayName": "Naruemon Pratanwanich",
      "userId": "04240363400547583642"
     },
     "user_tz": -420
    },
    "id": "iIUmdN_fWSWr",
    "outputId": "0483086d-d65d-491d-ed25-a43b21b0b597",
    "slideshow": {
     "slide_type": "fragment"
    }
   },
   "outputs": [],
   "source": [
    "x+7.1"
   ]
  },
  {
   "cell_type": "code",
   "execution_count": null,
   "metadata": {
    "colab": {
     "base_uri": "https://localhost:8080/"
    },
    "executionInfo": {
     "elapsed": 362,
     "status": "ok",
     "timestamp": 1660029226979,
     "user": {
      "displayName": "Naruemon Pratanwanich",
      "userId": "04240363400547583642"
     },
     "user_tz": -420
    },
    "id": "UNnh7P7wWSy6",
    "outputId": "fd0cfaac-5b85-4f55-9fd6-454abd9cfa33",
    "slideshow": {
     "slide_type": "fragment"
    }
   },
   "outputs": [],
   "source": [
    "2e9"
   ]
  },
  {
   "cell_type": "code",
   "execution_count": null,
   "metadata": {
    "colab": {
     "base_uri": "https://localhost:8080/"
    },
    "executionInfo": {
     "elapsed": 341,
     "status": "ok",
     "timestamp": 1660029279993,
     "user": {
      "displayName": "Naruemon Pratanwanich",
      "userId": "04240363400547583642"
     },
     "user_tz": -420
    },
    "id": "A4w68BOEc939",
    "outputId": "8d8fb407-b4ce-404f-950f-a95eb863b17d",
    "slideshow": {
     "slide_type": "fragment"
    }
   },
   "outputs": [],
   "source": [
    "2 * 10         **           9"
   ]
  },
  {
   "cell_type": "code",
   "execution_count": null,
   "metadata": {
    "colab": {
     "base_uri": "https://localhost:8080/"
    },
    "executionInfo": {
     "elapsed": 354,
     "status": "ok",
     "timestamp": 1660029308308,
     "user": {
      "displayName": "Naruemon Pratanwanich",
      "userId": "04240363400547583642"
     },
     "user_tz": -420
    },
    "id": "nlXvUAbZWTCa",
    "outputId": "acea252a-ba61-45ce-fcd3-afbd2fed6416",
    "slideshow": {
     "slide_type": "fragment"
    }
   },
   "outputs": [],
   "source": [
    "2e-2"
   ]
  },
  {
   "cell_type": "code",
   "execution_count": null,
   "metadata": {
    "colab": {
     "base_uri": "https://localhost:8080/"
    },
    "executionInfo": {
     "elapsed": 602,
     "status": "ok",
     "timestamp": 1660029326052,
     "user": {
      "displayName": "Naruemon Pratanwanich",
      "userId": "04240363400547583642"
     },
     "user_tz": -420
    },
    "id": "hwD4ACl7dSdq",
    "outputId": "cf57e2b4-1d3f-444e-fec8-52b5d0fad883",
    "slideshow": {
     "slide_type": "fragment"
    }
   },
   "outputs": [],
   "source": [
    "2*10**-2"
   ]
  },
  {
   "cell_type": "code",
   "execution_count": null,
   "metadata": {
    "colab": {
     "base_uri": "https://localhost:8080/"
    },
    "executionInfo": {
     "elapsed": 345,
     "status": "ok",
     "timestamp": 1660029398817,
     "user": {
      "displayName": "Naruemon Pratanwanich",
      "userId": "04240363400547583642"
     },
     "user_tz": -420
    },
    "id": "SPLQBLSLdWpC",
    "outputId": "6ce8d8f9-6085-4fe4-e2f7-f2efab66f065",
    "slideshow": {
     "slide_type": "fragment"
    }
   },
   "outputs": [],
   "source": [
    "2*3.4**-2.5"
   ]
  },
  {
   "cell_type": "markdown",
   "metadata": {
    "id": "n-7899FKLCHj",
    "slideshow": {
     "slide_type": "slide"
    }
   },
   "source": [
    "We can use advanced mathematical functions by importing a module named `math` and call the function you want. Find out more about the functions defined in the math module [here](https://docs.python.org/3/library/math.html). More details about modules and functions are explained later in this chapter."
   ]
  },
  {
   "cell_type": "code",
   "execution_count": null,
   "metadata": {
    "colab": {
     "base_uri": "https://localhost:8080/"
    },
    "executionInfo": {
     "elapsed": 5,
     "status": "ok",
     "timestamp": 1660029564321,
     "user": {
      "displayName": "Naruemon Pratanwanich",
      "userId": "04240363400547583642"
     },
     "user_tz": -420
    },
    "id": "lPqNdadMWsnl",
    "outputId": "08570c3d-f89b-4b8a-c189-36b868735ec0",
    "slideshow": {
     "slide_type": "fragment"
    }
   },
   "outputs": [],
   "source": [
    "import math\n",
    "x - math.log(x)"
   ]
  },
  {
   "cell_type": "code",
   "execution_count": null,
   "metadata": {
    "colab": {
     "base_uri": "https://localhost:8080/"
    },
    "executionInfo": {
     "elapsed": 363,
     "status": "ok",
     "timestamp": 1660029621938,
     "user": {
      "displayName": "Naruemon Pratanwanich",
      "userId": "04240363400547583642"
     },
     "user_tz": -420
    },
    "id": "de_cZ482eaPK",
    "outputId": "532d6513-5241-4d01-d17f-94bf79d61105",
    "slideshow": {
     "slide_type": "fragment"
    }
   },
   "outputs": [],
   "source": [
    "math.ceil(4.24)"
   ]
  },
  {
   "cell_type": "code",
   "execution_count": null,
   "metadata": {
    "colab": {
     "base_uri": "https://localhost:8080/"
    },
    "executionInfo": {
     "elapsed": 411,
     "status": "ok",
     "timestamp": 1660029669685,
     "user": {
      "displayName": "Naruemon Pratanwanich",
      "userId": "04240363400547583642"
     },
     "user_tz": -420
    },
    "id": "TxEeHce2XFt_",
    "outputId": "10194613-1ead-43f2-af80-134478bdfce6",
    "slideshow": {
     "slide_type": "fragment"
    }
   },
   "outputs": [],
   "source": [
    "6 * math.sin(y)"
   ]
  },
  {
   "cell_type": "markdown",
   "metadata": {
    "id": "AjS9BPL5L311",
    "slideshow": {
     "slide_type": "fragment"
    }
   },
   "source": [
    "We can set a new alias name to the module we import by using the keyword `as` followed by the alias name that we want."
   ]
  },
  {
   "cell_type": "code",
   "execution_count": null,
   "metadata": {
    "colab": {
     "base_uri": "https://localhost:8080/"
    },
    "executionInfo": {
     "elapsed": 373,
     "status": "ok",
     "timestamp": 1660029759348,
     "user": {
      "displayName": "Naruemon Pratanwanich",
      "userId": "04240363400547583642"
     },
     "user_tz": -420
    },
    "id": "SOHDLMBOL2GC",
    "outputId": "061773d6-ec3d-4837-b42c-d2287367dc11",
    "slideshow": {
     "slide_type": "fragment"
    }
   },
   "outputs": [],
   "source": [
    "import math as m\n",
    "x - m.sin(x)"
   ]
  },
  {
   "cell_type": "code",
   "execution_count": null,
   "metadata": {
    "colab": {
     "base_uri": "https://localhost:8080/"
    },
    "executionInfo": {
     "elapsed": 356,
     "status": "ok",
     "timestamp": 1660029813868,
     "user": {
      "displayName": "Naruemon Pratanwanich",
      "userId": "04240363400547583642"
     },
     "user_tz": -420
    },
    "id": "YeaODXMCXtq3",
    "outputId": "53af4a0a-65b0-4422-ba21-082e2a34dd07",
    "slideshow": {
     "slide_type": "slide"
    }
   },
   "outputs": [],
   "source": [
    "x/7"
   ]
  },
  {
   "cell_type": "code",
   "execution_count": null,
   "metadata": {
    "colab": {
     "base_uri": "https://localhost:8080/"
    },
    "executionInfo": {
     "elapsed": 480,
     "status": "ok",
     "timestamp": 1660029916829,
     "user": {
      "displayName": "Naruemon Pratanwanich",
      "userId": "04240363400547583642"
     },
     "user_tz": -420
    },
    "id": "j6lMj3uDXuul",
    "outputId": "1c4906af-58d7-46bb-fa3d-a10ac4d51607",
    "slideshow": {
     "slide_type": "fragment"
    }
   },
   "outputs": [],
   "source": [
    "17//7"
   ]
  },
  {
   "cell_type": "code",
   "execution_count": null,
   "metadata": {
    "colab": {
     "base_uri": "https://localhost:8080/"
    },
    "executionInfo": {
     "elapsed": 418,
     "status": "ok",
     "timestamp": 1660029927397,
     "user": {
      "displayName": "Naruemon Pratanwanich",
      "userId": "04240363400547583642"
     },
     "user_tz": -420
    },
    "id": "mBBynl_bYW42",
    "outputId": "c9aa0845-98aa-48f3-a10d-a2d41051e96b",
    "slideshow": {
     "slide_type": "fragment"
    }
   },
   "outputs": [],
   "source": [
    "17%7"
   ]
  },
  {
   "cell_type": "code",
   "execution_count": null,
   "metadata": {
    "colab": {
     "base_uri": "https://localhost:8080/"
    },
    "executionInfo": {
     "elapsed": 353,
     "status": "ok",
     "timestamp": 1660029969899,
     "user": {
      "displayName": "Naruemon Pratanwanich",
      "userId": "04240363400547583642"
     },
     "user_tz": -420
    },
    "id": "1W_ETNjLYbe7",
    "outputId": "37523bda-5829-46cf-8c92-d1172633edd2",
    "slideshow": {
     "slide_type": "fragment"
    }
   },
   "outputs": [],
   "source": [
    "99%x # modulo; mod"
   ]
  },
  {
   "cell_type": "code",
   "execution_count": null,
   "metadata": {
    "colab": {
     "base_uri": "https://localhost:8080/"
    },
    "executionInfo": {
     "elapsed": 366,
     "status": "ok",
     "timestamp": 1660030008222,
     "user": {
      "displayName": "Naruemon Pratanwanich",
      "userId": "04240363400547583642"
     },
     "user_tz": -420
    },
    "id": "1cjUG9udYfnO",
    "outputId": "df06ba69-475d-4908-a59a-d28a238d4939",
    "slideshow": {
     "slide_type": "fragment"
    }
   },
   "outputs": [],
   "source": [
    "98//x + 98%x"
   ]
  },
  {
   "cell_type": "code",
   "execution_count": null,
   "metadata": {
    "colab": {
     "base_uri": "https://localhost:8080/"
    },
    "executionInfo": {
     "elapsed": 423,
     "status": "ok",
     "timestamp": 1660030012357,
     "user": {
      "displayName": "Naruemon Pratanwanich",
      "userId": "04240363400547583642"
     },
     "user_tz": -420
    },
    "id": "0SHURjkSYf4K",
    "outputId": "c34f8130-e378-4067-b477-2e065eaf2b6a",
    "slideshow": {
     "slide_type": "fragment"
    }
   },
   "outputs": [],
   "source": [
    "99**4"
   ]
  },
  {
   "cell_type": "code",
   "execution_count": null,
   "metadata": {
    "colab": {
     "base_uri": "https://localhost:8080/"
    },
    "executionInfo": {
     "elapsed": 4,
     "status": "ok",
     "timestamp": 1660030015242,
     "user": {
      "displayName": "Naruemon Pratanwanich",
      "userId": "04240363400547583642"
     },
     "user_tz": -420
    },
    "id": "X3KKBSWnYgPW",
    "outputId": "7098e789-04ad-4ec1-dc08-0ae81651a2a8",
    "slideshow": {
     "slide_type": "fragment"
    }
   },
   "outputs": [],
   "source": [
    "99*99*99*99"
   ]
  },
  {
   "cell_type": "code",
   "execution_count": null,
   "metadata": {
    "colab": {
     "base_uri": "https://localhost:8080/"
    },
    "executionInfo": {
     "elapsed": 368,
     "status": "ok",
     "timestamp": 1660030023759,
     "user": {
      "displayName": "Naruemon Pratanwanich",
      "userId": "04240363400547583642"
     },
     "user_tz": -420
    },
    "id": "dGxpXIF6Yp4Q",
    "outputId": "f13f4763-4f09-42d8-d2e1-fcabd9e9b53e",
    "slideshow": {
     "slide_type": "fragment"
    }
   },
   "outputs": [],
   "source": [
    "65**-3"
   ]
  },
  {
   "cell_type": "code",
   "execution_count": null,
   "metadata": {
    "colab": {
     "base_uri": "https://localhost:8080/"
    },
    "executionInfo": {
     "elapsed": 364,
     "status": "ok",
     "timestamp": 1660030044256,
     "user": {
      "displayName": "Naruemon Pratanwanich",
      "userId": "04240363400547583642"
     },
     "user_tz": -420
    },
    "id": "ffjKG4oPYwrO",
    "outputId": "e6498591-bb27-46bb-b04a-49cec39f0031",
    "slideshow": {
     "slide_type": "fragment"
    }
   },
   "outputs": [],
   "source": [
    "1/(65*65*65)"
   ]
  },
  {
   "cell_type": "code",
   "execution_count": null,
   "metadata": {
    "colab": {
     "base_uri": "https://localhost:8080/"
    },
    "executionInfo": {
     "elapsed": 388,
     "status": "ok",
     "timestamp": 1660030046301,
     "user": {
      "displayName": "Naruemon Pratanwanich",
      "userId": "04240363400547583642"
     },
     "user_tz": -420
    },
    "id": "EGI0oPeUY0mD",
    "outputId": "62c7fb53-a647-42ba-a3d1-dde30e96a2a9",
    "slideshow": {
     "slide_type": "fragment"
    }
   },
   "outputs": [],
   "source": [
    "x**0.5"
   ]
  },
  {
   "cell_type": "markdown",
   "metadata": {
    "id": "KgL8sf3m0CtH",
    "slideshow": {
     "slide_type": "slide"
    }
   },
   "source": [
    "<font color='blue'>Q:</font> Write the following expressions.\n"
   ]
  },
  {
   "cell_type": "markdown",
   "metadata": {
    "id": "9-zqFz2iQMHr",
    "slideshow": {
     "slide_type": "fragment"
    }
   },
   "source": [
    "$\\sqrt{50}$"
   ]
  },
  {
   "cell_type": "code",
   "execution_count": null,
   "metadata": {
    "id": "eXvmJ55uQSaF",
    "slideshow": {
     "slide_type": "fragment"
    }
   },
   "outputs": [],
   "source": [
    "# Code here"
   ]
  },
  {
   "cell_type": "markdown",
   "metadata": {
    "id": "BYEl-sXZ0FLn",
    "slideshow": {
     "slide_type": "fragment"
    }
   },
   "source": [
    "5 mod 3"
   ]
  },
  {
   "cell_type": "code",
   "execution_count": null,
   "metadata": {
    "id": "X3Zl7p8cQUrJ",
    "slideshow": {
     "slide_type": "fragment"
    }
   },
   "outputs": [],
   "source": [
    "# Code here"
   ]
  },
  {
   "cell_type": "markdown",
   "metadata": {
    "id": "ek8C_hpT0HYk",
    "slideshow": {
     "slide_type": "fragment"
    }
   },
   "source": [
    "11 divided by 2 to the whole number"
   ]
  },
  {
   "cell_type": "code",
   "execution_count": null,
   "metadata": {
    "id": "_yWTcrMUQVZY",
    "slideshow": {
     "slide_type": "fragment"
    }
   },
   "outputs": [],
   "source": [
    "# Code here"
   ]
  },
  {
   "cell_type": "markdown",
   "metadata": {
    "id": "RaXLkQs50Kh0",
    "slideshow": {
     "slide_type": "fragment"
    }
   },
   "source": [
    "Extract the first two digits from 2310170 (Hint: `//`)"
   ]
  },
  {
   "cell_type": "code",
   "execution_count": null,
   "metadata": {
    "colab": {
     "base_uri": "https://localhost:8080/"
    },
    "executionInfo": {
     "elapsed": 377,
     "status": "ok",
     "timestamp": 1660030831034,
     "user": {
      "displayName": "Naruemon Pratanwanich",
      "userId": "04240363400547583642"
     },
     "user_tz": -420
    },
    "id": "3MSgEtjmQWWg",
    "outputId": "6fe56e2a-142d-4548-a44b-0d87493f064f",
    "slideshow": {
     "slide_type": "fragment"
    }
   },
   "outputs": [],
   "source": [
    "# Code here"
   ]
  },
  {
   "cell_type": "code",
   "execution_count": null,
   "metadata": {
    "colab": {
     "base_uri": "https://localhost:8080/"
    },
    "executionInfo": {
     "elapsed": 393,
     "status": "ok",
     "timestamp": 1660030886629,
     "user": {
      "displayName": "Naruemon Pratanwanich",
      "userId": "04240363400547583642"
     },
     "user_tz": -420
    },
    "id": "yQa_aUHkjLse",
    "outputId": "b383c8ef-fa67-4e0f-c330-4c2c8b382a69",
    "slideshow": {
     "slide_type": "fragment"
    }
   },
   "outputs": [],
   "source": [
    "2310170 % 100"
   ]
  },
  {
   "cell_type": "markdown",
   "metadata": {
    "id": "bIW-Do5wni0P",
    "slideshow": {
     "slide_type": "slide"
    }
   },
   "source": [
    "<font color='blue'>Q:</font> \n",
    "Put `()` to describe the calculation order and compare if it is the same as what is shown on the left hand side of `==`.\n",
    "\n",
    "Note that `==` is a logic operand to check if the values from both sides are equal. It results in `True` if they are equal, otherwise `False`.\n"
   ]
  },
  {
   "cell_type": "code",
   "execution_count": null,
   "metadata": {
    "colab": {
     "base_uri": "https://localhost:8080/"
    },
    "executionInfo": {
     "elapsed": 364,
     "status": "ok",
     "timestamp": 1660031164675,
     "user": {
      "displayName": "Naruemon Pratanwanich",
      "userId": "04240363400547583642"
     },
     "user_tz": -420
    },
    "id": "c8huKsmnqMKQ",
    "outputId": "aaa86aab-3528-4591-d287-470322ecb8c4",
    "slideshow": {
     "slide_type": "fragment"
    }
   },
   "outputs": [],
   "source": [
    "5+2**-1*2-1*5 == 5+((2**(-1))*2)-(1*5) "
   ]
  },
  {
   "cell_type": "code",
   "execution_count": null,
   "metadata": {
    "id": "BgPPPoLSqk6N",
    "slideshow": {
     "slide_type": "fragment"
    }
   },
   "outputs": [],
   "source": [
    "(5+2)**-1*(2-1)*5 == "
   ]
  },
  {
   "cell_type": "code",
   "execution_count": null,
   "metadata": {
    "colab": {
     "base_uri": "https://localhost:8080/"
    },
    "executionInfo": {
     "elapsed": 370,
     "status": "ok",
     "timestamp": 1660031232186,
     "user": {
      "displayName": "Naruemon Pratanwanich",
      "userId": "04240363400547583642"
     },
     "user_tz": -420
    },
    "id": "qvuVmeVxqlIE",
    "outputId": "e432c042-1832-413d-eabe-b30ea3284a9a",
    "slideshow": {
     "slide_type": "fragment"
    }
   },
   "outputs": [],
   "source": [
    "4**3**2 == (4**(3**2))"
   ]
  },
  {
   "cell_type": "code",
   "execution_count": null,
   "metadata": {
    "id": "mKsHlO95rcIn",
    "slideshow": {
     "slide_type": "fragment"
    }
   },
   "outputs": [],
   "source": [
    "4 ** -3 ** 2 == "
   ]
  },
  {
   "cell_type": "code",
   "execution_count": null,
   "metadata": {
    "id": "Juc1HkyhshXR",
    "slideshow": {
     "slide_type": "fragment"
    }
   },
   "outputs": [],
   "source": [
    "8/7*3%5//4 =="
   ]
  },
  {
   "cell_type": "code",
   "execution_count": null,
   "metadata": {
    "id": "4tmlrmZksoV4",
    "slideshow": {
     "slide_type": "fragment"
    }
   },
   "outputs": [],
   "source": [
    "8+7*2%4-3*5 =="
   ]
  },
  {
   "cell_type": "markdown",
   "metadata": {
    "id": "T06E_fJDjMw1",
    "slideshow": {
     "slide_type": "slide"
    }
   },
   "source": [
    "#### 2. String operators\n",
    "\n",
    "* `+`  String concatenation\n",
    "* `*`  String repetition\n"
   ]
  },
  {
   "cell_type": "code",
   "execution_count": null,
   "metadata": {
    "colab": {
     "base_uri": "https://localhost:8080/",
     "height": 57
    },
    "executionInfo": {
     "elapsed": 602,
     "status": "ok",
     "timestamp": 1660031308692,
     "user": {
      "displayName": "Naruemon Pratanwanich",
      "userId": "04240363400547583642"
     },
     "user_tz": -420
    },
    "id": "dp4ldt1iv_X-",
    "outputId": "89f41981-e79e-4e15-f365-53eaecf0f4da",
    "slideshow": {
     "slide_type": "fragment"
    }
   },
   "outputs": [],
   "source": [
    "\"Hello\" + ' World'"
   ]
  },
  {
   "cell_type": "code",
   "execution_count": null,
   "metadata": {
    "colab": {
     "base_uri": "https://localhost:8080/",
     "height": 57
    },
    "executionInfo": {
     "elapsed": 392,
     "status": "ok",
     "timestamp": 1660031332101,
     "user": {
      "displayName": "Naruemon Pratanwanich",
      "userId": "04240363400547583642"
     },
     "user_tz": -420
    },
    "id": "K0pAi4Evk70V",
    "outputId": "7fd28a22-b689-497a-8eac-d66abed3ba26",
    "slideshow": {
     "slide_type": "fragment"
    }
   },
   "outputs": [],
   "source": [
    "'Hello'+'World'"
   ]
  },
  {
   "cell_type": "code",
   "execution_count": null,
   "metadata": {
    "colab": {
     "base_uri": "https://localhost:8080/"
    },
    "executionInfo": {
     "elapsed": 349,
     "status": "ok",
     "timestamp": 1660031361049,
     "user": {
      "displayName": "Naruemon Pratanwanich",
      "userId": "04240363400547583642"
     },
     "user_tz": -420
    },
    "id": "XMPxQ6E3lCsQ",
    "outputId": "5893f570-4fbe-412e-d893-063490360d8f",
    "slideshow": {
     "slide_type": "fragment"
    }
   },
   "outputs": [],
   "source": [
    "print('Hello','World')"
   ]
  },
  {
   "cell_type": "code",
   "execution_count": null,
   "metadata": {
    "colab": {
     "base_uri": "https://localhost:8080/"
    },
    "executionInfo": {
     "elapsed": 362,
     "status": "ok",
     "timestamp": 1660031428918,
     "user": {
      "displayName": "Naruemon Pratanwanich",
      "userId": "04240363400547583642"
     },
     "user_tz": -420
    },
    "id": "tVucRTExlK7q",
    "outputId": "ba58619a-fd2c-4a3c-aac9-b030dab23340",
    "slideshow": {
     "slide_type": "fragment"
    }
   },
   "outputs": [],
   "source": [
    "print('Hello'+'World')"
   ]
  },
  {
   "cell_type": "code",
   "execution_count": null,
   "metadata": {
    "colab": {
     "base_uri": "https://localhost:8080/",
     "height": 57
    },
    "executionInfo": {
     "elapsed": 573,
     "status": "ok",
     "timestamp": 1660031505319,
     "user": {
      "displayName": "Naruemon Pratanwanich",
      "userId": "04240363400547583642"
     },
     "user_tz": -420
    },
    "id": "Fn7wDzSewH7e",
    "outputId": "15c53a78-466c-4e84-b844-f575c08c5858",
    "slideshow": {
     "slide_type": "fragment"
    }
   },
   "outputs": [],
   "source": [
    "'2301170'  + ' '       +   'Com prog'"
   ]
  },
  {
   "cell_type": "markdown",
   "metadata": {
    "id": "rm1I190DwhnI",
    "slideshow": {
     "slide_type": "slide"
    }
   },
   "source": [
    "**Q:** Check if the two expressions below give the same results? Why?"
   ]
  },
  {
   "cell_type": "code",
   "execution_count": null,
   "metadata": {
    "colab": {
     "base_uri": "https://localhost:8080/",
     "height": 57
    },
    "executionInfo": {
     "elapsed": 379,
     "status": "ok",
     "timestamp": 1660031530090,
     "user": {
      "displayName": "Naruemon Pratanwanich",
      "userId": "04240363400547583642"
     },
     "user_tz": -420
    },
    "id": "1L_F7iFGwT-S",
    "outputId": "4bf46b6d-fb80-4005-c0ce-a1bb4ab78ea0",
    "slideshow": {
     "slide_type": "fragment"
    }
   },
   "outputs": [],
   "source": [
    "'12' + '3'"
   ]
  },
  {
   "cell_type": "code",
   "execution_count": null,
   "metadata": {
    "colab": {
     "base_uri": "https://localhost:8080/"
    },
    "executionInfo": {
     "elapsed": 356,
     "status": "ok",
     "timestamp": 1660031541333,
     "user": {
      "displayName": "Naruemon Pratanwanich",
      "userId": "04240363400547583642"
     },
     "user_tz": -420
    },
    "id": "DnpBOf0HwbB8",
    "outputId": "5cc4922c-567a-45b4-82c3-6b85935d4b1d",
    "slideshow": {
     "slide_type": "fragment"
    }
   },
   "outputs": [],
   "source": [
    "12 + 3"
   ]
  },
  {
   "cell_type": "code",
   "execution_count": null,
   "metadata": {
    "colab": {
     "base_uri": "https://localhost:8080/",
     "height": 57
    },
    "executionInfo": {
     "elapsed": 384,
     "status": "ok",
     "timestamp": 1660031579291,
     "user": {
      "displayName": "Naruemon Pratanwanich",
      "userId": "04240363400547583642"
     },
     "user_tz": -420
    },
    "id": "WbytQNDil2OJ",
    "outputId": "b8a82f12-ce4e-45b1-eb10-448cffcbb341",
    "slideshow": {
     "slide_type": "fragment"
    }
   },
   "outputs": [],
   "source": [
    "'5'*10"
   ]
  },
  {
   "cell_type": "code",
   "execution_count": null,
   "metadata": {
    "colab": {
     "base_uri": "https://localhost:8080/",
     "height": 57
    },
    "executionInfo": {
     "elapsed": 434,
     "status": "ok",
     "timestamp": 1660031603821,
     "user": {
      "displayName": "Naruemon Pratanwanich",
      "userId": "04240363400547583642"
     },
     "user_tz": -420
    },
    "id": "7VcUoKI7l_At",
    "outputId": "47c8a50b-eeb1-4560-b491-b3380c08a722",
    "slideshow": {
     "slide_type": "fragment"
    }
   },
   "outputs": [],
   "source": [
    "'hello'*4"
   ]
  },
  {
   "cell_type": "code",
   "execution_count": null,
   "metadata": {
    "colab": {
     "base_uri": "https://localhost:8080/",
     "height": 188
    },
    "executionInfo": {
     "elapsed": 493,
     "status": "error",
     "timestamp": 1660031620402,
     "user": {
      "displayName": "Naruemon Pratanwanich",
      "userId": "04240363400547583642"
     },
     "user_tz": -420
    },
    "id": "l1fziYdMmCgf",
    "outputId": "184bce0a-09d3-445c-a8a6-eb65fc8118fb",
    "slideshow": {
     "slide_type": "fragment"
    }
   },
   "outputs": [],
   "source": [
    "'hello'*4.5"
   ]
  },
  {
   "cell_type": "markdown",
   "metadata": {
    "id": "xHXR7p4n0qTS",
    "slideshow": {
     "slide_type": "slide"
    }
   },
   "source": [
    "#### 3. Comparison\n",
    "\n",
    "The comparison outcome is boolean.\n",
    "\n",
    "* `==` Equal\n",
    "* `!=` Not equal\n",
    "* `>`  Greater than\n",
    "* `>=` Greater than or equal to\n",
    "* `<`  Less than\n",
    "* `<=` Less than or equal to"
   ]
  },
  {
   "cell_type": "markdown",
   "metadata": {
    "id": "QuEMKcPIv9of",
    "slideshow": {
     "slide_type": "slide"
    }
   },
   "source": [
    "#### 4. Logical operators\n",
    "The precedence shown below is from highest to lowest.\n",
    "\n",
    "* `not` \n",
    "* `and` \n",
    "* `or`  \n"
   ]
  },
  {
   "cell_type": "code",
   "execution_count": null,
   "metadata": {
    "colab": {
     "base_uri": "https://localhost:8080/"
    },
    "executionInfo": {
     "elapsed": 358,
     "status": "ok",
     "timestamp": 1660031727892,
     "user": {
      "displayName": "Naruemon Pratanwanich",
      "userId": "04240363400547583642"
     },
     "user_tz": -420
    },
    "id": "2P8rfRu3mZYW",
    "outputId": "0555ba41-e2d1-454f-cb3f-29efda4e1aaa",
    "slideshow": {
     "slide_type": "slide"
    }
   },
   "outputs": [],
   "source": [
    "True and False"
   ]
  },
  {
   "cell_type": "code",
   "execution_count": null,
   "metadata": {
    "colab": {
     "base_uri": "https://localhost:8080/"
    },
    "executionInfo": {
     "elapsed": 339,
     "status": "ok",
     "timestamp": 1660031744117,
     "user": {
      "displayName": "Naruemon Pratanwanich",
      "userId": "04240363400547583642"
     },
     "user_tz": -420
    },
    "id": "oeaf2xFfmhJi",
    "outputId": "cf146856-bd56-40d5-a798-50828cc22e44",
    "slideshow": {
     "slide_type": "fragment"
    }
   },
   "outputs": [],
   "source": [
    "5 == 9-4"
   ]
  },
  {
   "cell_type": "code",
   "execution_count": null,
   "metadata": {
    "id": "hf95GyMHm1Np",
    "slideshow": {
     "slide_type": "fragment"
    }
   },
   "outputs": [],
   "source": [
    "# How can you compare string in python?"
   ]
  },
  {
   "cell_type": "code",
   "execution_count": null,
   "metadata": {
    "colab": {
     "base_uri": "https://localhost:8080/"
    },
    "executionInfo": {
     "elapsed": 489,
     "status": "ok",
     "timestamp": 1660031807209,
     "user": {
      "displayName": "Naruemon Pratanwanich",
      "userId": "04240363400547583642"
     },
     "user_tz": -420
    },
    "id": "Rqr3BLsEmvCn",
    "outputId": "e2543fe5-b880-40a2-de3d-922e9817b3a3",
    "slideshow": {
     "slide_type": "fragment"
    }
   },
   "outputs": [],
   "source": [
    "'Lookmai' == 'Lookmi'"
   ]
  },
  {
   "cell_type": "markdown",
   "metadata": {
    "id": "Ldm58RhY1KoD",
    "slideshow": {
     "slide_type": "slide"
    }
   },
   "source": [
    "<font color='blue'>Exercises:</font> "
   ]
  },
  {
   "cell_type": "markdown",
   "metadata": {
    "id": "g4AgQpE2yLFV",
    "slideshow": {
     "slide_type": "fragment"
    }
   },
   "source": [
    "Check if 2563 is divisible by 4 or ends with 63 (Hint: modulo)"
   ]
  },
  {
   "cell_type": "code",
   "execution_count": 2,
   "metadata": {
    "id": "q4cnl_09w5QH",
    "slideshow": {
     "slide_type": "fragment"
    }
   },
   "outputs": [
    {
     "data": {
      "text/plain": [
       "True"
      ]
     },
     "execution_count": 2,
     "metadata": {},
     "output_type": "execute_result"
    }
   ],
   "source": [
    "# Code here\n",
    "(2563 % 4 == 0) or (2563 % 100 == 63)"
   ]
  },
  {
   "cell_type": "markdown",
   "metadata": {
    "id": "g6Qhjdh37YC4",
    "slideshow": {
     "slide_type": "fragment"
    }
   },
   "source": [
    "Check 2050 is considered the 21st century."
   ]
  },
  {
   "cell_type": "code",
   "execution_count": 4,
   "metadata": {
    "id": "bYytzvYU7oMB",
    "slideshow": {
     "slide_type": "fragment"
    }
   },
   "outputs": [
    {
     "data": {
      "text/plain": [
       "True"
      ]
     },
     "execution_count": 4,
     "metadata": {},
     "output_type": "execute_result"
    }
   ],
   "source": [
    "# Code here\n",
    "2000 < 2050 <= 2100"
   ]
  },
  {
   "cell_type": "markdown",
   "metadata": {
    "id": "1y5LVfZ1y8si",
    "slideshow": {
     "slide_type": "slide"
    }
   },
   "source": [
    "### Variables\n",
    "\n",
    "A variable is <font color='red'>a name</font> that is assigned a <font color='red'>value</font> stored in the program memory. Take `score = 50` as an example, what happened in the program memory is logically illustrated below. \n",
    "\n",
    "<img src=\"https://github.com/ploy-np/python/blob/master/images/variable.jpg?raw=1\" height='100' alt=\"variable\"/>\n",
    "\n",
    "After assignment, we can use the value stored in the variable anytime. Moreover, we can reassign the variable with any new value."
   ]
  },
  {
   "cell_type": "markdown",
   "metadata": {
    "id": "Q2mJIk-v1vEz",
    "slideshow": {
     "slide_type": "subslide"
    }
   },
   "source": [
    "#### Naming a variable\n",
    "* A variable name can be started with any English alphabet or `_`, followed by unlimited number of alphabets, numbers, or `_`.\n",
    "* Space and other special characters such as `+  - * / % & ^ . @ $ are not allowed.\n",
    "* Variable names must not be the same as Python keywords.\n",
    "* Variable names are case sensitive. In other words, upper cases are different from lower cases. For example, `score` and `Score` refer to different variables.\n",
    "* Variable names should represent the values they store, which helps our understanding.\n",
    "\n",
    "Examples of valid variable names are `x y i _name __credit com_prog _170 mathScore math_score`\n",
    "\n",
    "Examples of invalid variable names are  `170 com-prog math.Score`\n"
   ]
  },
  {
   "cell_type": "markdown",
   "metadata": {
    "id": "okQJuJGEzUhT",
    "slideshow": {
     "slide_type": "subslide"
    }
   },
   "source": [
    "#### Assignment statement\n",
    "\n",
    "The symbol `=` is used to assign a value to a variable as shown below.\n",
    "\n",
    "```python\n",
    "<aVariable> = <aValue> # The value can be constant, another variable holding its value, any expression, or any value-returning functions.\n",
    "```\n",
    "\n",
    "The program to associate the value on the right hand side of `=` with the variable on the left hand side.\n",
    "Thus, the variable type is the same as the value type it carries.\n"
   ]
  },
  {
   "cell_type": "code",
   "execution_count": 9,
   "metadata": {
    "id": "2-vKJRcfSVQ1",
    "slideshow": {
     "slide_type": "slide"
    }
   },
   "outputs": [
    {
     "name": "stdout",
     "output_type": "stream",
     "text": [
      "12\n",
      "14\n"
     ]
    }
   ],
   "source": [
    "# Ex.\n",
    "width = 3\n",
    "length = 4\n",
    "area = width * length\n",
    "print(area)\n",
    "perimeter = 2 * (width + length)\n",
    "\n",
    "print(perimeter)"
   ]
  },
  {
   "cell_type": "markdown",
   "metadata": {
    "id": "Xaph2RR7T_xB",
    "slideshow": {
     "slide_type": "fragment"
    }
   },
   "source": [
    "<font color='orange'>Tips</font> We can use `print()`, a built-in function, to show the value that the variable of interest is holding on screen. More details about functions are explained later in this chapter."
   ]
  },
  {
   "cell_type": "code",
   "execution_count": 8,
   "metadata": {
    "id": "EOVgZIhrUQRv",
    "slideshow": {
     "slide_type": "fragment"
    }
   },
   "outputs": [
    {
     "name": "stdout",
     "output_type": "stream",
     "text": [
      "12\n"
     ]
    }
   ],
   "source": [
    "print(area)"
   ]
  },
  {
   "cell_type": "code",
   "execution_count": null,
   "metadata": {
    "id": "pFAA8bD2eSnF",
    "slideshow": {
     "slide_type": "fragment"
    }
   },
   "outputs": [],
   "source": [
    "print(perimeter)"
   ]
  },
  {
   "cell_type": "code",
   "execution_count": 10,
   "metadata": {
    "id": "vHa-0pdqeTUO",
    "slideshow": {
     "slide_type": "fragment"
    }
   },
   "outputs": [
    {
     "ename": "NameError",
     "evalue": "name 'height' is not defined",
     "output_type": "error",
     "traceback": [
      "\u001b[0;31m---------------------------------------------------------------------------\u001b[0m",
      "\u001b[0;31mNameError\u001b[0m                                 Traceback (most recent call last)",
      "Input \u001b[0;32mIn [10]\u001b[0m, in \u001b[0;36m<cell line: 1>\u001b[0;34m()\u001b[0m\n\u001b[0;32m----> 1\u001b[0m \u001b[38;5;28mprint\u001b[39m(\u001b[43mheight\u001b[49m)\n",
      "\u001b[0;31mNameError\u001b[0m: name 'height' is not defined"
     ]
    }
   ],
   "source": [
    "print(height) # Since height is defined, this line of code will produce a NameError."
   ]
  },
  {
   "cell_type": "markdown",
   "metadata": {
    "id": "CPM6s3RYbfsG",
    "slideshow": {
     "slide_type": "fragment"
    }
   },
   "source": [
    "<font color='orange'>Tips:</font> We can assign multiple values to multiple variables in a single line using comma `,` in between. The number of values to assign has to be equal to "
   ]
  },
  {
   "cell_type": "code",
   "execution_count": 12,
   "metadata": {
    "id": "XwtjMTUWbe6p",
    "slideshow": {
     "slide_type": "fragment"
    }
   },
   "outputs": [
    {
     "ename": "ValueError",
     "evalue": "not enough values to unpack (expected 3, got 2)",
     "output_type": "error",
     "traceback": [
      "\u001b[0;31m---------------------------------------------------------------------------\u001b[0m",
      "\u001b[0;31mValueError\u001b[0m                                Traceback (most recent call last)",
      "Input \u001b[0;32mIn [12]\u001b[0m, in \u001b[0;36m<cell line: 1>\u001b[0;34m()\u001b[0m\n\u001b[0;32m----> 1\u001b[0m topic, width, length \u001b[38;5;241m=\u001b[39m \u001b[38;5;124m'\u001b[39m\u001b[38;5;124mvariables\u001b[39m\u001b[38;5;124m'\u001b[39m,\u001b[38;5;241m3\u001b[39m\n",
      "\u001b[0;31mValueError\u001b[0m: not enough values to unpack (expected 3, got 2)"
     ]
    }
   ],
   "source": [
    "topic, width, length = 'variables',3"
   ]
  },
  {
   "cell_type": "code",
   "execution_count": 14,
   "metadata": {
    "id": "FIIj-wsLcv66",
    "slideshow": {
     "slide_type": "slide"
    }
   },
   "outputs": [
    {
     "name": "stdout",
     "output_type": "stream",
     "text": [
      "x: 2 y: 2\n"
     ]
    }
   ],
   "source": [
    "# Set up the variables x and y\n",
    "x,y = 1,2\n",
    "# Write a statement to swap the values between x and y \n",
    "\n",
    "# code here\n",
    "# x,y = y,x\n",
    "x = y\n",
    "y = x\n",
    "\n",
    "# Show the values stored in x and y respectively on screen\n",
    "print('x:',x,'y:',y)"
   ]
  },
  {
   "cell_type": "markdown",
   "metadata": {
    "id": "tVbmcCr62PZ2",
    "slideshow": {
     "slide_type": "fragment"
    }
   },
   "source": [
    "<font color='pink'>Note:</font> The prgram executes the code sequentially from top to bottom. If the code are in different code cells, the program execution order depends on the order we run the code cells."
   ]
  },
  {
   "cell_type": "code",
   "execution_count": 15,
   "metadata": {
    "id": "VjkLBXlMUpCl",
    "slideshow": {
     "slide_type": "slide"
    }
   },
   "outputs": [
    {
     "name": "stdout",
     "output_type": "stream",
     "text": [
      "Hello\n"
     ]
    }
   ],
   "source": [
    "text = 'Hello'\n",
    "print(text)"
   ]
  },
  {
   "cell_type": "code",
   "execution_count": 16,
   "metadata": {
    "id": "hByCdhPvUxy5",
    "slideshow": {
     "slide_type": "fragment"
    }
   },
   "outputs": [
    {
     "name": "stdout",
     "output_type": "stream",
     "text": [
      "HelloWorld\n"
     ]
    }
   ],
   "source": [
    "text = text + 'World'\n",
    "print(text)"
   ]
  },
  {
   "cell_type": "markdown",
   "metadata": {
    "id": "yABDlgSGdYDP",
    "slideshow": {
     "slide_type": "slide"
    }
   },
   "source": [
    "<font color='blue'>Q:</font> How has the value of each variable changed after the program executes the code below line by line? \n",
    "Fill in the value of each value in the table after the program executes the code upto that line specified in the table.\n",
    "\n",
    "Line | x | y | a | b | c |\n",
    "------|---|---|---|---|---|\n",
    "1 `x = 5` | 5 | - | - | - | - | \n",
    "2 `print('x:',x)` | 5 | - | - | - | - |\n",
    "3 `y = 10` |   |   |   |   |   |\n",
    "4 `print('x:',x, 'y:',y)` |   |   |   |   |   |\n",
    "5 `x = y` |   |   |   |   |   |\n",
    "6 `y-10` |   |   |   |   |   |\n",
    "7 `y = x` |   |   |   |   |   |\n",
    "8 `x = y+1` |   |   |   |   |   |\n",
    "9 `a = x < 20` |   |   |   |   |   |\n",
    "10 `b = x < 2*y` |   |   |   |   |   |\n",
    "11 `a != b` |   |   |   |   |   |\n",
    "12 `c = not a or b and 2*x < y/2` |   |   |   |   |   |\n",
    "13 `print(a and not(x<y),x+3)` |   |   |   |   |   |\n",
    "14 `x = '7'` |   |   |   |   |   |\n",
    "15 `x = x*2` |   |   |   |   |   |\n",
    "16 `y = int(x)` |   |   |   |   |   |\n",
    "17 `x == 'x'` |   |   |   |   |   |\n",
    "18 `a = 2*'a'+x` |   |   |   |   |   |\n",
    "\n",
    "(Hint: You can insert your own line of code using `print` anywhere in the code to check your answer). "
   ]
  },
  {
   "cell_type": "code",
   "execution_count": 17,
   "metadata": {
    "id": "oNu7fyuCdrqT",
    "slideshow": {
     "slide_type": "fragment"
    }
   },
   "outputs": [
    {
     "name": "stdout",
     "output_type": "stream",
     "text": [
      "x: 5\n",
      "x: 5 y: 10\n",
      "10 10\n",
      "10 10\n",
      "10 10\n",
      "True\n",
      "True 14\n"
     ]
    }
   ],
   "source": [
    "x = 5 \n",
    "print('x:',x) # This line will show the value of x after the first line is executed.\n",
    "y = 10\n",
    "print('x:',x, 'y:',y) # This line will show the value of x after the top three lines are executed.\n",
    "x = y\n",
    "print(x,y)\n",
    "y-10\n",
    "print(x,y)\n",
    "y = x\n",
    "print(x,y)\n",
    "x = y+1\n",
    "a = x < 20\n",
    "print(a)\n",
    "b = x < 2*y\n",
    "a != b\n",
    "c = not a or b and 2*x < y/2\n",
    "print(a and not(x<y),x+3)\n",
    "x = '7'\n",
    "x = x*2\n",
    "y = int(x)\n",
    "x == 'x'\n",
    "a = 2*'a'+x"
   ]
  },
  {
   "cell_type": "markdown",
   "metadata": {
    "id": "NhiQbXS8Wzrp",
    "slideshow": {
     "slide_type": "slide"
    }
   },
   "source": [
    "### Functions\n",
    "\n",
    "* Function is a sub program containing statements which perform a specific task, which can be reused by just calling the function name. \n",
    "* In Python, there are built-in functions that are ready to be called.\n",
    "* In addition to the built-in functions, there are many other functions, which are systematically bundled in a module. Thus, before calling it, we need to import the module in the program memory first, using\n",
    "\n",
    "```python\n",
    "import <moduleName> \n",
    "``` \n",
    "or\n",
    "```python\n",
    "import <moduleName> as <alias>\n",
    "``` \n",
    "* **Calling a function**\n",
    "  * We can directly call a bult-in function:\n",
    "  ```python\n",
    "  <functionName>(<parametersIfneeded>)\n",
    "  ```\n",
    "  * For those functions in a specific module, \n",
    "  ```python\n",
    "  <moduleNameOrAlias>.<functionName>(<parametersIfneeded>)\n",
    "  ```\n",
    "  * The parameters / arguments specified in `()` are passed to the function in the required order in order to be processed within the function. Multiple parameters are separated by commas `,`. If the function does not require any parameter, we can leave it empty `()`.\n",
    "     "
   ]
  },
  {
   "cell_type": "code",
   "execution_count": 18,
   "metadata": {
    "slideshow": {
     "slide_type": "fragment"
    }
   },
   "outputs": [
    {
     "name": "stdout",
     "output_type": "stream",
     "text": [
      "Hello\n",
      "\n",
      "World !!\n"
     ]
    }
   ],
   "source": [
    "print('Hello')\n",
    "print()\n",
    "print('World','!!')"
   ]
  },
  {
   "cell_type": "code",
   "execution_count": 19,
   "metadata": {
    "slideshow": {
     "slide_type": "fragment"
    }
   },
   "outputs": [
    {
     "data": {
      "text/plain": [
       "1.3862943611198906"
      ]
     },
     "execution_count": 19,
     "metadata": {},
     "output_type": "execute_result"
    }
   ],
   "source": [
    "import math as m\n",
    "m.log(4)"
   ]
  },
  {
   "cell_type": "code",
   "execution_count": 22,
   "metadata": {
    "slideshow": {
     "slide_type": "fragment"
    }
   },
   "outputs": [
    {
     "data": {
      "text/plain": [
       "3.141592653589793"
      ]
     },
     "execution_count": 22,
     "metadata": {},
     "output_type": "execute_result"
    }
   ],
   "source": [
    "m.pi"
   ]
  },
  {
   "cell_type": "markdown",
   "metadata": {
    "id": "j4AuDGsEAIaV",
    "slideshow": {
     "slide_type": "subslide"
    }
   },
   "source": [
    "* There are two Functions in Python.\n",
    "1. Void functions are those that return nothing or `None`.\n",
    "2. Value-returning functions are those that return at least a value, which can assign to a variable or a collection of variables afterwards.\n"
   ]
  },
  {
   "cell_type": "markdown",
   "metadata": {
    "id": "4rSE5zLmmMD5",
    "slideshow": {
     "slide_type": "fragment"
    }
   },
   "source": [
    "<img src=\"https://github.com/ploy-np/python/blob/master/images/function_pipe.png?raw=1\" alt=\"variable\"/>"
   ]
  },
  {
   "cell_type": "markdown",
   "metadata": {
    "id": "f7Mg15TtAyqN",
    "slideshow": {
     "slide_type": "slide"
    }
   },
   "source": [
    "**Q:** Given the code below, what is the function name? How many parameters are there? What are parameters and their data types? "
   ]
  },
  {
   "cell_type": "code",
   "execution_count": 24,
   "metadata": {
    "id": "QxVNd3N0BxYG",
    "slideshow": {
     "slide_type": "fragment"
    }
   },
   "outputs": [
    {
     "name": "stdout",
     "output_type": "stream",
     "text": [
      "You get 30% discount from the price tag of 200 baht. So, you need to pay 140.0 baht\n",
      "None\n"
     ]
    }
   ],
   "source": [
    "a = print('You get 30% discount from the price tag of 200 baht. So, you need to pay',0.7*200,'baht')\n",
    "print(a)"
   ]
  },
  {
   "cell_type": "markdown",
   "metadata": {
    "id": "08LB4zVIYkc0",
    "slideshow": {
     "slide_type": "fragment"
    }
   },
   "source": [
    "<font color='orange'>Note:</font> The values shown on the screen are not considered the values returned from the `print` function, which is a void function. You can investigate this by calling `print` and assiging the output to a variable to a variable and print it out. See below."
   ]
  },
  {
   "cell_type": "code",
   "execution_count": 25,
   "metadata": {
    "id": "tEz-ganl1VeJ",
    "slideshow": {
     "slide_type": "fragment"
    }
   },
   "outputs": [
    {
     "name": "stdout",
     "output_type": "stream",
     "text": [
      "Hello\n",
      "None\n"
     ]
    }
   ],
   "source": [
    "# What is the value of x? Give a reason why.\n",
    "x = print('Hello')\n",
    "print(x)"
   ]
  },
  {
   "cell_type": "markdown",
   "metadata": {
    "id": "6zh3lc2i10r_",
    "slideshow": {
     "slide_type": "slide"
    }
   },
   "source": [
    "**Q:** Given the code below, what is the function name? Is it a void function or a returning-value function? How many parameters are there? What are parameters and their data types? Guess what this function does."
   ]
  },
  {
   "cell_type": "code",
   "execution_count": 30,
   "metadata": {
    "id": "waPcWKDYEJXM",
    "slideshow": {
     "slide_type": "fragment"
    }
   },
   "outputs": [
    {
     "ename": "ValueError",
     "evalue": "invalid literal for int() with base 10: '3.5'",
     "output_type": "error",
     "traceback": [
      "\u001b[0;31m---------------------------------------------------------------------------\u001b[0m",
      "\u001b[0;31mValueError\u001b[0m                                Traceback (most recent call last)",
      "Input \u001b[0;32mIn [30]\u001b[0m, in \u001b[0;36m<cell line: 1>\u001b[0;34m()\u001b[0m\n\u001b[0;32m----> 1\u001b[0m y \u001b[38;5;241m=\u001b[39m \u001b[38;5;28;43mint\u001b[39;49m\u001b[43m(\u001b[49m\u001b[38;5;124;43m'\u001b[39;49m\u001b[38;5;124;43m3.5\u001b[39;49m\u001b[38;5;124;43m'\u001b[39;49m\u001b[43m)\u001b[49m\n\u001b[1;32m      2\u001b[0m \u001b[38;5;28mprint\u001b[39m(y)\n",
      "\u001b[0;31mValueError\u001b[0m: invalid literal for int() with base 10: '3.5'"
     ]
    }
   ],
   "source": [
    "y = int('3.5')\n",
    "print(y)"
   ]
  },
  {
   "cell_type": "markdown",
   "metadata": {
    "id": "kvg6IDx9Ddv7",
    "slideshow": {
     "slide_type": "slide"
    }
   },
   "source": [
    "### Basic built-in functions"
   ]
  },
  {
   "cell_type": "markdown",
   "metadata": {
    "id": "ZXsMJU8bXJr0",
    "slideshow": {
     "slide_type": "slide"
    }
   },
   "source": [
    "#### `print`: A void function to show the parameters on screen.\n",
    "\n",
    "* Accepts any number of parameters to print on screen, which can be any data types.\n",
    "* If more than one parameters, as usual, they will be separated by a comma. Each parameter will be converted into a string message shown on screen, separated by a space by default.\n",
    "* When the `print` function is called each time, a new line is automatically made by default.\n"
   ]
  },
  {
   "cell_type": "code",
   "execution_count": 34,
   "metadata": {
    "id": "SAU6-VIyEiZ9",
    "slideshow": {
     "slide_type": "fragment"
    }
   },
   "outputs": [
    {
     "name": "stdout",
     "output_type": "stream",
     "text": [
      "There will be 10 exercises at the end of this chapter.ลูกไม้Enjoy!\n"
     ]
    }
   ],
   "source": [
    "n = 10\n",
    "print('There will be',n,'exercises at the end of this chapter.',end='ลูกไม้')\n",
    "print('Enjoy!')"
   ]
  },
  {
   "cell_type": "markdown",
   "metadata": {
    "id": "UDRjbOi4XjWf",
    "slideshow": {
     "slide_type": "slide"
    }
   },
   "source": [
    "#### `type`: Accepts a parameter and returns its data type.\n"
   ]
  },
  {
   "cell_type": "code",
   "execution_count": 35,
   "metadata": {
    "id": "Y1hHS7w8FQ2U",
    "slideshow": {
     "slide_type": "fragment"
    }
   },
   "outputs": [
    {
     "name": "stdout",
     "output_type": "stream",
     "text": [
      "<class 'str'> <class 'int'> <class 'float'> <class 'bool'>\n"
     ]
    }
   ],
   "source": [
    "# Is type a void function or a returning-value function\n",
    "a = type('a')\n",
    "b = type(-1)\n",
    "c = type(3.8)\n",
    "d = type(c==3.8)\n",
    "\n",
    "print(a,b,c,d)"
   ]
  },
  {
   "cell_type": "markdown",
   "metadata": {
    "id": "UkPy0KXdXrFm",
    "slideshow": {
     "slide_type": "slide"
    }
   },
   "source": [
    "#### `int`, `float`, `str`: Accept a parameter and convert its data type to int, float and string respectively.\n"
   ]
  },
  {
   "cell_type": "code",
   "execution_count": 36,
   "metadata": {
    "id": "UIFcBzHxL_yf",
    "slideshow": {
     "slide_type": "fragment"
    }
   },
   "outputs": [
    {
     "name": "stdout",
     "output_type": "stream",
     "text": [
      "4\n"
     ]
    }
   ],
   "source": [
    "# Convert float to int\n",
    "x = int(4.5)\n",
    "print(x)"
   ]
  },
  {
   "cell_type": "code",
   "execution_count": 37,
   "metadata": {
    "id": "7iLYADO2MPCH",
    "slideshow": {
     "slide_type": "fragment"
    }
   },
   "outputs": [
    {
     "name": "stdout",
     "output_type": "stream",
     "text": [
      "4\n"
     ]
    }
   ],
   "source": [
    "# Convert str to int\n",
    "x = int('4')\n",
    "print(x)"
   ]
  },
  {
   "cell_type": "code",
   "execution_count": 49,
   "metadata": {
    "id": "kVxSWnMHMU6c",
    "slideshow": {
     "slide_type": "fragment"
    }
   },
   "outputs": [
    {
     "name": "stdout",
     "output_type": "stream",
     "text": [
      "Enter you weight: 45.5\n",
      "91.0\n"
     ]
    }
   ],
   "source": [
    "# Convert str to int -> Error? Why? Can you correct it?\n",
    "# x = int('4.5')\n",
    "# print(x)\n",
    "\n",
    "# print(int(float('4.5')))\n",
    "\n",
    "# weight = float(input('Enter you weight: '))\n",
    "# print(weight*2)\n",
    "\n",
    "# weight = input('Enter you weight: ')\n",
    "# print(float(weight)*2)\n",
    "# print(type(weight))\n",
    "\n",
    "weight = input('Enter you weight: ')\n",
    "weight = float(weight)\n",
    "print(weight*2)"
   ]
  },
  {
   "cell_type": "code",
   "execution_count": 39,
   "metadata": {
    "id": "c6V_dH57Mei5",
    "slideshow": {
     "slide_type": "fragment"
    }
   },
   "outputs": [
    {
     "name": "stdout",
     "output_type": "stream",
     "text": [
      "0.028\n"
     ]
    }
   ],
   "source": [
    "# Covert str to float\n",
    "x = float('2.8e-2')\n",
    "print(x)"
   ]
  },
  {
   "cell_type": "code",
   "execution_count": 40,
   "metadata": {
    "id": "3RZVRh5GNQDQ",
    "slideshow": {
     "slide_type": "fragment"
    }
   },
   "outputs": [
    {
     "name": "stdout",
     "output_type": "stream",
     "text": [
      "2.0\n"
     ]
    }
   ],
   "source": [
    "# Convert string to float (Why the output is 2.0 not 2?)\n",
    "x = float('2')\n",
    "print(x)"
   ]
  },
  {
   "cell_type": "code",
   "execution_count": 41,
   "metadata": {
    "id": "tUAGclCWV5av",
    "slideshow": {
     "slide_type": "fragment"
    }
   },
   "outputs": [
    {
     "ename": "ValueError",
     "evalue": "could not convert string to float: 'two'",
     "output_type": "error",
     "traceback": [
      "\u001b[0;31m---------------------------------------------------------------------------\u001b[0m",
      "\u001b[0;31mValueError\u001b[0m                                Traceback (most recent call last)",
      "Input \u001b[0;32mIn [41]\u001b[0m, in \u001b[0;36m<cell line: 1>\u001b[0;34m()\u001b[0m\n\u001b[0;32m----> 1\u001b[0m \u001b[38;5;28;43mfloat\u001b[39;49m\u001b[43m(\u001b[49m\u001b[38;5;124;43m'\u001b[39;49m\u001b[38;5;124;43mtwo\u001b[39;49m\u001b[38;5;124;43m'\u001b[39;49m\u001b[43m)\u001b[49m\n",
      "\u001b[0;31mValueError\u001b[0m: could not convert string to float: 'two'"
     ]
    }
   ],
   "source": [
    "float('two') # Error? Why?"
   ]
  },
  {
   "cell_type": "code",
   "execution_count": 42,
   "metadata": {
    "id": "AULHa2cYNd6l",
    "slideshow": {
     "slide_type": "fragment"
    }
   },
   "outputs": [
    {
     "name": "stdout",
     "output_type": "stream",
     "text": [
      "0.028\n"
     ]
    }
   ],
   "source": [
    "# Convert float to string and print\n",
    "# Multiple functions can be recursively called.\n",
    "# In this case, the value returned from the str function will be passed to the print function directly.\n",
    "print(str(2.8e-2)) "
   ]
  },
  {
   "cell_type": "markdown",
   "metadata": {
    "id": "dCDI3TNUfcCB",
    "slideshow": {
     "slide_type": "slide"
    }
   },
   "source": [
    "#### `len`: Accepts a string or collection parameter and returns the number of characters in the string (string length) or the number of items in the collection as int. "
   ]
  },
  {
   "cell_type": "code",
   "execution_count": 52,
   "metadata": {
    "id": "oYWpI6AnnFxQ",
    "slideshow": {
     "slide_type": "fragment"
    }
   },
   "outputs": [
    {
     "data": {
      "text/plain": [
       "12"
      ]
     },
     "execution_count": 52,
     "metadata": {},
     "output_type": "execute_result"
    }
   ],
   "source": [
    "len('12 345')"
   ]
  },
  {
   "cell_type": "code",
   "execution_count": 51,
   "metadata": {
    "id": "1HwuSQyEM-me",
    "slideshow": {
     "slide_type": "fragment"
    }
   },
   "outputs": [
    {
     "data": {
      "text/plain": [
       "78"
      ]
     },
     "execution_count": 51,
     "metadata": {},
     "output_type": "execute_result"
    }
   ],
   "source": [
    "len('Getting A in Python 170 is not difficult. Just practice, practice and practice')"
   ]
  },
  {
   "cell_type": "markdown",
   "metadata": {
    "id": "DTjubazJX3G6",
    "slideshow": {
     "slide_type": "slide"
    }
   },
   "source": [
    "#### `input`: Accepts a string parameter adn shows it on screen, then waits for an input from keyboards until the `Enter` button is hit, and returns the input as string."
   ]
  },
  {
   "cell_type": "code",
   "execution_count": 53,
   "metadata": {
    "colab": {
     "base_uri": "https://localhost:8080/"
    },
    "executionInfo": {
     "elapsed": 8559,
     "status": "ok",
     "timestamp": 1660031993734,
     "user": {
      "displayName": "Naruemon Pratanwanich",
      "userId": "04240363400547583642"
     },
     "user_tz": -420
    },
    "id": "C7eovm13NweQ",
    "outputId": "79ef93fc-1595-4544-eae6-ce4103fe671d",
    "slideshow": {
     "slide_type": "fragment"
    }
   },
   "outputs": [
    {
     "name": "stdout",
     "output_type": "stream",
     "text": [
      "Enter your name:ลูกไม้\n",
      "Hello ลูกไม้\n"
     ]
    }
   ],
   "source": [
    "x = input('Enter your name:') \n",
    "print('Hello',x)"
   ]
  },
  {
   "cell_type": "code",
   "execution_count": 54,
   "metadata": {
    "id": "qj6W1ScRYzvZ",
    "slideshow": {
     "slide_type": "fragment"
    }
   },
   "outputs": [
    {
     "name": "stdout",
     "output_type": "stream",
     "text": [
      "Enter a number:23\n"
     ]
    },
    {
     "data": {
      "text/plain": [
       "'23'"
      ]
     },
     "execution_count": 54,
     "metadata": {},
     "output_type": "execute_result"
    }
   ],
   "source": [
    "input('Enter a number:') # The input function always return a value as string."
   ]
  },
  {
   "cell_type": "markdown",
   "metadata": {
    "id": "jr-fnbT7VtE1",
    "slideshow": {
     "slide_type": "slide"
    }
   },
   "source": [
    "**Q**: Write a program to accept a number from the user and print its square."
   ]
  },
  {
   "cell_type": "code",
   "execution_count": null,
   "metadata": {
    "id": "JbBWqDHdOO9m",
    "slideshow": {
     "slide_type": "fragment"
    }
   },
   "outputs": [],
   "source": [
    "# Code here"
   ]
  },
  {
   "cell_type": "code",
   "execution_count": 55,
   "metadata": {
    "id": "mvHJ15MCncqJ",
    "slideshow": {
     "slide_type": "fragment"
    }
   },
   "outputs": [
    {
     "name": "stdout",
     "output_type": "stream",
     "text": [
      "Enter your name again:ลูกไม้\n",
      "6\n"
     ]
    }
   ],
   "source": [
    "print(len(input('Enter your name again:'))) \n",
    "# The value returned from the input function is passed as a parameter to the len function.\n",
    "# The value returned from the len function is passed as a parameter to the print function."
   ]
  },
  {
   "cell_type": "code",
   "execution_count": 56,
   "metadata": {
    "id": "xMxmMwhrR1r_",
    "slideshow": {
     "slide_type": "fragment"
    }
   },
   "outputs": [
    {
     "name": "stdout",
     "output_type": "stream",
     "text": [
      "12345\n"
     ]
    },
    {
     "ename": "TypeError",
     "evalue": "object of type 'NoneType' has no len()",
     "output_type": "error",
     "traceback": [
      "\u001b[0;31m---------------------------------------------------------------------------\u001b[0m",
      "\u001b[0;31mTypeError\u001b[0m                                 Traceback (most recent call last)",
      "Input \u001b[0;32mIn [56]\u001b[0m, in \u001b[0;36m<cell line: 1>\u001b[0;34m()\u001b[0m\n\u001b[0;32m----> 1\u001b[0m \u001b[38;5;28;43mlen\u001b[39;49m\u001b[43m(\u001b[49m\u001b[38;5;28;43mprint\u001b[39;49m\u001b[43m(\u001b[49m\u001b[38;5;124;43m'\u001b[39;49m\u001b[38;5;124;43m12345\u001b[39;49m\u001b[38;5;124;43m'\u001b[39;49m\u001b[43m)\u001b[49m\u001b[43m)\u001b[49m\n",
      "\u001b[0;31mTypeError\u001b[0m: object of type 'NoneType' has no len()"
     ]
    }
   ],
   "source": [
    "len(print('12345')) # Error? Why?"
   ]
  },
  {
   "cell_type": "code",
   "execution_count": 58,
   "metadata": {
    "id": "vedr2xA-SSTR",
    "slideshow": {
     "slide_type": "fragment"
    }
   },
   "outputs": [
    {
     "name": "stdout",
     "output_type": "stream",
     "text": [
      "Enter a number: ploy\n"
     ]
    },
    {
     "ename": "ValueError",
     "evalue": "invalid literal for int() with base 10: 'ploy'",
     "output_type": "error",
     "traceback": [
      "\u001b[0;31m---------------------------------------------------------------------------\u001b[0m",
      "\u001b[0;31mValueError\u001b[0m                                Traceback (most recent call last)",
      "Input \u001b[0;32mIn [58]\u001b[0m, in \u001b[0;36m<cell line: 1>\u001b[0;34m()\u001b[0m\n\u001b[0;32m----> 1\u001b[0m \u001b[38;5;28mprint\u001b[39m(\u001b[38;5;28;43mint\u001b[39;49m\u001b[43m(\u001b[49m\u001b[38;5;28;43minput\u001b[39;49m\u001b[43m(\u001b[49m\u001b[38;5;124;43m'\u001b[39;49m\u001b[38;5;124;43mEnter a number: \u001b[39;49m\u001b[38;5;124;43m'\u001b[39;49m\u001b[43m)\u001b[49m\u001b[43m)\u001b[49m)\n",
      "\u001b[0;31mValueError\u001b[0m: invalid literal for int() with base 10: 'ploy'"
     ]
    }
   ],
   "source": [
    "print(int(input('Enter a number: '))) # From what function was the error raised? Why?"
   ]
  },
  {
   "cell_type": "markdown",
   "metadata": {
    "id": "8mEj7pyyYFvG",
    "slideshow": {
     "slide_type": "slide"
    }
   },
   "source": [
    "#### `open`: Accepts a filename and a mode of access, then returns a file object through which several useful functions are available for manipulating the file e.g. `readline`, `write`, `close`.\n",
    "\n",
    "* Function name: open \n",
    "* 1st Argument: (string) filename to access\n",
    "* 2nd Argument: (string) mode of access, which can be one of the following. \n",
    "  * `'r'` for read only.\n",
    "  * `'w'` for write only. When this mode is used on the existing file, the content in the file will be deleted and rewritten as if a new file is created.\n",
    "  * `'a'` for append at the end of the file. Open the file with this mode, the file pointer is at the last position.\n",
    "  * `'r+'` for read and write.\n",
    "* Return: (object) a file object. Usually, an object has its own functions, which can be called `<aFileObject>.<functionName>(<parameters>)`. \n",
    "\n",
    "* `<aFileObject>.readline()`: Read the text in the line where the file pointer is. After that, the file pointer goes to the beginning of the next line.\n",
    "See example below.\n",
    "* `<aFileObject>.write(<textToWrite>)`: Write the given text at the position where the file pointer is. \n",
    "* `<aFileObject>.close()`: Close the file "
   ]
  },
  {
   "cell_type": "code",
   "execution_count": 59,
   "metadata": {
    "id": "1IvOuJPMzF-P",
    "slideshow": {
     "slide_type": "fragment"
    }
   },
   "outputs": [
    {
     "name": "stdout",
     "output_type": "stream",
     "text": [
      "Downloading...\n",
      "From: https://drive.google.com/uc?id=1iCCRLuwIwumIokgbwACJbIvODTuRd1FW\n",
      "To: /Users/Rukawa/odrive/math_chula/teaching/2301170/2022-1-bbtech/for-students/colorcode.txt\n",
      "100%|███████████████████████████████████████████| 133/133 [00:00<00:00, 117kB/s]\n"
     ]
    }
   ],
   "source": [
    "# Download the colorcode.txt file.\n",
    "!gdown --id 1iCCRLuwIwumIokgbwACJbIvODTuRd1FW"
   ]
  },
  {
   "cell_type": "code",
   "execution_count": 65,
   "metadata": {
    "id": "ZuuuqGS-PbYG",
    "slideshow": {
     "slide_type": "fragment"
    }
   },
   "outputs": [
    {
     "name": "stdout",
     "output_type": "stream",
     "text": [
      "line1: Color   Hex     CGA\n",
      "\n",
      "line2: White   #FFFFFF 15\n",
      "\n",
      "line3: Silver  #C0C0C0 07\n",
      "\n",
      "line4: Gray    #808080 08\n",
      "\n",
      "line5: Black   #000000 00\n",
      "\n",
      "line6: Red     #FF0000 12\n",
      "\n",
      "line7: Yellow  #FFFF00 04\n",
      "line8: \n",
      "line9: \n"
     ]
    }
   ],
   "source": [
    "# Open file for read.\n",
    "f = open('colorcode.txt','r') # f = open('colorcode.txt')\n",
    "# print(f)\n",
    "\n",
    "# Read the first line using readline(), a function of the file object, f, and return the content in that line to l1. \n",
    "l1 = f.readline()\n",
    "print('line1:',l1)\n",
    "\n",
    "# Read the first line using readline() again and return the content in that line to l2. \n",
    "l2 = f.readline()\n",
    "print('line2:',l2)\n",
    "\n",
    "# Read the next lines and return the content in that line to l3-l7.\n",
    "l3 = f.readline()\n",
    "l4 = f.readline()\n",
    "l5 = f.readline()\n",
    "l6 = f.readline()\n",
    "\n",
    "# \n",
    "print('line3:',l3) \n",
    "print('line4:',l4)\n",
    "print('line5:',l5) \n",
    "print('line6:',l6)\n",
    "print('line7:',f.readline()) \n",
    "\n",
    "l8 = f.readline()\n",
    "l9 = f.readline()\n",
    "print('line8:',l8) \n",
    "print('line9:',l9) \n",
    "\n",
    "# Close file.\n",
    "f.close()"
   ]
  },
  {
   "cell_type": "markdown",
   "metadata": {
    "id": "Fg6905811oS1",
    "slideshow": {
     "slide_type": "fragment"
    }
   },
   "source": [
    "**Q**: Could you explain the display format shown above?"
   ]
  },
  {
   "cell_type": "code",
   "execution_count": 67,
   "metadata": {
    "id": "9_o8qunJvgqq",
    "slideshow": {
     "slide_type": "fragment"
    }
   },
   "outputs": [
    {
     "name": "stdout",
     "output_type": "stream",
     "text": [
      "Color   Hex     CGA\n",
      " White   #FFFFFF 15\n",
      "\n",
      "Color   Hex     CGA\n",
      "\n",
      "White   #FFFFFF 15\n",
      "\n"
     ]
    }
   ],
   "source": [
    "print(l1,l2)\n",
    "\n",
    "print('Color Hex CGA\\n')\n",
    "print('White #FFFFFF 15\\n')"
   ]
  },
  {
   "cell_type": "markdown",
   "metadata": {
    "id": "_XslEAjfgKIY",
    "slideshow": {
     "slide_type": "fragment"
    }
   },
   "source": [
    "**Q**: Normally, message display on screen using `print` is a space between the two parameters. However, the message displayed above seems not the case. Can you explain why?"
   ]
  },
  {
   "cell_type": "code",
   "execution_count": 73,
   "metadata": {
    "id": "j-jNMeAawS1I",
    "slideshow": {
     "slide_type": "fragment"
    }
   },
   "outputs": [
    {
     "data": {
      "text/plain": [
       "'Black   #000000 00\\nRed     #FF0000 12\\n'"
      ]
     },
     "execution_count": 73,
     "metadata": {},
     "output_type": "execute_result"
    }
   ],
   "source": [
    "# Run this cell without calling through the print function so that we can see what is actually stored in l1.\n",
    "l5+l6"
   ]
  },
  {
   "cell_type": "code",
   "execution_count": null,
   "metadata": {
    "id": "I7pN2jRLwccO",
    "slideshow": {
     "slide_type": "skip"
    }
   },
   "outputs": [],
   "source": [
    "# Run this cell without calling through the print function so that we can see what is actually stored in l2.\n",
    "l2 "
   ]
  },
  {
   "cell_type": "code",
   "execution_count": 75,
   "metadata": {
    "id": "zxrJ6D3XSY5u",
    "slideshow": {
     "slide_type": "subslide"
    }
   },
   "outputs": [],
   "source": [
    "# Open the file for write.\n",
    "# f = open('colorcode_copy.txt','w')\n",
    "\n",
    "# # To write, we can use a file function write() and put the string we want to write in the ().\n",
    "# f.write('Color\\tHex\\tCGA\\n') # From the previous knowledge when the program reads a file, '\\n' is required for a new line.\n",
    "# f.write(l2)\n",
    "# f.write(l3)\n",
    "# f.write(l4)\n",
    "# f.write(l5)\n",
    "# f.write(l5+l6)\n",
    "\n",
    "# # Do not forget to close the file.\n",
    "# f.close()\n",
    "\n",
    "# Open the file for write.\n",
    "f = open('colorcode_copy.txt','w')\n",
    "\n",
    "# To write, we can use a file function write() and put the string we want to write in the ().\n",
    "f.write('Hello World') # From the previous knowledge when the program reads a file, '\\n' is required for a new line.\n",
    "\n",
    "# Do not forget to close the file.\n",
    "f.close()"
   ]
  },
  {
   "cell_type": "markdown",
   "metadata": {
    "id": "EkW8KQ3BfgSS",
    "slideshow": {
     "slide_type": "slide"
    }
   },
   "source": [
    "### Basic functions for string manipulation\n",
    "\n",
    "```python\n",
    "<aString>.<functionName>(<parametersIfNeeded>)\n",
    "```"
   ]
  },
  {
   "cell_type": "markdown",
   "metadata": {
    "id": "Diir65tcd74x",
    "slideshow": {
     "slide_type": "slide"
    }
   },
   "source": [
    "#### `upper`: Returns the capitalized string."
   ]
  },
  {
   "cell_type": "code",
   "execution_count": 78,
   "metadata": {
    "id": "pA6MSkHtfe7X",
    "slideshow": {
     "slide_type": "fragment"
    }
   },
   "outputs": [
    {
     "name": "stdout",
     "output_type": "stream",
     "text": [
      "COVID-19COVID-19\n"
     ]
    }
   ],
   "source": [
    "x = 'covid-19'.upper()\n",
    "print(x*2)"
   ]
  },
  {
   "cell_type": "markdown",
   "metadata": {
    "id": "t9okUM-hd9iC",
    "slideshow": {
     "slide_type": "slide"
    }
   },
   "source": [
    "#### `lower` Returns the lowercased string.\n"
   ]
  },
  {
   "cell_type": "code",
   "execution_count": 77,
   "metadata": {
    "id": "0PrJc4bvf_Mj",
    "slideshow": {
     "slide_type": "fragment"
    }
   },
   "outputs": [
    {
     "data": {
      "text/plain": [
       "'new normal'"
      ]
     },
     "execution_count": 77,
     "metadata": {},
     "output_type": "execute_result"
    }
   ],
   "source": [
    "text = 'New Normal'\n",
    "text.lower()"
   ]
  },
  {
   "cell_type": "markdown",
   "metadata": {
    "id": "GIXtP4oAs5vw",
    "slideshow": {
     "slide_type": "slide"
    }
   },
   "source": [
    "#### `strip` Removes any spaces (when no parameters given) or specified characters at the start and end of a string."
   ]
  },
  {
   "cell_type": "code",
   "execution_count": 79,
   "metadata": {
    "id": "Fc7K-E2EvQ02",
    "slideshow": {
     "slide_type": "fragment"
    }
   },
   "outputs": [
    {
     "data": {
      "text/plain": [
       "'p+y-t+h-o+n'"
      ]
     },
     "execution_count": 79,
     "metadata": {},
     "output_type": "execute_result"
    }
   ],
   "source": [
    "text = '+++---p+y-t+h-o+n-+--+-'\n",
    "text.strip('+-')"
   ]
  },
  {
   "cell_type": "code",
   "execution_count": 80,
   "metadata": {
    "id": "qNUaxaTvxBCj",
    "slideshow": {
     "slide_type": "fragment"
    }
   },
   "outputs": [
    {
     "name": "stdout",
     "output_type": "stream",
     "text": [
      "p y t h o n\n"
     ]
    }
   ],
   "source": [
    "text_with_space = '          p y t h o n          '\n",
    "print(text_with_space.strip(' '))"
   ]
  },
  {
   "cell_type": "code",
   "execution_count": 81,
   "metadata": {
    "id": "FnxMaoj4xaAe",
    "slideshow": {
     "slide_type": "fragment"
    }
   },
   "outputs": [
    {
     "name": "stdout",
     "output_type": "stream",
     "text": [
      "python\n",
      "python\n"
     ]
    }
   ],
   "source": [
    "text_with_whitespace = '\\t python\\n'\n",
    "print(text_with_whitespace.strip(' \\t\\n')) # Option 1\n",
    "print(text_with_whitespace.strip()) # Option 2: Because the default parameter is a set of whitespace including blank ( ), tab (\\t), newline (\\n), we don't need to explicitly specify the parameters if we want to delete all the whitespace."
   ]
  },
  {
   "cell_type": "code",
   "execution_count": 82,
   "metadata": {
    "id": "riHnaL960tk6",
    "slideshow": {
     "slide_type": "fragment"
    }
   },
   "outputs": [
    {
     "name": "stdout",
     "output_type": "stream",
     "text": [
      "7523\n"
     ]
    }
   ],
   "source": [
    "print(int('000752300'.strip('0')))"
   ]
  },
  {
   "cell_type": "markdown",
   "metadata": {
    "id": "HYnoJOW6gEoe",
    "slideshow": {
     "slide_type": "slide"
    }
   },
   "source": [
    "#### `split` Splits a string into a list. \n"
   ]
  },
  {
   "cell_type": "code",
   "execution_count": 84,
   "metadata": {
    "id": "__jHAmdWrqWk",
    "slideshow": {
     "slide_type": "fragment"
    }
   },
   "outputs": [
    {
     "name": "stdout",
     "output_type": "stream",
     "text": [
      "89.6\n"
     ]
    }
   ],
   "source": [
    "secret_code = 'python@+64@+a@+won@@++derful@+subject.'\n",
    "a,num,c,d,e,f = secret_code.split('@+')\n",
    "print(int(num)*1.4)"
   ]
  },
  {
   "cell_type": "code",
   "execution_count": 85,
   "metadata": {
    "id": "qYkVjYdfuDPk",
    "slideshow": {
     "slide_type": "slide"
    }
   },
   "outputs": [
    {
     "name": "stdout",
     "output_type": "stream",
     "text": [
      "['Bill', 'Gates']\n"
     ]
    }
   ],
   "source": [
    "name = 'Bill Gates'\n",
    "print(name.split(' '))"
   ]
  },
  {
   "cell_type": "markdown",
   "metadata": {
    "id": "BIEabBik1hMc",
    "slideshow": {
     "slide_type": "fragment"
    }
   },
   "source": [
    "Note that `name` was split by a space into two strings. So, we can create two variables to get the values returned from the `split` function.\n",
    " "
   ]
  },
  {
   "cell_type": "code",
   "execution_count": 86,
   "metadata": {
    "id": "WZPfGnqx2OuE",
    "slideshow": {
     "slide_type": "fragment"
    }
   },
   "outputs": [
    {
     "name": "stdout",
     "output_type": "stream",
     "text": [
      "The string is split into Bill and Gates\n"
     ]
    }
   ],
   "source": [
    "firstname, lastname = name.split(' ')\n",
    "print('The string is split into',firstname,\"and\",lastname)"
   ]
  },
  {
   "cell_type": "markdown",
   "metadata": {
    "id": "G3lx6Aft21f4",
    "slideshow": {
     "slide_type": "slide"
    }
   },
   "source": [
    "<font color='purple'>P: </font> Write a program that receives phone information which consists of network, country code, phone number, and price that are separated by `/` from the user in a single line. Then, split this information into 4 variables with appropriate datatypes."
   ]
  },
  {
   "cell_type": "code",
   "execution_count": 88,
   "metadata": {
    "id": "f1Z6mgFD21-g",
    "slideshow": {
     "slide_type": "fragment"
    }
   },
   "outputs": [
    {
     "name": "stdout",
     "output_type": "stream",
     "text": [
      "Enter ...: ais/66/093452637/200\n",
      "400.0\n"
     ]
    }
   ],
   "source": [
    "# Code here\n",
    "network, cc, tel,price = input('Enter ...: ').split('/')\n",
    "print(float(price)*2)"
   ]
  },
  {
   "cell_type": "markdown",
   "metadata": {
    "id": "z001gr8tGeat",
    "slideshow": {
     "slide_type": "slide"
    }
   },
   "source": [
    "### Module \"math\" and its basic functions.\n",
    "\n"
   ]
  },
  {
   "cell_type": "code",
   "execution_count": null,
   "metadata": {
    "id": "yj_QaJp-Gf6W",
    "slideshow": {
     "slide_type": "fragment"
    }
   },
   "outputs": [],
   "source": [
    "import math # We need to import the math module before we can call the functions belonging to this module."
   ]
  },
  {
   "cell_type": "code",
   "execution_count": null,
   "metadata": {
    "id": "3bXDcUHamZwp",
    "slideshow": {
     "slide_type": "fragment"
    }
   },
   "outputs": [],
   "source": [
    "math.log(4) # calling the log function in the math module, which returns the log of the given value."
   ]
  },
  {
   "cell_type": "code",
   "execution_count": null,
   "metadata": {
    "id": "Igcyr8t3nNDB",
    "slideshow": {
     "slide_type": "fragment"
    }
   },
   "outputs": [],
   "source": [
    "math.pi # Returns the constant value of PI stored in the math module."
   ]
  },
  {
   "cell_type": "markdown",
   "metadata": {
    "id": "KO-dM_ZaidnI",
    "slideshow": {
     "slide_type": "fragment"
    }
   },
   "source": [
    "**Note** that math.pi is not followed by a pair of parentheses. This is because pi is a constant, not a function, in the math module."
   ]
  },
  {
   "cell_type": "code",
   "execution_count": null,
   "metadata": {
    "id": "Jc3YtR_hnhHn",
    "slideshow": {
     "slide_type": "fragment"
    }
   },
   "outputs": [],
   "source": [
    "import math as m # Change the math module to m as an alias.\n",
    "m.log(4) "
   ]
  },
  {
   "cell_type": "markdown",
   "metadata": {
    "id": "wzCsDxjgmq_P",
    "slideshow": {
     "slide_type": "fragment"
    }
   },
   "source": [
    "Find out more about all functions in the math module [here](https://docs.python.org/3/library/math.html)"
   ]
  },
  {
   "cell_type": "markdown",
   "metadata": {
    "id": "Uc_OneoppXfz",
    "slideshow": {
     "slide_type": "slide"
    }
   },
   "source": [
    "## Programming exercises"
   ]
  },
  {
   "cell_type": "markdown",
   "metadata": {
    "id": "D38O9VIM5fSy",
    "slideshow": {
     "slide_type": "slide"
    }
   },
   "source": [
    "Ex1. Write a program that receives subject ID and grade separately in different lines from the user and print out the information on the screen as shown below. \n",
    "\n",
    "```\n",
    "I got <grade> in <subjectID>.\n",
    "```"
   ]
  },
  {
   "cell_type": "code",
   "execution_count": 3,
   "metadata": {
    "id": "eYb0to-CFOGO",
    "slideshow": {
     "slide_type": "fragment"
    }
   },
   "outputs": [
    {
     "name": "stdout",
     "output_type": "stream",
     "text": [
      "Enter subjectID: 2301172\n",
      "Enter grade: B+\n",
      "I got B+ in 2301172\n"
     ]
    }
   ],
   "source": [
    "# Code here\n",
    "\n",
    "# Recieve subjectID\n",
    "subjectID = input('Enter subjectID: ')\n",
    "\n",
    "# Recieve grade\n",
    "grade = input('Enter grade: ')\n",
    "\n",
    "# Print\n",
    "print('I got',grade,'in',subjectID)"
   ]
  },
  {
   "cell_type": "markdown",
   "metadata": {
    "id": "UXuT90ci55_T",
    "slideshow": {
     "slide_type": "slide"
    }
   },
   "source": [
    "Ex2. Write a program that receives subject ID and grade separated by a space in a single line from the user and print out the information on the screen as shown below. \n",
    "\n",
    "```\n",
    "I got <grade> in <subjectID>.\n",
    "```"
   ]
  },
  {
   "cell_type": "code",
   "execution_count": 6,
   "metadata": {
    "id": "n520f5VX6Vds",
    "slideshow": {
     "slide_type": "fragment"
    }
   },
   "outputs": [
    {
     "name": "stdout",
     "output_type": "stream",
     "text": [
      "Enter subjectID and grade: 2301170 A\n",
      "I got A in 2301170\n"
     ]
    }
   ],
   "source": [
    "# Code here\n",
    "\n",
    "# Recieve subjectID\n",
    "subjectID, grade = input('Enter subjectID and grade: ').split()\n",
    "\n",
    "# Print\n",
    "print('I got',grade,'in',subjectID)"
   ]
  },
  {
   "cell_type": "markdown",
   "metadata": {
    "id": "k5PO7lMD6Y_f",
    "slideshow": {
     "slide_type": "slide"
    }
   },
   "source": [
    "Ex3. Write a program that receives three integers, one at a time, and print out the summation on the screen as shown below. \n",
    "```\n",
    "<1stInteger> + <2ndInteger> + <3rdInteger> = <summation>\n",
    "```"
   ]
  },
  {
   "cell_type": "code",
   "execution_count": 9,
   "metadata": {
    "id": "3DHsUb0Xm6SR",
    "slideshow": {
     "slide_type": "fragment"
    }
   },
   "outputs": [
    {
     "name": "stdout",
     "output_type": "stream",
     "text": [
      "Enter num1: 1\n",
      "Enter num2: 2\n",
      "Enter num3: 3\n",
      "1 + 2 + 3 = 6\n"
     ]
    }
   ],
   "source": [
    "# Code here\n",
    "\n",
    "# Recieve n1\n",
    "n1 = input('Enter num1: ')\n",
    "\n",
    "# Recieve n2\n",
    "n2 = input('Enter num2: ')\n",
    "\n",
    "# Recieve n3\n",
    "n3 = input('Enter num3: ')\n",
    "\n",
    "# Print\n",
    "print(n1,'+',n2,'+',n3,'=',int(n1)+int(n2)+int(n3))"
   ]
  },
  {
   "cell_type": "code",
   "execution_count": 10,
   "metadata": {},
   "outputs": [
    {
     "name": "stdout",
     "output_type": "stream",
     "text": [
      "Enter num1: 1\n",
      "Enter num2: 2\n",
      "Enter num3: 3\n",
      "1 + 2 + 3 = 6\n"
     ]
    }
   ],
   "source": [
    "# Recieve n1\n",
    "n1 = int(input('Enter num1: '))\n",
    "\n",
    "# Recieve n2\n",
    "n2 = input('Enter num2: ')\n",
    "n2 = int(n2)\n",
    "\n",
    "# Recieve n3\n",
    "n3 = input('Enter num3: ')\n",
    "\n",
    "# Print\n",
    "print(n1,'+',n2,'+',n3,'=',n1+int(n2)+int(n3))"
   ]
  },
  {
   "cell_type": "code",
   "execution_count": null,
   "metadata": {},
   "outputs": [],
   "source": [
    "# Recieve n1\n",
    "n1 = int(input('Enter num1: '))\n",
    "\n",
    "# Recieve n2\n",
    "n2 = input('Enter num2: ')\n",
    "n2 = int(n2)\n",
    "\n",
    "# Recieve n3\n",
    "n3 = input('Enter num3: ')\n",
    "\n",
    "# Summation\n",
    "total = n1+int(n2)+int(n3)\n",
    "# Print\n",
    "print(n1,'+',n2,'+',n3,'=',total)"
   ]
  },
  {
   "cell_type": "markdown",
   "metadata": {
    "id": "iM0jsSQ7DvRM",
    "slideshow": {
     "slide_type": "slide"
    }
   },
   "source": [
    "Ex4. Write a program that receives three integers in a single line separated by a comma `,` and print out the summation on the screen as shown below. \n",
    "```\n",
    "<1stInteger> + <2ndInteger> + <3rdInteger> = <summation>\n",
    "```"
   ]
  },
  {
   "cell_type": "code",
   "execution_count": 13,
   "metadata": {
    "id": "dDJQBaIUDzzn",
    "slideshow": {
     "slide_type": "fragment"
    }
   },
   "outputs": [
    {
     "name": "stdout",
     "output_type": "stream",
     "text": [
      "Enter num1,num2,num3: 1,4,5\n",
      "1 + 4 + 5 = 10\n"
     ]
    }
   ],
   "source": [
    "# Code here\n",
    "# Recieve n1,n2,n3\n",
    "n1,n2,n3 = input('Enter num1,num2,num3: ').split(',')\n",
    "\n",
    "# Print\n",
    "print(n1,'+',n2,'+',n3,'=',int(n1)+int(n2)+int(n3))"
   ]
  },
  {
   "cell_type": "code",
   "execution_count": 14,
   "metadata": {},
   "outputs": [
    {
     "name": "stdout",
     "output_type": "stream",
     "text": [
      "Enter num1,num2,num3: 1,2,3\n"
     ]
    },
    {
     "data": {
      "text/plain": [
       "['1', '2', '3']"
      ]
     },
     "execution_count": 14,
     "metadata": {},
     "output_type": "execute_result"
    }
   ],
   "source": [
    "input('Enter num1,num2,num3: ').split(',')"
   ]
  },
  {
   "cell_type": "code",
   "execution_count": 15,
   "metadata": {},
   "outputs": [
    {
     "name": "stdout",
     "output_type": "stream",
     "text": [
      "Enter num1,num2,num3: 1,2,3\n"
     ]
    },
    {
     "ename": "TypeError",
     "evalue": "int() argument must be a string, a bytes-like object or a number, not 'list'",
     "output_type": "error",
     "traceback": [
      "\u001b[0;31m---------------------------------------------------------------------------\u001b[0m",
      "\u001b[0;31mTypeError\u001b[0m                                 Traceback (most recent call last)",
      "Input \u001b[0;32mIn [15]\u001b[0m, in \u001b[0;36m<cell line: 2>\u001b[0;34m()\u001b[0m\n\u001b[1;32m      1\u001b[0m \u001b[38;5;66;03m# Recieve n1,n2,n3\u001b[39;00m\n\u001b[0;32m----> 2\u001b[0m n1,n2,n3 \u001b[38;5;241m=\u001b[39m \u001b[38;5;28;43mint\u001b[39;49m\u001b[43m(\u001b[49m\u001b[38;5;28;43minput\u001b[39;49m\u001b[43m(\u001b[49m\u001b[38;5;124;43m'\u001b[39;49m\u001b[38;5;124;43mEnter num1,num2,num3: \u001b[39;49m\u001b[38;5;124;43m'\u001b[39;49m\u001b[43m)\u001b[49m\u001b[38;5;241;43m.\u001b[39;49m\u001b[43msplit\u001b[49m\u001b[43m(\u001b[49m\u001b[38;5;124;43m'\u001b[39;49m\u001b[38;5;124;43m,\u001b[39;49m\u001b[38;5;124;43m'\u001b[39;49m\u001b[43m)\u001b[49m\u001b[43m)\u001b[49m\n\u001b[1;32m      4\u001b[0m \u001b[38;5;66;03m# Print\u001b[39;00m\n\u001b[1;32m      5\u001b[0m \u001b[38;5;28mprint\u001b[39m(n1,\u001b[38;5;124m'\u001b[39m\u001b[38;5;124m+\u001b[39m\u001b[38;5;124m'\u001b[39m,n2,\u001b[38;5;124m'\u001b[39m\u001b[38;5;124m+\u001b[39m\u001b[38;5;124m'\u001b[39m,n3,\u001b[38;5;124m'\u001b[39m\u001b[38;5;124m=\u001b[39m\u001b[38;5;124m'\u001b[39m,n1\u001b[38;5;241m+\u001b[39mn2\u001b[38;5;241m+\u001b[39mn3)\n",
      "\u001b[0;31mTypeError\u001b[0m: int() argument must be a string, a bytes-like object or a number, not 'list'"
     ]
    }
   ],
   "source": [
    "# Recieve n1,n2,n3\n",
    "n1,n2,n3 = int(input('Enter num1,num2,num3: ').split(','))\n",
    "\n",
    "# Print\n",
    "print(n1,'+',n2,'+',n3,'=',n1+n2+n3)"
   ]
  },
  {
   "cell_type": "markdown",
   "metadata": {
    "id": "xoyuBeQtVjgH",
    "slideshow": {
     "slide_type": "slide"
    }
   },
   "source": [
    "Ex5. Write a program that receives a product price including 7% vat from the user and print out the vat value on the screen as shown below.\n",
    "\n",
    "```python\n",
    "Enter price with vat: 347.75<enter> \n",
    "vat is 22.75 Baht.\n",
    "```"
   ]
  },
  {
   "cell_type": "code",
   "execution_count": 19,
   "metadata": {
    "id": "pz796ereP1zy",
    "slideshow": {
     "slide_type": "fragment"
    }
   },
   "outputs": [
    {
     "name": "stdout",
     "output_type": "stream",
     "text": [
      "Enter price with vat:347.75\n",
      "vat is 22.75 Baht.\n"
     ]
    }
   ],
   "source": [
    "# Code here\n",
    "\n",
    "# Receive a sales price\n",
    "sales_price = float(input('Enter price with vat:'))\n",
    "\n",
    "# Calculate VAT\n",
    "# sales_price = cost * 1.07\n",
    "cost = sales_price / 1.07\n",
    "VAT = sales_price - cost\n",
    "\n",
    "# Print it out\n",
    "print('vat is',VAT,'Baht.')"
   ]
  },
  {
   "cell_type": "markdown",
   "metadata": {
    "id": "TIvZ0GCaDZek",
    "slideshow": {
     "slide_type": "slide"
    }
   },
   "source": [
    "Ex6. Write a program that receives a year in BE from the user and print out the year in AD on the screen."
   ]
  },
  {
   "cell_type": "code",
   "execution_count": 22,
   "metadata": {
    "id": "_foxSi5hDcjR",
    "slideshow": {
     "slide_type": "fragment"
    }
   },
   "outputs": [
    {
     "name": "stdout",
     "output_type": "stream",
     "text": [
      "Enter a year in BE: 2656\n",
      "2113\n"
     ]
    }
   ],
   "source": [
    "# Code here\n",
    "\n",
    "be = int(input('Enter a year in BE: '))\n",
    "print(be-543)\n"
   ]
  },
  {
   "cell_type": "markdown",
   "metadata": {
    "id": "W-4LHdVapaq3",
    "slideshow": {
     "slide_type": "slide"
    }
   },
   "source": [
    "E7. Write a program that receives a duration in seconds from the user and convert it in the format shown below: \n",
    "```\n",
    "<hour>:<min>:<sec>\n",
    "``` \n",
    "\n",
    "Ex.\n",
    "```python\n",
    "Enter duration: 3690<enter>\n",
    "1:1:30 \n",
    "```"
   ]
  },
  {
   "cell_type": "code",
   "execution_count": 23,
   "metadata": {
    "id": "08TYsuwdqXp2",
    "slideshow": {
     "slide_type": "fragment"
    }
   },
   "outputs": [
    {
     "name": "stdout",
     "output_type": "stream",
     "text": [
      "Enter a duration in seconds: 3690\n",
      "1\n"
     ]
    }
   ],
   "source": [
    "# Code here\n",
    "# 401:00:10\n",
    "sec = int(input('Enter a duration in seconds: ')) # 3690\n",
    "hr = sec//3600\n",
    "print(hr)\n",
    "# minute\n",
    "# sec"
   ]
  },
  {
   "cell_type": "code",
   "execution_count": null,
   "metadata": {},
   "outputs": [],
   "source": []
  }
 ],
 "metadata": {
  "celltoolbar": "Slideshow",
  "colab": {
   "collapsed_sections": [
    "4kqs1GyWIqZa",
    "xHXR7p4n0qTS",
    "1y5LVfZ1y8si",
    "Q2mJIk-v1vEz",
    "okQJuJGEzUhT",
    "NhiQbXS8Wzrp",
    "ZXsMJU8bXJr0",
    "UDRjbOi4XjWf",
    "dCDI3TNUfcCB",
    "8mEj7pyyYFvG",
    "EkW8KQ3BfgSS",
    "Diir65tcd74x",
    "t9okUM-hd9iC",
    "GIXtP4oAs5vw",
    "HYnoJOW6gEoe",
    "z001gr8tGeat",
    "Uc_OneoppXfz"
   ],
   "name": "Ch1-Ch2-python-basics.ipynb",
   "provenance": []
  },
  "kernelspec": {
   "display_name": "Python 3 (ipykernel)",
   "language": "python",
   "name": "python3"
  },
  "language_info": {
   "codemirror_mode": {
    "name": "ipython",
    "version": 3
   },
   "file_extension": ".py",
   "mimetype": "text/x-python",
   "name": "python",
   "nbconvert_exporter": "python",
   "pygments_lexer": "ipython3",
   "version": "3.8.3"
  },
  "rise": {
   "scroll": true
  }
 },
 "nbformat": 4,
 "nbformat_minor": 1
}
