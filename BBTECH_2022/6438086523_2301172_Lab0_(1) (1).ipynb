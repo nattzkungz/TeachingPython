{
  "cells": [
    {
      "cell_type": "markdown",
      "metadata": {
        "id": "XGSthh1mTBdw"
      },
      "source": [
        "# 1. Introduction"
      ]
    },
    {
      "cell_type": "markdown",
      "metadata": {
        "id": "hqBEb7z-Veg_"
      },
      "source": [
        "## What is a program?"
      ]
    },
    {
      "cell_type": "markdown",
      "metadata": {
        "id": "iO8Ofia5Viy9"
      },
      "source": [
        "- A **sequence** of instructions\n",
        "- A step-by-step guide to **compute** the result"
      ]
    },
    {
      "cell_type": "markdown",
      "metadata": {
        "id": "gOeYUqb2WRDe"
      },
      "source": [
        "## What is \"programming\"?"
      ]
    },
    {
      "cell_type": "markdown",
      "metadata": {
        "id": "ODvuGdbrWUY3"
      },
      "source": [
        "Ans: The way we tell a computer to work.\n",
        "\n",
        "A computer has a minimal instruction set. Therefore, we need to write a specific sequence of these instructions to make a computer do what we want."
      ]
    },
    {
      "cell_type": "markdown",
      "metadata": {
        "id": "LYMH5zbzXK1v"
      },
      "source": [
        "## What can a computer do?\n",
        "\n",
        "Basic instructions\n",
        "\n",
        "- Input\n",
        "  - Read from the keyboard, a file, the network, a device.\n",
        "- Output\n",
        "  - Display data on the screen, save it in a file, print it out, send it over the network, etc.\n",
        "- Math\n",
        "  - Perform basic mathematical operation such as addition, multiplication.\n",
        "- Conditional execution\n",
        "  - Check for specific conditions and run the appropriate code.\n",
        "- Repetition\n",
        "  - Do something repeatedly until it breaks a certain condition."
      ]
    },
    {
      "cell_type": "markdown",
      "metadata": {
        "id": "yI7Z9DzUYIpc"
      },
      "source": [
        "## Programming languages\n",
        "\n",
        "Every language has a syntax, which is a way words are ordered to have a specific meaning.\n",
        "\n",
        "Programming languages are similar to natural languages (human languages), but their syntaxes are simpler."
      ]
    },
    {
      "cell_type": "markdown",
      "metadata": {
        "id": "imdBdL2CZis4"
      },
      "source": [
        "### 1. Low-level languages\n",
        "- Assembly\n",
        "  - Let's play this game: [Human resource machine](https://tomorrowcorporation.com/humanresourcemachine)\n",
        "- Machine codes (aka. binaries)"
      ]
    },
    {
      "cell_type": "markdown",
      "metadata": {
        "id": "hcDoIs4sZ84d"
      },
      "source": [
        "### 2. High-level languages\n",
        "- C, C++, **Python**, Java, JavaScript, PHP"
      ]
    },
    {
      "cell_type": "markdown",
      "metadata": {
        "id": "F1-H6ZhqaN7n"
      },
      "source": [
        "#### Why do we choose Python as the first programming language?"
      ]
    },
    {
      "cell_type": "markdown",
      "metadata": {
        "id": "2kbKC284aTdX"
      },
      "source": [
        "- Easy\n",
        "  - The syntax is not complicated.\n",
        "- Powerful\n",
        "  - A lot of libraries for various tasks\n"
      ]
    },
    {
      "cell_type": "markdown",
      "metadata": {
        "id": "C61g43UwbHZb"
      },
      "source": [
        "# 2. Our first program"
      ]
    },
    {
      "cell_type": "markdown",
      "metadata": {
        "id": "Lxa6IxFFbMAC"
      },
      "source": [
        "## Running a Python program"
      ]
    },
    {
      "cell_type": "markdown",
      "metadata": {
        "id": "moxenmhNbPL1"
      },
      "source": [
        "### Interactive mode"
      ]
    },
    {
      "cell_type": "markdown",
      "metadata": {
        "id": "Sp4I-fC6bTjz"
      },
      "source": [
        "- Try this: [https://repl.it/languages/python3](https://repl.it/languages/python3)\n",
        "- An interactive mode is running on a Python **shell**.\n",
        "- Some shells such as IPython also support graphics.\n",
        "\n",
        "In this interactive mode, the Python **interpreter** will execute our commands immediately after we press enter.\n"
      ]
    },
    {
      "cell_type": "code",
      "execution_count": null,
      "metadata": {
        "colab": {
          "base_uri": "https://localhost:8080/"
        },
        "id": "vc69OjxEcqrk",
        "outputId": "4eddbad0-56f7-4728-af05-425b140cb082"
      },
      "outputs": [
        {
          "data": {
            "text/plain": [
              "34455866"
            ]
          },
          "execution_count": 6,
          "metadata": {},
          "output_type": "execute_result"
        }
      ],
      "source": [
        "33453535+1002331"
      ]
    },
    {
      "cell_type": "markdown",
      "metadata": {
        "id": "tHIF5pRUcAQf"
      },
      "source": [
        "### Script mode\n"
      ]
    },
    {
      "cell_type": "markdown",
      "metadata": {
        "id": "SrZBG4Bcc1mJ"
      },
      "source": [
        "Sometimes, we have a long sequence of instructions. Instead of entering them one by one, we may write a simple text file and ask the interpreter to execute all commands in the file.\n",
        "\n",
        "In this case, the interpreter sill run one instruction (line) at a time. If it finds a command with an error, it will immediately stop at that line and abort."
      ]
    },
    {
      "cell_type": "code",
      "execution_count": null,
      "metadata": {
        "colab": {
          "base_uri": "https://localhost:8080/"
        },
        "id": "kYZI4hkGf-Vc",
        "outputId": "1e27a26a-7cf4-4681-8270-3758e346fe05"
      },
      "outputs": [
        {
          "name": "stdout",
          "output_type": "stream",
          "text": [
            "Hello, World!\n",
            "This is our first program\n",
            "The third line\n"
          ]
        }
      ],
      "source": [
        "print('Hello, World!')\n",
        "print('This is our first program')\n",
        "print('The third line')"
      ]
    },
    {
      "cell_type": "markdown",
      "metadata": {
        "id": "NUYW_NBydktl"
      },
      "source": [
        "### Which mode is better?"
      ]
    },
    {
      "cell_type": "markdown",
      "metadata": {
        "id": "TSwiAj_LdmeT"
      },
      "source": [
        "It depends.\n",
        "\n",
        "An interactive mode is suitable for writing from scratch. I recommend you to start writing a program using an interactive mode. We may find some bugs, errors. Since we get these errors immediately, we can fix them until we have correct codes.\n",
        "\n",
        "Then, we can save all correct codes in a file so that we can run all of these codes in the future."
      ]
    },
    {
      "cell_type": "markdown",
      "metadata": {
        "id": "fOIEgacieIqJ"
      },
      "source": [
        "### What is a \"Notebook\"?"
      ]
    },
    {
      "cell_type": "markdown",
      "metadata": {
        "id": "Mp3kU9UaeMuO"
      },
      "source": [
        "A notebook here is a mix of interactive code blocks and text blocks.\n",
        "\n",
        "We can write, run the codes, similar to the interactive shell, in a code block. But, we have a text block to write a rich comment, explanation on our code, putting figures/links.\n",
        "\n",
        "It looks like a logbook for scientific experiments where we take notes on our experiment setting and write the result. With the notebook, we can take notes, *write, and perform* the experiment in the same place."
      ]
    },
    {
      "cell_type": "markdown",
      "metadata": {
        "id": "wPdXBe3SfU_O"
      },
      "source": [
        "Google Colab is an online version of a notebook provided by Google. All of the codes are run on Google's servers.\n",
        "\n",
        "You can install a notebook server on your machine. One popular version of notebooks is the Jupyter notebook."
      ]
    },
    {
      "cell_type": "markdown",
      "metadata": {
        "id": "4-614fVCh44Z"
      },
      "source": [
        "### Python version\n",
        "\n",
        "Currently, there are two major versions, Python 2 and Python 3. There are some differences in the syntax of Python 2 and Python 3. In this course, we will use Python 3.\n",
        "\n",
        "There are also minor versions in Python 3 e.g., Python 3.4, Python 3.5, etc. There are some new features in the newer version. However, we will use only the basic things in this course. So, any version of Python 3 is fine."
      ]
    },
    {
      "cell_type": "markdown",
      "metadata": {
        "id": "NjLAiD9xiyJy"
      },
      "source": [
        "# 3. Simple calculation"
      ]
    },
    {
      "cell_type": "markdown",
      "metadata": {
        "id": "U849Jx7ejQYG"
      },
      "source": [
        "## Arithmetic operators\n",
        "- Addition, `+`\n",
        "- Subtraction, `-`\n",
        "- Multiplication, `*`\n",
        "- Division, `/`"
      ]
    },
    {
      "cell_type": "markdown",
      "metadata": {
        "id": "eZiR5U00nius"
      },
      "source": [
        "### Exercises"
      ]
    },
    {
      "cell_type": "markdown",
      "metadata": {
        "id": "3viQ39-xnZWW"
      },
      "source": [
        "Execute the following expressions in your machine. Can you summarize the behavior of these operators?\n",
        "\n"
      ]
    },
    {
      "cell_type": "code",
      "execution_count": null,
      "metadata": {
        "id": "PzM0w0Tsjdi6",
        "outputId": "5fc87e66-2242-4b2a-f660-5fde666364e2"
      },
      "outputs": [
        {
          "data": {
            "text/plain": [
              "12"
            ]
          },
          "execution_count": 1,
          "metadata": {},
          "output_type": "execute_result"
        }
      ],
      "source": [
        "10+2"
      ]
    },
    {
      "cell_type": "code",
      "execution_count": null,
      "metadata": {
        "id": "n8WTmLbKj1gl",
        "outputId": "0fc5d37b-07e4-47e2-e454-b7c2f842dfd6"
      },
      "outputs": [
        {
          "data": {
            "text/plain": [
              "8"
            ]
          },
          "execution_count": 2,
          "metadata": {},
          "output_type": "execute_result"
        }
      ],
      "source": [
        "10-2"
      ]
    },
    {
      "cell_type": "code",
      "execution_count": null,
      "metadata": {
        "id": "aSvNObFWj3u5",
        "outputId": "c5d7f487-5546-455b-e4db-46be98eb6d05"
      },
      "outputs": [
        {
          "data": {
            "text/plain": [
              "20"
            ]
          },
          "execution_count": 5,
          "metadata": {},
          "output_type": "execute_result"
        }
      ],
      "source": [
        "10*2"
      ]
    },
    {
      "cell_type": "code",
      "execution_count": null,
      "metadata": {
        "id": "tBlcwiNEj6OO",
        "outputId": "be352db0-164d-438e-b4af-46375db693a0"
      },
      "outputs": [
        {
          "data": {
            "text/plain": [
              "5.0"
            ]
          },
          "execution_count": 6,
          "metadata": {},
          "output_type": "execute_result"
        }
      ],
      "source": [
        "10/2"
      ]
    },
    {
      "cell_type": "markdown",
      "metadata": {
        "id": "rnfTNH1VkBpk"
      },
      "source": [
        "- Exponentiation, `**`"
      ]
    },
    {
      "cell_type": "code",
      "execution_count": null,
      "metadata": {
        "id": "Pe2agphmkEsK",
        "outputId": "dd38bbd0-3e21-411e-f258-39181502e85d"
      },
      "outputs": [
        {
          "data": {
            "text/plain": [
              "36"
            ]
          },
          "execution_count": 3,
          "metadata": {},
          "output_type": "execute_result"
        }
      ],
      "source": [
        "6 ** 2"
      ]
    },
    {
      "cell_type": "markdown",
      "metadata": {
        "id": "1LOIyY6AkYuK"
      },
      "source": [
        "In some languages, `^` is used for exponentiation, but this operator is a bitwise XOR in Python."
      ]
    },
    {
      "cell_type": "code",
      "execution_count": null,
      "metadata": {
        "id": "NL3MRDHAkZ53",
        "outputId": "2302cddd-7c4d-4f4d-aa23-8488b5f10624"
      },
      "outputs": [
        {
          "data": {
            "text/plain": [
              "4"
            ]
          },
          "execution_count": 4,
          "metadata": {},
          "output_type": "execute_result"
        }
      ],
      "source": [
        "6 ^ 2"
      ]
    },
    {
      "cell_type": "markdown",
      "metadata": {
        "id": "ZoU6NQ2unTGu"
      },
      "source": [
        "### Exercises"
      ]
    },
    {
      "cell_type": "markdown",
      "metadata": {
        "id": "3FTX3VnF8gh0"
      },
      "source": [
        "Execute the following expressions in your machine. Can you summarize the behavior of these operators?"
      ]
    },
    {
      "cell_type": "code",
      "execution_count": null,
      "metadata": {
        "id": "6UxJ3JQJmFh-",
        "outputId": "5546b838-c875-4c61-bb6b-31f449abb3e4"
      },
      "outputs": [
        {
          "data": {
            "text/plain": [
              "512"
            ]
          },
          "execution_count": 7,
          "metadata": {},
          "output_type": "execute_result"
        }
      ],
      "source": [
        "2**3**2"
      ]
    },
    {
      "cell_type": "code",
      "execution_count": null,
      "metadata": {
        "id": "V1WjTCGe8my4",
        "outputId": "ff596d30-9911-49ce-8e51-8875b16e1dbf"
      },
      "outputs": [
        {
          "data": {
            "text/plain": [
              "0.4"
            ]
          },
          "execution_count": 8,
          "metadata": {},
          "output_type": "execute_result"
        }
      ],
      "source": [
        "2/5"
      ]
    },
    {
      "cell_type": "code",
      "execution_count": null,
      "metadata": {
        "id": "cqy13yBp81xo",
        "outputId": "326f5af4-4cfa-49d0-d26a-a353ca65c93f"
      },
      "outputs": [
        {
          "data": {
            "text/plain": [
              "0"
            ]
          },
          "execution_count": 9,
          "metadata": {},
          "output_type": "execute_result"
        }
      ],
      "source": [
        "2//5"
      ]
    },
    {
      "cell_type": "code",
      "execution_count": null,
      "metadata": {
        "id": "M8f6Np_682v0",
        "outputId": "57215f33-6d79-40d9-f200-899ad0dddbf3"
      },
      "outputs": [
        {
          "data": {
            "text/plain": [
              "2.4"
            ]
          },
          "execution_count": 10,
          "metadata": {},
          "output_type": "execute_result"
        }
      ],
      "source": [
        "12/5"
      ]
    },
    {
      "cell_type": "code",
      "execution_count": null,
      "metadata": {
        "id": "3Ubp7dhG84RS",
        "outputId": "82f77574-06e8-4548-dd3b-942939e42c4f"
      },
      "outputs": [
        {
          "data": {
            "text/plain": [
              "2"
            ]
          },
          "execution_count": 11,
          "metadata": {},
          "output_type": "execute_result"
        }
      ],
      "source": [
        "12//5"
      ]
    },
    {
      "cell_type": "markdown",
      "metadata": {
        "id": "CtSRpBKp8-7o"
      },
      "source": [
        "## Basic data types"
      ]
    },
    {
      "cell_type": "markdown",
      "metadata": {
        "id": "GBwrsf_z9G6O"
      },
      "source": [
        "A computer stores everything using binary values, representing ON/OFF logic.\n",
        "\n",
        "A value is our data. However, we have several types of values. Basic types are text and numbers. We can do the math on numbers, but we can't do that on the text."
      ]
    },
    {
      "cell_type": "markdown",
      "metadata": {
        "id": "3IAPHD-R-gIT"
      },
      "source": [
        "### Exercises"
      ]
    },
    {
      "cell_type": "markdown",
      "metadata": {
        "id": "sV-7kJoV-kDi"
      },
      "source": [
        "Execute the following expressions in your machine. Can you summarize the behavior of these operators?"
      ]
    },
    {
      "cell_type": "code",
      "execution_count": null,
      "metadata": {
        "id": "v2aKCeOC-Y7S",
        "outputId": "38c61e20-9cc7-45fc-dd02-b70e0241bfed"
      },
      "outputs": [
        {
          "data": {
            "text/plain": [
              "'22'"
            ]
          },
          "execution_count": 12,
          "metadata": {},
          "output_type": "execute_result"
        }
      ],
      "source": [
        "'2'+'2'"
      ]
    },
    {
      "cell_type": "code",
      "execution_count": null,
      "metadata": {
        "id": "i4YquoNc-cTH",
        "outputId": "3d574eb7-44ec-49ba-9255-88b5133933e6"
      },
      "outputs": [
        {
          "data": {
            "text/plain": [
              "4"
            ]
          },
          "execution_count": 13,
          "metadata": {},
          "output_type": "execute_result"
        }
      ],
      "source": [
        "2+2"
      ]
    },
    {
      "cell_type": "markdown",
      "metadata": {
        "id": "J0Bt_gu_-qXn"
      },
      "source": [
        "### Numbers\n",
        "\n",
        "We have 2 basic number types in Python, integers and floating point (for decimals)."
      ]
    },
    {
      "cell_type": "code",
      "execution_count": null,
      "metadata": {
        "id": "AxNWwvWzHCRQ"
      },
      "outputs": [],
      "source": [
        "20"
      ]
    },
    {
      "cell_type": "code",
      "execution_count": null,
      "metadata": {
        "id": "7lb6-cHxHKG6"
      },
      "outputs": [],
      "source": [
        "20.0"
      ]
    },
    {
      "cell_type": "code",
      "execution_count": null,
      "metadata": {
        "id": "-pK456WhHL91"
      },
      "outputs": [],
      "source": [
        "2e5"
      ]
    },
    {
      "cell_type": "markdown",
      "metadata": {
        "id": "lO93YfeQHCmV"
      },
      "source": [
        "### Text\n",
        "\n",
        "There is only one text type in Python, string. We don't have a character type as in C or Java."
      ]
    },
    {
      "cell_type": "code",
      "execution_count": null,
      "metadata": {
        "id": "Bruf_9fKLuEp"
      },
      "outputs": [],
      "source": [
        "'This is a one line string'"
      ]
    },
    {
      "cell_type": "code",
      "execution_count": null,
      "metadata": {
        "id": "Ab1SoBzsL06w",
        "outputId": "ad36a7f1-b014-41e1-b59e-dd428b2e8a0c"
      },
      "outputs": [
        {
          "data": {
            "text/plain": [
              "'This too is a one line string'"
            ]
          },
          "execution_count": 15,
          "metadata": {},
          "output_type": "execute_result"
        }
      ],
      "source": [
        "\"This too is a one line string\""
      ]
    },
    {
      "cell_type": "code",
      "execution_count": null,
      "metadata": {
        "id": "M6PysGdILxi7",
        "scrolled": true,
        "outputId": "329b1048-0736-415e-cbdd-478b120f1c44"
      },
      "outputs": [
        {
          "data": {
            "text/plain": [
              "' This too is a multiline string\\nnewline'"
            ]
          },
          "execution_count": 14,
          "metadata": {},
          "output_type": "execute_result"
        }
      ],
      "source": [
        "''' This is a multiline string\n",
        "newline\n",
        "'''\n",
        "\n",
        "\"\"\" This too is a multiline string\n",
        "newline\"\"\""
      ]
    },
    {
      "cell_type": "markdown",
      "metadata": {
        "id": "oWw3tI5JL7-F"
      },
      "source": [
        "#### Exercises\n",
        "- If we want a string with a single quote inside, how could we do that?\n",
        "- If we want a string with a double quote inside, how could we do that?\n",
        "- If we need both a single quote and a double quote inside a string, how should we do that?"
      ]
    },
    {
      "cell_type": "code",
      "execution_count": null,
      "metadata": {
        "id": "-q3Nq3ZNL7Mx"
      },
      "outputs": [],
      "source": [
        ""
      ]
    },
    {
      "cell_type": "markdown",
      "metadata": {
        "id": "ZsrE8QOm_uJY"
      },
      "source": [
        "### Find the type of value\n",
        "\n",
        "We can call the `type(...)` function to find the type of value. To call a function, we write the function name and put all the things we want to send to the function inside the parenthesis."
      ]
    },
    {
      "cell_type": "code",
      "execution_count": null,
      "metadata": {
        "id": "McC6RXbiAVZI",
        "outputId": "03f62fc2-7901-4d17-e82d-d45ed62c7272"
      },
      "outputs": [
        {
          "data": {
            "text/plain": [
              "int"
            ]
          },
          "execution_count": 16,
          "metadata": {},
          "output_type": "execute_result"
        }
      ],
      "source": [
        "type(2)"
      ]
    },
    {
      "cell_type": "markdown",
      "metadata": {
        "id": "0Ll9JdwyAauT"
      },
      "source": [
        "The return value from the function is a class with the class name. We can think of a class as a category. The class name, in this case, is the type of our data."
      ]
    },
    {
      "cell_type": "markdown",
      "metadata": {
        "id": "xp9YpT7IAJ-f"
      },
      "source": [
        "### Exercises"
      ]
    },
    {
      "cell_type": "markdown",
      "metadata": {
        "id": "qaX3g6QmAPh0"
      },
      "source": [
        "What are the types of these numerals?\n",
        "- 1,000\n",
        "- 1000\n",
        "- 1000.0\n",
        "- '1000'\n",
        "- \"1000\"\n",
        "- 1000.\n"
      ]
    },
    {
      "cell_type": "code",
      "execution_count": null,
      "metadata": {
        "id": "by-6vve2Cx6z",
        "outputId": "aee71586-febd-4e84-b347-5402b404cfc3"
      },
      "outputs": [
        {
          "data": {
            "text/plain": [
              "str"
            ]
          },
          "execution_count": 18,
          "metadata": {},
          "output_type": "execute_result"
        }
      ],
      "source": [
        "type('1,000')"
      ]
    },
    {
      "cell_type": "code",
      "execution_count": null,
      "metadata": {
        "id": "pyunk5BtqZKu",
        "outputId": "990a3b4d-27bb-43e3-9a64-65058b448ec8"
      },
      "outputs": [
        {
          "data": {
            "text/plain": [
              "tuple"
            ]
          },
          "execution_count": 19,
          "metadata": {},
          "output_type": "execute_result"
        }
      ],
      "source": [
        "type((1,000))"
      ]
    },
    {
      "cell_type": "code",
      "execution_count": null,
      "metadata": {
        "id": "JxIRkkpDcf6l"
      },
      "outputs": [],
      "source": [
        ""
      ]
    },
    {
      "cell_type": "markdown",
      "metadata": {
        "id": "5aZtmszzCyY8"
      },
      "source": [
        "# 4. Variables"
      ]
    },
    {
      "cell_type": "code",
      "execution_count": null,
      "metadata": {
        "id": "2jCcdIQacf6l",
        "outputId": "c947d151-7ed9-4dee-8ffc-b0a1fa453d03"
      },
      "outputs": [
        {
          "data": {
            "text/plain": [
              "int"
            ]
          },
          "execution_count": 20,
          "metadata": {},
          "output_type": "execute_result"
        }
      ],
      "source": [
        "type(1000)"
      ]
    },
    {
      "cell_type": "markdown",
      "metadata": {
        "id": "h502CHDKDXuK"
      },
      "source": [
        "## Memory\n",
        "\n",
        "When we do the math, we have\n",
        "- Operators\n",
        "- Operands\n",
        "\n",
        "An operator is roughly equivalent to an instruction in a computer. However, we need to supply operands or values to the instruction. Computer stores these values inside a memory, usually RAM.\n",
        "\n",
        "Memory is like a box that can store a value. However, one box can store only one value. If we have several values, we need several boxes.\n",
        "\n",
        "Each box has its *address* like a mailbox with a postal address. These addresses have long digits, which is hard for a human to remember. Therefore, we label a box with a name. We call the box with its name, a **variable**.\n"
      ]
    },
    {
      "cell_type": "markdown",
      "metadata": {
        "id": "hE9Mxv5dFUW8"
      },
      "source": [
        "## Assignment statements\n",
        "\n",
        "We can put a value into a box (in the memory) and label the box with a name. We call this process, an **assignment statement**. In other words, we create a new variable and gives it a value."
      ]
    },
    {
      "cell_type": "code",
      "execution_count": null,
      "metadata": {
        "id": "aMdGLvmpF6ht"
      },
      "outputs": [],
      "source": [
        "message = 'And now for something completely different'\n",
        "n = 17\n",
        "pi = 3.141592653589793"
      ]
    },
    {
      "cell_type": "code",
      "execution_count": null,
      "metadata": {
        "id": "b3lYX6RSL3TF"
      },
      "outputs": [],
      "source": [
        "type(n)"
      ]
    },
    {
      "cell_type": "code",
      "execution_count": null,
      "metadata": {
        "id": "ttwRe273L7pt"
      },
      "outputs": [],
      "source": [
        "n = 2.5"
      ]
    },
    {
      "cell_type": "code",
      "execution_count": null,
      "metadata": {
        "id": "TWABTcy-L91w"
      },
      "outputs": [],
      "source": [
        "type(n)"
      ]
    },
    {
      "cell_type": "markdown",
      "metadata": {
        "id": "bmXcPDGuGFqs"
      },
      "source": [
        "In Python, we assign\n",
        "- the variable name on the left-hand side of `=`\n",
        "with\n",
        "- the value on the right-hand side of `=`"
      ]
    },
    {
      "cell_type": "markdown",
      "metadata": {
        "id": "CF3Iovn8GuzW"
      },
      "source": [
        "## Naming a variable\n",
        "\n",
        "Python 3 supports Unicode, which means we can name a variable in any language!\n",
        "\n",
        "A variable name is a sequence of alphanumeric characters in any language. Symbols, except the underscore, `_`, are not allowed in a variable name. A variable name must start with an alphabet or an underscore, `_`. Numbers are allowed only after the first character of the name.\n",
        "\n",
        "Some words are reserved for a special purpose. We cannot use these **keywords** as a variable name.\n",
        "\n",
        "### Good names\n",
        "\n",
        "- Meaningful\n",
        "- Not too long\n",
        "- Easy to read: `camelCase` or `snake_case`\n",
        "  - It is conventional to start a variable name with a lowercase character.\n",
        "\n",
        "### Don't use names that are\n",
        "- Meaningless such as `a, b, c`\n",
        "- Already used as built-in function names such as `input, min, max`"
      ]
    },
    {
      "cell_type": "code",
      "execution_count": null,
      "metadata": {
        "id": "9Jx9YZYDNDuB"
      },
      "outputs": [],
      "source": [
        ""
      ]
    },
    {
      "cell_type": "markdown",
      "metadata": {
        "id": "BDxuyrLlI5rM"
      },
      "source": [
        "### Tips\n",
        "Modern programming text editors, IDEs, and notebooks use different colors to represent\n",
        "- Variables\n",
        "- Keywords\n",
        "- Number literals\n",
        "- String literals\n",
        "- Built-in functions"
      ]
    },
    {
      "cell_type": "code",
      "execution_count": null,
      "metadata": {
        "id": "FDduAaoKJxYu"
      },
      "outputs": [],
      "source": [
        "name = input('Enter your name:')\n",
        "print(2, '2', name)\n",
        "class if while"
      ]
    },
    {
      "cell_type": "code",
      "execution_count": null,
      "metadata": {
        "id": "W1rhnlztNga0",
        "outputId": "e1ac294e-0a82-4d2b-fba2-423448e821a7"
      },
      "outputs": [
        {
          "name": "stdout",
          "output_type": "stream",
          "text": [
            "4\n"
          ]
        }
      ],
      "source": [
        "a = 2+2\n",
        "print(a)"
      ]
    },
    {
      "cell_type": "markdown",
      "metadata": {
        "id": "QMjLohT2LAS4"
      },
      "source": [
        "## Expressions and statements\n",
        "\n",
        "An **expression** is a combination of values, variables, and operators. A value, or a variable is also a basic expression.\n",
        "\n",
        "The interpreter will evaluate the expression to get the final value. Usually, the result resides in the memory but doesn't have any labeled name. If we assign a variable to an expression, the evaluated value of the expression will be labeled with that variable name.\n",
        "\n",
        "A **statement** is a unit of code that can be executed."
      ]
    },
    {
      "cell_type": "markdown",
      "metadata": {
        "id": "vSlpo-S3Mh0l"
      },
      "source": [
        "## Referring to a variable\n",
        "\n",
        "When we state the name of a variable, there are two use cases\n",
        "1. We want to put the label name on the box.\n",
        "2. We want the value inside that box. This situation is when we evaluate an expression using a variable, or when we pass a variable to function.\n"
      ]
    },
    {
      "cell_type": "code",
      "execution_count": null,
      "metadata": {
        "id": "DSUmG8m0-bVC",
        "outputId": "4c0a693c-8c6d-491d-bc89-b496e38b6d4e"
      },
      "outputs": [
        {
          "name": "stdout",
          "output_type": "stream",
          "text": [
            "10\n"
          ]
        }
      ],
      "source": [
        "n = 10\n",
        "print(n)\n",
        "n = 7"
      ]
    },
    {
      "cell_type": "code",
      "execution_count": null,
      "metadata": {
        "id": "mQpOPOt9-o6U",
        "outputId": "ac646d56-3725-4da5-fb3c-2f5467bd4d0a"
      },
      "outputs": [
        {
          "name": "stdout",
          "output_type": "stream",
          "text": [
            "7\n"
          ]
        }
      ],
      "source": [
        "print(n)"
      ]
    },
    {
      "cell_type": "code",
      "execution_count": null,
      "metadata": {
        "id": "9dhWub9pPKc7",
        "scrolled": true,
        "outputId": "08b997db-fb76-4d6d-d5da-1c64e661742f"
      },
      "outputs": [
        {
          "name": "stdout",
          "output_type": "stream",
          "text": [
            "2011195337200\n",
            "2011278201392\n",
            "2011278201392 2011278201392\n",
            "2011278201392 2011278201392\n"
          ]
        }
      ],
      "source": [
        "print(id(n))\n",
        "n = 2.5\n",
        "print(id(n))\n",
        "m = n\n",
        "print(id(n), id(m))\n",
        "m = float(n)\n",
        "print(id(n), id(m))"
      ]
    },
    {
      "cell_type": "code",
      "execution_count": null,
      "metadata": {
        "id": "bIW_hPo7Qm4H"
      },
      "outputs": [],
      "source": [
        "n = [1,2,3]\n",
        "m = list(n)\n",
        "print(m, n)\n",
        "print(id(m), id(n))\n",
        "n[0] = 0\n",
        "print(m,n)\n",
        "print(id(m), id(n))\n"
      ]
    },
    {
      "cell_type": "markdown",
      "metadata": {
        "id": "fd9sd5S4-zqz"
      },
      "source": [
        "# 5. Precedence and associativity"
      ]
    },
    {
      "cell_type": "markdown",
      "metadata": {
        "id": "xgK69ek0-6ko"
      },
      "source": [
        "## Arithemtic operations\n",
        "- `( )`\n",
        "- `**`\n",
        "- `*` `/`\n",
        "- `+ -`\n",
        "\n",
        "When there are more than one operators in a statement, the order of operations depends on the precedence.\n",
        "\n",
        "When there is an operand whose left and right operators have the same precedence level, the associativity determines the order of operations.\n",
        "- Left associativity\n",
        "- Right associativity"
      ]
    },
    {
      "cell_type": "code",
      "execution_count": null,
      "metadata": {
        "id": "lVyYJsj3cf6o",
        "outputId": "fded6f3d-3b62-40c2-9269-3c2604a24e13"
      },
      "outputs": [
        {
          "data": {
            "text/plain": [
              "2.5"
            ]
          },
          "execution_count": 26,
          "metadata": {},
          "output_type": "execute_result"
        }
      ],
      "source": [
        "n"
      ]
    },
    {
      "cell_type": "code",
      "execution_count": null,
      "metadata": {
        "id": "89YgTWMHcf6o",
        "outputId": "b09f8ea8-4117-4054-ff65-79de4f5efe70"
      },
      "outputs": [
        {
          "ename": "NameError",
          "evalue": "name 'c' is not defined",
          "output_type": "error",
          "traceback": [
            "\u001b[1;31m---------------------------------------------------------------------------\u001b[0m",
            "\u001b[1;31mNameError\u001b[0m                                 Traceback (most recent call last)",
            "\u001b[1;32m~\\AppData\\Local\\Temp/ipykernel_9464/3441566590.py\u001b[0m in \u001b[0;36m<module>\u001b[1;34m\u001b[0m\n\u001b[1;32m----> 1\u001b[1;33m \u001b[0ma\u001b[0m\u001b[1;33m=\u001b[0m\u001b[0mb\u001b[0m\u001b[1;33m=\u001b[0m\u001b[0mc\u001b[0m\u001b[1;33m\u001b[0m\u001b[1;33m\u001b[0m\u001b[0m\n\u001b[0m",
            "\u001b[1;31mNameError\u001b[0m: name 'c' is not defined"
          ]
        }
      ],
      "source": [
        "a=b=c"
      ]
    },
    {
      "cell_type": "code",
      "execution_count": null,
      "metadata": {
        "id": "q8qoadVYcf6o"
      },
      "outputs": [],
      "source": [
        ""
      ]
    },
    {
      "cell_type": "markdown",
      "metadata": {
        "id": "UQyhoJQRASBT"
      },
      "source": [
        "### Exercise\n",
        "\n",
        "Write an expression to calculate the positive root of a polynomial equation\n",
        "$$ax^2+bx+c = 0,$$\n",
        "\n",
        "which is\n",
        "$$\\frac{-b + \\sqrt{b^2-4ac}}{2a}$$."
      ]
    },
    {
      "cell_type": "code",
      "execution_count": null,
      "metadata": {
        "id": "82Vt1WBASGZy"
      },
      "outputs": [],
      "source": [
        "a = 1\n",
        "b = 4\n",
        "c = 4"
      ]
    },
    {
      "cell_type": "code",
      "execution_count": null,
      "metadata": {
        "id": "98UaCWlfAyj-",
        "outputId": "be027142-e9af-413e-97e5-b1e3dcc7c171"
      },
      "outputs": [
        {
          "data": {
            "text/plain": [
              "-2.0"
            ]
          },
          "execution_count": 29,
          "metadata": {},
          "output_type": "execute_result"
        }
      ],
      "source": [
        "# Solution -> -2\n",
        "(-b+(b**2-4*a*c)**0.5)/(2*a)"
      ]
    },
    {
      "cell_type": "markdown",
      "metadata": {
        "id": "VYyguzT1A-EL"
      },
      "source": [
        "# 6. Scripting"
      ]
    },
    {
      "cell_type": "markdown",
      "metadata": {
        "id": "v22EdyrLBe1O"
      },
      "source": [
        "All modern IDEs and notebooks have an option to download all executed statements in the interactive mode. We can save them into a file, generally with `.py` extension.\n",
        "\n",
        "Note that in the interactive mode, the default output device is the display. When a statement is executed, the return value will be printed out on the screen. However, in the script mode, we need to explicitly call the `print` function to display the result on the screen."
      ]
    },
    {
      "cell_type": "markdown",
      "metadata": {
        "id": "vLACYxWPGJCh"
      },
      "source": [
        "## Standard I/O\n",
        "\n",
        "The `print` function actually sends the output to the default output device, which is the standard output. We can change the target output device by specifying the option of the `print` function.\n",
        "\n",
        "Similar to the standard output, we also have the standard input device, which is a keyboard."
      ]
    },
    {
      "cell_type": "markdown",
      "metadata": {
        "id": "yiOuV1pAC6-k"
      },
      "source": [
        "## Comments\n",
        "\n",
        "Apart from the statements that we communicate with the machine, we may want to talk with other human reading our codes. Although Python syntax is intuitive and quite similar to English, having a clear explanation in human language can help the reader to understand our codes. Sometimes, it also helps us, the writer, when we come back to our codes after a while. These notes are **comments**, which are ignored by the interpreter.\n",
        "\n",
        "We have two types of comments\n",
        "1. In-line comments\n",
        "- Everything following `#` symbol until the end of the line is a comment.\n",
        "2. Block comments\n",
        "- When a comment is very long, we may split them into several lines. We may put `#` in fron of every line. Or, use a multiline string."
      ]
    },
    {
      "cell_type": "code",
      "execution_count": null,
      "metadata": {
        "id": "V-I1geUMVbed"
      },
      "outputs": [],
      "source": [
        "n = 10 # set the initial value of n"
      ]
    },
    {
      "cell_type": "code",
      "execution_count": null,
      "metadata": {
        "id": "F3bLhnfmGxGv",
        "outputId": "95bfd09f-8185-4a31-f695-4c511cec7cff"
      },
      "outputs": [
        {
          "data": {
            "text/plain": [
              "'\\n  This is\\n  multiline\\n  strings.\\n'"
            ]
          },
          "execution_count": 25,
          "metadata": {},
          "output_type": "execute_result"
        }
      ],
      "source": [
        "'''\n",
        "  This is\n",
        "  multiline\n",
        "  strings.\n",
        "'''"
      ]
    },
    {
      "cell_type": "code",
      "execution_count": null,
      "metadata": {
        "id": "m2NPpzxUG4fn"
      },
      "outputs": [],
      "source": [
        "\"\"\" This is\n",
        "also\n",
        "a\n",
        "multiline\n",
        "text. \"\"\""
      ]
    },
    {
      "cell_type": "markdown",
      "metadata": {
        "id": "-puKdTbyEp48"
      },
      "source": [
        "### Good comments\n",
        "Some conventions in using comments are\n",
        "- Explain what a function/method does, just right before defining the function/method.\n",
        "- Add information which is not explicitly written by the code such as the unit of calculation\n",
        "- Explain what does the following statements are intended to do.\n",
        "\n",
        "Some programs can *automatically* generate documentation for us if we write comments in a specific format. This feature is handy when we implement an API."
      ]
    },
    {
      "cell_type": "markdown",
      "metadata": {
        "id": "rM8j6CD4z9Kv"
      },
      "source": [
        "# 7. Debugging tips"
      ]
    },
    {
      "cell_type": "markdown",
      "metadata": {
        "id": "7_w7Imaf0AWH"
      },
      "source": [
        "- Start writing short codes using an interactive mode\n",
        "- Copy bug-free codes to a script\n",
        "- Split jobs into smaller jobs and\n",
        "  - **Test each job separately**\n",
        "  - Integrate all jobs and test the whole codes again"
      ]
    },
    {
      "cell_type": "markdown",
      "metadata": {
        "id": "VCjVQWuo18aJ"
      },
      "source": [
        "## Error types\n",
        "\n",
        "There are three kinds of errors, syntax errors, runtime errors, and logical errors."
      ]
    },
    {
      "cell_type": "markdown",
      "metadata": {
        "id": "ewGTnBoc2Ei6"
      },
      "source": [
        "### Syntax errors\n",
        "\n",
        "A syntax error is the most straightforward errors to be fixed. Since a standard interpreter usually indicates where the error occurs and which type the error is."
      ]
    },
    {
      "cell_type": "code",
      "execution_count": null,
      "metadata": {
        "id": "T3WxoLOE3y1v"
      },
      "outputs": [],
      "source": [
        "2 = xi"
      ]
    },
    {
      "cell_type": "code",
      "execution_count": null,
      "metadata": {
        "id": "cs0foRtu4UYG"
      },
      "outputs": [],
      "source": [
        "2a"
      ]
    },
    {
      "cell_type": "markdown",
      "metadata": {
        "id": "a7znXA2h32S2"
      },
      "source": [
        "### Runtime errors"
      ]
    },
    {
      "cell_type": "markdown",
      "metadata": {
        "id": "mHK2GILX38tJ"
      },
      "source": [
        "A runtime error occurs when the program run with some inputs. These errors are also called **exceptions**."
      ]
    },
    {
      "cell_type": "code",
      "execution_count": null,
      "metadata": {
        "id": "FrgEy2VM4aAD"
      },
      "outputs": [],
      "source": [
        "'2' * '4'"
      ]
    },
    {
      "cell_type": "code",
      "execution_count": null,
      "metadata": {
        "id": "WWfCCQNKWshm"
      },
      "outputs": [],
      "source": [
        "10 / 0"
      ]
    },
    {
      "cell_type": "markdown",
      "metadata": {
        "id": "C-iYP4161Pbq"
      },
      "source": [
        "## Test cases\n",
        "\n",
        "We test a program (or function) using a set of test cases. We hope that if our codes pass all of the test cases, there won't be any error when we run it in production.\n",
        "\n",
        "Usually, it is not practical, or sometimes impossible, to generate all test cases. Instead, we divide cases into subgroups and choose a representative sample from each group to test."
      ]
    },
    {
      "cell_type": "markdown",
      "metadata": {
        "id": "WrRo3ZTn6ZW3"
      },
      "source": [
        "### Simple test case design\n",
        "\n",
        "When dealing with numbers,\n",
        "- There are positive, zero, and negative numbers.\n",
        "- When there is an interval, there are numbers in and out of the range.\n",
        "- There are integers and floating-point numbers.\n",
        "\n",
        "When dealing with text,\n",
        "- There is an empty string, '', texts with short and long length.\n",
        "- There are alphabets, numerals, and symbols."
      ]
    },
    {
      "cell_type": "markdown",
      "metadata": {
        "id": "by3Y4YqI7bWP"
      },
      "source": [
        "# Lab"
      ]
    },
    {
      "cell_type": "markdown",
      "metadata": {
        "id": "lps9d5-K7cqG"
      },
      "source": [
        "## Getting used to your IDE\n",
        "\n",
        "Environment settings\n",
        "\n",
        "1. Download and install Python 3 from [Anaconda distribution](https://www.anaconda.com/distribution/#download-section)\n",
        "\n",
        "2. (Optional) Download [PyCharm](https://www.jetbrains.com/pycharm/)"
      ]
    },
    {
      "cell_type": "markdown",
      "metadata": {
        "id": "dfQKRsJVCzL5"
      },
      "source": [
        "### Submission guideline\n",
        "\n",
        "Write everything after the tag `# YOUR CODE HERE`\n",
        "We will run the test script on your code!\n",
        "\n",
        "Delete the `raise NotImplementedError()` line when you start implementing your code. It will throw an error if you didn't implement anything (and, you will not got any score)."
      ]
    },
    {
      "cell_type": "markdown",
      "metadata": {
        "id": "iZpTCEzh8Hgf"
      },
      "source": [
        "## Lab 1 summary\n",
        "\n",
        "We will write a check-sum function for the Thai national IDs."
      ]
    },
    {
      "cell_type": "markdown",
      "metadata": {
        "id": "2H-b_o6j8Jrw"
      },
      "source": [
        "### Getting start\n",
        "\n",
        "1. Read the specification of the Thai identification number: https://en.wikipedia.org/wiki/Thai_identity_card\n",
        "2. Read each digit from the national ID\n",
        "2. Write a checksum function for the input ID\n",
        "\n",
        "Here are the steps to calculate the checksum for $x_{13}-x_{12} x_{11} x_{10} x_9-x_8 x_7 x_6 x_5 x_4-x_3 x_2-x_1$\n",
        "1. Multiply each $x_i$ with $i$ for $i$ in $13 .. 2$\n",
        "2. Sum all twelve values from item 1.\n",
        "3. Divide the value in item 2 with 11.\n",
        "4. Subtract the remainder in item 3 from 11.\n",
        "5. The last digit in 4 is the checksum\n",
        "\n",
        "There is also the reference algorithm in Thai (https://th.wikipedia.org/wiki/%E0%B9%80%E0%B8%A5%E0%B8%82%E0%B8%9B%E0%B8%A3%E0%B8%B0%E0%B8%88%E0%B8%B3%E0%B8%95%E0%B8%B1%E0%B8%A7%E0%B8%9B%E0%B8%A3%E0%B8%B0%E0%B8%8A%E0%B8%B2%E0%B8%8A%E0%B8%99%E0%B9%84%E0%B8%97%E0%B8%A2#%E0%B8%95%E0%B8%B1%E0%B8%A7%E0%B9%80%E0%B8%A5%E0%B8%82%E0%B8%AB%E0%B8%A5%E0%B8%B1%E0%B8%81%E0%B8%97%E0%B8%B5%E0%B9%88_13)\n",
        "\n"
      ]
    },
    {
      "cell_type": "code",
      "execution_count": 6,
      "metadata": {
        "id": "SksLVGphFcVB"
      },
      "outputs": [],
      "source": [
        "def checksum():\n",
        "    \"\"\"Read each digit from the national ID and compute the checksum.\n",
        "    \n",
        "    \"\"\"\n",
        "    # YOUR CODE HERE\n",
        "    x13 = int(input())\n",
        "    x12 = int(input())\n",
        "    x11 = int(input())\n",
        "    x10 = int(input())\n",
        "    x9 = int(input())\n",
        "    x8 = int(input())\n",
        "    x7 = int(input())\n",
        "    x6 = int(input())\n",
        "    x5 = int(input())\n",
        "    x4 = int(input())\n",
        "    x3 = int(input())\n",
        "    x2 = int(input())\n",
        "    x1 = int(input())\n",
        "\n",
        "    item2 = x13*13+x12*12+x11*11+x10*10+x9*9+x8*8+x7*7+x6*6+x5*5+x4*4+x3*3+x2*2\n",
        "    item4 = 11-((item2)%11)\n",
        "\n",
        "    print(\"the checksum is\",item4)"
      ]
    },
    {
      "cell_type": "code",
      "execution_count": 7,
      "metadata": {
        "colab": {
          "base_uri": "https://localhost:8080/"
        },
        "id": "h-5yY0t6cf6t",
        "outputId": "d488e0d2-47d7-4e47-bdb7-da95f0739f72"
      },
      "outputs": [
        {
          "output_type": "stream",
          "name": "stdout",
          "text": [
            "1\n",
            "1\n",
            "0\n",
            "4\n",
            "2\n",
            "0\n",
            "0\n",
            "3\n",
            "5\n",
            "5\n",
            "1\n",
            "4\n",
            "8\n",
            "the checksum is 8\n"
          ]
        }
      ],
      "source": [
        "checksum()"
      ]
    },
    {
      "cell_type": "code",
      "execution_count": null,
      "metadata": {
        "id": "jcGH0Qnlcf6t"
      },
      "outputs": [],
      "source": [
        "text = input()"
      ]
    }
  ],
  "metadata": {
    "colab": {
      "collapsed_sections": [
        "XGSthh1mTBdw",
        "hqBEb7z-Veg_",
        "gOeYUqb2WRDe",
        "LYMH5zbzXK1v",
        "yI7Z9DzUYIpc",
        "imdBdL2CZis4",
        "hcDoIs4sZ84d",
        "F1-H6ZhqaN7n",
        "C61g43UwbHZb",
        "Lxa6IxFFbMAC",
        "moxenmhNbPL1",
        "tHIF5pRUcAQf",
        "NUYW_NBydktl",
        "fOIEgacieIqJ",
        "4-614fVCh44Z",
        "NjLAiD9xiyJy",
        "U849Jx7ejQYG",
        "eZiR5U00nius",
        "ZoU6NQ2unTGu",
        "CtSRpBKp8-7o",
        "3IAPHD-R-gIT",
        "J0Bt_gu_-qXn",
        "lO93YfeQHCmV",
        "oWw3tI5JL7-F",
        "ZsrE8QOm_uJY",
        "xp9YpT7IAJ-f",
        "5aZtmszzCyY8",
        "h502CHDKDXuK",
        "hE9Mxv5dFUW8",
        "CF3Iovn8GuzW",
        "BDxuyrLlI5rM",
        "QMjLohT2LAS4",
        "vSlpo-S3Mh0l",
        "fd9sd5S4-zqz",
        "xgK69ek0-6ko",
        "UQyhoJQRASBT",
        "VYyguzT1A-EL",
        "vLACYxWPGJCh",
        "yiOuV1pAC6-k",
        "-puKdTbyEp48",
        "rM8j6CD4z9Kv",
        "VCjVQWuo18aJ",
        "ewGTnBoc2Ei6",
        "a7znXA2h32S2",
        "C-iYP4161Pbq",
        "WrRo3ZTn6ZW3"
      ],
      "name": "2301172_Lab0 (1).ipynb",
      "provenance": []
    },
    "kernelspec": {
      "display_name": "Python 3 (ipykernel)",
      "language": "python",
      "name": "python3"
    },
    "language_info": {
      "codemirror_mode": {
        "name": "ipython",
        "version": 3
      },
      "file_extension": ".py",
      "mimetype": "text/x-python",
      "name": "python",
      "nbconvert_exporter": "python",
      "pygments_lexer": "ipython3",
      "version": "3.9.7"
    }
  },
  "nbformat": 4,
  "nbformat_minor": 0
}