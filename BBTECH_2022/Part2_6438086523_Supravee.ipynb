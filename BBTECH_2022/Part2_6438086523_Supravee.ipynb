{
 "cells": [
  {
   "cell_type": "markdown",
   "id": "3WsWGx8lJXgc",
   "metadata": {
    "id": "3WsWGx8lJXgc"
   },
   "source": [
    "Please rename this notebook as *Part2_{Your ID}_{Firstname}.ipynb*, e.g. Part2_64xxxxxxxx_Somchai.ipynb \n",
    "\n",
    "After that, download *file.ipynb* and submit it in MyCourseVille."
   ]
  },
  {
   "cell_type": "markdown",
   "id": "AMON_E5zJYue",
   "metadata": {
    "id": "AMON_E5zJYue"
   },
   "source": [
    "<B>Question 1: (5 marks)<B> \n",
    "\n",
    "You have the following list:"
   ]
  },
  {
   "cell_type": "code",
   "execution_count": null,
   "id": "9bb8839e",
   "metadata": {
    "id": "9bb8839e"
   },
   "outputs": [],
   "source": [
    "a1 = [[\"XOOXX\"],[\"XXOXX\"],[\"XXOXX\"],[\"XOOOX\"]]"
   ]
  },
  {
   "cell_type": "markdown",
   "id": "c281f760",
   "metadata": {
    "id": "c281f760"
   },
   "source": [
    "Your task is to write a function to return a new list that removes the inner lists from a1. Therefore your resulting list from the function is \n"
   ]
  },
  {
   "cell_type": "code",
   "execution_count": null,
   "id": "0f9f195e",
   "metadata": {
    "id": "0f9f195e"
   },
   "outputs": [],
   "source": [
    "[\"XOOXX\",\"XXOXX\",\"XXOXX\",\"XOOOX\"]"
   ]
  },
  {
   "cell_type": "markdown",
   "id": "0ed340fd",
   "metadata": {
    "id": "0ed340fd"
   },
   "source": [
    "Write the function in a code cell provided below: \n",
    "\n",
    "<B>Requirement: \n",
    "    \n",
    "    - You must use list comprehension to produce the resulting list. You will not get any mark if you do not use list comprehension!\n",
    "    \n",
    "    - a1 can contain a list of any string, of any length (string length and list length can vary). Your code must work for every possible a1. If not, you get 0 mark.    "
   ]
  },
  {
   "cell_type": "code",
   "execution_count": 3,
   "id": "a5615b56",
   "metadata": {
    "id": "a5615b56"
   },
   "outputs": [
    {
     "name": "stdout",
     "output_type": "stream",
     "text": [
      "['XOOXX', 'XXOXX', 'XXOXX', 'XOOOX']\n"
     ]
    }
   ],
   "source": [
    "a1 = [[\"XOOXX\"],[\"XXOXX\"],[\"XXOXX\"],[\"XOOOX\"]]\n",
    "\n",
    "\n",
    "#You can use a1 as a global variable.\n",
    "#Write your function below.\n",
    "\n",
    "\n",
    "def yourFunction(list_f):\n",
    "    new = [i[0] for i in list_f]\n",
    "    return new\n",
    "\n",
    "\n",
    "a2 = yourFunction(a1)\n",
    "print(a2) "
   ]
  },
  {
   "cell_type": "markdown",
   "id": "d4e16dd5",
   "metadata": {
    "id": "d4e16dd5"
   },
   "source": [
    "==================================================================="
   ]
  },
  {
   "cell_type": "markdown",
   "id": "1d456e5f",
   "metadata": {
    "id": "1d456e5f"
   },
   "source": [
    "<B>Question 2: (15 marks)<B> \n",
    "\n",
    "You have the following list, a0 and a1, representing \"0\" and \"1\" in graphic form (shown in file numberplate.txt) \n",
    "    \n",
    "Your task is to write a program that \n",
    "    \n",
    "    - receives a series of \"0\" and \"1\", separated by space.  \n",
    "    \n",
    "    - Prints out the graphic form in sequence, according to the input sequence. \n",
    "     \n",
    "<B>Requirement: \n",
    "    \n",
    "    a0 and a1's graphic representations have equal width and height. But their width and height can be of any size. Your program must allow this. If not, you get 0 mark.  \n",
    "    \n",
    "    Example execution is shown in file Q2Example.png"
   ]
  },
  {
   "cell_type": "code",
   "execution_count": 12,
   "id": "b6049e6b",
   "metadata": {
    "id": "b6049e6b"
   },
   "outputs": [
    {
     "name": "stdout",
     "output_type": "stream",
     "text": [
      "1 0 1 1 1 1 1 1 1 0 0 0 0 0 1\n",
      "XOOXX OOOOO XOOXX XOOXX XOOXX XOOXX XOOXX XOOXX XOOXX OOOOO OOOOO OOOOO OOOOO OOOOO XOOXX \n",
      "XXOXX OXXXO XXOXX XXOXX XXOXX XXOXX XXOXX XXOXX XXOXX OXXXO OXXXO OXXXO OXXXO OXXXO XXOXX \n",
      "XXOXX OXXXO XXOXX XXOXX XXOXX XXOXX XXOXX XXOXX XXOXX OXXXO OXXXO OXXXO OXXXO OXXXO XXOXX \n",
      "XOOOX OOOOO XOOOX XOOOX XOOOX XOOOX XOOOX XOOOX XOOOX OOOOO OOOOO OOOOO OOOOO OOOOO XOOOX \n",
      "\n"
     ]
    }
   ],
   "source": [
    "a0 = [\"OOOOO\",\"OXXXO\",\"OXXXO\",\"OOOOO\"]\n",
    "a1 = [\"XOOXX\",\"XXOXX\",\"XXOXX\",\"XOOOX\"]\n",
    "\n",
    "#Write your code below\n",
    "\n",
    "h = input().split()\n",
    "tmp = \"\"\n",
    "count = 0\n",
    "for g in range(len(a0)):\n",
    "    for i in h:\n",
    "        if i == \"0\":\n",
    "            tmp += a0[count]\n",
    "        elif i == \"1\":\n",
    "            tmp += a1[count]\n",
    "        tmp += \" \"\n",
    "    count += 1\n",
    "    tmp += \"\\n\"\n",
    "print(tmp)\n",
    "\n"
   ]
  },
  {
   "cell_type": "code",
   "execution_count": null,
   "id": "80c7fef1",
   "metadata": {},
   "outputs": [],
   "source": []
  }
 ],
 "metadata": {
  "colab": {
   "collapsed_sections": [],
   "name": "Final Part 2.ipynb",
   "provenance": []
  },
  "kernelspec": {
   "display_name": "Python 3 (ipykernel)",
   "language": "python",
   "name": "python3"
  },
  "language_info": {
   "codemirror_mode": {
    "name": "ipython",
    "version": 3
   },
   "file_extension": ".py",
   "mimetype": "text/x-python",
   "name": "python",
   "nbconvert_exporter": "python",
   "pygments_lexer": "ipython3",
   "version": "3.9.6"
  }
 },
 "nbformat": 4,
 "nbformat_minor": 5
}
