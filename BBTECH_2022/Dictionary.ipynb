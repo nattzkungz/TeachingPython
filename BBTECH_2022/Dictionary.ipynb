{
 "cells": [
  {
   "cell_type": "markdown",
   "metadata": {},
   "source": [
    "### Dictionary\n",
    "\n",
    "Another way to store data in Python\n",
    "\n",
    "Uses:\n",
    "- Counting duplicated items\n",
    "- Accessing data that might be complicated if using list method\n",
    "- more\n",
    "\n",
    "Dictionary stored data form:\n",
    "\n",
    "``` dictionary = {\"key1\":value1, \"key2\":value2}```\n",
    "\n",
    "The value can be anything\n",
    "- integer\n",
    "- string\n",
    "- list\n",
    "- dict\n",
    "\n",
    "To access the value of a key in a dict\n",
    "\n",
    "```dictionary[\"key\"]```\n",
    "\n",
    "it cant be accessed like list (cannot use list index)"
   ]
  },
  {
   "cell_type": "code",
   "execution_count": 31,
   "metadata": {},
   "outputs": [],
   "source": [
    "## Try to imagine real dictionary, it have the word and its translation\n",
    "\n",
    "programming_dictionary = {\n",
    "    \"Bug\" : \"An error in a program that prevents the program from running as expected\",\n",
    "    \"Loop\" : \"The action of doing something over and over again\",\n",
    "    \"Integer\" : \"A number\"\n",
    "}"
   ]
  },
  {
   "cell_type": "code",
   "execution_count": 32,
   "metadata": {},
   "outputs": [
    {
     "name": "stdout",
     "output_type": "stream",
     "text": [
      "An error in a program that prevents the program from running as expected\n"
     ]
    }
   ],
   "source": [
    "## We want to know what is bug right?\n",
    "\n",
    "print(programming_dictionary[\"Bug\"])"
   ]
  },
  {
   "cell_type": "code",
   "execution_count": 33,
   "metadata": {},
   "outputs": [
    {
     "ename": "KeyError",
     "evalue": "'Function'",
     "output_type": "error",
     "traceback": [
      "\u001b[1;31m---------------------------------------------------------------------------\u001b[0m",
      "\u001b[1;31mKeyError\u001b[0m                                  Traceback (most recent call last)",
      "\u001b[1;32m<ipython-input-33-d85603338715>\u001b[0m in \u001b[0;36m<module>\u001b[1;34m\u001b[0m\n\u001b[0;32m      1\u001b[0m \u001b[1;31m## If the key is not in the dictionary, it will return KeyError\u001b[0m\u001b[1;33m\u001b[0m\u001b[1;33m\u001b[0m\u001b[1;33m\u001b[0m\u001b[0m\n\u001b[0;32m      2\u001b[0m \u001b[1;33m\u001b[0m\u001b[0m\n\u001b[1;32m----> 3\u001b[1;33m \u001b[0mprint\u001b[0m\u001b[1;33m(\u001b[0m\u001b[0mprogramming_dictionary\u001b[0m\u001b[1;33m[\u001b[0m\u001b[1;34m\"Function\"\u001b[0m\u001b[1;33m]\u001b[0m\u001b[1;33m)\u001b[0m\u001b[1;33m\u001b[0m\u001b[1;33m\u001b[0m\u001b[0m\n\u001b[0m",
      "\u001b[1;31mKeyError\u001b[0m: 'Function'"
     ]
    }
   ],
   "source": [
    "## If the key is not in the dictionary, it will return KeyError\n",
    "\n",
    "print(programming_dictionary[\"Function\"])"
   ]
  },
  {
   "cell_type": "code",
   "execution_count": 45,
   "metadata": {},
   "outputs": [
    {
     "name": "stdout",
     "output_type": "stream",
     "text": [
      "{191: 'Police', 911: 'Police', 1112: 'The Pizza Company', 66: 'Thailand'}\n",
      "{191: 'Police', 1112: 'The Pizza Company', 66: 'Thailand'}\n"
     ]
    }
   ],
   "source": [
    "## The key can be integer, string, or else\n",
    "\n",
    "contactBook = {191: \"Police\", 911:\"Police\", 1112:\"The Pizza Company\"}\n",
    "contactBook[66] = \"Thailand\"\n",
    "print(contactBook)\n",
    "\n",
    "del contactBook[911]\n",
    "print(contactBook)"
   ]
  },
  {
   "cell_type": "code",
   "execution_count": 1,
   "metadata": {},
   "outputs": [],
   "source": [
    "## Creating blank dictionary\n",
    "\n",
    "dictName = {}\n",
    "dictName = dict()"
   ]
  },
  {
   "cell_type": "code",
   "execution_count": 24,
   "metadata": {},
   "outputs": [],
   "source": [
    "## Adding data to dictionary\n",
    "\n",
    "dictName[\"Key\"] = \"value\""
   ]
  },
  {
   "cell_type": "code",
   "execution_count": 12,
   "metadata": {},
   "outputs": [
    {
     "name": "stdout",
     "output_type": "stream",
     "text": [
      "{'Key': 'value'}\n"
     ]
    }
   ],
   "source": [
    "print(dictName)"
   ]
  },
  {
   "cell_type": "code",
   "execution_count": 27,
   "metadata": {},
   "outputs": [
    {
     "name": "stdout",
     "output_type": "stream",
     "text": [
      "value\n"
     ]
    }
   ],
   "source": [
    "## Accessing value of a key in a dict\n",
    "\n",
    "value = dictName[\"Key\"]\n",
    "print(value)"
   ]
  },
  {
   "cell_type": "code",
   "execution_count": 13,
   "metadata": {},
   "outputs": [
    {
     "name": "stdout",
     "output_type": "stream",
     "text": [
      "{}\n"
     ]
    }
   ],
   "source": [
    "## Remove item from dict\n",
    "\n",
    "del dictName[\"Key\"]\n",
    "\n",
    "print(dictName)\n",
    "\n",
    "## This doesnt get used often"
   ]
  },
  {
   "cell_type": "markdown",
   "metadata": {},
   "source": [
    "#### Modifying data in a dictionary\n",
    "\n",
    "You can treat the accessed value as an object (remember function return?)\n",
    "\n",
    "Integer\n",
    "\n",
    "```dictName[\"Key\"] += value```\n",
    "\n",
    "```dictName[\"Key\"] -= value```\n",
    "\n",
    "List\n",
    "\n",
    "```dictName[\"Key\"].append(data)```\n",
    "\n",
    "Dict (This might be too complicated)\n",
    "\n",
    "```dictName[SubDictName][\"KeyInSubDict\"] = value```"
   ]
  },
  {
   "cell_type": "code",
   "execution_count": 40,
   "metadata": {},
   "outputs": [
    {
     "name": "stdout",
     "output_type": "stream",
     "text": [
      "The new dictionary is {'Bug': 'An annoying insects', 'Loop': 'The action of doing something over and over again', 'Integer': 'A number'}\n"
     ]
    }
   ],
   "source": [
    "## Changing the value of dictionary\n",
    "\n",
    "programming_dictionary = {\n",
    "    \"Bug\" : \"An error in a program that prevents the program from running as expected\",\n",
    "    \"Loop\" : \"The action of doing something over and over again\",\n",
    "    \"Integer\" : \"A number\"\n",
    "}\n",
    "\n",
    "programming_dictionary[\"Bug\"] = \"An annoying insects\"\n",
    "\n",
    "print(f\"The new dictionary is {programming_dictionary}\")"
   ]
  },
  {
   "cell_type": "code",
   "execution_count": 17,
   "metadata": {},
   "outputs": [
    {
     "name": "stdout",
     "output_type": "stream",
     "text": [
      "{'h': 3, 'e': 13, 'l': 5, 'o': 7, ',': 1, ' ': 18, 'i': 6, 't': 7, \"'\": 2, 's': 4, 'm': 2, 'w': 2, 'a': 4, 'n': 3, 'd': 2, 'r': 5, 'g': 3, 'f': 2, 'y': 3, 'u': 1, 'k': 1, 'v': 2}\n"
     ]
    }
   ],
   "source": [
    "## Modifying integer data in dict\n",
    "\n",
    "alphabetCountInSentence = {}\n",
    "sentence = \"Hello, it's me I was wondering if after all these years you'd like to meet To go over everything\"\n",
    "\n",
    "for alphabet in sentence:\n",
    "    if alphabet.lower() not in alphabetCountInSentence:\n",
    "        alphabetCountInSentence[alphabet.lower()] = 1\n",
    "    else:\n",
    "        alphabetCountInSentence[alphabet.lower()] += 1\n",
    "\n",
    "print(alphabetCountInSentence)"
   ]
  },
  {
   "cell_type": "code",
   "execution_count": 46,
   "metadata": {},
   "outputs": [
    {
     "name": "stdout",
     "output_type": "stream",
     "text": [
      "{'Aom': [100, 99, 20, 0]}\n"
     ]
    }
   ],
   "source": [
    "## Modifying list in dictionary\n",
    "\n",
    "nameAgeWeightHeight = {\"Aom\":[100,99,20]}\n",
    "nameAgeWeightHeight[\"Aom\"].append(0)\n",
    "print(nameAgeWeightHeight)"
   ]
  },
  {
   "cell_type": "markdown",
   "metadata": {},
   "source": [
    "#### Using Loop in Dict\n",
    "\n",
    "When using for - loop, the loop will only __return the key__ (NO VALUE RETURNED)\n",
    "\n",
    "Since there is no value returned, the code will be more complex"
   ]
  },
  {
   "cell_type": "code",
   "execution_count": 3,
   "metadata": {},
   "outputs": [
    {
     "name": "stdout",
     "output_type": "stream",
     "text": [
      "quarters\n",
      "0.25\n",
      "_______\n",
      "dimes\n",
      "0.1\n",
      "_______\n",
      "nickles\n",
      "0.05\n",
      "_______\n",
      "pennies\n",
      "0.01\n",
      "_______\n"
     ]
    }
   ],
   "source": [
    "## Example of using for loop in a dict\n",
    "\n",
    "COIN_VALUES = {\n",
    "    \"quarters\": 0.25,\n",
    "    \"dimes\": 0.10,\n",
    "    \"nickles\": 0.05,\n",
    "    \"pennies\": 0.01\n",
    "}\n",
    "\n",
    "for coin in COIN_VALUES:\n",
    "    print(coin)\n",
    "    print(COIN_VALUES[coin])\n",
    "    print(\"_______\")"
   ]
  },
  {
   "cell_type": "code",
   "execution_count": 29,
   "metadata": {},
   "outputs": [
    {
     "name": "stdout",
     "output_type": "stream",
     "text": [
      "quarters coin has the value of 0.25\n",
      "dimes coin has the value of 0.1\n",
      "nickles coin has the value of 0.05\n",
      "pennies coin has the value of 0.01\n"
     ]
    }
   ],
   "source": [
    "## To get the value out\n",
    "\n",
    "for coin in COIN_VALUES:\n",
    "    value = COIN_VALUES[coin] ## You can use this out of the blue but I converted it into a variable for easy understanding\n",
    "    print(f\"{coin} coin has the value of {value}\")"
   ]
  },
  {
   "cell_type": "markdown",
   "metadata": {},
   "source": [
    "### Exercise"
   ]
  },
  {
   "cell_type": "markdown",
   "metadata": {},
   "source": [
    "#### Question 1:\n",
    "\n",
    "Remember real name and nickname from previous class?\n",
    "\n",
    "| Name | Nick |\n",
    "| --- | --- |\n",
    "| Manasanan | Aom |\n",
    "| Kawinna | Pinpin |\n",
    "| Jonathan | John |\n",
    "| Frederick | Fred |\n",
    "\n",
    "Use this table to create a dict with value in it, then write a program that finds the person nickname from their real name\n",
    "\n",
    "Example: \n",
    "\n",
    "```Input : Jonathan```\n",
    "\n",
    "```Output : John```"
   ]
  },
  {
   "cell_type": "code",
   "execution_count": 51,
   "metadata": {},
   "outputs": [
    {
     "name": "stdout",
     "output_type": "stream",
     "text": [
      "Not found\n"
     ]
    }
   ],
   "source": [
    "## Code Here\n",
    "\n"
   ]
  },
  {
   "cell_type": "markdown",
   "metadata": {},
   "source": [
    "#### Question 2:\n",
    "\n",
    "You have access to a database of ```student_scores``` in the format of a dictionary. The keys in ```student_scores``` are the names of the students and the values are their exam scores.\n",
    "\n",
    "Write a program that converts their scores to grades. By the end of your program, you should have a new dictionary called ```student_grades``` that should contain student names for keys and their grades for values.\n",
    "\n",
    "\n",
    "This is the scoring criteria:\n",
    "\n",
    "    Scores 91 - 100: Grade = \"Outstanding\"\n",
    "\n",
    "    Scores 81 - 90: Grade = \"Exceeds Expectations\"\n",
    "\n",
    "    Scores 71 - 80: Grade = \"Acceptable\"\n",
    "\n",
    "    Scores 70 or lower: Grade = \"Fail\""
   ]
  },
  {
   "cell_type": "code",
   "execution_count": 58,
   "metadata": {},
   "outputs": [
    {
     "name": "stdout",
     "output_type": "stream",
     "text": [
      "{'Harry': 'Exceeds Expectations', 'Ron': 'Acceptable', 'Hermione': 'Outstanding', 'Draco': 'Acceptable', 'Neville': 'Failed'}\n"
     ]
    }
   ],
   "source": [
    "## Code Here\n"
   ]
  },
  {
   "cell_type": "markdown",
   "metadata": {},
   "source": [
    "#### Question 3:\n",
    "\n",
    "Write a program that count how many times a letter is appeared in a sentence and print the dict out in descending order\n",
    "\n",
    "Hint: use sorting function"
   ]
  },
  {
   "cell_type": "code",
   "execution_count": 62,
   "metadata": {},
   "outputs": [
    {
     "name": "stdout",
     "output_type": "stream",
     "text": [
      "[' ', 'e', 'o', 't', 'i', 'l', 'r', 's', 'a', 'h', 'n', 'g', 'y', \"'\", 'm', 'w', 'd', 'f', 'v', ',', 'u', 'k']\n",
      "{' ': 18, 'e': 13, 'o': 7, 't': 7, 'i': 6, 'l': 5, 'r': 5, 's': 4, 'a': 4, 'h': 3, 'n': 3, 'g': 3, 'y': 3, \"'\": 2, 'm': 2, 'w': 2, 'd': 2, 'f': 2, 'v': 2, ',': 1, 'u': 1, 'k': 1}\n"
     ]
    }
   ],
   "source": [
    "## Code Here\n"
   ]
  }
 ],
 "metadata": {
  "kernelspec": {
   "display_name": "Python 3.9.12 64-bit",
   "language": "python",
   "name": "python3"
  },
  "language_info": {
   "codemirror_mode": {
    "name": "ipython",
    "version": 3
   },
   "file_extension": ".py",
   "mimetype": "text/x-python",
   "name": "python",
   "nbconvert_exporter": "python",
   "pygments_lexer": "ipython3",
   "version": "3.9.12"
  },
  "orig_nbformat": 4,
  "vscode": {
   "interpreter": {
    "hash": "b0fa6594d8f4cbf19f97940f81e996739fb7646882a419484c72d19e05852a7e"
   }
  }
 },
 "nbformat": 4,
 "nbformat_minor": 2
}
