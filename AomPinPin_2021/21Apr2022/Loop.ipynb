{
 "cells": [
  {
   "cell_type": "markdown",
   "metadata": {},
   "source": [
    "## Loop\n",
    "### There are 2 types of loop\n",
    "1. for loop\n",
    "2. while loop\n",
    "\n",
    "Both function similarly but there are some small differences\n",
    "\n",
    "__for loop__\n",
    "- usually used for going through string, list, dictionary, and more\n",
    "\n",
    "__while loop__\n",
    "- used for running codes indefinitely such as game\n",
    "- if something defined happened, the loop would stop"
   ]
  },
  {
   "cell_type": "markdown",
   "metadata": {},
   "source": [
    "#### for loop\n",
    "__There are two main functions for this type__\n",
    "1. for item in something:\n",
    "- use for accessing items in string, list, dictionary\n",
    "2. for count in range(something):\n",
    "- can be use the same use case as the former function but you will get confused real fast\n",
    "- usually used for counting, or running a program for number of times\n",
    "\n",
    "__Anyways, use the one that you understand the most__"
   ]
  },
  {
   "cell_type": "code",
   "execution_count": 8,
   "metadata": {},
   "outputs": [
    {
     "name": "stdout",
     "output_type": "stream",
     "text": [
      "a b c d e f g h i j \n",
      "1 2 3 4 5 6 7 8 9 10 "
     ]
    }
   ],
   "source": [
    "## The first one (in function)\n",
    "alphabetString = \"abcdefghij\"\n",
    "for alphabet in alphabetString:\n",
    "    print(alphabet, end=\" \") # end= is for printing in the same line in the loop\n",
    "\n",
    "print()\n",
    "numberList = [1,2,3,4,5,6,7,8,9,10]\n",
    "for number in numberList:\n",
    "    print(number, end=\" \")\n"
   ]
  },
  {
   "cell_type": "code",
   "execution_count": 17,
   "metadata": {},
   "outputs": [
    {
     "name": "stdout",
     "output_type": "stream",
     "text": [
      "0 1 2 3 4 5 6 7 8 9 \n",
      "5 6 7 8 9 \n",
      "0 2 4 6 8 10 "
     ]
    }
   ],
   "source": [
    "## The second one (range function)\n",
    "### Print every number from 0-9\n",
    "for number in range(10):\n",
    "    print(number, end=\" \")\n",
    "\n",
    "print()\n",
    "### Print number from 5-9\n",
    "for number in range(5,10):\n",
    "    print(number, end=\" \")\n",
    "\n",
    "print()\n",
    "### Print even number from 0 - 10\n",
    "for number in range(0,11,2):\n",
    "    print(number, end=\" \")"
   ]
  },
  {
   "cell_type": "markdown",
   "metadata": {},
   "source": [
    "## While Loop\n",
    "__This loop will run forever__\n",
    "\n",
    "Usage:\n",
    "\n",
    "while condition:\n",
    "\n",
    "         code"
   ]
  },
  {
   "cell_type": "code",
   "execution_count": 23,
   "metadata": {},
   "outputs": [
    {
     "name": "stdout",
     "output_type": "stream",
     "text": [
      " Adding 1 to 10 together equals to : 55\n"
     ]
    }
   ],
   "source": [
    "## This program will add all the number we put into the program and it will end after putting q into the input\n",
    "total = 0\n",
    "while True:\n",
    "    num = input(\"Enter a number\")\n",
    "    if num == \"q\":\n",
    "        break\n",
    "    total += int(num)\n",
    "print(f\"Adding 1 to 10 together equals to : {total}\") # I already typed in 1 to 10 in the input, but it will add more no matter what"
   ]
  },
  {
   "cell_type": "code",
   "execution_count": 29,
   "metadata": {},
   "outputs": [
    {
     "name": "stdout",
     "output_type": "stream",
     "text": [
      "Run number : 5\n",
      "Run number : 4\n",
      "Run number : 3\n",
      "Run number : 2\n",
      "Run number : 1\n",
      "Run number : 0\n"
     ]
    }
   ],
   "source": [
    "## We can use more complex condition\n",
    "## This program will multiply every number together and it will end after putting q into the input\n",
    "count = 5\n",
    "while count >= 0:\n",
    "    print(f\"Run number : {count}\")\n",
    "    count -= 1"
   ]
  },
  {
   "cell_type": "markdown",
   "metadata": {},
   "source": [
    "##### Question 1: Find mean value from input\n",
    "Instruction: Add all the number together and stop after putting q into the input"
   ]
  },
  {
   "cell_type": "code",
   "execution_count": null,
   "metadata": {},
   "outputs": [],
   "source": [
    "## Code Here\n",
    "total, count = 0, 0\n",
    "while True:\n",
    "    num = input(\"Enter a number: \")\n",
    "    if num == \"q\":\n",
    "        break\n",
    "    total += int(num)\n",
    "    count += 1\n",
    "\n",
    "print(f\"The mean is {total/count}\")"
   ]
  }
 ],
 "metadata": {
  "interpreter": {
   "hash": "b0fa6594d8f4cbf19f97940f81e996739fb7646882a419484c72d19e05852a7e"
  },
  "kernelspec": {
   "display_name": "Python 3.9.9 64-bit",
   "language": "python",
   "name": "python3"
  },
  "language_info": {
   "codemirror_mode": {
    "name": "ipython",
    "version": 3
   },
   "file_extension": ".py",
   "mimetype": "text/x-python",
   "name": "python",
   "nbconvert_exporter": "python",
   "pygments_lexer": "ipython3",
   "version": "3.9.9"
  },
  "orig_nbformat": 4
 },
 "nbformat": 4,
 "nbformat_minor": 2
}
