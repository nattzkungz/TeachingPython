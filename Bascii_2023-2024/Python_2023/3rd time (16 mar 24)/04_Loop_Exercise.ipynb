{
 "cells": [
  {
   "cell_type": "markdown",
   "metadata": {},
   "source": [
    "# Loop Exercise Question\n",
    "### Question 1\n",
    "Create a loop that sums every number from 1 to n (n is user input) then print out the result\n"
   ]
  },
  {
   "cell_type": "code",
   "execution_count": 2,
   "metadata": {},
   "outputs": [
    {
     "name": "stdout",
     "output_type": "stream",
     "text": [
      "499500\n"
     ]
    }
   ],
   "source": [
    "# Code Here\n",
    "total = 0\n",
    "for i in range(1, int(input())+1):\n",
    "    total += i\n",
    "\n",
    "print(total)"
   ]
  },
  {
   "cell_type": "markdown",
   "metadata": {},
   "source": [
    "### Question 2\n",
    "Use loop to find prime number in the range of 0 to 100"
   ]
  },
  {
   "cell_type": "code",
   "execution_count": 7,
   "metadata": {},
   "outputs": [
    {
     "name": "stdout",
     "output_type": "stream",
     "text": [
      "[2, 3, 5, 7, 11, 13, 17, 19, 23, 29, 31, 37, 41, 43, 47, 53, 59, 61, 67, 71, 73, 79, 83, 89, 97]\n"
     ]
    }
   ],
   "source": [
    "# Code Here\n",
    "prime_list = []\n",
    "for number in range(101):\n",
    "    if number > 1:\n",
    "        for divider in range(2, number):\n",
    "            if (number % divider) == 0:\n",
    "                break\n",
    "        else:\n",
    "            prime_list.append(number)\n",
    "print(prime_list)"
   ]
  },
  {
   "cell_type": "markdown",
   "metadata": {},
   "source": [
    "### Question 3\n",
    "Use either loop and/or list to sum every number from 1 to n then print out the result"
   ]
  },
  {
   "cell_type": "code",
   "execution_count": null,
   "metadata": {},
   "outputs": [],
   "source": [
    "# Code Here"
   ]
  },
  {
   "cell_type": "markdown",
   "metadata": {},
   "source": [
    "## Homework!!\n",
    "### Homework 1:\n",
    "Create a program that calculate user's grade\n",
    "1. Ask how many subject is there\n",
    "2. Input subject name\n",
    "3. Input Grade\n",
    "4. Loop 2 and 3 until complete\n",
    "\n",
    "NOTE: GPAX is calculate by adding grades together and divde by number of subject"
   ]
  },
  {
   "cell_type": "code",
   "execution_count": null,
   "metadata": {},
   "outputs": [],
   "source": [
    "# Code Here"
   ]
  }
 ],
 "metadata": {
  "kernelspec": {
   "display_name": "fuckpip",
   "language": "python",
   "name": "python3"
  },
  "language_info": {
   "codemirror_mode": {
    "name": "ipython",
    "version": 3
   },
   "file_extension": ".py",
   "mimetype": "text/x-python",
   "name": "python",
   "nbconvert_exporter": "python",
   "pygments_lexer": "ipython3",
   "version": "3.12.0"
  }
 },
 "nbformat": 4,
 "nbformat_minor": 2
}
