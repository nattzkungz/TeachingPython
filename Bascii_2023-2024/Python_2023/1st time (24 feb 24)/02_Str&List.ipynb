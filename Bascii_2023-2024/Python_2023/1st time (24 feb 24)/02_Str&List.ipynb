{
 "cells": [
  {
   "cell_type": "markdown",
   "metadata": {},
   "source": [
    "## 02 String & List\n",
    "\n",
    "#### Topics Covered:\n",
    "1. String Manipulation\n",
    "    - length\n",
    "    - concatenation\n",
    "    - repetition\n",
    "    - changing case\n",
    "    - slicing\n",
    "    - splitting\n",
    "2. List\n",
    "    - create\n",
    "    - add item\n",
    "    - accessing item\n",
    "    - remove item\n",
    "    - nested list\n",
    "\n",
    "\n",
    "Strings are used to store text data inside a variable. It can be accessed/modify/slice for a portion of it.\n"
   ]
  },
  {
   "cell_type": "markdown",
   "metadata": {},
   "source": [
    "#### String Length\n",
    "\n",
    "Length of string can be determined by using len() function built into Python\n",
    "<br>\n",
    "Usage:\n",
    "```python\n",
    "len(variable_name)\n",
    "```"
   ]
  },
  {
   "cell_type": "code",
   "execution_count": 2,
   "metadata": {},
   "outputs": [
    {
     "name": "stdout",
     "output_type": "stream",
     "text": [
      "13\n"
     ]
    }
   ],
   "source": [
    "# String Length\n",
    "\n",
    "a = \"Hello, World!\"\n",
    "\n",
    "# To get the length of a string, use the len() function.\n",
    "print(len(a)) # 13"
   ]
  },
  {
   "cell_type": "markdown",
   "metadata": {},
   "source": [
    "#### String Concatenation\n",
    "\n",
    "2 Strings can be joined together using concatenation method\n",
    "\n",
    "```python\n",
    "result = string1 + string2\n",
    "```"
   ]
  },
  {
   "cell_type": "code",
   "execution_count": 3,
   "metadata": {},
   "outputs": [
    {
     "name": "stdout",
     "output_type": "stream",
     "text": [
      "HelloWorld\n"
     ]
    }
   ],
   "source": [
    "# String Concatenation\n",
    "\n",
    "string_1 = \"Hello\"\n",
    "string_2 = \"World\"\n",
    "\n",
    "string_3 = string_1 + string_2\n",
    "\n",
    "print(string_3) # HelloWorld"
   ]
  },
  {
   "cell_type": "markdown",
   "metadata": {},
   "source": [
    "#### String Repetition\n",
    "\n",
    "String can be printed a string for n times by multiplying n after the string\n",
    "\n",
    "```python\n",
    "stringA = \"LOL\" * 5\n",
    "print(stringA)\n",
    "```"
   ]
  },
  {
   "cell_type": "code",
   "execution_count": 5,
   "metadata": {},
   "outputs": [
    {
     "name": "stdout",
     "output_type": "stream",
     "text": [
      "LOLLOLLOLLOLLOL\n"
     ]
    }
   ],
   "source": [
    "# String Repetition\n",
    "\n",
    "stringA = \"LOL\" * 5\n",
    "print(stringA)"
   ]
  },
  {
   "cell_type": "markdown",
   "metadata": {},
   "source": [
    "#### Changing case\n",
    "\n",
    "Python can change the string to be upper or lower case using this function\n",
    "\n",
    "```python\n",
    "stringVarName.upper() - to change to uppercase\n",
    "stringVarName.lower() - to change to lowercase\n",
    "```"
   ]
  },
  {
   "cell_type": "code",
   "execution_count": 15,
   "metadata": {},
   "outputs": [
    {
     "name": "stdout",
     "output_type": "stream",
     "text": [
      "HELLO, WORLD!\n",
      "abcdef\n"
     ]
    }
   ],
   "source": [
    "# Changing case\n",
    "allLower = \"hello, world!\"\n",
    "allUpper = \"ABCDEF\"\n",
    "\n",
    "print(allLower.upper()) # HELLO, WORLD!\n",
    "print(allUpper.lower()) # abcdef\n"
   ]
  },
  {
   "cell_type": "markdown",
   "metadata": {},
   "source": [
    "#### String Slicing\n",
    "\n",
    "You can slice a portion of a string out from a string using the <b>Index (0,1,2,3,4,5,...,n)</b> \n",
    "\n",
    "\n",
    "USAGE: \n",
    "```python\n",
    "variableName[start:stop:step]\n",
    "```\n",
    "\n",
    "Note:<br>\n",
    "start : index of the first character<br>\n",
    "stop : index of the last character<br>\n",
    "step : how do you want Python to run through string<br>\n",
    "&nbsp;&nbsp;    - Possible step: <br>\n",
    "&emsp;&emsp;              -   Positive: from front to back <br>\n",
    "&emsp;&emsp;             -   Negative: from back to front <br>"
   ]
  },
  {
   "cell_type": "code",
   "execution_count": 10,
   "metadata": {},
   "outputs": [
    {
     "name": "stdout",
     "output_type": "stream",
     "text": [
      "l\n",
      "llo\n",
      "Hello\n",
      "llo, World!\n",
      "orl\n",
      "!dlroW ,olleH\n",
      "lo ol!\n"
     ]
    }
   ],
   "source": [
    "# String Slicing\n",
    "\n",
    "b = \"Hello, World!\"\n",
    "print(b[2]) # l\n",
    "print(b[2:5]) # llo\n",
    "print(b[:5]) # Hello\n",
    "print(b[2:]) # llo, World!\n",
    "print(b[-5:-2]) # orl\n",
    "print(b[::-1]) # !dlroW ,olleH\n",
    "print(b[2::2]) # l,o ol!"
   ]
  },
  {
   "cell_type": "markdown",
   "metadata": {},
   "source": [
    "#### String Splitting\n",
    "\n",
    "This will split the string into a list using a separator\n",
    "\n",
    "```python\n",
    "splittedString = fullstring.split(seperator)\n",
    "```"
   ]
  },
  {
   "cell_type": "code",
   "execution_count": 11,
   "metadata": {},
   "outputs": [
    {
     "name": "stdout",
     "output_type": "stream",
     "text": [
      "['Hello', ' World!']\n"
     ]
    }
   ],
   "source": [
    "# String Splitting\n",
    "a = \"Hello, World!\"\n",
    "b = a.split(\",\") # returns ['Hello', ' World!']\n",
    "print(b)"
   ]
  },
  {
   "cell_type": "markdown",
   "metadata": {},
   "source": [
    "### List\n",
    "List is a way that you can store multiple data in 1 variable, it is a very convenient way to store data since creating many variable to store data is not practical and hard to modify. <br>\n",
    "\n",
    "List utilize Python index to work with the item."
   ]
  },
  {
   "cell_type": "code",
   "execution_count": 2,
   "metadata": {},
   "outputs": [],
   "source": [
    "## There are two ways to create a list\n",
    "## Creating empty list\n",
    "listName_1 = list()\n",
    "listName_2 = []\n",
    "\n",
    "## Creating list with stuffs in it\n",
    "x_value = [1,4,6,8,9,10,12]\n",
    "y_value = [2,5,7,9,13,67,13]\n"
   ]
  },
  {
   "cell_type": "code",
   "execution_count": 6,
   "metadata": {},
   "outputs": [
    {
     "name": "stdout",
     "output_type": "stream",
     "text": [
      "X maximum: 12\n",
      "Y minimum: 2\n"
     ]
    }
   ],
   "source": [
    "## Finding maximum or minimum value in a list\n",
    "x_max = max(x_value)\n",
    "print(f\"X maximum: {x_max}\")\n",
    "\n",
    "y_min = min(y_value)\n",
    "print(f\"Y minimum: {y_min}\")"
   ]
  },
  {
   "cell_type": "code",
   "execution_count": 11,
   "metadata": {},
   "outputs": [
    {
     "name": "stdout",
     "output_type": "stream",
     "text": [
      "Sum of x: 50\n",
      "Sum of y: 116\n"
     ]
    }
   ],
   "source": [
    "## Adding all values in the list\n",
    "x_total = sum(x_value)\n",
    "print(f\"Sum of x: {x_total}\")\n",
    "\n",
    "y_total = sum(y_value)\n",
    "print(f\"Sum of y: {y_total}\")"
   ]
  },
  {
   "cell_type": "code",
   "execution_count": 10,
   "metadata": {},
   "outputs": [
    {
     "name": "stdout",
     "output_type": "stream",
     "text": [
      "This is number 1 position in the list: 0\n"
     ]
    }
   ],
   "source": [
    "## Finding position of item in the list\n",
    "numberList = [1,2,3,4,5,6,7,8,9,10]\n",
    "## We want to find the position of number 5\n",
    "number5Position = numberList.index(1)\n",
    "print(f\"This is number 1 position in the list: {number5Position}\")"
   ]
  },
  {
   "cell_type": "code",
   "execution_count": 2,
   "metadata": {},
   "outputs": [
    {
     "name": "stdout",
     "output_type": "stream",
     "text": [
      "The list with out a: ['b', 'c', 'd', 'e']\n",
      "The list with out d: ['b', 'c', 'e']\n"
     ]
    }
   ],
   "source": [
    "# Delete item from a list\n",
    "alphabetList = [\"a\",\"b\",\"c\",\"d\",\"e\"]\n",
    "\n",
    "# There are two ways to delete\n",
    "## The first one is listName.remove(item)\n",
    "alphabetList.remove(\"a\")\n",
    "print(f\"The list with out a: {alphabetList}\")\n",
    "\n",
    "## The second way is to remove the item using its index\n",
    "alphabetList.pop(2)\n",
    "print(f\"The list with out d: {alphabetList}\")"
   ]
  },
  {
   "cell_type": "code",
   "execution_count": 13,
   "metadata": {},
   "outputs": [
    {
     "name": "stdout",
     "output_type": "stream",
     "text": [
      "['Jack']\n"
     ]
    }
   ],
   "source": [
    "## Adding stuffs into a list\n",
    "nameList = []\n",
    "nameList.append(\"Jack\")\n",
    "print(nameList)"
   ]
  },
  {
   "cell_type": "code",
   "execution_count": 11,
   "metadata": {},
   "outputs": [
    {
     "name": "stdout",
     "output_type": "stream",
     "text": [
      "Location of b in the list is :1\n"
     ]
    }
   ],
   "source": [
    "alphabetList = [\"a\",\"b\",\"c\",\"d\",\"e\"]\n",
    "locationOfB = alphabetList.index(\"b\")\n",
    "print(f\"Location of b in the list is :{locationOfB}\")"
   ]
  },
  {
   "cell_type": "code",
   "execution_count": 16,
   "metadata": {},
   "outputs": [
    {
     "name": "stdout",
     "output_type": "stream",
     "text": [
      "[['Steve', 25], ['James', 30], ['Aom', 100], ['Pinpin', 9999]]\n"
     ]
    }
   ],
   "source": [
    "nameAndAge = [[\"Steve\", 25],[\"James\", 30], [\"Aom\",100], [\"Pinpin\", 9999]]\n",
    "print(nameAndAge)"
   ]
  },
  {
   "cell_type": "markdown",
   "metadata": {},
   "source": [
    "### Exercise \n",
    "\n",
    "Try to do this exercise by yourself using example above."
   ]
  },
  {
   "cell_type": "markdown",
   "metadata": {},
   "source": [
    "### String Exercise\n",
    "\n",
    "##### Question 1: Write a program to create a new string made of an input string’s first and last character.\n",
    "\n"
   ]
  },
  {
   "cell_type": "code",
   "execution_count": null,
   "metadata": {},
   "outputs": [],
   "source": []
  },
  {
   "cell_type": "markdown",
   "metadata": {},
   "source": [
    "##### Question 2: Write a program to create a new string made of the last three characters of an input string."
   ]
  },
  {
   "cell_type": "code",
   "execution_count": null,
   "metadata": {},
   "outputs": [],
   "source": []
  },
  {
   "cell_type": "markdown",
   "metadata": {},
   "source": [
    "#### Question 3: Write a program that makes former input to both uppercase and lowercase"
   ]
  },
  {
   "cell_type": "code",
   "execution_count": null,
   "metadata": {},
   "outputs": [],
   "source": []
  },
  {
   "cell_type": "markdown",
   "metadata": {},
   "source": [
    "#### Question 4: Write a program that use the length of the input string and use the length to calculate area of a rectangle"
   ]
  },
  {
   "cell_type": "code",
   "execution_count": null,
   "metadata": {},
   "outputs": [],
   "source": []
  },
  {
   "cell_type": "markdown",
   "metadata": {},
   "source": [
    "#### Question 5: Write a program that makes right triangle \n",
    "\n",
    "Expected Output:\n",
    "\n",
    "```python\n",
    "*\n",
    "**\n",
    "***\n",
    "****\n",
    "*****\n",
    "```"
   ]
  },
  {
   "cell_type": "code",
   "execution_count": null,
   "metadata": {},
   "outputs": [],
   "source": []
  },
  {
   "cell_type": "markdown",
   "metadata": {},
   "source": [
    "#### List Exercise"
   ]
  },
  {
   "cell_type": "markdown",
   "metadata": {},
   "source": [
    "##### Question 1: Try to print Aom and her age from the list above"
   ]
  },
  {
   "cell_type": "code",
   "execution_count": 16,
   "metadata": {},
   "outputs": [],
   "source": [
    "## Code here\n",
    "nameAndAge = [[\"Steve\", 25],[\"James\", 30], [\"Aom\",100], [\"Pinpin\", 9999]]"
   ]
  },
  {
   "cell_type": "markdown",
   "metadata": {},
   "source": [
    "##### Question 2: Add your name and age to the list"
   ]
  },
  {
   "cell_type": "code",
   "execution_count": 21,
   "metadata": {},
   "outputs": [
    {
     "name": "stdout",
     "output_type": "stream",
     "text": [
      "[['Steve', 25], ['James', 30], ['Aom', 100], ['Pinpin', 9999], ['natt', 10]]\n"
     ]
    }
   ],
   "source": [
    "## Code here\n"
   ]
  },
  {
   "cell_type": "markdown",
   "metadata": {},
   "source": [
    "##### Question 3: Print your name and age"
   ]
  },
  {
   "cell_type": "code",
   "execution_count": 17,
   "metadata": {},
   "outputs": [],
   "source": [
    "## Code here\n"
   ]
  },
  {
   "cell_type": "markdown",
   "metadata": {},
   "source": [
    "##### [HARD] Question 4: Find missing digits (0-9) from string input [From ISE]\n",
    "__Example 1:__\n",
    "\n",
    "Input: 01234567\n",
    "\n",
    "Output: 8, 9\n",
    "\n",
    "__Example 2:__\n",
    "\n",
    "Input: 0000001111112222233333\n",
    "\n",
    "Output: 4, 5, 6, 7, 8, 9"
   ]
  },
  {
   "cell_type": "code",
   "execution_count": 18,
   "metadata": {},
   "outputs": [
    {
     "name": "stdout",
     "output_type": "stream",
     "text": [
      "5\n",
      "0, 1, 2, 3, 4, 6, 7, 8, 9, "
     ]
    }
   ],
   "source": [
    "## Code Here\n",
    "\n",
    "# Solution\n",
    "numberList = [\"0\",\"1\",\"2\",\"3\",\"4\",\"5\",\"6\",\"7\",\"8\",\"9\"]\n",
    "uglyInput = input()\n",
    "numberInInput = []\n",
    "for single_string in uglyInput:\n",
    "    print(single_string)\n",
    "    if single_string in numberList:\n",
    "        numberInInput.append(single_string)\n",
    "\n",
    "for number in numberInInput:\n",
    "    numberList.remove(number)\n",
    "\n",
    "for number in numberList:\n",
    "    print(number, end=\", \")"
   ]
  },
  {
   "cell_type": "markdown",
   "metadata": {},
   "source": [
    "##### [HARD] Question 5: Print correspond value in the table from input\n",
    "__AVOID USING IF-ELSE__\n",
    "\n",
    "__If input is not in the table print <font color=red>None</font>__\n",
    "| Input | Output |\n",
    "| --- | --- |\n",
    "| a | A |\n",
    "| b | B |\n",
    "| c | C |\n",
    "| d | D |\n",
    "| e | E |\n",
    "| f | F |"
   ]
  },
  {
   "cell_type": "code",
   "execution_count": 15,
   "metadata": {},
   "outputs": [],
   "source": [
    "## Code Here"
   ]
  }
 ],
 "metadata": {
  "interpreter": {
   "hash": "b0fa6594d8f4cbf19f97940f81e996739fb7646882a419484c72d19e05852a7e"
  },
  "kernelspec": {
   "display_name": "Python 3.9.9 64-bit",
   "language": "python",
   "name": "python3"
  },
  "language_info": {
   "codemirror_mode": {
    "name": "ipython",
    "version": 3
   },
   "file_extension": ".py",
   "mimetype": "text/x-python",
   "name": "python",
   "nbconvert_exporter": "python",
   "pygments_lexer": "ipython3",
   "version": "3.11.2"
  },
  "orig_nbformat": 4
 },
 "nbformat": 4,
 "nbformat_minor": 2
}
