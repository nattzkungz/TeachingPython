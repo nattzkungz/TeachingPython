{
 "cells": [
  {
   "cell_type": "markdown",
   "id": "59dd9689-1347-46d9-9d07-8ed713e03f25",
   "metadata": {
    "deletable": false,
    "editable": false,
    "nbgrader": {
     "cell_type": "markdown",
     "checksum": "bbcb43a000bbea9948ee873073d8ea9c",
     "grade": false,
     "grade_id": "cell-976d0e49a66a7174",
     "locked": true,
     "schema_version": 3,
     "solution": false,
     "task": false
    }
   },
   "source": [
    "# Lab 9 Collections "
   ]
  },
  {
   "cell_type": "markdown",
   "id": "93dcecea-f44a-4c21-9771-e94fa5d2ea1d",
   "metadata": {
    "deletable": false,
    "editable": false,
    "nbgrader": {
     "cell_type": "markdown",
     "checksum": "f6b480cbd4b9ddf57c72e375872876e5",
     "grade": false,
     "grade_id": "cell-4716fdfc1ee2b241",
     "locked": true,
     "schema_version": 3,
     "solution": false,
     "task": false
    }
   },
   "source": [
    "### Exercise 1: Letter Checker\n",
    "Write a fucntion `check_letter(phrase)` that receives a phrase or sentence and checks whether the phrase has all capital letters, all small letters, or a mix of both. "
   ]
  },
  {
   "cell_type": "code",
   "execution_count": 60,
   "id": "37c2264e-a3d9-49d0-a372-30359a6e1333",
   "metadata": {
    "deletable": false,
    "nbgrader": {
     "cell_type": "code",
     "checksum": "2f9af4fcda5b0d2b0754713d94fc8761",
     "grade": false,
     "grade_id": "cell-5078ee1321ccc6da",
     "locked": false,
     "schema_version": 3,
     "solution": true,
     "task": false
    }
   },
   "outputs": [],
   "source": [
    "def check_letter(phrase) :\n",
    "    # YOUR CODE HERE\n",
    "    if phrase.isupper():\n",
    "        return \"All capital letters.\"\n",
    "    elif phrase.islower():\n",
    "        return \"All small letters.\"\n",
    "    else:\n",
    "        return \"Mix letters.\""
   ]
  },
  {
   "cell_type": "markdown",
   "id": "771d4631-44de-4e0e-8ef8-10694c360b3f",
   "metadata": {
    "deletable": false,
    "editable": false,
    "nbgrader": {
     "cell_type": "markdown",
     "checksum": "fe89abad4ea75a0d1fd17024d34dc2a6",
     "grade": false,
     "grade_id": "cell-c52129fc6a7483aa",
     "locked": true,
     "schema_version": 3,
     "solution": false,
     "task": false
    }
   },
   "source": [
    "**Test `check_letter`**   <br>\n",
    "Please run these cells below to check if your program works correctly."
   ]
  },
  {
   "cell_type": "code",
   "execution_count": 61,
   "id": "a9af1267-17e1-4450-ad9c-0704084c3ae6",
   "metadata": {
    "deletable": false,
    "editable": false,
    "nbgrader": {
     "cell_type": "code",
     "checksum": "36467821d9bb57850fee974b63c2587d",
     "grade": true,
     "grade_id": "cell-0e6439827a39f9c7",
     "locked": true,
     "points": 1,
     "schema_version": 3,
     "solution": false,
     "task": false
    }
   },
   "outputs": [
    {
     "name": "stdout",
     "output_type": "stream",
     "text": [
      "ok\n"
     ]
    }
   ],
   "source": [
    "assert check_letter(\"EVERYTHING IS GOING TO BE ALRIGHT, JUST BELIEVE IN YOURSELF.\") == \"All capital letters.\"\n",
    "assert check_letter(\"everything is going to be alright, just believe in yourself.\") == \"All small letters.\"\n",
    "assert check_letter(\"Everything is going to be alright, just believe in yourself.\") == \"Mix letters.\"\n",
    "print(\"ok\")"
   ]
  },
  {
   "cell_type": "code",
   "execution_count": 62,
   "id": "9d7c5679-5d2f-44cb-b34c-f968749acf78",
   "metadata": {
    "deletable": false,
    "editable": false,
    "nbgrader": {
     "cell_type": "code",
     "checksum": "902da1928b5369a233ee37f2cd5f28ce",
     "grade": true,
     "grade_id": "cell-192223878ab324e2",
     "locked": true,
     "points": 1,
     "schema_version": 3,
     "solution": false,
     "task": false
    }
   },
   "outputs": [
    {
     "data": {
      "text/plain": [
       "'Hidden Test 1'"
      ]
     },
     "execution_count": 62,
     "metadata": {},
     "output_type": "execute_result"
    }
   ],
   "source": [
    "'''Hidden Test 1'''"
   ]
  },
  {
   "cell_type": "code",
   "execution_count": 63,
   "id": "742cd0e8-b311-4eb4-a318-814109308cb1",
   "metadata": {
    "deletable": false,
    "editable": false,
    "nbgrader": {
     "cell_type": "code",
     "checksum": "fa6f08ac7923ef0bc103340d5b4b272d",
     "grade": true,
     "grade_id": "cell-643a1daa1a62c98b",
     "locked": true,
     "points": 1,
     "schema_version": 3,
     "solution": false,
     "task": false
    }
   },
   "outputs": [
    {
     "data": {
      "text/plain": [
       "'Hidden Test 2'"
      ]
     },
     "execution_count": 63,
     "metadata": {},
     "output_type": "execute_result"
    }
   ],
   "source": [
    "'''Hidden Test 2'''"
   ]
  },
  {
   "cell_type": "markdown",
   "id": "4fb04a41-2303-4bd3-a605-cff84d38eb6f",
   "metadata": {
    "deletable": false,
    "editable": false,
    "nbgrader": {
     "cell_type": "markdown",
     "checksum": "19876df066211cd83c9cb7e025db58c9",
     "grade": false,
     "grade_id": "cell-4d44bd93541ac454",
     "locked": true,
     "schema_version": 3,
     "solution": false,
     "task": false
    }
   },
   "source": [
    "### Exercise 2: From One to Hundred \n",
    "Write a function `create_list(number)` for creating a list of all numbers from 1 to 100 that have the number of received parameter."
   ]
  },
  {
   "cell_type": "markdown",
   "id": "c2ab5f8a-bda9-4bd2-b47e-906868be6bf7",
   "metadata": {
    "deletable": false,
    "editable": false,
    "nbgrader": {
     "cell_type": "markdown",
     "checksum": "5d9f00b5bb0499cb89dc7b671287acd9",
     "grade": false,
     "grade_id": "cell-4f876e90c4969ff2",
     "locked": true,
     "schema_version": 3,
     "solution": false,
     "task": false
    }
   },
   "source": [
    "**Example** \n",
    "```\n",
    "Enter a number between [0,9] : 0\n",
    "[10, 20, 30, 40, 50, 60, 70, 80, 90, 100]\n",
    "```"
   ]
  },
  {
   "cell_type": "markdown",
   "id": "7fa7171b-e7d6-44d2-91c5-a8f869231bbb",
   "metadata": {
    "deletable": false,
    "editable": false,
    "nbgrader": {
     "cell_type": "markdown",
     "checksum": "10f368c0e8405410469d2be6ef842c1d",
     "grade": false,
     "grade_id": "cell-f3c01d47a38d4614",
     "locked": true,
     "schema_version": 3,
     "solution": false,
     "task": false
    }
   },
   "source": [
    "**Example** \n",
    "```\n",
    "Enter a number between [0,9]: 3\n",
    "[3, 13, 23, 30, 31, 32, 33, 34, 35, 36, 37, 38, 39, 43, 53, 63, 73, 83, 93]\n",
    "```"
   ]
  },
  {
   "cell_type": "markdown",
   "id": "437a615b",
   "metadata": {
    "deletable": false,
    "editable": false,
    "nbgrader": {
     "cell_type": "markdown",
     "checksum": "15cd6ad070c3c72c52ed2027c34b6137",
     "grade": false,
     "grade_id": "cell-f3b7f0bf7b2fbbd4",
     "locked": true,
     "schema_version": 3,
     "solution": false,
     "task": false
    }
   },
   "source": [
    "**Example** \n",
    "```\n",
    "Enter a number between [0,9]: 8\n",
    "[8, 18, 28, 38, 48, 58, 68, 78, 80, 81, 82, 83, 84, 85, 86, 87, 88, 89, 98]\n",
    "```"
   ]
  },
  {
   "cell_type": "code",
   "execution_count": 37,
   "id": "52aa0a96-a2e2-4b2c-b1bc-7e6cae14e8cb",
   "metadata": {
    "deletable": false,
    "nbgrader": {
     "cell_type": "code",
     "checksum": "cb6d352e47b2a5a68a72e5878dd2dccf",
     "grade": false,
     "grade_id": "cell-f64231adf4d39779",
     "locked": false,
     "schema_version": 3,
     "solution": true,
     "task": false
    }
   },
   "outputs": [],
   "source": [
    "def create_list(number): \n",
    "    # YOUR CODE HERE\n",
    "    numbers = []\n",
    "    for i in range(1, 101):\n",
    "        if str(number) in str(i):\n",
    "            numbers.append(i)\n",
    "    return numbers"
   ]
  },
  {
   "cell_type": "markdown",
   "id": "6f5e3928-452d-4d6b-bec3-978eaaf978f8",
   "metadata": {
    "deletable": false,
    "editable": false,
    "nbgrader": {
     "cell_type": "markdown",
     "checksum": "4ba841b2f8c7b8c1df2b02adc9307363",
     "grade": false,
     "grade_id": "cell-a1aab5da76584eab",
     "locked": true,
     "schema_version": 3,
     "solution": false,
     "task": false
    }
   },
   "source": [
    "**Test `create_list`** <br>\n",
    "Students, please run these cells below to check if your program works correctly."
   ]
  },
  {
   "cell_type": "code",
   "execution_count": 38,
   "id": "f0d71b97",
   "metadata": {
    "deletable": false,
    "editable": false,
    "nbgrader": {
     "cell_type": "code",
     "checksum": "9251921b8ec431da12839d6820a987d7",
     "grade": true,
     "grade_id": "cell-7af2d59fd5e875e1",
     "locked": true,
     "points": 1,
     "schema_version": 3,
     "solution": false,
     "task": false
    }
   },
   "outputs": [
    {
     "name": "stdout",
     "output_type": "stream",
     "text": [
      "ok\n"
     ]
    }
   ],
   "source": [
    "assert create_list(0) == [10, 20, 30, 40, 50, 60, 70, 80, 90, 100] \n",
    "assert create_list(3) == [3, 13, 23, 30, 31, 32, 33, 34, 35, 36, 37, 38, 39, 43, 53, 63, 73, 83, 93]\n",
    "assert create_list(8) == [8, 18, 28, 38, 48, 58, 68, 78, 80, 81, 82, 83, 84, 85, 86, 87, 88, 89, 98]\n",
    "print('ok')"
   ]
  },
  {
   "cell_type": "code",
   "execution_count": 39,
   "id": "3dfe6366-5d3b-48d2-9f42-575533a94694",
   "metadata": {
    "deletable": false,
    "editable": false,
    "nbgrader": {
     "cell_type": "code",
     "checksum": "e3c5bc5a3a0a7dc01c4688bb9536ee8b",
     "grade": true,
     "grade_id": "cell-0487c1cf3d359812",
     "locked": true,
     "points": 1,
     "schema_version": 3,
     "solution": false,
     "task": false
    }
   },
   "outputs": [
    {
     "name": "stdout",
     "output_type": "stream",
     "text": [
      "ok\n"
     ]
    }
   ],
   "source": [
    "'''Hidden Test 1'''\n",
    "print('ok')"
   ]
  },
  {
   "cell_type": "code",
   "execution_count": 40,
   "id": "55fc87fe-613c-41ef-9334-552752211a5e",
   "metadata": {
    "deletable": false,
    "editable": false,
    "nbgrader": {
     "cell_type": "code",
     "checksum": "aacf72ff5037ec4d3ad20f46e42d2143",
     "grade": true,
     "grade_id": "cell-6add70c9c5d3c76a",
     "locked": true,
     "points": 1,
     "schema_version": 3,
     "solution": false,
     "task": false
    }
   },
   "outputs": [
    {
     "name": "stdout",
     "output_type": "stream",
     "text": [
      "ok\n"
     ]
    }
   ],
   "source": [
    "'''Hidden Test 2'''\n",
    "print('ok')"
   ]
  },
  {
   "cell_type": "markdown",
   "id": "b3f2817b-8852-4426-b680-476aa39750ba",
   "metadata": {
    "deletable": false,
    "editable": false,
    "nbgrader": {
     "cell_type": "markdown",
     "checksum": "076e3bcd87d61636ae5070de7146dd26",
     "grade": false,
     "grade_id": "cell-89c24c4b71d983b7",
     "locked": true,
     "schema_version": 3,
     "solution": false,
     "task": false
    }
   },
   "source": [
    "### Exercise 3: Unique List \n",
    "Write a function called `unique_list` that receives a list and creates a new list with only the unique members from the original list. "
   ]
  },
  {
   "cell_type": "markdown",
   "id": "c54293b9-439a-44b2-b005-d3bc9b4b8c18",
   "metadata": {
    "deletable": false,
    "editable": false,
    "nbgrader": {
     "cell_type": "markdown",
     "checksum": "1da4786515f00c9dae522fc75aaa6e38",
     "grade": false,
     "grade_id": "cell-fc4a4543e332ff4c",
     "locked": true,
     "schema_version": 3,
     "solution": false,
     "task": false
    }
   },
   "source": [
    "**Example**\n",
    "```\n",
    "Original List: 1,1,2,3,4,5,5,5,5,5,6,7,8,9\n",
    "Unique List: 1,2,3,4,5,6,7,8,9\n",
    "```"
   ]
  },
  {
   "cell_type": "markdown",
   "id": "dce2f041-fb61-4072-8348-823f3a7f120b",
   "metadata": {
    "deletable": false,
    "editable": false,
    "nbgrader": {
     "cell_type": "markdown",
     "checksum": "f0dea2cd599acc2c23c8f87ada7748c8",
     "grade": false,
     "grade_id": "cell-42263609fbdeeb19",
     "locked": true,
     "schema_version": 3,
     "solution": false,
     "task": false
    }
   },
   "source": [
    "**Example**\n",
    "```\n",
    "Original List: a,g,b,a,v,c,c,c,b,g,y,k,y,k\n",
    "Unique List: a,g,b,v,c,y,k\n",
    "```"
   ]
  },
  {
   "cell_type": "code",
   "execution_count": 41,
   "id": "ef9fd0f1-39ca-4242-925a-a3f43cf85be7",
   "metadata": {
    "deletable": false,
    "nbgrader": {
     "cell_type": "code",
     "checksum": "203f051b32e56022e165a25a59be7fbb",
     "grade": false,
     "grade_id": "cell-be8d7d9d314baa8c",
     "locked": false,
     "schema_version": 3,
     "solution": true,
     "task": false
    }
   },
   "outputs": [],
   "source": [
    "def unique_list(original) :\n",
    "    # YOUR CODE HERE\n",
    "    list_1 = []\n",
    "    unique_dict = {n:original.count(n) for n in original}\n",
    "    for g in unique_dict.keys():\n",
    "        list_1.append(g)\n",
    "    \n",
    "    return list_1"
   ]
  },
  {
   "cell_type": "markdown",
   "id": "68d798f6-561f-4b16-aacf-2b48fb67e8b2",
   "metadata": {
    "deletable": false,
    "editable": false,
    "nbgrader": {
     "cell_type": "markdown",
     "checksum": "b695b4a0b4dc0a310032bc5793e95bcd",
     "grade": false,
     "grade_id": "cell-9218b994e5962854",
     "locked": true,
     "schema_version": 3,
     "solution": false,
     "task": false
    }
   },
   "source": [
    "**Test `unique_list`** <br>\n",
    "Please run these cells below to check if your program works correctly."
   ]
  },
  {
   "cell_type": "code",
   "execution_count": 42,
   "id": "565ea8a2",
   "metadata": {
    "deletable": false,
    "editable": false,
    "nbgrader": {
     "cell_type": "code",
     "checksum": "239999c41184c78fd723e637a9b806a3",
     "grade": true,
     "grade_id": "cell-97585db5f1cdf60b",
     "locked": true,
     "points": 1,
     "schema_version": 3,
     "solution": false,
     "task": false
    }
   },
   "outputs": [
    {
     "name": "stdout",
     "output_type": "stream",
     "text": [
      "ok\n"
     ]
    }
   ],
   "source": [
    "assert unique_list([1,1,2,3,4,5,5,5,5,5,6,7,8,9]) == [1,2,3,4,5,6,7,8,9]\n",
    "assert unique_list([1.1,2.2,1.1,3.3,2.2,4.4,5.5]) == [1.1,2.2,3.3,4.4,5.5]\n",
    "assert unique_list([10,20,20,10,30,40,10,20]) == [10,20,30,40]\n",
    "print(\"ok\")"
   ]
  },
  {
   "cell_type": "code",
   "execution_count": 43,
   "id": "7cb4f833",
   "metadata": {
    "deletable": false,
    "editable": false,
    "nbgrader": {
     "cell_type": "code",
     "checksum": "399fd38e4a1f1f05fb5d3cb2947137c7",
     "grade": true,
     "grade_id": "cell-7c5d23ec745720a5",
     "locked": true,
     "points": 1,
     "schema_version": 3,
     "solution": false,
     "task": false
    }
   },
   "outputs": [
    {
     "name": "stdout",
     "output_type": "stream",
     "text": [
      "ok\n"
     ]
    }
   ],
   "source": [
    "assert unique_list(['a','a','a','a','a','a']) == ['a']\n",
    "assert unique_list(['a','g','b','a','v','c','c','c','b','g','y','k','y','k']) == ['a','g','b','v','c','y','k']\n",
    "assert unique_list(['apple','banana','apple','orange','banana','grape']) == ['apple','banana','orange','grape']\n",
    "print(\"ok\")"
   ]
  },
  {
   "cell_type": "code",
   "execution_count": 44,
   "id": "475faff4",
   "metadata": {
    "deletable": false,
    "editable": false,
    "nbgrader": {
     "cell_type": "code",
     "checksum": "0bc243cf04a7051b7b46eeaf556203a4",
     "grade": true,
     "grade_id": "cell-be895e6ef890eb46",
     "locked": true,
     "points": 1,
     "schema_version": 3,
     "solution": false,
     "task": false
    }
   },
   "outputs": [
    {
     "name": "stdout",
     "output_type": "stream",
     "text": [
      "ok\n"
     ]
    }
   ],
   "source": [
    "'''Hidden Test 1'''\n",
    "print(\"ok\")"
   ]
  },
  {
   "cell_type": "code",
   "execution_count": 45,
   "id": "e01b11ba",
   "metadata": {
    "deletable": false,
    "editable": false,
    "nbgrader": {
     "cell_type": "code",
     "checksum": "304576f3195668309f587d49c289bd60",
     "grade": true,
     "grade_id": "cell-c060f2c780d90d0f",
     "locked": true,
     "points": 1,
     "schema_version": 3,
     "solution": false,
     "task": false
    }
   },
   "outputs": [
    {
     "name": "stdout",
     "output_type": "stream",
     "text": [
      "ok\n"
     ]
    }
   ],
   "source": [
    "'''Hidden Test 2'''\n",
    "print(\"ok\")"
   ]
  },
  {
   "cell_type": "markdown",
   "id": "33e78b51-1261-4e82-b791-f120ff99a622",
   "metadata": {
    "deletable": false,
    "editable": false,
    "nbgrader": {
     "cell_type": "markdown",
     "checksum": "ed11d13b5e2477c4e7f1468fa347e5a4",
     "grade": false,
     "grade_id": "cell-b8d40a0aab39471a",
     "locked": true,
     "schema_version": 3,
     "solution": false,
     "task": false
    }
   },
   "source": [
    "### Exercise 4: Charactor Pointing\n",
    "Write a function `charactor_pointing(text,c)` that receives a string of text and an \"interested\" character as parameters. The function should return a new string where the **interested** character in the text is pointed to with a `^` symbol directly underneath it."
   ]
  },
  {
   "cell_type": "markdown",
   "id": "1703ed69-9f30-4496-a2b7-260d796abb72",
   "metadata": {
    "deletable": false,
    "editable": false,
    "nbgrader": {
     "cell_type": "markdown",
     "checksum": "fa3cea49d0ca25748369672d454e5311",
     "grade": false,
     "grade_id": "cell-d1a0330b8bf7bdf9",
     "locked": true,
     "schema_version": 3,
     "solution": false,
     "task": false
    }
   },
   "source": [
    "**Example**\n",
    "```\n",
    "Text: Welcome to Chulalongkorn University\n",
    "Interested charactor: e\n",
    "Welcome to Chulalongkorn University\n",
    " ^    ^                      ^     \n",
    "```"
   ]
  },
  {
   "cell_type": "code",
   "execution_count": 46,
   "id": "fcfad0e6-b320-4de0-abeb-466f34bf4b0c",
   "metadata": {
    "deletable": false,
    "nbgrader": {
     "cell_type": "code",
     "checksum": "1378c0da7413eaba0c1be2e6a56b108c",
     "grade": false,
     "grade_id": "cell-68b9df14aa3eb6b8",
     "locked": false,
     "schema_version": 3,
     "solution": true,
     "task": false
    }
   },
   "outputs": [],
   "source": [
    "def charactor_pointing(text,c) : \n",
    "    # YOUR CODE HERE\n",
    "    c_location = []\n",
    "    final_string = \"\"\n",
    "    for letter in text:\n",
    "        if c == letter:\n",
    "            c_location.append(\"^\")\n",
    "        else:\n",
    "            c_location.append(\" \")\n",
    "    for m in c_location:\n",
    "        final_string = final_string + m\n",
    "        \n",
    "    return final_string"
   ]
  },
  {
   "cell_type": "markdown",
   "id": "8bbdc2ac-57ab-4671-b987-c1c781a105f1",
   "metadata": {
    "deletable": false,
    "editable": false,
    "nbgrader": {
     "cell_type": "markdown",
     "checksum": "51babc0bff3f5a294b64241b1f170a06",
     "grade": false,
     "grade_id": "cell-9e593d8afb1071c4",
     "locked": true,
     "schema_version": 3,
     "solution": false,
     "task": false
    }
   },
   "source": [
    "**Test `Charactor_pointing`**<br>\n",
    "Please run these cells below to check if your program works correctly."
   ]
  },
  {
   "cell_type": "code",
   "execution_count": 47,
   "id": "8e23d69b-5b1c-4696-97d9-a506adbdbd20",
   "metadata": {
    "deletable": false,
    "editable": false,
    "nbgrader": {
     "cell_type": "code",
     "checksum": "8d9a658d348c70e30607eccfb8852802",
     "grade": true,
     "grade_id": "cell-5d81ac26485bb595",
     "locked": true,
     "points": 1,
     "schema_version": 3,
     "solution": false,
     "task": false
    }
   },
   "outputs": [
    {
     "name": "stdout",
     "output_type": "stream",
     "text": [
      "ok\n"
     ]
    }
   ],
   "source": [
    "assert charactor_pointing('Karfil Orange Cat','a').strip() == ' ^       ^     ^ '.strip()\n",
    "assert charactor_pointing('Bachelor of Biotechnology','o').strip() == '      ^  ^    ^     ^ ^  '.strip()\n",
    "assert charactor_pointing('Winnie-the-pooh','-').strip() == '      ^   ^    '.strip()\n",
    "print(\"ok\")"
   ]
  },
  {
   "cell_type": "code",
   "execution_count": 48,
   "id": "ce950f35",
   "metadata": {
    "deletable": false,
    "editable": false,
    "nbgrader": {
     "cell_type": "code",
     "checksum": "de4f4438802656f3bffa99ca22f332e5",
     "grade": true,
     "grade_id": "cell-8f26126936a001be",
     "locked": true,
     "points": 1,
     "schema_version": 3,
     "solution": false,
     "task": false
    }
   },
   "outputs": [
    {
     "name": "stdout",
     "output_type": "stream",
     "text": [
      "ok\n"
     ]
    }
   ],
   "source": [
    "assert charactor_pointing('MMMMMMMMMMMMMMMMMMMM','M').strip() == '^^^^^^^^^^^^^^^^^^^^'.strip()\n",
    "assert charactor_pointing('MMMMMMMMMMMMMMMMMMMM','o').strip() == ''.strip()\n",
    "assert charactor_pointing('MMMM','MM').strip() == ''.strip()\n",
    "print(\"ok\")"
   ]
  },
  {
   "cell_type": "code",
   "execution_count": 49,
   "id": "57af3e57",
   "metadata": {
    "deletable": false,
    "editable": false,
    "nbgrader": {
     "cell_type": "code",
     "checksum": "db6017b2e235c76e8e3b707b869b6387",
     "grade": true,
     "grade_id": "cell-198453a3256b2db5",
     "locked": true,
     "points": 1,
     "schema_version": 3,
     "solution": false,
     "task": false
    }
   },
   "outputs": [
    {
     "name": "stdout",
     "output_type": "stream",
     "text": [
      "ok\n"
     ]
    }
   ],
   "source": [
    "'''Hidden Test 1'''\n",
    "### BEGIN HIDDEN TEST\n",
    "assert charactor_pointing('Bell Warisara','a').strip() == '      ^   ^ ^'.strip()\n",
    "assert charactor_pointing('Prof.Siwakorn','o').strip() == '  ^       ^  '.strip()\n",
    "print('ok')\n",
    "### END HIDDEN TEST"
   ]
  },
  {
   "cell_type": "code",
   "execution_count": 50,
   "id": "a2cb838e-420c-4761-ac50-bfa0eb2eb975",
   "metadata": {
    "deletable": false,
    "editable": false,
    "nbgrader": {
     "cell_type": "code",
     "checksum": "958fbb3be0d51d562fabbcae749d724f",
     "grade": true,
     "grade_id": "cell-5d81ac26485bb597",
     "locked": true,
     "points": 1,
     "schema_version": 3,
     "solution": false,
     "task": false
    }
   },
   "outputs": [
    {
     "name": "stdout",
     "output_type": "stream",
     "text": [
      "ok\n"
     ]
    }
   ],
   "source": [
    "'''Hidden Test 2'''\n",
    "### BEGIN HIDDEN TEST\n",
    "assert charactor_pointing('ppymph','p').strip() == '^^  ^ '.strip()\n",
    "assert charactor_pointing('M I S S','I').strip() == '  ^    '.strip()\n",
    "print('ok')\n",
    "### END HIDDEN TEST"
   ]
  },
  {
   "cell_type": "markdown",
   "id": "4558cbf4-8bf7-4838-a654-0b68d58f0ee2",
   "metadata": {
    "deletable": false,
    "editable": false,
    "nbgrader": {
     "cell_type": "markdown",
     "checksum": "d2f5eaa8301b965ef3774252cd0c859c",
     "grade": false,
     "grade_id": "cell-5f1986ce42d1f9ad",
     "locked": true,
     "schema_version": 3,
     "solution": false,
     "task": false
    }
   },
   "source": [
    "### Exercise 5: Mixed String\n",
    "Write three Python functions that each accept a string as a parameter. Each function should extract a specific type of character from the text and return it as a list:\n",
    "\n",
    " - `get_number(text)`: extracts all the numbers from the string.\n",
    " - `get_alphabet(text)`: extracts all the alphabetic characters from the string.\n",
    " - `get_symbol(text)`: extracts all the symbols (non-alphanumeric characters) from the string."
   ]
  },
  {
   "cell_type": "code",
   "execution_count": 51,
   "id": "d19032d7",
   "metadata": {
    "deletable": false,
    "nbgrader": {
     "cell_type": "code",
     "checksum": "1b41e1e7dd41ff8f0dd724bea4bf24b4",
     "grade": false,
     "grade_id": "cell-ebf76b7dba0dd0cb",
     "locked": false,
     "schema_version": 3,
     "solution": true,
     "task": false
    }
   },
   "outputs": [],
   "source": [
    "def get_number(text):\n",
    "    # YOUR CODE HERE\n",
    "    results = []\n",
    "    for m in text:\n",
    "        if m.isdigit():\n",
    "            results.append(int(m))\n",
    "            \n",
    "    return results"
   ]
  },
  {
   "cell_type": "markdown",
   "id": "f1011a88-d786-4d04-9a41-ce7030974cb0",
   "metadata": {
    "deletable": false,
    "editable": false,
    "nbgrader": {
     "cell_type": "markdown",
     "checksum": "5abe5a601cc50b6cd2380d10aadab184",
     "grade": false,
     "grade_id": "cell-bfa767554e3a0605",
     "locked": true,
     "schema_version": 3,
     "solution": false,
     "task": false
    }
   },
   "source": [
    "**Test `get_number(text)`**\\\n",
    "Please run these cells below to check if your program works correctly."
   ]
  },
  {
   "cell_type": "code",
   "execution_count": 52,
   "id": "c219a248-a320-42a7-b5f6-81b70684209f",
   "metadata": {
    "deletable": false,
    "editable": false,
    "nbgrader": {
     "cell_type": "code",
     "checksum": "ebc12125507f669cea6f66a2055daa2d",
     "grade": true,
     "grade_id": "cell-98812d8b3fa5c74c",
     "locked": true,
     "points": 1,
     "schema_version": 3,
     "solution": false,
     "task": false
    }
   },
   "outputs": [
    {
     "name": "stdout",
     "output_type": "stream",
     "text": [
      "ok\n"
     ]
    }
   ],
   "source": [
    "assert get_number(\"M2er^r0y_Ch^24ristmas\") == [2, 0, 2, 4]\n",
    "assert get_number(\"abc123def456\") == [1, 2, 3, 4, 5, 6]\n",
    "assert get_number(\"no_numbers_here!\") == []\n",
    "print('ok')"
   ]
  },
  {
   "cell_type": "code",
   "execution_count": 53,
   "id": "433a80de",
   "metadata": {
    "deletable": false,
    "editable": false,
    "nbgrader": {
     "cell_type": "code",
     "checksum": "f0b4d14706b6af50d69afb293b2883b3",
     "grade": true,
     "grade_id": "cell-746b7f42a9c49587",
     "locked": true,
     "points": 1,
     "schema_version": 3,
     "solution": false,
     "task": false
    }
   },
   "outputs": [
    {
     "name": "stdout",
     "output_type": "stream",
     "text": [
      "ok\n"
     ]
    }
   ],
   "source": [
    "'''Hidden Test 1'''\n",
    "print('ok')"
   ]
  },
  {
   "cell_type": "code",
   "execution_count": 54,
   "id": "6f08891a",
   "metadata": {
    "deletable": false,
    "nbgrader": {
     "cell_type": "code",
     "checksum": "d6522d8155f6204f84a16a6f59d39951",
     "grade": false,
     "grade_id": "cell-21cc7663447ec940",
     "locked": false,
     "schema_version": 3,
     "solution": true,
     "task": false
    }
   },
   "outputs": [],
   "source": [
    "def get_alphabet(text):\n",
    "    # YOUR CODE HERE\n",
    "    letters = []\n",
    "    for char in text:\n",
    "        if char.isalpha():\n",
    "            letters.append(char)\n",
    "    return letters"
   ]
  },
  {
   "cell_type": "markdown",
   "id": "0b32a2b1",
   "metadata": {
    "deletable": false,
    "editable": false,
    "nbgrader": {
     "cell_type": "markdown",
     "checksum": "43d5833ff3700da03c43ad43db3db8a2",
     "grade": false,
     "grade_id": "cell-5f867cfef5f7b330",
     "locked": true,
     "schema_version": 3,
     "solution": false,
     "task": false
    }
   },
   "source": [
    "**Test `get_alphabet(text)`** \\\n",
    "Please run these cells below to check if your program works correctly."
   ]
  },
  {
   "cell_type": "code",
   "execution_count": 55,
   "id": "e8a6c35e",
   "metadata": {
    "deletable": false,
    "editable": false,
    "nbgrader": {
     "cell_type": "code",
     "checksum": "dd33be1dc729af7146d9535d67b724b7",
     "grade": true,
     "grade_id": "cell-2f48243cd74c0531",
     "locked": true,
     "points": 1,
     "schema_version": 3,
     "solution": false,
     "task": false
    }
   },
   "outputs": [
    {
     "name": "stdout",
     "output_type": "stream",
     "text": [
      "ok\n"
     ]
    }
   ],
   "source": [
    "assert get_alphabet(\"M2er^r0y_Ch^24ristmas\") == ['M', 'e', 'r', 'r', 'y', 'C', 'h', 'r', 'i', 's', 't', 'm', 'a', 's']\n",
    "assert get_alphabet(\"123!@#$%^\") == []\n",
    "assert get_alphabet(\"abcXYZ\") == ['a', 'b', 'c', 'X', 'Y', 'Z']\n",
    "print('ok')"
   ]
  },
  {
   "cell_type": "code",
   "execution_count": 56,
   "id": "a5548ee6",
   "metadata": {
    "deletable": false,
    "editable": false,
    "nbgrader": {
     "cell_type": "code",
     "checksum": "06bb84fa4d32d6ab2fc930c343294fee",
     "grade": true,
     "grade_id": "cell-a243dbee84d08f53",
     "locked": true,
     "points": 1,
     "schema_version": 3,
     "solution": false,
     "task": false
    }
   },
   "outputs": [
    {
     "data": {
      "text/plain": [
       "'Hidden Test'"
      ]
     },
     "execution_count": 56,
     "metadata": {},
     "output_type": "execute_result"
    }
   ],
   "source": [
    "'''Hidden Test'''"
   ]
  },
  {
   "cell_type": "code",
   "execution_count": 57,
   "id": "3c68d6f0",
   "metadata": {
    "deletable": false,
    "nbgrader": {
     "cell_type": "code",
     "checksum": "a45927acb4fb98a30adedfe5e5cc8d21",
     "grade": false,
     "grade_id": "cell-aab9253c8a425d6b",
     "locked": false,
     "schema_version": 3,
     "solution": true,
     "task": false
    }
   },
   "outputs": [],
   "source": [
    "def get_symbol(text):\n",
    "    # YOUR CODE HERE\n",
    "    symbols = []\n",
    "    for char in text:\n",
    "        if not char.isalnum():\n",
    "            symbols.append(char)\n",
    "    return symbols"
   ]
  },
  {
   "cell_type": "markdown",
   "id": "a5b3dc6e",
   "metadata": {
    "deletable": false,
    "editable": false,
    "nbgrader": {
     "cell_type": "markdown",
     "checksum": "a045eb1504688790f3d040d189ce73c4",
     "grade": false,
     "grade_id": "cell-eefc2c83e9ade650",
     "locked": true,
     "schema_version": 3,
     "solution": false,
     "task": false
    }
   },
   "source": [
    "**Test `get_symbol(text)`** \\\n",
    "Please run these cells below to check if your program works correctly."
   ]
  },
  {
   "cell_type": "code",
   "execution_count": 58,
   "id": "461ce6bd",
   "metadata": {
    "deletable": false,
    "editable": false,
    "nbgrader": {
     "cell_type": "code",
     "checksum": "94ff6acb20435669f0aca2df8e62b02e",
     "grade": true,
     "grade_id": "cell-506e0d48b3697c5c",
     "locked": true,
     "points": 1,
     "schema_version": 3,
     "solution": false,
     "task": false
    }
   },
   "outputs": [
    {
     "name": "stdout",
     "output_type": "stream",
     "text": [
      "ok\n"
     ]
    }
   ],
   "source": [
    "assert get_symbol(\"M2er^r0y_Ch^24ristmas\") == ['^', '_', '^']\n",
    "assert get_symbol(\"123!@#$%^\") == ['!', '@', '#', '$', '%', '^']\n",
    "assert get_symbol(\"a!b@c#1*2^3\") == ['!', '@', '#', '*', '^']\n",
    "print('ok')"
   ]
  },
  {
   "cell_type": "code",
   "execution_count": 59,
   "id": "c3c2d82d",
   "metadata": {
    "deletable": false,
    "editable": false,
    "nbgrader": {
     "cell_type": "code",
     "checksum": "22d33fb935a2aeed4c897e6f35ce89a1",
     "grade": true,
     "grade_id": "cell-b151a0a0eb46ca10",
     "locked": true,
     "points": 1,
     "schema_version": 3,
     "solution": false,
     "task": false
    }
   },
   "outputs": [
    {
     "data": {
      "text/plain": [
       "'Hidden Test'"
      ]
     },
     "execution_count": 59,
     "metadata": {},
     "output_type": "execute_result"
    }
   ],
   "source": [
    "'''Hidden Test'''"
   ]
  },
  {
   "cell_type": "markdown",
   "id": "27eef3c1-66c9-40a3-9a02-b2ee3e7694fa",
   "metadata": {
    "deletable": false,
    "editable": false,
    "nbgrader": {
     "cell_type": "markdown",
     "checksum": "42d8c1bee9edf126d574c9947af353ce",
     "grade": false,
     "grade_id": "cell-7a664409d99bcfe8",
     "locked": true,
     "schema_version": 3,
     "solution": false,
     "task": false
    }
   },
   "source": [
    "### End of lab. Please remember to submit your work before due date.\n",
    "![Description of the image](https://pleated-jeans.com/wp-content/uploads/2024/02/funny-programming-memes-february-11-2024-2.png)"
   ]
  }
 ],
 "metadata": {
  "BondSan": "29dfce026cfe0611be07dc7aa3fa7574b63f8e60ef8184671d55e7f8c9900253ae5db42da11fee43c07495156faec646e8db1a6a55e92fe5704807ee9c6415ca43b9e67ffab1ecaf2573c262784b3dbe013d9842ae18553905517b42c9b8a7711c10cb91cc9e02e13ed6458c55eaa576704fab0c00f4c14d04599c78a5e7eb778cee07191623cd0e036070a1015241fcacf809c50349bab24f96dc12ea2331b8e5462ddf87541a12db223ff0bc5abae995f9d1db2c8eaabf4418c836814ee2572a365ecacf1fee195f605d5cab0cf9547acecbbbf763ee893e3a8d19ff7b9a0c3ddd18b249a78a24c9ebb1fce56bff538d3fface0d896dccd81711979f5b24c6",
  "kernelspec": {
   "display_name": "Python 3 (ipykernel)",
   "language": "python",
   "name": "python3"
  },
  "language_info": {
   "codemirror_mode": {
    "name": "ipython",
    "version": 3
   },
   "file_extension": ".py",
   "mimetype": "text/x-python",
   "name": "python",
   "nbconvert_exporter": "python",
   "pygments_lexer": "ipython3",
   "version": "3.9.12"
  }
 },
 "nbformat": 4,
 "nbformat_minor": 5
}
