{
 "cells": [
  {
   "cell_type": "code",
   "execution_count": 15,
   "metadata": {},
   "outputs": [
    {
     "data": {
      "text/plain": [
       "55"
      ]
     },
     "execution_count": 15,
     "metadata": {},
     "output_type": "execute_result"
    }
   ],
   "source": [
    "# Sequential Programming\n",
    "# Question: Write a Python function called sum_of_squares(n) that takes an integer n as input and returns the sum of \n",
    "# squares of all integers from 1 up to n. Ensure the function works for positive integers. \n",
    "# If the input is not a positive integer, the function should return None.\n",
    "\n",
    "\n",
    "def sumOfSquares(n):\n",
    "    result = 0\n",
    "    for number in range(n+1):\n",
    "        result += (number)**2\n",
    "    return result\n",
    "\n",
    "sumOfSquares(3)\n",
    "sumOfSquares(5)\n",
    "    \n"
   ]
  },
  {
   "cell_type": "code",
   "execution_count": 7,
   "metadata": {},
   "outputs": [
    {
     "name": "stdout",
     "output_type": "stream",
     "text": [
      "0\n",
      "1\n",
      "2\n",
      "3\n",
      "4\n",
      "5\n",
      "6\n",
      "7\n",
      "8\n",
      "9\n"
     ]
    }
   ],
   "source": [
    "for number in range(10):\n",
    "    print(number)\n",
    "\n",
    "    \n",
    "\n"
   ]
  },
  {
   "cell_type": "code",
   "execution_count": null,
   "metadata": {},
   "outputs": [
    {
     "data": {
      "text/plain": [
       "False"
      ]
     },
     "execution_count": 17,
     "metadata": {},
     "output_type": "execute_result"
    }
   ],
   "source": [
    "# Selection Programming\n",
    "# use if/elif/else\n",
    "\n",
    "## Check age for entering club (Age > 20)\n",
    "\n",
    "def checkAge(age):\n",
    "    permissionToEnter = True\n",
    "    if age <= 20:\n",
    "        permissionToEnter = False\n",
    "    # elif age >= 20:\n",
    "    #     permissionToEnter = True\n",
    "    return permissionToEnter\n",
    "\n",
    "checkAge(20)\n"
   ]
  },
  {
   "cell_type": "code",
   "execution_count": 24,
   "metadata": {},
   "outputs": [
    {
     "data": {
      "text/plain": [
       "'even'"
      ]
     },
     "execution_count": 24,
     "metadata": {},
     "output_type": "execute_result"
    }
   ],
   "source": [
    "# Selection Programming\n",
    "# Check Odd/Even Number\n",
    "\n",
    "def checkOddEven(number):\n",
    "    if number % 2 == 0:\n",
    "        return \"even\"\n",
    "    else:\n",
    "        return \"odd\"\n",
    "\n",
    "checkOddEven(8)"
   ]
  },
  {
   "cell_type": "code",
   "execution_count": 21,
   "metadata": {},
   "outputs": [
    {
     "name": "stdout",
     "output_type": "stream",
     "text": [
      "1\n",
      "0\n",
      "0\n",
      "1\n"
     ]
    }
   ],
   "source": [
    "print( 5 % 2 )\n",
    "print( 6 % 2 )\n",
    "print( 10 % 2 )\n",
    "print( 11 % 2 )"
   ]
  },
  {
   "cell_type": "markdown",
   "metadata": {},
   "source": [
    "### Data Types\n",
    "1. String - \" text \"\n",
    "2. Integer - 4 5 7 9 2 4 6 (DONT HAVE DECIMALS) - Whole Number\n",
    "3. Float - 3.13 341.1 3445.234 (HAVE DECIMALS)\n",
    "4. Boolean - True/False"
   ]
  },
  {
   "cell_type": "markdown",
   "metadata": {},
   "source": []
  },
  {
   "cell_type": "code",
   "execution_count": 30,
   "metadata": {},
   "outputs": [
    {
     "name": "stdout",
     "output_type": "stream",
     "text": [
      "[4, 5, 6, [0]]\n"
     ]
    }
   ],
   "source": [
    "cls = [4,5,6]\n",
    "cls.append([0])\n",
    "print(cls)"
   ]
  },
  {
   "cell_type": "code",
   "execution_count": 31,
   "metadata": {},
   "outputs": [
    {
     "data": {
      "text/plain": [
       "True"
      ]
     },
     "execution_count": 31,
     "metadata": {},
     "output_type": "execute_result"
    }
   ],
   "source": [
    "data1 = [1,2,3]\n",
    "\n",
    "len(data1) == 3"
   ]
  },
  {
   "cell_type": "code",
   "execution_count": 35,
   "metadata": {},
   "outputs": [
    {
     "name": "stdout",
     "output_type": "stream",
     "text": [
      "a\n",
      "b\n",
      "c\n"
     ]
    }
   ],
   "source": [
    "alphabet = [\"a\",\"b\",\"c\"]\n",
    "for _ in alphabet:\n",
    "    print(_)"
   ]
  },
  {
   "cell_type": "code",
   "execution_count": 36,
   "metadata": {},
   "outputs": [
    {
     "name": "stdout",
     "output_type": "stream",
     "text": [
      "[15, 17, 19, 21, 23, 0, 1, 2, 3, 4]\n"
     ]
    }
   ],
   "source": [
    "L1 = [x for x in range(15,25,2)]\n",
    "L2 = [y for y in range(5)]\n",
    "print(L1 + L2)"
   ]
  },
  {
   "cell_type": "code",
   "execution_count": 39,
   "metadata": {},
   "outputs": [
    {
     "name": "stdout",
     "output_type": "stream",
     "text": [
      "3\n",
      "[1, 3, 4]\n"
     ]
    }
   ],
   "source": [
    "data = [1, 2.0, 1.8, 2, 30, 20.0 ,10]\n",
    "a = [i for i in range(1, len(data)) if data[i] > data[i-1]]\n",
    "print(len(a))\n",
    "print(a)"
   ]
  },
  {
   "cell_type": "code",
   "execution_count": 47,
   "metadata": {},
   "outputs": [
    {
     "name": "stdout",
     "output_type": "stream",
     "text": [
      "current run: \n",
      "1\n",
      "current data: \n",
      "2.0\n",
      "past data: \n",
      "1\n",
      "True\n",
      "__________\n",
      "current run: \n",
      "2\n",
      "current data: \n",
      "1.8\n",
      "past data: \n",
      "2.0\n",
      "__________\n",
      "current run: \n",
      "3\n",
      "current data: \n",
      "1.5\n",
      "past data: \n",
      "1.8\n",
      "__________\n",
      "current run: \n",
      "4\n",
      "current data: \n",
      "2\n",
      "past data: \n",
      "1.5\n",
      "True\n",
      "__________\n",
      "current run: \n",
      "5\n",
      "current data: \n",
      "30\n",
      "past data: \n",
      "2\n",
      "True\n",
      "__________\n",
      "current run: \n",
      "6\n",
      "current data: \n",
      "20.0\n",
      "past data: \n",
      "30\n",
      "__________\n",
      "current run: \n",
      "7\n",
      "current data: \n",
      "10\n",
      "past data: \n",
      "20.0\n",
      "__________\n"
     ]
    }
   ],
   "source": [
    "data = [1, 2.0, 1.8, 1.5, 2, 30, 20.0 ,10]\n",
    "b = []\n",
    "for i in range(1, len(data)):\n",
    "    print(\"current run: \")\n",
    "    print(i)\n",
    "    print(\"current data: \")\n",
    "    print(data[i])\n",
    "    print(\"past data: \")\n",
    "    print(data[i-1])\n",
    "    if data[i] > data[i-1]:\n",
    "        b.append(i)\n",
    "        print(\"True\")\n",
    "    print(\"__________\")\n"
   ]
  },
  {
   "cell_type": "code",
   "execution_count": 46,
   "metadata": {},
   "outputs": [
    {
     "name": "stdout",
     "output_type": "stream",
     "text": [
      "a\n",
      "b\n",
      "c\n",
      "d\n"
     ]
    }
   ],
   "source": [
    "# a = [1,2,3,4,5]\n",
    "a = [\"a\",\"b\",\"c\",\"d\"]\n",
    "\n",
    "for i in range(len(a)):\n",
    "    print(a[i])"
   ]
  },
  {
   "cell_type": "code",
   "execution_count": null,
   "metadata": {},
   "outputs": [],
   "source": []
  }
 ],
 "metadata": {
  "kernelspec": {
   "display_name": "fuckpip",
   "language": "python",
   "name": "python3"
  },
  "language_info": {
   "codemirror_mode": {
    "name": "ipython",
    "version": 3
   },
   "file_extension": ".py",
   "mimetype": "text/x-python",
   "name": "python",
   "nbconvert_exporter": "python",
   "pygments_lexer": "ipython3",
   "version": "3.12.0"
  }
 },
 "nbformat": 4,
 "nbformat_minor": 2
}
