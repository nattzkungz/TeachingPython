{
  "cells": [
    {
      "cell_type": "markdown",
      "id": "59dd9689-1347-46d9-9d07-8ed713e03f25",
      "metadata": {
        "deletable": false,
        "editable": false,
        "nbgrader": {
          "cell_type": "markdown",
          "checksum": "452fb0ee35c4da8ee7e4b9ec78f5c48d",
          "grade": false,
          "grade_id": "cell-976d0e49a66a7174",
          "locked": true,
          "schema_version": 3,
          "solution": false,
          "task": false
        },
        "id": "59dd9689-1347-46d9-9d07-8ed713e03f25"
      },
      "source": [
        "# Lab 7 File & Function I"
      ]
    },
    {
      "cell_type": "markdown",
      "id": "da83838e",
      "metadata": {
        "deletable": false,
        "editable": false,
        "nbgrader": {
          "cell_type": "markdown",
          "checksum": "caeafc84c608ec09662a11d36d9ceb8a",
          "grade": false,
          "grade_id": "cell-8cc8ed6d9f521c45",
          "locked": true,
          "schema_version": 3,
          "solution": false,
          "task": false
        },
        "id": "da83838e"
      },
      "source": [
        "### <font color='red'>For debugging:\n",
        "\n",
        "- You can try calling the function of interest with appropriate parameters.\n",
        "- Understanding test cases are needed.\n",
        "- Do not change the function names and the parameter names!!"
      ]
    },
    {
      "cell_type": "markdown",
      "id": "4fb04a41-2303-4bd3-a605-cff84d38eb6f",
      "metadata": {
        "deletable": false,
        "editable": false,
        "nbgrader": {
          "cell_type": "markdown",
          "checksum": "1dc6217dadaf80a94c0f9cc0799a05d9",
          "grade": false,
          "grade_id": "cell-4d44bd93541ac454",
          "locked": true,
          "schema_version": 3,
          "solution": false,
          "task": false
        },
        "id": "4fb04a41-2303-4bd3-a605-cff84d38eb6f"
      },
      "source": [
        "### Exercise 1: Did you do it by yourself?\n",
        "Write a Python function `check_exam(filenameA,filenameB)` that checks whether two student answer files are identical, indicating whether the student may have copied someone else's work. The function should compare the contents of two files, and return a boolean value:\n",
        " - **True**: if the contents of the two files are identical (suggesting potential copying).\n",
        " - **False**: if the contents are different.\n"
      ]
    },
    {
      "cell_type": "markdown",
      "id": "c2ab5f8a-bda9-4bd2-b47e-906868be6bf7",
      "metadata": {
        "deletable": false,
        "editable": false,
        "nbgrader": {
          "cell_type": "markdown",
          "checksum": "39a6b10c907f8ee39c126883a729cb4e",
          "grade": false,
          "grade_id": "cell-4f876e90c4969ff2",
          "locked": true,
          "schema_version": 3,
          "solution": false,
          "task": false
        },
        "id": "c2ab5f8a-bda9-4bd2-b47e-906868be6bf7"
      },
      "source": [
        "**Example**\n",
        " - **stu1.txt**\n",
        "```\n",
        "A A B A D C C D A B\n",
        "```\n",
        " - **stu5.txt**\n",
        "```\n",
        "A A B A D C C D A B\n",
        "```\n",
        "\n",
        "Calling `check_exam('stu1.txt','stu5.txt')` should return `True`."
      ]
    },
    {
      "cell_type": "markdown",
      "id": "7fa7171b-e7d6-44d2-91c5-a8f869231bbb",
      "metadata": {
        "deletable": false,
        "editable": false,
        "nbgrader": {
          "cell_type": "markdown",
          "checksum": "56fb0deadeac99d1eb43c351302390a9",
          "grade": false,
          "grade_id": "cell-f3c01d47a38d4614",
          "locked": true,
          "schema_version": 3,
          "solution": false,
          "task": false
        },
        "id": "7fa7171b-e7d6-44d2-91c5-a8f869231bbb"
      },
      "source": [
        "**Example**\n",
        " - **stu2.txt**\n",
        "```\n",
        "C A B A D A C C A B\n",
        "```\n",
        " - **stu5.txt**\n",
        "```\n",
        "A A B A D C C D A B\n",
        "```\n",
        "\n",
        "Calling `check_exam('stu2.txt','stu5.txt')` should return `False`."
      ]
    },
    {
      "cell_type": "code",
      "execution_count": null,
      "id": "76e270a0",
      "metadata": {
        "deletable": false,
        "nbgrader": {
          "cell_type": "code",
          "checksum": "a6a18d05a31d9510b41b836be217593e",
          "grade": false,
          "grade_id": "cell-0d462e84b395d749",
          "locked": false,
          "schema_version": 3,
          "solution": true,
          "task": false
        },
        "id": "76e270a0"
      },
      "outputs": [],
      "source": [
        "def check_exam(filenameA, filenameB):\n",
        "    # YOUR CODE HERE\n",
        "    fileA = open(filenameA, 'r')\n",
        "    fileB = open(filenameB, 'r')\n",
        "    contentA = fileA.read()\n",
        "    contentB = fileB.read()\n",
        "\n",
        "    if contentA == contentB:\n",
        "        return True\n",
        "    else:\n",
        "        return False"
      ]
    },
    {
      "cell_type": "markdown",
      "id": "6f5e3928-452d-4d6b-bec3-978eaaf978f8",
      "metadata": {
        "deletable": false,
        "editable": false,
        "nbgrader": {
          "cell_type": "markdown",
          "checksum": "221666f4967ac8987d0162b10226a13a",
          "grade": false,
          "grade_id": "cell-a1aab5da76584eab",
          "locked": true,
          "schema_version": 3,
          "solution": false,
          "task": false
        },
        "id": "6f5e3928-452d-4d6b-bec3-978eaaf978f8"
      },
      "source": [
        "**Test `check_exam(filenameA,filenameB)`** <br>\n",
        "Please run these cells below to check if your program works correctly."
      ]
    },
    {
      "cell_type": "code",
      "execution_count": null,
      "id": "3dfe6366-5d3b-48d2-9f42-575533a94694",
      "metadata": {
        "deletable": false,
        "editable": false,
        "nbgrader": {
          "cell_type": "code",
          "checksum": "81ede606993d6212b890fa50ea3f0726",
          "grade": true,
          "grade_id": "cell-0487c1cf3d359812",
          "locked": true,
          "points": 1,
          "schema_version": 3,
          "solution": false,
          "task": false
        },
        "id": "3dfe6366-5d3b-48d2-9f42-575533a94694",
        "outputId": "aa58186f-2f27-46f7-aaa6-d6fc2a11b615"
      },
      "outputs": [
        {
          "name": "stdout",
          "output_type": "stream",
          "text": [
            "ok\n"
          ]
        }
      ],
      "source": [
        "assert check_exam('stu1.txt','stu5.txt') == True\n",
        "assert check_exam('stu1.txt','stu2.txt') == False\n",
        "assert check_exam('stu2.txt','stu3.txt') == False\n",
        "print(\"ok\")"
      ]
    },
    {
      "cell_type": "code",
      "execution_count": null,
      "id": "953662c5-4d68-41c5-a5bb-50dbe40d4ed6",
      "metadata": {
        "deletable": false,
        "editable": false,
        "nbgrader": {
          "cell_type": "code",
          "checksum": "e26f532384e72d619da02fe711302f56",
          "grade": true,
          "grade_id": "cell-9295b820d98dbce5",
          "locked": true,
          "points": 1,
          "schema_version": 3,
          "solution": false,
          "task": false
        },
        "id": "953662c5-4d68-41c5-a5bb-50dbe40d4ed6"
      },
      "outputs": [],
      "source": [
        "'''Hidden Tests'''"
      ]
    },
    {
      "cell_type": "code",
      "execution_count": null,
      "id": "55fc87fe-613c-41ef-9334-552752211a5e",
      "metadata": {
        "deletable": false,
        "editable": false,
        "nbgrader": {
          "cell_type": "code",
          "checksum": "e39323a25119f55760f098074af101d6",
          "grade": true,
          "grade_id": "cell-6add70c9c5d3c76a",
          "locked": true,
          "points": 1,
          "schema_version": 3,
          "solution": false,
          "task": false
        },
        "id": "55fc87fe-613c-41ef-9334-552752211a5e"
      },
      "outputs": [],
      "source": [
        "'''Hidden Tests'''\n",
        "print('ok')"
      ]
    },
    {
      "cell_type": "markdown",
      "id": "93dcecea-f44a-4c21-9771-e94fa5d2ea1d",
      "metadata": {
        "deletable": false,
        "editable": false,
        "nbgrader": {
          "cell_type": "markdown",
          "checksum": "b3d5acdeeb047603ccfcbae67eeff2c9",
          "grade": false,
          "grade_id": "cell-4716fdfc1ee2b241",
          "locked": true,
          "schema_version": 3,
          "solution": false,
          "task": false
        },
        "id": "93dcecea-f44a-4c21-9771-e94fa5d2ea1d"
      },
      "source": [
        "### Exercise 2: From Him to Her or Her to Him?\n",
        "Write a Python function `check_letter(filename)` that receives the name of a **letterX.txt** file (e.g., letter1.txt) and returns who sent the letter to whom."
      ]
    },
    {
      "cell_type": "markdown",
      "id": "20bba34f-f25c-42f8-b9ee-e0c8e607a7a6",
      "metadata": {
        "deletable": false,
        "editable": false,
        "nbgrader": {
          "cell_type": "markdown",
          "checksum": "c02bb7a0d6a058b9f61ecbf7598a76c6",
          "grade": false,
          "grade_id": "cell-6315a5ba95b0f4ef",
          "locked": true,
          "schema_version": 3,
          "solution": false,
          "task": false
        },
        "id": "20bba34f-f25c-42f8-b9ee-e0c8e607a7a6"
      },
      "source": [
        "**Example**\n",
        "\n",
        "**letter1.txt**\n",
        "\n",
        "```\n",
        "Dear Bella,\n",
        "I miss you so much. The days seem longer, and the nights feel colder without you by my side.\n",
        "I never meet whoever cute like you, with your beautiful smile and your warm heart.\n",
        "You have this incredible ability to make everyone around you feel special, and I’m so lucky to have you in my life.\n",
        "\n",
        "Sincerely, Sean\n",
        "```\n",
        "\n",
        "Calling `check_letter('letter1.txt')` should return a tuple of `('Bella','Sean')`."
      ]
    },
    {
      "cell_type": "code",
      "execution_count": null,
      "id": "079ffde3",
      "metadata": {
        "deletable": false,
        "nbgrader": {
          "cell_type": "code",
          "checksum": "3ca6d57b5a51af51efab21e43e8f63d6",
          "grade": false,
          "grade_id": "cell-61ca32f7f0b05d1f",
          "locked": false,
          "schema_version": 3,
          "solution": true,
          "task": false
        },
        "id": "079ffde3"
      },
      "outputs": [],
      "source": [
        "def check_letter(filename) :\n",
        "    # YOUR CODE HERE\n",
        "    f = open(filename, \"r\" , encoding = \"utf-8\")\n",
        "    sender = \"\"\n",
        "    reciever = \"\"\n",
        "    for x in f:\n",
        "        if \"Dear\" in x:\n",
        "            reciever = x\n",
        "        if \"Sincerely\" in x:\n",
        "            sender = x\n",
        "    reciever = reciever.replace(\"Dear \", \"\")\n",
        "    reciever = reciever.replace(\",\",\"\")\n",
        "    reciever = reciever.replace(\" \",\"\")\n",
        "    reciever = reciever.replace(\"\\n\",\"\")\n",
        "    sender = sender.replace(\"Sincerely, \", \"\")\n",
        "    sender = sender.replace(\" \",\"\")\n",
        "    return sender,reciever"
      ]
    },
    {
      "cell_type": "markdown",
      "id": "771d4631-44de-4e0e-8ef8-10694c360b3f",
      "metadata": {
        "deletable": false,
        "editable": false,
        "nbgrader": {
          "cell_type": "markdown",
          "checksum": "2bdba18e98f7e9b32a17c8fe437d57bf",
          "grade": false,
          "grade_id": "cell-c52129fc6a7483aa",
          "locked": true,
          "schema_version": 3,
          "solution": false,
          "task": false
        },
        "id": "771d4631-44de-4e0e-8ef8-10694c360b3f"
      },
      "source": [
        "**Test `check_letter(filename)`** <br>\n",
        "Please run these cells below to check if your program works correctly."
      ]
    },
    {
      "cell_type": "code",
      "execution_count": null,
      "id": "410e7e1d-01f8-4f9d-87a9-f9d40f2f2921",
      "metadata": {
        "deletable": false,
        "editable": false,
        "nbgrader": {
          "cell_type": "code",
          "checksum": "3b15af4e5ddeca8bdb66be768a890739",
          "grade": true,
          "grade_id": "cell-2fc0c9ee2915751d",
          "locked": true,
          "points": 1,
          "schema_version": 3,
          "solution": false,
          "task": false
        },
        "id": "410e7e1d-01f8-4f9d-87a9-f9d40f2f2921",
        "outputId": "5d4a7388-1bd6-441f-f9aa-6a5c78b9ba30"
      },
      "outputs": [
        {
          "name": "stdout",
          "output_type": "stream",
          "text": [
            "ok\n"
          ]
        }
      ],
      "source": [
        "assert check_letter('letter1.txt') == ('Sean','Bella')\n",
        "assert check_letter('letter2.txt') == ('Siwakorn','Naruemon')\n",
        "assert check_letter('letter3.txt') == ('CEO','Kafiling')\n",
        "print(\"ok\")"
      ]
    },
    {
      "cell_type": "code",
      "execution_count": null,
      "id": "9d7c5679-5d2f-44cb-b34c-f968749acf78",
      "metadata": {
        "deletable": false,
        "editable": false,
        "nbgrader": {
          "cell_type": "code",
          "checksum": "cf1123f14f3b61bc2ee4b09111fd4a74",
          "grade": true,
          "grade_id": "cell-192223878ab324e2",
          "locked": true,
          "points": 1,
          "schema_version": 3,
          "solution": false,
          "task": false
        },
        "id": "9d7c5679-5d2f-44cb-b34c-f968749acf78",
        "outputId": "8835b7ec-8721-44d6-c687-9228b0d68e65"
      },
      "outputs": [
        {
          "name": "stdout",
          "output_type": "stream",
          "text": [
            "ok\n"
          ]
        }
      ],
      "source": [
        "'''Hidden Tests'''\n",
        "print('ok')"
      ]
    },
    {
      "cell_type": "markdown",
      "id": "b3f2817b-8852-4426-b680-476aa39750ba",
      "metadata": {
        "deletable": false,
        "editable": false,
        "nbgrader": {
          "cell_type": "markdown",
          "checksum": "987e6dbf7d07cd65ef80c3f5e4d81df2",
          "grade": false,
          "grade_id": "cell-89c24c4b71d983b7",
          "locked": true,
          "schema_version": 3,
          "solution": false,
          "task": false
        },
        "id": "b3f2817b-8852-4426-b680-476aa39750ba"
      },
      "source": [
        "### Exercise 3: Mini Robot Movement Simulation\n",
        "Write a Python function `move(filename,x,y)` that receives three parameters - a filename and an initial position of a robot as x and y coordinates (both integers). The function should read commands to move the robot based on the given file. The valid commands are one of the following per line:\n",
        "\n",
        "`L`: Move left by one step \\\n",
        "`R`: Move right by one step \\\n",
        "`U`: Move up by one step \\\n",
        "`D`: Move down by one step\n",
        "\n",
        "After processing all the commands, the function should return the final position of the robot (see the test cases)."
      ]
    },
    {
      "cell_type": "markdown",
      "id": "c54293b9-439a-44b2-b005-d3bc9b4b8c18",
      "metadata": {
        "deletable": false,
        "editable": false,
        "nbgrader": {
          "cell_type": "markdown",
          "checksum": "330cb897d9f6d9b9858712282817e79f",
          "grade": false,
          "grade_id": "cell-fc4a4543e332ff4c",
          "locked": true,
          "schema_version": 3,
          "solution": false,
          "task": false
        },
        "id": "c54293b9-439a-44b2-b005-d3bc9b4b8c18"
      },
      "source": [
        "**Example**\n",
        "\n",
        "**move1.txt**\n",
        "```\n",
        "L\n",
        "L\n",
        "U\n",
        "U\n",
        "D\n",
        "R\n",
        "R\n",
        "U\n",
        "U\n",
        "L\n",
        "L\n",
        "```\n",
        "\n",
        "Calling `move('move1.txt',10,20)` should return a tuple of `(8,23)`."
      ]
    },
    {
      "cell_type": "markdown",
      "id": "dce2f041-fb61-4072-8348-823f3a7f120b",
      "metadata": {
        "deletable": false,
        "editable": false,
        "nbgrader": {
          "cell_type": "markdown",
          "checksum": "aedea0ed95a8bbab2925dad780ce4278",
          "grade": false,
          "grade_id": "cell-17646ab86eb6f433",
          "locked": true,
          "schema_version": 3,
          "solution": false,
          "task": false
        },
        "id": "dce2f041-fb61-4072-8348-823f3a7f120b"
      },
      "source": [
        "**Example**\n",
        "\n",
        "**move2.txt**\n",
        "```\n",
        "L\n",
        "L\n",
        "X\n",
        "U\n",
        "D\n",
        "Z\n",
        "R\n",
        "```\n",
        "\n",
        "Calling `move('move1.txt',10,20)` should return a tuple of `Invalid command`."
      ]
    },
    {
      "cell_type": "code",
      "execution_count": null,
      "id": "ef9fd0f1-39ca-4242-925a-a3f43cf85be7",
      "metadata": {
        "deletable": false,
        "nbgrader": {
          "cell_type": "code",
          "checksum": "112e45895cfa0fc9dd2d86f03600febb",
          "grade": false,
          "grade_id": "cell-be8d7d9d314baa8c",
          "locked": false,
          "schema_version": 3,
          "solution": true,
          "task": false
        },
        "id": "ef9fd0f1-39ca-4242-925a-a3f43cf85be7"
      },
      "outputs": [],
      "source": [
        "def move(filename,x,y):\n",
        "    # YOUR CODE HERE\n",
        "    f = open(filename, 'r')\n",
        "    for line in f:\n",
        "        if \"R\" in line:\n",
        "            x = x + 1\n",
        "        elif \"L\" in line:\n",
        "            x = x - 1\n",
        "        elif \"U\" in line:\n",
        "            y = y + 1\n",
        "        elif \"D\" in line:\n",
        "            y = y - 1\n",
        "        else:\n",
        "            return \"Invalid command\"\n",
        "    return (\"Robot stops at \"+ str(x) + \",\" + str(y))"
      ]
    },
    {
      "cell_type": "markdown",
      "id": "68d798f6-561f-4b16-aacf-2b48fb67e8b2",
      "metadata": {
        "deletable": false,
        "editable": false,
        "nbgrader": {
          "cell_type": "markdown",
          "checksum": "dddfd41843a332e603a6792bff0d93f6",
          "grade": false,
          "grade_id": "cell-9218b994e5962854",
          "locked": true,
          "schema_version": 3,
          "solution": false,
          "task": false
        },
        "id": "68d798f6-561f-4b16-aacf-2b48fb67e8b2"
      },
      "source": [
        "**Test `move(filename,x,y)`** <br>\n",
        "Please run these cells below to check if your program works correctly."
      ]
    },
    {
      "cell_type": "code",
      "execution_count": null,
      "id": "8e0315a3-fda4-43fb-b166-5d457a08bd6d",
      "metadata": {
        "deletable": false,
        "editable": false,
        "nbgrader": {
          "cell_type": "code",
          "checksum": "2b97c325c5e40e81da500112c3519663",
          "grade": true,
          "grade_id": "cell-dd3dea3eaeb0f42e",
          "locked": true,
          "points": 1,
          "schema_version": 3,
          "solution": false,
          "task": false
        },
        "colab": {
          "base_uri": "https://localhost:8080/",
          "height": 326
        },
        "id": "8e0315a3-fda4-43fb-b166-5d457a08bd6d",
        "outputId": "aedc2a77-2a6d-4f53-82ae-d422bc5db7bf"
      },
      "outputs": [
        {
          "output_type": "error",
          "ename": "FileNotFoundError",
          "evalue": "[Errno 2] No such file or directory: 'move1.txt'",
          "traceback": [
            "\u001b[0;31m---------------------------------------------------------------------------\u001b[0m",
            "\u001b[0;31mFileNotFoundError\u001b[0m                         Traceback (most recent call last)",
            "\u001b[0;32m<ipython-input-8-f86b1cdcdecd>\u001b[0m in \u001b[0;36m<cell line: 1>\u001b[0;34m()\u001b[0m\n\u001b[0;32m----> 1\u001b[0;31m \u001b[0;32massert\u001b[0m \u001b[0mmove\u001b[0m\u001b[0;34m(\u001b[0m\u001b[0;34m'move1.txt'\u001b[0m\u001b[0;34m,\u001b[0m\u001b[0;36m10\u001b[0m\u001b[0;34m,\u001b[0m\u001b[0;36m20\u001b[0m\u001b[0;34m)\u001b[0m \u001b[0;34m==\u001b[0m \u001b[0;34m'Robot stops at 8,23'\u001b[0m \u001b[0;31m# ++\u001b[0m\u001b[0;34m\u001b[0m\u001b[0;34m\u001b[0m\u001b[0m\n\u001b[0m\u001b[1;32m      2\u001b[0m \u001b[0;32massert\u001b[0m \u001b[0mmove\u001b[0m\u001b[0;34m(\u001b[0m\u001b[0;34m'move1.txt'\u001b[0m\u001b[0;34m,\u001b[0m\u001b[0;36m7\u001b[0m\u001b[0;34m,\u001b[0m\u001b[0;36m5\u001b[0m\u001b[0;34m)\u001b[0m \u001b[0;34m==\u001b[0m \u001b[0;34m'Robot stops at 5,8'\u001b[0m \u001b[0;31m#++\u001b[0m\u001b[0;34m\u001b[0m\u001b[0;34m\u001b[0m\u001b[0m\n\u001b[1;32m      3\u001b[0m \u001b[0;32massert\u001b[0m \u001b[0mmove\u001b[0m\u001b[0;34m(\u001b[0m\u001b[0;34m'move1.txt'\u001b[0m\u001b[0;34m,\u001b[0m\u001b[0;36m100\u001b[0m\u001b[0;34m,\u001b[0m\u001b[0;34m-\u001b[0m\u001b[0;36m20\u001b[0m\u001b[0;34m)\u001b[0m \u001b[0;34m==\u001b[0m \u001b[0;34m'Robot stops at 98,-17'\u001b[0m \u001b[0;31m#+-\u001b[0m\u001b[0;34m\u001b[0m\u001b[0;34m\u001b[0m\u001b[0m\n\u001b[1;32m      4\u001b[0m \u001b[0;32massert\u001b[0m \u001b[0mmove\u001b[0m\u001b[0;34m(\u001b[0m\u001b[0;34m'move1.txt'\u001b[0m\u001b[0;34m,\u001b[0m\u001b[0;34m-\u001b[0m\u001b[0;36m100\u001b[0m\u001b[0;34m,\u001b[0m\u001b[0;36m50\u001b[0m\u001b[0;34m)\u001b[0m \u001b[0;34m==\u001b[0m \u001b[0;34m'Robot stops at -102,53'\u001b[0m \u001b[0;31m#-+\u001b[0m\u001b[0;34m\u001b[0m\u001b[0;34m\u001b[0m\u001b[0m\n\u001b[1;32m      5\u001b[0m \u001b[0;32massert\u001b[0m \u001b[0mmove\u001b[0m\u001b[0;34m(\u001b[0m\u001b[0;34m'move1.txt'\u001b[0m\u001b[0;34m,\u001b[0m\u001b[0;34m-\u001b[0m\u001b[0;36m100\u001b[0m\u001b[0;34m,\u001b[0m\u001b[0;34m-\u001b[0m\u001b[0;36m100\u001b[0m\u001b[0;34m)\u001b[0m \u001b[0;34m==\u001b[0m \u001b[0;34m'Robot stops at -102,-97'\u001b[0m \u001b[0;31m#--\u001b[0m\u001b[0;34m\u001b[0m\u001b[0;34m\u001b[0m\u001b[0m\n",
            "\u001b[0;32m<ipython-input-7-e72428dc7587>\u001b[0m in \u001b[0;36mmove\u001b[0;34m(filename, x, y)\u001b[0m\n\u001b[1;32m      1\u001b[0m \u001b[0;32mdef\u001b[0m \u001b[0mmove\u001b[0m\u001b[0;34m(\u001b[0m\u001b[0mfilename\u001b[0m\u001b[0;34m,\u001b[0m\u001b[0mx\u001b[0m\u001b[0;34m,\u001b[0m\u001b[0my\u001b[0m\u001b[0;34m)\u001b[0m\u001b[0;34m:\u001b[0m\u001b[0;34m\u001b[0m\u001b[0;34m\u001b[0m\u001b[0m\n\u001b[1;32m      2\u001b[0m     \u001b[0;31m# YOUR CODE HERE\u001b[0m\u001b[0;34m\u001b[0m\u001b[0;34m\u001b[0m\u001b[0m\n\u001b[0;32m----> 3\u001b[0;31m     \u001b[0mf\u001b[0m \u001b[0;34m=\u001b[0m \u001b[0mopen\u001b[0m\u001b[0;34m(\u001b[0m\u001b[0mfilename\u001b[0m\u001b[0;34m,\u001b[0m \u001b[0;34m'r'\u001b[0m\u001b[0;34m)\u001b[0m\u001b[0;34m\u001b[0m\u001b[0;34m\u001b[0m\u001b[0m\n\u001b[0m\u001b[1;32m      4\u001b[0m     \u001b[0;32mfor\u001b[0m \u001b[0mline\u001b[0m \u001b[0;32min\u001b[0m \u001b[0mf\u001b[0m\u001b[0;34m:\u001b[0m\u001b[0;34m\u001b[0m\u001b[0;34m\u001b[0m\u001b[0m\n\u001b[1;32m      5\u001b[0m         \u001b[0;32mif\u001b[0m \u001b[0;34m\"R\"\u001b[0m \u001b[0;32min\u001b[0m \u001b[0mline\u001b[0m\u001b[0;34m:\u001b[0m\u001b[0;34m\u001b[0m\u001b[0;34m\u001b[0m\u001b[0m\n",
            "\u001b[0;31mFileNotFoundError\u001b[0m: [Errno 2] No such file or directory: 'move1.txt'"
          ]
        }
      ],
      "source": [
        "assert move('move1.txt',10,20) == 'Robot stops at 8,23' # ++\n",
        "assert move('move1.txt',7,5) == 'Robot stops at 5,8' #++\n",
        "assert move('move1.txt',100,-20) == 'Robot stops at 98,-17' #+-\n",
        "assert move('move1.txt',-100,50) == 'Robot stops at -102,53' #-+\n",
        "assert move('move1.txt',-100,-100) == 'Robot stops at -102,-97' #--\n",
        "print(\"ok\")"
      ]
    },
    {
      "cell_type": "code",
      "execution_count": null,
      "id": "089f7545-986a-41e6-9def-c8ba3e5f5c01",
      "metadata": {
        "deletable": false,
        "editable": false,
        "nbgrader": {
          "cell_type": "code",
          "checksum": "8f547aa10bfe583c9709a307a6f8034b",
          "grade": true,
          "grade_id": "cell-23108d5be0183034",
          "locked": true,
          "points": 1,
          "schema_version": 3,
          "solution": false,
          "task": false
        },
        "id": "089f7545-986a-41e6-9def-c8ba3e5f5c01"
      },
      "outputs": [],
      "source": [
        "assert move('move2.txt',15,20) == 'Invalid command' #\n",
        "assert move('move2.txt',1,1) == 'Invalid command' #\n",
        "print(\"ok\")"
      ]
    },
    {
      "cell_type": "code",
      "execution_count": null,
      "id": "1387c534-448e-4fdc-87a9-955f08860c9a",
      "metadata": {
        "deletable": false,
        "editable": false,
        "nbgrader": {
          "cell_type": "code",
          "checksum": "27c1e37b421e73b6222a871f3d1763fa",
          "grade": true,
          "grade_id": "cell-4620d6aac4de8259",
          "locked": true,
          "points": 1,
          "schema_version": 3,
          "solution": false,
          "task": false
        },
        "id": "1387c534-448e-4fdc-87a9-955f08860c9a"
      },
      "outputs": [],
      "source": [
        "'''Hidden Tests'''"
      ]
    },
    {
      "cell_type": "code",
      "execution_count": null,
      "id": "e01b11ba",
      "metadata": {
        "deletable": false,
        "editable": false,
        "nbgrader": {
          "cell_type": "code",
          "checksum": "ba9d3513d69310197abc8c050f456098",
          "grade": true,
          "grade_id": "cell-c060f2c780d90d0f",
          "locked": true,
          "points": 1,
          "schema_version": 3,
          "solution": false,
          "task": false
        },
        "id": "e01b11ba"
      },
      "outputs": [],
      "source": [
        "'''Hidden Tests'''"
      ]
    },
    {
      "cell_type": "markdown",
      "id": "33e78b51-1261-4e82-b791-f120ff99a622",
      "metadata": {
        "deletable": false,
        "editable": false,
        "nbgrader": {
          "cell_type": "markdown",
          "checksum": "873155ff284a10bc2f64ea52a4d2fb01",
          "grade": false,
          "grade_id": "cell-b8d40a0aab39471a",
          "locked": true,
          "schema_version": 3,
          "solution": false,
          "task": false
        },
        "id": "33e78b51-1261-4e82-b791-f120ff99a622"
      },
      "source": [
        "### Exercise 4: Print Lines   \n",
        "Write two Python functions:\n",
        "- `make_a_line(n)` that receives the length of a line (integer only) and returns a line consisting of that many asterisks (`*`).\n",
        "- `make_3_lines(a,b,c)` that utilizes the function `make_a_line(n)` and return three lines of asterisks (`*`) according to the given parameters `a`,`b`,and `c`. See examples."
      ]
    },
    {
      "cell_type": "markdown",
      "id": "1703ed69-9f30-4496-a2b7-260d796abb72",
      "metadata": {
        "deletable": false,
        "editable": false,
        "nbgrader": {
          "cell_type": "markdown",
          "checksum": "336319c63a06503370b4fecd41373067",
          "grade": false,
          "grade_id": "cell-d1a0330b8bf7bdf9",
          "locked": true,
          "schema_version": 3,
          "solution": false,
          "task": false
        },
        "id": "1703ed69-9f30-4496-a2b7-260d796abb72"
      },
      "source": [
        "**Example**\n",
        "\n",
        "Calling `make_3_lines(5,3,6)` should calls `make_a_line(5)`, `make_a_line(3)`, and `make_a_line(5)` and returns a string of\n",
        "\n",
        "```\n",
        "*****\n",
        "***\n",
        "******\n",
        "```"
      ]
    },
    {
      "cell_type": "markdown",
      "id": "95c53455-c723-460f-8b60-542fbcb6abd0",
      "metadata": {
        "deletable": false,
        "editable": false,
        "nbgrader": {
          "cell_type": "markdown",
          "checksum": "95f740ccebd2ea49e477c29fdc5eb13c",
          "grade": false,
          "grade_id": "cell-bad50b4d6be948ac",
          "locked": true,
          "schema_version": 3,
          "solution": false,
          "task": false
        },
        "id": "95c53455-c723-460f-8b60-542fbcb6abd0"
      },
      "source": [
        "**Example**\n",
        "\n",
        "Calling `make_3_lines(10,10,10)` should calls `make_a_line(10)`, `make_a_line(10)`, and `make_a_line(10)` and returns a string of\n",
        "\n",
        "```\n",
        "**********\n",
        "**********\n",
        "**********\n",
        "```"
      ]
    },
    {
      "cell_type": "markdown",
      "id": "850a0fc5-d955-4e63-a703-b585d6811d25",
      "metadata": {
        "deletable": false,
        "editable": false,
        "nbgrader": {
          "cell_type": "markdown",
          "checksum": "232b3329c24ecd9c48bbe0846432c33f",
          "grade": false,
          "grade_id": "cell-bad50b4d6be948ad",
          "locked": true,
          "schema_version": 3,
          "solution": false,
          "task": false
        },
        "id": "850a0fc5-d955-4e63-a703-b585d6811d25"
      },
      "source": [
        "**Example**\n",
        "\n",
        "Calling `make_3_lines(7,9,6)` should calls `make_a_line(7)`, `make_a_line(9)`, and `make_a_line(6)` and returns a string of\n",
        "\n",
        "```\n",
        "*******\n",
        "*********\n",
        "******\n",
        "```"
      ]
    },
    {
      "cell_type": "code",
      "execution_count": null,
      "id": "fcfad0e6-b320-4de0-abeb-466f34bf4b0c",
      "metadata": {
        "deletable": false,
        "nbgrader": {
          "cell_type": "code",
          "checksum": "68baa3c6988a4377c9c15819edebefb2",
          "grade": false,
          "grade_id": "cell-68b9df14aa3eb6b8",
          "locked": false,
          "schema_version": 3,
          "solution": true,
          "task": false
        },
        "id": "fcfad0e6-b320-4de0-abeb-466f34bf4b0c"
      },
      "outputs": [],
      "source": [
        "def make_a_line(n) :\n",
        "    # YOUR CODE HERE\n",
        "    return (\"*\"*n)\n",
        "def make_3_lines(a,b,c):\n",
        "    # YOUR CODE HERE\n",
        "    make_a_line(a)\n",
        "    make_a_line(b)\n",
        "    make_a_line(c)"
      ]
    },
    {
      "cell_type": "markdown",
      "id": "8bbdc2ac-57ab-4671-b987-c1c781a105f1",
      "metadata": {
        "deletable": false,
        "editable": false,
        "nbgrader": {
          "cell_type": "markdown",
          "checksum": "ab5d5b0dd438e5fbfcf7fbb9c5670859",
          "grade": false,
          "grade_id": "cell-9e593d8afb1071c4",
          "locked": true,
          "schema_version": 3,
          "solution": false,
          "task": false
        },
        "id": "8bbdc2ac-57ab-4671-b987-c1c781a105f1"
      },
      "source": [
        "**Test `make_a_line(n)` and **`make_3_lines(a,b,c)`**<br>\n",
        "Please run these cells below to check if your program works correctly."
      ]
    },
    {
      "cell_type": "code",
      "execution_count": null,
      "id": "8e23d69b-5b1c-4696-97d9-a506adbdbd20",
      "metadata": {
        "deletable": false,
        "editable": false,
        "nbgrader": {
          "cell_type": "code",
          "checksum": "8d6fbee8b3bca422abc65da4937105f5",
          "grade": true,
          "grade_id": "cell-5d81ac26485bb595",
          "locked": true,
          "points": 1,
          "schema_version": 3,
          "solution": false,
          "task": false
        },
        "id": "8e23d69b-5b1c-4696-97d9-a506adbdbd20"
      },
      "outputs": [],
      "source": [
        "make_a_line(3) == \"***\"\n",
        "make_a_line(5) == \"*****\"\n",
        "make_a_line(2) == \"**\"\n",
        "make_a_line(1) == \"*\"\n",
        "make_a_line(0) == \"\"\n",
        "print(\"ok\")"
      ]
    },
    {
      "cell_type": "code",
      "execution_count": null,
      "id": "a2cb838e-420c-4761-ac50-bfa0eb2eb975",
      "metadata": {
        "deletable": false,
        "editable": false,
        "nbgrader": {
          "cell_type": "code",
          "checksum": "5cf13830fc26649dbf44723b090819b1",
          "grade": true,
          "grade_id": "cell-5d81ac26485bb597",
          "locked": true,
          "points": 1,
          "schema_version": 3,
          "solution": false,
          "task": false
        },
        "id": "a2cb838e-420c-4761-ac50-bfa0eb2eb975"
      },
      "outputs": [],
      "source": [
        "make_3_lines(3,5,2) == \"***\\n*****\\n**\"\n",
        "make_3_lines(1,1,1) == \"*\\n*\\n*\"\n",
        "make_3_lines(4,7,3) == \"****\\n*******\\n***\"\n",
        "make_3_lines(0,0,0) == \"\\n\\n\"\n",
        "make_3_lines(10,5,1) == \"**********\\n*****\\n*\"\n",
        "print(\"ok\")"
      ]
    },
    {
      "cell_type": "code",
      "execution_count": null,
      "id": "063ddaa9-7922-4370-8231-f68dfb765b29",
      "metadata": {
        "deletable": false,
        "editable": false,
        "nbgrader": {
          "cell_type": "code",
          "checksum": "726e251b1683dc6fead7751f50a3faee",
          "grade": true,
          "grade_id": "cell-e989a59583db6d2d",
          "locked": true,
          "points": 1,
          "schema_version": 3,
          "solution": false,
          "task": false
        },
        "id": "063ddaa9-7922-4370-8231-f68dfb765b29"
      },
      "outputs": [],
      "source": [
        "'''Hidden Tests'''"
      ]
    },
    {
      "cell_type": "markdown",
      "id": "4558cbf4-8bf7-4838-a654-0b68d58f0ee2",
      "metadata": {
        "deletable": false,
        "editable": false,
        "nbgrader": {
          "cell_type": "markdown",
          "checksum": "4743fbd6bbbf2bb5096f036e92eb8830",
          "grade": false,
          "grade_id": "cell-5f1986ce42d1f9ad",
          "locked": true,
          "schema_version": 3,
          "solution": false,
          "task": false
        },
        "id": "4558cbf4-8bf7-4838-a654-0b68d58f0ee2"
      },
      "source": [
        "### Exercise 5: Summation\n",
        "Write the following functions\n",
        "\n",
        "1. `f(x)` This function should calculates and returns the value of $\\frac{1} {x!}$ with eight decimal places.\n",
        "2. `summation(a,b)` This function calculates and returns the summation of $f(x)$ when $x = a, a+1, ..., b$ so that is $\\frac{1}{a!} + \\frac{1}{(a+1)!} + ... + \\frac{1}{(b-1)!} + \\frac{1}{b!}$ with four decimal places.\n",
        "The function should ensure that $a ≤ b$, otherwise return `0`.\n",
        "\n",
        "**Tips**\n",
        "- You can use function `factorial(n)` by import math module.\n",
        "- You can use function `round(n)` to handle the number of decimal places."
      ]
    },
    {
      "cell_type": "code",
      "execution_count": null,
      "id": "1b8db12f-10c4-49a8-9779-d63e3485b9fd",
      "metadata": {
        "deletable": false,
        "nbgrader": {
          "cell_type": "code",
          "checksum": "47781ad82d7cacf21175826357c38233",
          "grade": false,
          "grade_id": "cell-42c0fa410330d920",
          "locked": false,
          "schema_version": 3,
          "solution": true,
          "task": false
        },
        "id": "1b8db12f-10c4-49a8-9779-d63e3485b9fd"
      },
      "outputs": [],
      "source": [
        "import math\n",
        "\n",
        "def f(x):\n",
        "    # YOUR CODE HERE\n",
        "    factorial = 1 / math.factorial(x)\n",
        "    result = round(factorial, 8)\n",
        "    return result\n",
        "\n",
        "def summation(a, b):\n",
        "    # YOUR CODE HERE\n",
        "    if a > b:\n",
        "        return 0\n",
        "    total_sum = 0\n",
        "    for i in range(a, b + 1):\n",
        "        total_sum += f(i)\n",
        "    return round(total_sum, 4)"
      ]
    },
    {
      "cell_type": "markdown",
      "id": "f1011a88-d786-4d04-9a41-ce7030974cb0",
      "metadata": {
        "deletable": false,
        "editable": false,
        "nbgrader": {
          "cell_type": "markdown",
          "checksum": "bd00cb1447dd928cf9125bb2776616bf",
          "grade": false,
          "grade_id": "cell-bfa767554e3a0605",
          "locked": true,
          "schema_version": 3,
          "solution": false,
          "task": false
        },
        "id": "f1011a88-d786-4d04-9a41-ce7030974cb0"
      },
      "source": [
        "**Test `f(x)` and `summation(a,b)`** <br>\n",
        "Please run these cells below to check if your program works correctly."
      ]
    },
    {
      "cell_type": "code",
      "execution_count": null,
      "id": "8c459dd1-e9bc-4c9d-8bc4-9b91327b09bb",
      "metadata": {
        "deletable": false,
        "editable": false,
        "nbgrader": {
          "cell_type": "code",
          "checksum": "2aad165ab2f7103f9877aa2890640edb",
          "grade": true,
          "grade_id": "cell-cee1ece74b31fc86",
          "locked": true,
          "points": 1,
          "schema_version": 3,
          "solution": false,
          "task": false
        },
        "id": "8c459dd1-e9bc-4c9d-8bc4-9b91327b09bb"
      },
      "outputs": [],
      "source": [
        "assert f(0) == 1\n",
        "assert f(1) == 1\n",
        "assert f(2) == 0.5\n",
        "assert f(7) == 0.00019841\n",
        "print(\"ok\")"
      ]
    },
    {
      "cell_type": "code",
      "execution_count": null,
      "id": "c219a248-a320-42a7-b5f6-81b70684209f",
      "metadata": {
        "deletable": false,
        "editable": false,
        "nbgrader": {
          "cell_type": "code",
          "checksum": "56a28b23a91e8ac43a148a41d70b400c",
          "grade": true,
          "grade_id": "cell-98812d8b3fa5c74c",
          "locked": true,
          "points": 1,
          "schema_version": 3,
          "solution": false,
          "task": false
        },
        "id": "c219a248-a320-42a7-b5f6-81b70684209f"
      },
      "outputs": [],
      "source": [
        "assert summation(1,3) == 1.6667\n",
        "assert summation(3,6) == 0.2181\n",
        "assert summation(5,6) == 0.0097\n",
        "assert summation(3,4) == 0.2083\n",
        "print(\"ok\")"
      ]
    },
    {
      "cell_type": "code",
      "execution_count": null,
      "id": "7691d966",
      "metadata": {
        "deletable": false,
        "editable": false,
        "nbgrader": {
          "cell_type": "code",
          "checksum": "a9999d401c74b596b2cf56630a1492b2",
          "grade": true,
          "grade_id": "cell-86ae967afc2f8808",
          "locked": true,
          "points": 1,
          "schema_version": 3,
          "solution": false,
          "task": false
        },
        "id": "7691d966"
      },
      "outputs": [],
      "source": [
        "'''Hidden Tests'''"
      ]
    },
    {
      "cell_type": "markdown",
      "id": "27eef3c1-66c9-40a3-9a02-b2ee3e7694fa",
      "metadata": {
        "deletable": false,
        "editable": false,
        "nbgrader": {
          "cell_type": "markdown",
          "checksum": "61b43321f634e5fdfbdbb9ce4d56c9b7",
          "grade": false,
          "grade_id": "cell-7a664409d99bcfe8",
          "locked": true,
          "schema_version": 3,
          "solution": false,
          "task": false
        },
        "id": "27eef3c1-66c9-40a3-9a02-b2ee3e7694fa"
      },
      "source": [
        "### End of lab. Please remember to submit your work before the due date.\n",
        "![Description of the image](https://s3.amazonaws.com/rails-camp-tutorials/blog/programming+memes/programming-or-googling.jpg)"
      ]
    }
  ],
  "metadata": {
    "BondSan": "1385784bad109284bde70662c603b8f40add46cfe4106366de6d6c1250beefb8cb0df91990bb7a8afd78aa2a873d25be84158f81aedbd596df4a644d828a4225bb7e65bc5828950cd65b0806be3d8b97a31c39565222b5663caded40fffa309e922e1786ca49d7d4b147f13116765406ca8a285b42b256675544d3c98d118b3b3d4dc6ab602ea94760d0d7206084bbb40560387eb8130aba9cd5c3489fdb8d0d8f166dc2f2894ada6f50546331a32b8df95a70910f26152f6bfb3f3b42afffb7aaf807a0e4ad76009a1e980110e141217834498dc6262cc2d6f3d91e0ad302d79c0694591217c10d58dd31ddd3f48beda1c2f95f9f961ad69feae999081ae8be",
    "kernelspec": {
      "display_name": "Python 3 (ipykernel)",
      "language": "python",
      "name": "python3"
    },
    "language_info": {
      "codemirror_mode": {
        "name": "ipython",
        "version": 3
      },
      "file_extension": ".py",
      "mimetype": "text/x-python",
      "name": "python",
      "nbconvert_exporter": "python",
      "pygments_lexer": "ipython3",
      "version": "3.9.12"
    },
    "colab": {
      "provenance": []
    }
  },
  "nbformat": 4,
  "nbformat_minor": 5
}